{
 "cells": [
  {
   "cell_type": "markdown",
   "metadata": {},
   "source": [
    "___\n",
    "\n",
    "<a href='http://www.pieriandata.com'> <img src='../Pierian_Data_Logo.png' /></a>\n",
    "___\n",
    "# Plotly and Cufflinks"
   ]
  },
  {
   "cell_type": "markdown",
   "metadata": {},
   "source": [
    "Plotly is a library that allows you to create interactive plots that you can use in dashboards or websites (you can save them as html files or static images).\n",
    "\n",
    "## Installation\n",
    "\n",
    "In order for this all to work, you'll need to install plotly and cufflinks to call plots directly off of a pandas dataframe. These libraries are not currently available through **conda** but are available through **pip**. Install the libraries at your command line/terminal using:\n",
    "\n",
    "    pip install plotly\n",
    "    pip install cufflinks\n",
    "\n",
    "** NOTE: Make sure you only have one installation of Python on your computer when you do this, otherwise the installation may not work. **\n",
    "\n",
    "## Imports and Set-up"
   ]
  },
  {
   "cell_type": "code",
   "execution_count": 1,
   "metadata": {},
   "outputs": [],
   "source": [
    "import pandas as pd\n",
    "import numpy as np\n",
    "%matplotlib inline"
   ]
  },
  {
   "cell_type": "code",
   "execution_count": 2,
   "metadata": {},
   "outputs": [
    {
     "name": "stdout",
     "output_type": "stream",
     "text": [
      "5.10.0\n"
     ]
    }
   ],
   "source": [
    "from plotly import __version__\n",
    "from plotly.offline import download_plotlyjs, init_notebook_mode, plot, iplot\n",
    "\n",
    "print(__version__) # requires version >= 1.9.0"
   ]
  },
  {
   "cell_type": "code",
   "execution_count": 3,
   "metadata": {},
   "outputs": [],
   "source": [
    "import cufflinks as cf"
   ]
  },
  {
   "cell_type": "code",
   "execution_count": 4,
   "metadata": {},
   "outputs": [
    {
     "data": {
      "text/html": [
       "        <script type=\"text/javascript\">\n",
       "        window.PlotlyConfig = {MathJaxConfig: 'local'};\n",
       "        if (window.MathJax && window.MathJax.Hub && window.MathJax.Hub.Config) {window.MathJax.Hub.Config({SVG: {font: \"STIX-Web\"}});}\n",
       "        if (typeof require !== 'undefined') {\n",
       "        require.undef(\"plotly\");\n",
       "        requirejs.config({\n",
       "            paths: {\n",
       "                'plotly': ['https://cdn.plot.ly/plotly-2.14.0.min']\n",
       "            }\n",
       "        });\n",
       "        require(['plotly'], function(Plotly) {\n",
       "            window._Plotly = Plotly;\n",
       "        });\n",
       "        }\n",
       "        </script>\n",
       "        "
      ]
     },
     "metadata": {},
     "output_type": "display_data"
    }
   ],
   "source": [
    "# For Notebooks\n",
    "init_notebook_mode(connected=True)"
   ]
  },
  {
   "cell_type": "code",
   "execution_count": 5,
   "metadata": {},
   "outputs": [
    {
     "data": {
      "text/html": [
       "        <script type=\"text/javascript\">\n",
       "        window.PlotlyConfig = {MathJaxConfig: 'local'};\n",
       "        if (window.MathJax && window.MathJax.Hub && window.MathJax.Hub.Config) {window.MathJax.Hub.Config({SVG: {font: \"STIX-Web\"}});}\n",
       "        if (typeof require !== 'undefined') {\n",
       "        require.undef(\"plotly\");\n",
       "        requirejs.config({\n",
       "            paths: {\n",
       "                'plotly': ['https://cdn.plot.ly/plotly-2.14.0.min']\n",
       "            }\n",
       "        });\n",
       "        require(['plotly'], function(Plotly) {\n",
       "            window._Plotly = Plotly;\n",
       "        });\n",
       "        }\n",
       "        </script>\n",
       "        "
      ]
     },
     "metadata": {},
     "output_type": "display_data"
    }
   ],
   "source": [
    "# For offline use\n",
    "cf.go_offline()"
   ]
  },
  {
   "cell_type": "markdown",
   "metadata": {},
   "source": [
    "### Fake Data"
   ]
  },
  {
   "cell_type": "code",
   "execution_count": 6,
   "metadata": {},
   "outputs": [],
   "source": [
    "df = pd.DataFrame(np.random.randn(100,4),columns='A B C D'.split())"
   ]
  },
  {
   "cell_type": "code",
   "execution_count": 7,
   "metadata": {},
   "outputs": [
    {
     "data": {
      "text/html": [
       "<div>\n",
       "<style scoped>\n",
       "    .dataframe tbody tr th:only-of-type {\n",
       "        vertical-align: middle;\n",
       "    }\n",
       "\n",
       "    .dataframe tbody tr th {\n",
       "        vertical-align: top;\n",
       "    }\n",
       "\n",
       "    .dataframe thead th {\n",
       "        text-align: right;\n",
       "    }\n",
       "</style>\n",
       "<table border=\"1\" class=\"dataframe\">\n",
       "  <thead>\n",
       "    <tr style=\"text-align: right;\">\n",
       "      <th></th>\n",
       "      <th>A</th>\n",
       "      <th>B</th>\n",
       "      <th>C</th>\n",
       "      <th>D</th>\n",
       "    </tr>\n",
       "  </thead>\n",
       "  <tbody>\n",
       "    <tr>\n",
       "      <th>0</th>\n",
       "      <td>-1.052050</td>\n",
       "      <td>-0.575664</td>\n",
       "      <td>-0.581933</td>\n",
       "      <td>0.927732</td>\n",
       "    </tr>\n",
       "    <tr>\n",
       "      <th>1</th>\n",
       "      <td>-0.639526</td>\n",
       "      <td>0.598798</td>\n",
       "      <td>-0.205352</td>\n",
       "      <td>-0.125360</td>\n",
       "    </tr>\n",
       "    <tr>\n",
       "      <th>2</th>\n",
       "      <td>-0.334348</td>\n",
       "      <td>-0.778367</td>\n",
       "      <td>0.464957</td>\n",
       "      <td>-0.121071</td>\n",
       "    </tr>\n",
       "    <tr>\n",
       "      <th>3</th>\n",
       "      <td>-0.602102</td>\n",
       "      <td>-0.095732</td>\n",
       "      <td>1.007008</td>\n",
       "      <td>-0.823271</td>\n",
       "    </tr>\n",
       "    <tr>\n",
       "      <th>4</th>\n",
       "      <td>0.327599</td>\n",
       "      <td>-0.142847</td>\n",
       "      <td>-1.937500</td>\n",
       "      <td>0.066436</td>\n",
       "    </tr>\n",
       "  </tbody>\n",
       "</table>\n",
       "</div>"
      ],
      "text/plain": [
       "          A         B         C         D\n",
       "0 -1.052050 -0.575664 -0.581933  0.927732\n",
       "1 -0.639526  0.598798 -0.205352 -0.125360\n",
       "2 -0.334348 -0.778367  0.464957 -0.121071\n",
       "3 -0.602102 -0.095732  1.007008 -0.823271\n",
       "4  0.327599 -0.142847 -1.937500  0.066436"
      ]
     },
     "execution_count": 7,
     "metadata": {},
     "output_type": "execute_result"
    }
   ],
   "source": [
    "df.head()"
   ]
  },
  {
   "cell_type": "code",
   "execution_count": 8,
   "metadata": {},
   "outputs": [],
   "source": [
    "df2 = pd.DataFrame({'Category':['A','B','C'],'Values':[32,43,50]})"
   ]
  },
  {
   "cell_type": "code",
   "execution_count": 9,
   "metadata": {},
   "outputs": [
    {
     "data": {
      "text/html": [
       "<div>\n",
       "<style scoped>\n",
       "    .dataframe tbody tr th:only-of-type {\n",
       "        vertical-align: middle;\n",
       "    }\n",
       "\n",
       "    .dataframe tbody tr th {\n",
       "        vertical-align: top;\n",
       "    }\n",
       "\n",
       "    .dataframe thead th {\n",
       "        text-align: right;\n",
       "    }\n",
       "</style>\n",
       "<table border=\"1\" class=\"dataframe\">\n",
       "  <thead>\n",
       "    <tr style=\"text-align: right;\">\n",
       "      <th></th>\n",
       "      <th>Category</th>\n",
       "      <th>Values</th>\n",
       "    </tr>\n",
       "  </thead>\n",
       "  <tbody>\n",
       "    <tr>\n",
       "      <th>0</th>\n",
       "      <td>A</td>\n",
       "      <td>32</td>\n",
       "    </tr>\n",
       "    <tr>\n",
       "      <th>1</th>\n",
       "      <td>B</td>\n",
       "      <td>43</td>\n",
       "    </tr>\n",
       "    <tr>\n",
       "      <th>2</th>\n",
       "      <td>C</td>\n",
       "      <td>50</td>\n",
       "    </tr>\n",
       "  </tbody>\n",
       "</table>\n",
       "</div>"
      ],
      "text/plain": [
       "  Category  Values\n",
       "0        A      32\n",
       "1        B      43\n",
       "2        C      50"
      ]
     },
     "execution_count": 9,
     "metadata": {},
     "output_type": "execute_result"
    }
   ],
   "source": [
    "df2.head()"
   ]
  },
  {
   "cell_type": "markdown",
   "metadata": {},
   "source": [
    "## Using Cufflinks and iplot()\n",
    "\n",
    "* scatter\n",
    "* bar\n",
    "* box\n",
    "* spread\n",
    "* ratio\n",
    "* heatmap\n",
    "* surface\n",
    "* histogram\n",
    "* bubble"
   ]
  },
  {
   "cell_type": "markdown",
   "metadata": {},
   "source": [
    "## Scatter"
   ]
  },
  {
   "cell_type": "code",
   "execution_count": 10,
   "metadata": {},
   "outputs": [
    {
     "data": {
      "application/vnd.plotly.v1+json": {
       "config": {
        "linkText": "Export to plot.ly",
        "plotlyServerURL": "https://plot.ly",
        "showLink": true
       },
       "data": [
        {
         "line": {
          "color": "rgba(255, 153, 51, 1.0)",
          "dash": "solid",
          "shape": "linear",
          "width": 1.3
         },
         "marker": {
          "size": 10,
          "symbol": "circle"
         },
         "mode": "markers",
         "name": "B",
         "text": "",
         "type": "scatter",
         "x": [
          -1.0520499660805134,
          -0.6395256708852439,
          -0.33434764741888273,
          -0.602102263802253,
          0.3275992110293282,
          -0.8517119727079342,
          0.4823647677292349,
          -0.6733753513218748,
          1.0663693192389487,
          -0.6674469283977741,
          -0.1555538710682971,
          0.982078463400281,
          0.5605995734508707,
          -1.5992430724659148,
          -0.4863413205475636,
          -1.635285837548092,
          1.3935076424093102,
          1.7941318056056335,
          0.5341913789906737,
          -0.9524975663306507,
          -0.4573351632944464,
          1.1177083797834142,
          -0.5706607672093532,
          0.7867354928231047,
          0.07981317429930133,
          -0.6349940715278921,
          1.5425662192838554,
          -0.6132422783945425,
          0.15544048184803386,
          0.9192445510904795,
          -1.7359719590500762,
          -1.9119274895922669,
          0.6944479962123283,
          0.3532145001978853,
          -1.0600796071503271,
          -0.5334678844301335,
          -0.6394875240041487,
          0.3128946201121304,
          0.016069119234565766,
          -1.5744316004386434,
          0.7344487377210069,
          0.7193287039929793,
          0.4812823931213064,
          -0.24678614971224266,
          -0.2905274885290895,
          -0.1003666244799347,
          0.2183659952290479,
          -2.319740663802171,
          -0.6745518951897882,
          0.29578338730627296,
          0.027684720711771665,
          0.6195480439047139,
          0.6876980075689124,
          -1.1798993200458125,
          1.1244893859000014,
          0.5280412892103941,
          -0.6001297370928859,
          -0.027008110814554072,
          -0.2748635223706462,
          1.4138169456342016,
          -0.9151732693883676,
          -0.4134435108103696,
          0.9255576517778622,
          0.860868531480433,
          1.758016656113904,
          1.6783618939930056,
          0.06869043899424485,
          0.6937178925305963,
          -0.8760537876530695,
          0.9102278415320038,
          0.7191692678149171,
          -0.4913169243308279,
          1.2337987142169284,
          0.7956878705772449,
          1.371542963623464,
          -1.343501561614963,
          1.0118949910662463,
          1.1658612878341348,
          -0.6928552283460352,
          -0.4687295487764381,
          -0.8757314396497151,
          -0.3643879992119797,
          0.811605819362338,
          -0.42095946538411305,
          -0.9898935045710047,
          0.7334033677693634,
          -0.19290472361161884,
          1.8143264562579273,
          0.8281944946575908,
          0.4854377119690578,
          0.5615674241389551,
          0.30512951708273917,
          -0.2966780672407173,
          2.3797154891776886,
          1.4080321570020835,
          -1.03463191031649,
          -1.941093118397556,
          -0.5620252053886859,
          -0.7270510460295249,
          0.10178198219108311
         ],
         "y": [
          -0.5756640459082741,
          0.5987981212644335,
          -0.7783665585217159,
          -0.09573196409819089,
          -0.14284747496470035,
          1.1566851064970056,
          0.14205945762224648,
          0.9925438822429384,
          -1.4205067005147545,
          -0.4243133975107277,
          0.2046316406674326,
          -0.8664033231860435,
          0.30018363681115173,
          0.7012726412626394,
          -0.5832744366644343,
          -1.9611912132619702,
          -1.2865690654113124,
          0.2805418321787577,
          0.5712498729810047,
          -0.6776239869439911,
          0.3316361158392233,
          -0.14461439325213005,
          -1.0410638673782593,
          -0.4080654043631619,
          -0.00631491901211208,
          0.654337983442778,
          0.04670538856144417,
          0.4891070888438266,
          -1.2277858127245984,
          -1.5325129450673443,
          1.2514271194867919,
          -0.6784529656249904,
          0.8507471393458212,
          0.3524385390065126,
          0.6553698989078516,
          -1.0598696128958636,
          -0.5655967775632145,
          1.1038885195167987,
          0.51412957783871,
          -1.03444943752192,
          -0.5231942655733847,
          -0.8380629336724287,
          1.903096658084694,
          0.4168137650785216,
          -0.4997398212243618,
          1.4029778201285397,
          0.8105226854959072,
          -1.7054169577749274,
          0.4605260705984755,
          -0.9824384505992422,
          -3.224746706249651,
          -0.6689949803255751,
          1.136152225459386,
          0.5680385123690971,
          0.7065628304892786,
          -0.42374809536258623,
          -0.8945591138218476,
          1.3206984539123967,
          -1.047728278006352,
          0.22476929272194288,
          -0.0009414573889848483,
          -0.01541225142410007,
          0.8263022924568258,
          0.42637279096367314,
          0.7989305066857885,
          -0.9789730984372811,
          -0.07071920797599111,
          -0.6115527255986463,
          -1.251525922052416,
          0.6676854765757444,
          1.9869694622253653,
          1.5658607072704804,
          -0.4186693946248924,
          -0.40628885793212743,
          1.5568244944045366,
          -0.7326242574894654,
          0.37958514924466513,
          -0.1783531218270007,
          -1.4160686077684221,
          0.4077861201653217,
          1.866778069209306,
          -1.0186822996845648,
          0.8993809357600041,
          -0.29568521043114,
          -0.47082542872155764,
          0.7282529986227604,
          0.06269962361015688,
          -0.3591244801120115,
          -0.28395660057604427,
          0.5295132537184689,
          -0.8352707178155664,
          0.3743707004534908,
          -0.31130372186525196,
          -0.7747932469996983,
          1.2259633383494222,
          -0.4464779411147586,
          0.996920839179652,
          0.20800829553317293,
          0.1858285403997541,
          -1.5192392350514088
         ]
        }
       ],
       "layout": {
        "legend": {
         "bgcolor": "#F5F6F9",
         "font": {
          "color": "#4D5663"
         }
        },
        "paper_bgcolor": "#F5F6F9",
        "plot_bgcolor": "#F5F6F9",
        "template": {
         "data": {
          "bar": [
           {
            "error_x": {
             "color": "#2a3f5f"
            },
            "error_y": {
             "color": "#2a3f5f"
            },
            "marker": {
             "line": {
              "color": "#E5ECF6",
              "width": 0.5
             },
             "pattern": {
              "fillmode": "overlay",
              "size": 10,
              "solidity": 0.2
             }
            },
            "type": "bar"
           }
          ],
          "barpolar": [
           {
            "marker": {
             "line": {
              "color": "#E5ECF6",
              "width": 0.5
             },
             "pattern": {
              "fillmode": "overlay",
              "size": 10,
              "solidity": 0.2
             }
            },
            "type": "barpolar"
           }
          ],
          "carpet": [
           {
            "aaxis": {
             "endlinecolor": "#2a3f5f",
             "gridcolor": "white",
             "linecolor": "white",
             "minorgridcolor": "white",
             "startlinecolor": "#2a3f5f"
            },
            "baxis": {
             "endlinecolor": "#2a3f5f",
             "gridcolor": "white",
             "linecolor": "white",
             "minorgridcolor": "white",
             "startlinecolor": "#2a3f5f"
            },
            "type": "carpet"
           }
          ],
          "choropleth": [
           {
            "colorbar": {
             "outlinewidth": 0,
             "ticks": ""
            },
            "type": "choropleth"
           }
          ],
          "contour": [
           {
            "colorbar": {
             "outlinewidth": 0,
             "ticks": ""
            },
            "colorscale": [
             [
              0,
              "#0d0887"
             ],
             [
              0.1111111111111111,
              "#46039f"
             ],
             [
              0.2222222222222222,
              "#7201a8"
             ],
             [
              0.3333333333333333,
              "#9c179e"
             ],
             [
              0.4444444444444444,
              "#bd3786"
             ],
             [
              0.5555555555555556,
              "#d8576b"
             ],
             [
              0.6666666666666666,
              "#ed7953"
             ],
             [
              0.7777777777777778,
              "#fb9f3a"
             ],
             [
              0.8888888888888888,
              "#fdca26"
             ],
             [
              1,
              "#f0f921"
             ]
            ],
            "type": "contour"
           }
          ],
          "contourcarpet": [
           {
            "colorbar": {
             "outlinewidth": 0,
             "ticks": ""
            },
            "type": "contourcarpet"
           }
          ],
          "heatmap": [
           {
            "colorbar": {
             "outlinewidth": 0,
             "ticks": ""
            },
            "colorscale": [
             [
              0,
              "#0d0887"
             ],
             [
              0.1111111111111111,
              "#46039f"
             ],
             [
              0.2222222222222222,
              "#7201a8"
             ],
             [
              0.3333333333333333,
              "#9c179e"
             ],
             [
              0.4444444444444444,
              "#bd3786"
             ],
             [
              0.5555555555555556,
              "#d8576b"
             ],
             [
              0.6666666666666666,
              "#ed7953"
             ],
             [
              0.7777777777777778,
              "#fb9f3a"
             ],
             [
              0.8888888888888888,
              "#fdca26"
             ],
             [
              1,
              "#f0f921"
             ]
            ],
            "type": "heatmap"
           }
          ],
          "heatmapgl": [
           {
            "colorbar": {
             "outlinewidth": 0,
             "ticks": ""
            },
            "colorscale": [
             [
              0,
              "#0d0887"
             ],
             [
              0.1111111111111111,
              "#46039f"
             ],
             [
              0.2222222222222222,
              "#7201a8"
             ],
             [
              0.3333333333333333,
              "#9c179e"
             ],
             [
              0.4444444444444444,
              "#bd3786"
             ],
             [
              0.5555555555555556,
              "#d8576b"
             ],
             [
              0.6666666666666666,
              "#ed7953"
             ],
             [
              0.7777777777777778,
              "#fb9f3a"
             ],
             [
              0.8888888888888888,
              "#fdca26"
             ],
             [
              1,
              "#f0f921"
             ]
            ],
            "type": "heatmapgl"
           }
          ],
          "histogram": [
           {
            "marker": {
             "pattern": {
              "fillmode": "overlay",
              "size": 10,
              "solidity": 0.2
             }
            },
            "type": "histogram"
           }
          ],
          "histogram2d": [
           {
            "colorbar": {
             "outlinewidth": 0,
             "ticks": ""
            },
            "colorscale": [
             [
              0,
              "#0d0887"
             ],
             [
              0.1111111111111111,
              "#46039f"
             ],
             [
              0.2222222222222222,
              "#7201a8"
             ],
             [
              0.3333333333333333,
              "#9c179e"
             ],
             [
              0.4444444444444444,
              "#bd3786"
             ],
             [
              0.5555555555555556,
              "#d8576b"
             ],
             [
              0.6666666666666666,
              "#ed7953"
             ],
             [
              0.7777777777777778,
              "#fb9f3a"
             ],
             [
              0.8888888888888888,
              "#fdca26"
             ],
             [
              1,
              "#f0f921"
             ]
            ],
            "type": "histogram2d"
           }
          ],
          "histogram2dcontour": [
           {
            "colorbar": {
             "outlinewidth": 0,
             "ticks": ""
            },
            "colorscale": [
             [
              0,
              "#0d0887"
             ],
             [
              0.1111111111111111,
              "#46039f"
             ],
             [
              0.2222222222222222,
              "#7201a8"
             ],
             [
              0.3333333333333333,
              "#9c179e"
             ],
             [
              0.4444444444444444,
              "#bd3786"
             ],
             [
              0.5555555555555556,
              "#d8576b"
             ],
             [
              0.6666666666666666,
              "#ed7953"
             ],
             [
              0.7777777777777778,
              "#fb9f3a"
             ],
             [
              0.8888888888888888,
              "#fdca26"
             ],
             [
              1,
              "#f0f921"
             ]
            ],
            "type": "histogram2dcontour"
           }
          ],
          "mesh3d": [
           {
            "colorbar": {
             "outlinewidth": 0,
             "ticks": ""
            },
            "type": "mesh3d"
           }
          ],
          "parcoords": [
           {
            "line": {
             "colorbar": {
              "outlinewidth": 0,
              "ticks": ""
             }
            },
            "type": "parcoords"
           }
          ],
          "pie": [
           {
            "automargin": true,
            "type": "pie"
           }
          ],
          "scatter": [
           {
            "fillpattern": {
             "fillmode": "overlay",
             "size": 10,
             "solidity": 0.2
            },
            "type": "scatter"
           }
          ],
          "scatter3d": [
           {
            "line": {
             "colorbar": {
              "outlinewidth": 0,
              "ticks": ""
             }
            },
            "marker": {
             "colorbar": {
              "outlinewidth": 0,
              "ticks": ""
             }
            },
            "type": "scatter3d"
           }
          ],
          "scattercarpet": [
           {
            "marker": {
             "colorbar": {
              "outlinewidth": 0,
              "ticks": ""
             }
            },
            "type": "scattercarpet"
           }
          ],
          "scattergeo": [
           {
            "marker": {
             "colorbar": {
              "outlinewidth": 0,
              "ticks": ""
             }
            },
            "type": "scattergeo"
           }
          ],
          "scattergl": [
           {
            "marker": {
             "colorbar": {
              "outlinewidth": 0,
              "ticks": ""
             }
            },
            "type": "scattergl"
           }
          ],
          "scattermapbox": [
           {
            "marker": {
             "colorbar": {
              "outlinewidth": 0,
              "ticks": ""
             }
            },
            "type": "scattermapbox"
           }
          ],
          "scatterpolar": [
           {
            "marker": {
             "colorbar": {
              "outlinewidth": 0,
              "ticks": ""
             }
            },
            "type": "scatterpolar"
           }
          ],
          "scatterpolargl": [
           {
            "marker": {
             "colorbar": {
              "outlinewidth": 0,
              "ticks": ""
             }
            },
            "type": "scatterpolargl"
           }
          ],
          "scatterternary": [
           {
            "marker": {
             "colorbar": {
              "outlinewidth": 0,
              "ticks": ""
             }
            },
            "type": "scatterternary"
           }
          ],
          "surface": [
           {
            "colorbar": {
             "outlinewidth": 0,
             "ticks": ""
            },
            "colorscale": [
             [
              0,
              "#0d0887"
             ],
             [
              0.1111111111111111,
              "#46039f"
             ],
             [
              0.2222222222222222,
              "#7201a8"
             ],
             [
              0.3333333333333333,
              "#9c179e"
             ],
             [
              0.4444444444444444,
              "#bd3786"
             ],
             [
              0.5555555555555556,
              "#d8576b"
             ],
             [
              0.6666666666666666,
              "#ed7953"
             ],
             [
              0.7777777777777778,
              "#fb9f3a"
             ],
             [
              0.8888888888888888,
              "#fdca26"
             ],
             [
              1,
              "#f0f921"
             ]
            ],
            "type": "surface"
           }
          ],
          "table": [
           {
            "cells": {
             "fill": {
              "color": "#EBF0F8"
             },
             "line": {
              "color": "white"
             }
            },
            "header": {
             "fill": {
              "color": "#C8D4E3"
             },
             "line": {
              "color": "white"
             }
            },
            "type": "table"
           }
          ]
         },
         "layout": {
          "annotationdefaults": {
           "arrowcolor": "#2a3f5f",
           "arrowhead": 0,
           "arrowwidth": 1
          },
          "autotypenumbers": "strict",
          "coloraxis": {
           "colorbar": {
            "outlinewidth": 0,
            "ticks": ""
           }
          },
          "colorscale": {
           "diverging": [
            [
             0,
             "#8e0152"
            ],
            [
             0.1,
             "#c51b7d"
            ],
            [
             0.2,
             "#de77ae"
            ],
            [
             0.3,
             "#f1b6da"
            ],
            [
             0.4,
             "#fde0ef"
            ],
            [
             0.5,
             "#f7f7f7"
            ],
            [
             0.6,
             "#e6f5d0"
            ],
            [
             0.7,
             "#b8e186"
            ],
            [
             0.8,
             "#7fbc41"
            ],
            [
             0.9,
             "#4d9221"
            ],
            [
             1,
             "#276419"
            ]
           ],
           "sequential": [
            [
             0,
             "#0d0887"
            ],
            [
             0.1111111111111111,
             "#46039f"
            ],
            [
             0.2222222222222222,
             "#7201a8"
            ],
            [
             0.3333333333333333,
             "#9c179e"
            ],
            [
             0.4444444444444444,
             "#bd3786"
            ],
            [
             0.5555555555555556,
             "#d8576b"
            ],
            [
             0.6666666666666666,
             "#ed7953"
            ],
            [
             0.7777777777777778,
             "#fb9f3a"
            ],
            [
             0.8888888888888888,
             "#fdca26"
            ],
            [
             1,
             "#f0f921"
            ]
           ],
           "sequentialminus": [
            [
             0,
             "#0d0887"
            ],
            [
             0.1111111111111111,
             "#46039f"
            ],
            [
             0.2222222222222222,
             "#7201a8"
            ],
            [
             0.3333333333333333,
             "#9c179e"
            ],
            [
             0.4444444444444444,
             "#bd3786"
            ],
            [
             0.5555555555555556,
             "#d8576b"
            ],
            [
             0.6666666666666666,
             "#ed7953"
            ],
            [
             0.7777777777777778,
             "#fb9f3a"
            ],
            [
             0.8888888888888888,
             "#fdca26"
            ],
            [
             1,
             "#f0f921"
            ]
           ]
          },
          "colorway": [
           "#636efa",
           "#EF553B",
           "#00cc96",
           "#ab63fa",
           "#FFA15A",
           "#19d3f3",
           "#FF6692",
           "#B6E880",
           "#FF97FF",
           "#FECB52"
          ],
          "font": {
           "color": "#2a3f5f"
          },
          "geo": {
           "bgcolor": "white",
           "lakecolor": "white",
           "landcolor": "#E5ECF6",
           "showlakes": true,
           "showland": true,
           "subunitcolor": "white"
          },
          "hoverlabel": {
           "align": "left"
          },
          "hovermode": "closest",
          "mapbox": {
           "style": "light"
          },
          "paper_bgcolor": "white",
          "plot_bgcolor": "#E5ECF6",
          "polar": {
           "angularaxis": {
            "gridcolor": "white",
            "linecolor": "white",
            "ticks": ""
           },
           "bgcolor": "#E5ECF6",
           "radialaxis": {
            "gridcolor": "white",
            "linecolor": "white",
            "ticks": ""
           }
          },
          "scene": {
           "xaxis": {
            "backgroundcolor": "#E5ECF6",
            "gridcolor": "white",
            "gridwidth": 2,
            "linecolor": "white",
            "showbackground": true,
            "ticks": "",
            "zerolinecolor": "white"
           },
           "yaxis": {
            "backgroundcolor": "#E5ECF6",
            "gridcolor": "white",
            "gridwidth": 2,
            "linecolor": "white",
            "showbackground": true,
            "ticks": "",
            "zerolinecolor": "white"
           },
           "zaxis": {
            "backgroundcolor": "#E5ECF6",
            "gridcolor": "white",
            "gridwidth": 2,
            "linecolor": "white",
            "showbackground": true,
            "ticks": "",
            "zerolinecolor": "white"
           }
          },
          "shapedefaults": {
           "line": {
            "color": "#2a3f5f"
           }
          },
          "ternary": {
           "aaxis": {
            "gridcolor": "white",
            "linecolor": "white",
            "ticks": ""
           },
           "baxis": {
            "gridcolor": "white",
            "linecolor": "white",
            "ticks": ""
           },
           "bgcolor": "#E5ECF6",
           "caxis": {
            "gridcolor": "white",
            "linecolor": "white",
            "ticks": ""
           }
          },
          "title": {
           "x": 0.05
          },
          "xaxis": {
           "automargin": true,
           "gridcolor": "white",
           "linecolor": "white",
           "ticks": "",
           "title": {
            "standoff": 15
           },
           "zerolinecolor": "white",
           "zerolinewidth": 2
          },
          "yaxis": {
           "automargin": true,
           "gridcolor": "white",
           "linecolor": "white",
           "ticks": "",
           "title": {
            "standoff": 15
           },
           "zerolinecolor": "white",
           "zerolinewidth": 2
          }
         }
        },
        "title": {
         "font": {
          "color": "#4D5663"
         }
        },
        "xaxis": {
         "gridcolor": "#E1E5ED",
         "showgrid": true,
         "tickfont": {
          "color": "#4D5663"
         },
         "title": {
          "font": {
           "color": "#4D5663"
          },
          "text": ""
         },
         "zerolinecolor": "#E1E5ED"
        },
        "yaxis": {
         "gridcolor": "#E1E5ED",
         "showgrid": true,
         "tickfont": {
          "color": "#4D5663"
         },
         "title": {
          "font": {
           "color": "#4D5663"
          },
          "text": ""
         },
         "zerolinecolor": "#E1E5ED"
        }
       }
      },
      "text/html": [
       "<div>                            <div id=\"bb9cf872-7c08-4984-86fd-48c9ff6b4c7a\" class=\"plotly-graph-div\" style=\"height:525px; width:100%;\"></div>            <script type=\"text/javascript\">                require([\"plotly\"], function(Plotly) {                    window.PLOTLYENV=window.PLOTLYENV || {};\n",
       "                    window.PLOTLYENV.BASE_URL='https://plot.ly';                                    if (document.getElementById(\"bb9cf872-7c08-4984-86fd-48c9ff6b4c7a\")) {                    Plotly.newPlot(                        \"bb9cf872-7c08-4984-86fd-48c9ff6b4c7a\",                        [{\"line\":{\"color\":\"rgba(255, 153, 51, 1.0)\",\"dash\":\"solid\",\"shape\":\"linear\",\"width\":1.3},\"marker\":{\"size\":10,\"symbol\":\"circle\"},\"mode\":\"markers\",\"name\":\"B\",\"text\":\"\",\"x\":[-1.0520499660805134,-0.6395256708852439,-0.33434764741888273,-0.602102263802253,0.3275992110293282,-0.8517119727079342,0.4823647677292349,-0.6733753513218748,1.0663693192389487,-0.6674469283977741,-0.1555538710682971,0.982078463400281,0.5605995734508707,-1.5992430724659148,-0.4863413205475636,-1.635285837548092,1.3935076424093102,1.7941318056056335,0.5341913789906737,-0.9524975663306507,-0.4573351632944464,1.1177083797834142,-0.5706607672093532,0.7867354928231047,0.07981317429930133,-0.6349940715278921,1.5425662192838554,-0.6132422783945425,0.15544048184803386,0.9192445510904795,-1.7359719590500762,-1.9119274895922669,0.6944479962123283,0.3532145001978853,-1.0600796071503271,-0.5334678844301335,-0.6394875240041487,0.3128946201121304,0.016069119234565766,-1.5744316004386434,0.7344487377210069,0.7193287039929793,0.4812823931213064,-0.24678614971224266,-0.2905274885290895,-0.1003666244799347,0.2183659952290479,-2.319740663802171,-0.6745518951897882,0.29578338730627296,0.027684720711771665,0.6195480439047139,0.6876980075689124,-1.1798993200458125,1.1244893859000014,0.5280412892103941,-0.6001297370928859,-0.027008110814554072,-0.2748635223706462,1.4138169456342016,-0.9151732693883676,-0.4134435108103696,0.9255576517778622,0.860868531480433,1.758016656113904,1.6783618939930056,0.06869043899424485,0.6937178925305963,-0.8760537876530695,0.9102278415320038,0.7191692678149171,-0.4913169243308279,1.2337987142169284,0.7956878705772449,1.371542963623464,-1.343501561614963,1.0118949910662463,1.1658612878341348,-0.6928552283460352,-0.4687295487764381,-0.8757314396497151,-0.3643879992119797,0.811605819362338,-0.42095946538411305,-0.9898935045710047,0.7334033677693634,-0.19290472361161884,1.8143264562579273,0.8281944946575908,0.4854377119690578,0.5615674241389551,0.30512951708273917,-0.2966780672407173,2.3797154891776886,1.4080321570020835,-1.03463191031649,-1.941093118397556,-0.5620252053886859,-0.7270510460295249,0.10178198219108311],\"y\":[-0.5756640459082741,0.5987981212644335,-0.7783665585217159,-0.09573196409819089,-0.14284747496470035,1.1566851064970056,0.14205945762224648,0.9925438822429384,-1.4205067005147545,-0.4243133975107277,0.2046316406674326,-0.8664033231860435,0.30018363681115173,0.7012726412626394,-0.5832744366644343,-1.9611912132619702,-1.2865690654113124,0.2805418321787577,0.5712498729810047,-0.6776239869439911,0.3316361158392233,-0.14461439325213005,-1.0410638673782593,-0.4080654043631619,-0.00631491901211208,0.654337983442778,0.04670538856144417,0.4891070888438266,-1.2277858127245984,-1.5325129450673443,1.2514271194867919,-0.6784529656249904,0.8507471393458212,0.3524385390065126,0.6553698989078516,-1.0598696128958636,-0.5655967775632145,1.1038885195167987,0.51412957783871,-1.03444943752192,-0.5231942655733847,-0.8380629336724287,1.903096658084694,0.4168137650785216,-0.4997398212243618,1.4029778201285397,0.8105226854959072,-1.7054169577749274,0.4605260705984755,-0.9824384505992422,-3.224746706249651,-0.6689949803255751,1.136152225459386,0.5680385123690971,0.7065628304892786,-0.42374809536258623,-0.8945591138218476,1.3206984539123967,-1.047728278006352,0.22476929272194288,-0.0009414573889848483,-0.01541225142410007,0.8263022924568258,0.42637279096367314,0.7989305066857885,-0.9789730984372811,-0.07071920797599111,-0.6115527255986463,-1.251525922052416,0.6676854765757444,1.9869694622253653,1.5658607072704804,-0.4186693946248924,-0.40628885793212743,1.5568244944045366,-0.7326242574894654,0.37958514924466513,-0.1783531218270007,-1.4160686077684221,0.4077861201653217,1.866778069209306,-1.0186822996845648,0.8993809357600041,-0.29568521043114,-0.47082542872155764,0.7282529986227604,0.06269962361015688,-0.3591244801120115,-0.28395660057604427,0.5295132537184689,-0.8352707178155664,0.3743707004534908,-0.31130372186525196,-0.7747932469996983,1.2259633383494222,-0.4464779411147586,0.996920839179652,0.20800829553317293,0.1858285403997541,-1.5192392350514088],\"type\":\"scatter\"}],                        {\"legend\":{\"bgcolor\":\"#F5F6F9\",\"font\":{\"color\":\"#4D5663\"}},\"paper_bgcolor\":\"#F5F6F9\",\"plot_bgcolor\":\"#F5F6F9\",\"template\":{\"data\":{\"barpolar\":[{\"marker\":{\"line\":{\"color\":\"#E5ECF6\",\"width\":0.5},\"pattern\":{\"fillmode\":\"overlay\",\"size\":10,\"solidity\":0.2}},\"type\":\"barpolar\"}],\"bar\":[{\"error_x\":{\"color\":\"#2a3f5f\"},\"error_y\":{\"color\":\"#2a3f5f\"},\"marker\":{\"line\":{\"color\":\"#E5ECF6\",\"width\":0.5},\"pattern\":{\"fillmode\":\"overlay\",\"size\":10,\"solidity\":0.2}},\"type\":\"bar\"}],\"carpet\":[{\"aaxis\":{\"endlinecolor\":\"#2a3f5f\",\"gridcolor\":\"white\",\"linecolor\":\"white\",\"minorgridcolor\":\"white\",\"startlinecolor\":\"#2a3f5f\"},\"baxis\":{\"endlinecolor\":\"#2a3f5f\",\"gridcolor\":\"white\",\"linecolor\":\"white\",\"minorgridcolor\":\"white\",\"startlinecolor\":\"#2a3f5f\"},\"type\":\"carpet\"}],\"choropleth\":[{\"colorbar\":{\"outlinewidth\":0,\"ticks\":\"\"},\"type\":\"choropleth\"}],\"contourcarpet\":[{\"colorbar\":{\"outlinewidth\":0,\"ticks\":\"\"},\"type\":\"contourcarpet\"}],\"contour\":[{\"colorbar\":{\"outlinewidth\":0,\"ticks\":\"\"},\"colorscale\":[[0.0,\"#0d0887\"],[0.1111111111111111,\"#46039f\"],[0.2222222222222222,\"#7201a8\"],[0.3333333333333333,\"#9c179e\"],[0.4444444444444444,\"#bd3786\"],[0.5555555555555556,\"#d8576b\"],[0.6666666666666666,\"#ed7953\"],[0.7777777777777778,\"#fb9f3a\"],[0.8888888888888888,\"#fdca26\"],[1.0,\"#f0f921\"]],\"type\":\"contour\"}],\"heatmapgl\":[{\"colorbar\":{\"outlinewidth\":0,\"ticks\":\"\"},\"colorscale\":[[0.0,\"#0d0887\"],[0.1111111111111111,\"#46039f\"],[0.2222222222222222,\"#7201a8\"],[0.3333333333333333,\"#9c179e\"],[0.4444444444444444,\"#bd3786\"],[0.5555555555555556,\"#d8576b\"],[0.6666666666666666,\"#ed7953\"],[0.7777777777777778,\"#fb9f3a\"],[0.8888888888888888,\"#fdca26\"],[1.0,\"#f0f921\"]],\"type\":\"heatmapgl\"}],\"heatmap\":[{\"colorbar\":{\"outlinewidth\":0,\"ticks\":\"\"},\"colorscale\":[[0.0,\"#0d0887\"],[0.1111111111111111,\"#46039f\"],[0.2222222222222222,\"#7201a8\"],[0.3333333333333333,\"#9c179e\"],[0.4444444444444444,\"#bd3786\"],[0.5555555555555556,\"#d8576b\"],[0.6666666666666666,\"#ed7953\"],[0.7777777777777778,\"#fb9f3a\"],[0.8888888888888888,\"#fdca26\"],[1.0,\"#f0f921\"]],\"type\":\"heatmap\"}],\"histogram2dcontour\":[{\"colorbar\":{\"outlinewidth\":0,\"ticks\":\"\"},\"colorscale\":[[0.0,\"#0d0887\"],[0.1111111111111111,\"#46039f\"],[0.2222222222222222,\"#7201a8\"],[0.3333333333333333,\"#9c179e\"],[0.4444444444444444,\"#bd3786\"],[0.5555555555555556,\"#d8576b\"],[0.6666666666666666,\"#ed7953\"],[0.7777777777777778,\"#fb9f3a\"],[0.8888888888888888,\"#fdca26\"],[1.0,\"#f0f921\"]],\"type\":\"histogram2dcontour\"}],\"histogram2d\":[{\"colorbar\":{\"outlinewidth\":0,\"ticks\":\"\"},\"colorscale\":[[0.0,\"#0d0887\"],[0.1111111111111111,\"#46039f\"],[0.2222222222222222,\"#7201a8\"],[0.3333333333333333,\"#9c179e\"],[0.4444444444444444,\"#bd3786\"],[0.5555555555555556,\"#d8576b\"],[0.6666666666666666,\"#ed7953\"],[0.7777777777777778,\"#fb9f3a\"],[0.8888888888888888,\"#fdca26\"],[1.0,\"#f0f921\"]],\"type\":\"histogram2d\"}],\"histogram\":[{\"marker\":{\"pattern\":{\"fillmode\":\"overlay\",\"size\":10,\"solidity\":0.2}},\"type\":\"histogram\"}],\"mesh3d\":[{\"colorbar\":{\"outlinewidth\":0,\"ticks\":\"\"},\"type\":\"mesh3d\"}],\"parcoords\":[{\"line\":{\"colorbar\":{\"outlinewidth\":0,\"ticks\":\"\"}},\"type\":\"parcoords\"}],\"pie\":[{\"automargin\":true,\"type\":\"pie\"}],\"scatter3d\":[{\"line\":{\"colorbar\":{\"outlinewidth\":0,\"ticks\":\"\"}},\"marker\":{\"colorbar\":{\"outlinewidth\":0,\"ticks\":\"\"}},\"type\":\"scatter3d\"}],\"scattercarpet\":[{\"marker\":{\"colorbar\":{\"outlinewidth\":0,\"ticks\":\"\"}},\"type\":\"scattercarpet\"}],\"scattergeo\":[{\"marker\":{\"colorbar\":{\"outlinewidth\":0,\"ticks\":\"\"}},\"type\":\"scattergeo\"}],\"scattergl\":[{\"marker\":{\"colorbar\":{\"outlinewidth\":0,\"ticks\":\"\"}},\"type\":\"scattergl\"}],\"scattermapbox\":[{\"marker\":{\"colorbar\":{\"outlinewidth\":0,\"ticks\":\"\"}},\"type\":\"scattermapbox\"}],\"scatterpolargl\":[{\"marker\":{\"colorbar\":{\"outlinewidth\":0,\"ticks\":\"\"}},\"type\":\"scatterpolargl\"}],\"scatterpolar\":[{\"marker\":{\"colorbar\":{\"outlinewidth\":0,\"ticks\":\"\"}},\"type\":\"scatterpolar\"}],\"scatter\":[{\"fillpattern\":{\"fillmode\":\"overlay\",\"size\":10,\"solidity\":0.2},\"type\":\"scatter\"}],\"scatterternary\":[{\"marker\":{\"colorbar\":{\"outlinewidth\":0,\"ticks\":\"\"}},\"type\":\"scatterternary\"}],\"surface\":[{\"colorbar\":{\"outlinewidth\":0,\"ticks\":\"\"},\"colorscale\":[[0.0,\"#0d0887\"],[0.1111111111111111,\"#46039f\"],[0.2222222222222222,\"#7201a8\"],[0.3333333333333333,\"#9c179e\"],[0.4444444444444444,\"#bd3786\"],[0.5555555555555556,\"#d8576b\"],[0.6666666666666666,\"#ed7953\"],[0.7777777777777778,\"#fb9f3a\"],[0.8888888888888888,\"#fdca26\"],[1.0,\"#f0f921\"]],\"type\":\"surface\"}],\"table\":[{\"cells\":{\"fill\":{\"color\":\"#EBF0F8\"},\"line\":{\"color\":\"white\"}},\"header\":{\"fill\":{\"color\":\"#C8D4E3\"},\"line\":{\"color\":\"white\"}},\"type\":\"table\"}]},\"layout\":{\"annotationdefaults\":{\"arrowcolor\":\"#2a3f5f\",\"arrowhead\":0,\"arrowwidth\":1},\"autotypenumbers\":\"strict\",\"coloraxis\":{\"colorbar\":{\"outlinewidth\":0,\"ticks\":\"\"}},\"colorscale\":{\"diverging\":[[0,\"#8e0152\"],[0.1,\"#c51b7d\"],[0.2,\"#de77ae\"],[0.3,\"#f1b6da\"],[0.4,\"#fde0ef\"],[0.5,\"#f7f7f7\"],[0.6,\"#e6f5d0\"],[0.7,\"#b8e186\"],[0.8,\"#7fbc41\"],[0.9,\"#4d9221\"],[1,\"#276419\"]],\"sequential\":[[0.0,\"#0d0887\"],[0.1111111111111111,\"#46039f\"],[0.2222222222222222,\"#7201a8\"],[0.3333333333333333,\"#9c179e\"],[0.4444444444444444,\"#bd3786\"],[0.5555555555555556,\"#d8576b\"],[0.6666666666666666,\"#ed7953\"],[0.7777777777777778,\"#fb9f3a\"],[0.8888888888888888,\"#fdca26\"],[1.0,\"#f0f921\"]],\"sequentialminus\":[[0.0,\"#0d0887\"],[0.1111111111111111,\"#46039f\"],[0.2222222222222222,\"#7201a8\"],[0.3333333333333333,\"#9c179e\"],[0.4444444444444444,\"#bd3786\"],[0.5555555555555556,\"#d8576b\"],[0.6666666666666666,\"#ed7953\"],[0.7777777777777778,\"#fb9f3a\"],[0.8888888888888888,\"#fdca26\"],[1.0,\"#f0f921\"]]},\"colorway\":[\"#636efa\",\"#EF553B\",\"#00cc96\",\"#ab63fa\",\"#FFA15A\",\"#19d3f3\",\"#FF6692\",\"#B6E880\",\"#FF97FF\",\"#FECB52\"],\"font\":{\"color\":\"#2a3f5f\"},\"geo\":{\"bgcolor\":\"white\",\"lakecolor\":\"white\",\"landcolor\":\"#E5ECF6\",\"showlakes\":true,\"showland\":true,\"subunitcolor\":\"white\"},\"hoverlabel\":{\"align\":\"left\"},\"hovermode\":\"closest\",\"mapbox\":{\"style\":\"light\"},\"paper_bgcolor\":\"white\",\"plot_bgcolor\":\"#E5ECF6\",\"polar\":{\"angularaxis\":{\"gridcolor\":\"white\",\"linecolor\":\"white\",\"ticks\":\"\"},\"bgcolor\":\"#E5ECF6\",\"radialaxis\":{\"gridcolor\":\"white\",\"linecolor\":\"white\",\"ticks\":\"\"}},\"scene\":{\"xaxis\":{\"backgroundcolor\":\"#E5ECF6\",\"gridcolor\":\"white\",\"gridwidth\":2,\"linecolor\":\"white\",\"showbackground\":true,\"ticks\":\"\",\"zerolinecolor\":\"white\"},\"yaxis\":{\"backgroundcolor\":\"#E5ECF6\",\"gridcolor\":\"white\",\"gridwidth\":2,\"linecolor\":\"white\",\"showbackground\":true,\"ticks\":\"\",\"zerolinecolor\":\"white\"},\"zaxis\":{\"backgroundcolor\":\"#E5ECF6\",\"gridcolor\":\"white\",\"gridwidth\":2,\"linecolor\":\"white\",\"showbackground\":true,\"ticks\":\"\",\"zerolinecolor\":\"white\"}},\"shapedefaults\":{\"line\":{\"color\":\"#2a3f5f\"}},\"ternary\":{\"aaxis\":{\"gridcolor\":\"white\",\"linecolor\":\"white\",\"ticks\":\"\"},\"baxis\":{\"gridcolor\":\"white\",\"linecolor\":\"white\",\"ticks\":\"\"},\"bgcolor\":\"#E5ECF6\",\"caxis\":{\"gridcolor\":\"white\",\"linecolor\":\"white\",\"ticks\":\"\"}},\"title\":{\"x\":0.05},\"xaxis\":{\"automargin\":true,\"gridcolor\":\"white\",\"linecolor\":\"white\",\"ticks\":\"\",\"title\":{\"standoff\":15},\"zerolinecolor\":\"white\",\"zerolinewidth\":2},\"yaxis\":{\"automargin\":true,\"gridcolor\":\"white\",\"linecolor\":\"white\",\"ticks\":\"\",\"title\":{\"standoff\":15},\"zerolinecolor\":\"white\",\"zerolinewidth\":2}}},\"title\":{\"font\":{\"color\":\"#4D5663\"}},\"xaxis\":{\"gridcolor\":\"#E1E5ED\",\"showgrid\":true,\"tickfont\":{\"color\":\"#4D5663\"},\"title\":{\"font\":{\"color\":\"#4D5663\"},\"text\":\"\"},\"zerolinecolor\":\"#E1E5ED\"},\"yaxis\":{\"gridcolor\":\"#E1E5ED\",\"showgrid\":true,\"tickfont\":{\"color\":\"#4D5663\"},\"title\":{\"font\":{\"color\":\"#4D5663\"},\"text\":\"\"},\"zerolinecolor\":\"#E1E5ED\"}},                        {\"showLink\": true, \"linkText\": \"Export to plot.ly\", \"plotlyServerURL\": \"https://plot.ly\", \"responsive\": true}                    ).then(function(){\n",
       "                            \n",
       "var gd = document.getElementById('bb9cf872-7c08-4984-86fd-48c9ff6b4c7a');\n",
       "var x = new MutationObserver(function (mutations, observer) {{\n",
       "        var display = window.getComputedStyle(gd).display;\n",
       "        if (!display || display === 'none') {{\n",
       "            console.log([gd, 'removed!']);\n",
       "            Plotly.purge(gd);\n",
       "            observer.disconnect();\n",
       "        }}\n",
       "}});\n",
       "\n",
       "// Listen for the removal of the full notebook cells\n",
       "var notebookContainer = gd.closest('#notebook-container');\n",
       "if (notebookContainer) {{\n",
       "    x.observe(notebookContainer, {childList: true});\n",
       "}}\n",
       "\n",
       "// Listen for the clearing of the current output cell\n",
       "var outputEl = gd.closest('.output');\n",
       "if (outputEl) {{\n",
       "    x.observe(outputEl, {childList: true});\n",
       "}}\n",
       "\n",
       "                        })                };                });            </script>        </div>"
      ]
     },
     "metadata": {},
     "output_type": "display_data"
    }
   ],
   "source": [
    "df.iplot(kind='scatter',x='A',y='B',mode='markers',size=10)"
   ]
  },
  {
   "cell_type": "markdown",
   "metadata": {},
   "source": [
    "## Bar Plots"
   ]
  },
  {
   "cell_type": "code",
   "execution_count": 11,
   "metadata": {},
   "outputs": [
    {
     "data": {
      "application/vnd.plotly.v1+json": {
       "config": {
        "linkText": "Export to plot.ly",
        "plotlyServerURL": "https://plot.ly",
        "showLink": true
       },
       "data": [
        {
         "marker": {
          "color": "rgba(255, 153, 51, 0.6)",
          "line": {
           "color": "rgba(255, 153, 51, 1.0)",
           "width": 1
          }
         },
         "name": "Values",
         "orientation": "v",
         "text": "",
         "type": "bar",
         "x": [
          "A",
          "B",
          "C"
         ],
         "y": [
          32,
          43,
          50
         ]
        }
       ],
       "layout": {
        "legend": {
         "bgcolor": "#F5F6F9",
         "font": {
          "color": "#4D5663"
         }
        },
        "paper_bgcolor": "#F5F6F9",
        "plot_bgcolor": "#F5F6F9",
        "template": {
         "data": {
          "bar": [
           {
            "error_x": {
             "color": "#2a3f5f"
            },
            "error_y": {
             "color": "#2a3f5f"
            },
            "marker": {
             "line": {
              "color": "#E5ECF6",
              "width": 0.5
             },
             "pattern": {
              "fillmode": "overlay",
              "size": 10,
              "solidity": 0.2
             }
            },
            "type": "bar"
           }
          ],
          "barpolar": [
           {
            "marker": {
             "line": {
              "color": "#E5ECF6",
              "width": 0.5
             },
             "pattern": {
              "fillmode": "overlay",
              "size": 10,
              "solidity": 0.2
             }
            },
            "type": "barpolar"
           }
          ],
          "carpet": [
           {
            "aaxis": {
             "endlinecolor": "#2a3f5f",
             "gridcolor": "white",
             "linecolor": "white",
             "minorgridcolor": "white",
             "startlinecolor": "#2a3f5f"
            },
            "baxis": {
             "endlinecolor": "#2a3f5f",
             "gridcolor": "white",
             "linecolor": "white",
             "minorgridcolor": "white",
             "startlinecolor": "#2a3f5f"
            },
            "type": "carpet"
           }
          ],
          "choropleth": [
           {
            "colorbar": {
             "outlinewidth": 0,
             "ticks": ""
            },
            "type": "choropleth"
           }
          ],
          "contour": [
           {
            "colorbar": {
             "outlinewidth": 0,
             "ticks": ""
            },
            "colorscale": [
             [
              0,
              "#0d0887"
             ],
             [
              0.1111111111111111,
              "#46039f"
             ],
             [
              0.2222222222222222,
              "#7201a8"
             ],
             [
              0.3333333333333333,
              "#9c179e"
             ],
             [
              0.4444444444444444,
              "#bd3786"
             ],
             [
              0.5555555555555556,
              "#d8576b"
             ],
             [
              0.6666666666666666,
              "#ed7953"
             ],
             [
              0.7777777777777778,
              "#fb9f3a"
             ],
             [
              0.8888888888888888,
              "#fdca26"
             ],
             [
              1,
              "#f0f921"
             ]
            ],
            "type": "contour"
           }
          ],
          "contourcarpet": [
           {
            "colorbar": {
             "outlinewidth": 0,
             "ticks": ""
            },
            "type": "contourcarpet"
           }
          ],
          "heatmap": [
           {
            "colorbar": {
             "outlinewidth": 0,
             "ticks": ""
            },
            "colorscale": [
             [
              0,
              "#0d0887"
             ],
             [
              0.1111111111111111,
              "#46039f"
             ],
             [
              0.2222222222222222,
              "#7201a8"
             ],
             [
              0.3333333333333333,
              "#9c179e"
             ],
             [
              0.4444444444444444,
              "#bd3786"
             ],
             [
              0.5555555555555556,
              "#d8576b"
             ],
             [
              0.6666666666666666,
              "#ed7953"
             ],
             [
              0.7777777777777778,
              "#fb9f3a"
             ],
             [
              0.8888888888888888,
              "#fdca26"
             ],
             [
              1,
              "#f0f921"
             ]
            ],
            "type": "heatmap"
           }
          ],
          "heatmapgl": [
           {
            "colorbar": {
             "outlinewidth": 0,
             "ticks": ""
            },
            "colorscale": [
             [
              0,
              "#0d0887"
             ],
             [
              0.1111111111111111,
              "#46039f"
             ],
             [
              0.2222222222222222,
              "#7201a8"
             ],
             [
              0.3333333333333333,
              "#9c179e"
             ],
             [
              0.4444444444444444,
              "#bd3786"
             ],
             [
              0.5555555555555556,
              "#d8576b"
             ],
             [
              0.6666666666666666,
              "#ed7953"
             ],
             [
              0.7777777777777778,
              "#fb9f3a"
             ],
             [
              0.8888888888888888,
              "#fdca26"
             ],
             [
              1,
              "#f0f921"
             ]
            ],
            "type": "heatmapgl"
           }
          ],
          "histogram": [
           {
            "marker": {
             "pattern": {
              "fillmode": "overlay",
              "size": 10,
              "solidity": 0.2
             }
            },
            "type": "histogram"
           }
          ],
          "histogram2d": [
           {
            "colorbar": {
             "outlinewidth": 0,
             "ticks": ""
            },
            "colorscale": [
             [
              0,
              "#0d0887"
             ],
             [
              0.1111111111111111,
              "#46039f"
             ],
             [
              0.2222222222222222,
              "#7201a8"
             ],
             [
              0.3333333333333333,
              "#9c179e"
             ],
             [
              0.4444444444444444,
              "#bd3786"
             ],
             [
              0.5555555555555556,
              "#d8576b"
             ],
             [
              0.6666666666666666,
              "#ed7953"
             ],
             [
              0.7777777777777778,
              "#fb9f3a"
             ],
             [
              0.8888888888888888,
              "#fdca26"
             ],
             [
              1,
              "#f0f921"
             ]
            ],
            "type": "histogram2d"
           }
          ],
          "histogram2dcontour": [
           {
            "colorbar": {
             "outlinewidth": 0,
             "ticks": ""
            },
            "colorscale": [
             [
              0,
              "#0d0887"
             ],
             [
              0.1111111111111111,
              "#46039f"
             ],
             [
              0.2222222222222222,
              "#7201a8"
             ],
             [
              0.3333333333333333,
              "#9c179e"
             ],
             [
              0.4444444444444444,
              "#bd3786"
             ],
             [
              0.5555555555555556,
              "#d8576b"
             ],
             [
              0.6666666666666666,
              "#ed7953"
             ],
             [
              0.7777777777777778,
              "#fb9f3a"
             ],
             [
              0.8888888888888888,
              "#fdca26"
             ],
             [
              1,
              "#f0f921"
             ]
            ],
            "type": "histogram2dcontour"
           }
          ],
          "mesh3d": [
           {
            "colorbar": {
             "outlinewidth": 0,
             "ticks": ""
            },
            "type": "mesh3d"
           }
          ],
          "parcoords": [
           {
            "line": {
             "colorbar": {
              "outlinewidth": 0,
              "ticks": ""
             }
            },
            "type": "parcoords"
           }
          ],
          "pie": [
           {
            "automargin": true,
            "type": "pie"
           }
          ],
          "scatter": [
           {
            "fillpattern": {
             "fillmode": "overlay",
             "size": 10,
             "solidity": 0.2
            },
            "type": "scatter"
           }
          ],
          "scatter3d": [
           {
            "line": {
             "colorbar": {
              "outlinewidth": 0,
              "ticks": ""
             }
            },
            "marker": {
             "colorbar": {
              "outlinewidth": 0,
              "ticks": ""
             }
            },
            "type": "scatter3d"
           }
          ],
          "scattercarpet": [
           {
            "marker": {
             "colorbar": {
              "outlinewidth": 0,
              "ticks": ""
             }
            },
            "type": "scattercarpet"
           }
          ],
          "scattergeo": [
           {
            "marker": {
             "colorbar": {
              "outlinewidth": 0,
              "ticks": ""
             }
            },
            "type": "scattergeo"
           }
          ],
          "scattergl": [
           {
            "marker": {
             "colorbar": {
              "outlinewidth": 0,
              "ticks": ""
             }
            },
            "type": "scattergl"
           }
          ],
          "scattermapbox": [
           {
            "marker": {
             "colorbar": {
              "outlinewidth": 0,
              "ticks": ""
             }
            },
            "type": "scattermapbox"
           }
          ],
          "scatterpolar": [
           {
            "marker": {
             "colorbar": {
              "outlinewidth": 0,
              "ticks": ""
             }
            },
            "type": "scatterpolar"
           }
          ],
          "scatterpolargl": [
           {
            "marker": {
             "colorbar": {
              "outlinewidth": 0,
              "ticks": ""
             }
            },
            "type": "scatterpolargl"
           }
          ],
          "scatterternary": [
           {
            "marker": {
             "colorbar": {
              "outlinewidth": 0,
              "ticks": ""
             }
            },
            "type": "scatterternary"
           }
          ],
          "surface": [
           {
            "colorbar": {
             "outlinewidth": 0,
             "ticks": ""
            },
            "colorscale": [
             [
              0,
              "#0d0887"
             ],
             [
              0.1111111111111111,
              "#46039f"
             ],
             [
              0.2222222222222222,
              "#7201a8"
             ],
             [
              0.3333333333333333,
              "#9c179e"
             ],
             [
              0.4444444444444444,
              "#bd3786"
             ],
             [
              0.5555555555555556,
              "#d8576b"
             ],
             [
              0.6666666666666666,
              "#ed7953"
             ],
             [
              0.7777777777777778,
              "#fb9f3a"
             ],
             [
              0.8888888888888888,
              "#fdca26"
             ],
             [
              1,
              "#f0f921"
             ]
            ],
            "type": "surface"
           }
          ],
          "table": [
           {
            "cells": {
             "fill": {
              "color": "#EBF0F8"
             },
             "line": {
              "color": "white"
             }
            },
            "header": {
             "fill": {
              "color": "#C8D4E3"
             },
             "line": {
              "color": "white"
             }
            },
            "type": "table"
           }
          ]
         },
         "layout": {
          "annotationdefaults": {
           "arrowcolor": "#2a3f5f",
           "arrowhead": 0,
           "arrowwidth": 1
          },
          "autotypenumbers": "strict",
          "coloraxis": {
           "colorbar": {
            "outlinewidth": 0,
            "ticks": ""
           }
          },
          "colorscale": {
           "diverging": [
            [
             0,
             "#8e0152"
            ],
            [
             0.1,
             "#c51b7d"
            ],
            [
             0.2,
             "#de77ae"
            ],
            [
             0.3,
             "#f1b6da"
            ],
            [
             0.4,
             "#fde0ef"
            ],
            [
             0.5,
             "#f7f7f7"
            ],
            [
             0.6,
             "#e6f5d0"
            ],
            [
             0.7,
             "#b8e186"
            ],
            [
             0.8,
             "#7fbc41"
            ],
            [
             0.9,
             "#4d9221"
            ],
            [
             1,
             "#276419"
            ]
           ],
           "sequential": [
            [
             0,
             "#0d0887"
            ],
            [
             0.1111111111111111,
             "#46039f"
            ],
            [
             0.2222222222222222,
             "#7201a8"
            ],
            [
             0.3333333333333333,
             "#9c179e"
            ],
            [
             0.4444444444444444,
             "#bd3786"
            ],
            [
             0.5555555555555556,
             "#d8576b"
            ],
            [
             0.6666666666666666,
             "#ed7953"
            ],
            [
             0.7777777777777778,
             "#fb9f3a"
            ],
            [
             0.8888888888888888,
             "#fdca26"
            ],
            [
             1,
             "#f0f921"
            ]
           ],
           "sequentialminus": [
            [
             0,
             "#0d0887"
            ],
            [
             0.1111111111111111,
             "#46039f"
            ],
            [
             0.2222222222222222,
             "#7201a8"
            ],
            [
             0.3333333333333333,
             "#9c179e"
            ],
            [
             0.4444444444444444,
             "#bd3786"
            ],
            [
             0.5555555555555556,
             "#d8576b"
            ],
            [
             0.6666666666666666,
             "#ed7953"
            ],
            [
             0.7777777777777778,
             "#fb9f3a"
            ],
            [
             0.8888888888888888,
             "#fdca26"
            ],
            [
             1,
             "#f0f921"
            ]
           ]
          },
          "colorway": [
           "#636efa",
           "#EF553B",
           "#00cc96",
           "#ab63fa",
           "#FFA15A",
           "#19d3f3",
           "#FF6692",
           "#B6E880",
           "#FF97FF",
           "#FECB52"
          ],
          "font": {
           "color": "#2a3f5f"
          },
          "geo": {
           "bgcolor": "white",
           "lakecolor": "white",
           "landcolor": "#E5ECF6",
           "showlakes": true,
           "showland": true,
           "subunitcolor": "white"
          },
          "hoverlabel": {
           "align": "left"
          },
          "hovermode": "closest",
          "mapbox": {
           "style": "light"
          },
          "paper_bgcolor": "white",
          "plot_bgcolor": "#E5ECF6",
          "polar": {
           "angularaxis": {
            "gridcolor": "white",
            "linecolor": "white",
            "ticks": ""
           },
           "bgcolor": "#E5ECF6",
           "radialaxis": {
            "gridcolor": "white",
            "linecolor": "white",
            "ticks": ""
           }
          },
          "scene": {
           "xaxis": {
            "backgroundcolor": "#E5ECF6",
            "gridcolor": "white",
            "gridwidth": 2,
            "linecolor": "white",
            "showbackground": true,
            "ticks": "",
            "zerolinecolor": "white"
           },
           "yaxis": {
            "backgroundcolor": "#E5ECF6",
            "gridcolor": "white",
            "gridwidth": 2,
            "linecolor": "white",
            "showbackground": true,
            "ticks": "",
            "zerolinecolor": "white"
           },
           "zaxis": {
            "backgroundcolor": "#E5ECF6",
            "gridcolor": "white",
            "gridwidth": 2,
            "linecolor": "white",
            "showbackground": true,
            "ticks": "",
            "zerolinecolor": "white"
           }
          },
          "shapedefaults": {
           "line": {
            "color": "#2a3f5f"
           }
          },
          "ternary": {
           "aaxis": {
            "gridcolor": "white",
            "linecolor": "white",
            "ticks": ""
           },
           "baxis": {
            "gridcolor": "white",
            "linecolor": "white",
            "ticks": ""
           },
           "bgcolor": "#E5ECF6",
           "caxis": {
            "gridcolor": "white",
            "linecolor": "white",
            "ticks": ""
           }
          },
          "title": {
           "x": 0.05
          },
          "xaxis": {
           "automargin": true,
           "gridcolor": "white",
           "linecolor": "white",
           "ticks": "",
           "title": {
            "standoff": 15
           },
           "zerolinecolor": "white",
           "zerolinewidth": 2
          },
          "yaxis": {
           "automargin": true,
           "gridcolor": "white",
           "linecolor": "white",
           "ticks": "",
           "title": {
            "standoff": 15
           },
           "zerolinecolor": "white",
           "zerolinewidth": 2
          }
         }
        },
        "title": {
         "font": {
          "color": "#4D5663"
         }
        },
        "xaxis": {
         "gridcolor": "#E1E5ED",
         "showgrid": true,
         "tickfont": {
          "color": "#4D5663"
         },
         "title": {
          "font": {
           "color": "#4D5663"
          },
          "text": ""
         },
         "zerolinecolor": "#E1E5ED"
        },
        "yaxis": {
         "gridcolor": "#E1E5ED",
         "showgrid": true,
         "tickfont": {
          "color": "#4D5663"
         },
         "title": {
          "font": {
           "color": "#4D5663"
          },
          "text": ""
         },
         "zerolinecolor": "#E1E5ED"
        }
       }
      },
      "text/html": [
       "<div>                            <div id=\"12e120e3-2abf-4e16-b435-6aa74b510943\" class=\"plotly-graph-div\" style=\"height:525px; width:100%;\"></div>            <script type=\"text/javascript\">                require([\"plotly\"], function(Plotly) {                    window.PLOTLYENV=window.PLOTLYENV || {};\n",
       "                    window.PLOTLYENV.BASE_URL='https://plot.ly';                                    if (document.getElementById(\"12e120e3-2abf-4e16-b435-6aa74b510943\")) {                    Plotly.newPlot(                        \"12e120e3-2abf-4e16-b435-6aa74b510943\",                        [{\"marker\":{\"color\":\"rgba(255, 153, 51, 0.6)\",\"line\":{\"color\":\"rgba(255, 153, 51, 1.0)\",\"width\":1}},\"name\":\"Values\",\"orientation\":\"v\",\"text\":\"\",\"x\":[\"A\",\"B\",\"C\"],\"y\":[32,43,50],\"type\":\"bar\"}],                        {\"legend\":{\"bgcolor\":\"#F5F6F9\",\"font\":{\"color\":\"#4D5663\"}},\"paper_bgcolor\":\"#F5F6F9\",\"plot_bgcolor\":\"#F5F6F9\",\"template\":{\"data\":{\"barpolar\":[{\"marker\":{\"line\":{\"color\":\"#E5ECF6\",\"width\":0.5},\"pattern\":{\"fillmode\":\"overlay\",\"size\":10,\"solidity\":0.2}},\"type\":\"barpolar\"}],\"bar\":[{\"error_x\":{\"color\":\"#2a3f5f\"},\"error_y\":{\"color\":\"#2a3f5f\"},\"marker\":{\"line\":{\"color\":\"#E5ECF6\",\"width\":0.5},\"pattern\":{\"fillmode\":\"overlay\",\"size\":10,\"solidity\":0.2}},\"type\":\"bar\"}],\"carpet\":[{\"aaxis\":{\"endlinecolor\":\"#2a3f5f\",\"gridcolor\":\"white\",\"linecolor\":\"white\",\"minorgridcolor\":\"white\",\"startlinecolor\":\"#2a3f5f\"},\"baxis\":{\"endlinecolor\":\"#2a3f5f\",\"gridcolor\":\"white\",\"linecolor\":\"white\",\"minorgridcolor\":\"white\",\"startlinecolor\":\"#2a3f5f\"},\"type\":\"carpet\"}],\"choropleth\":[{\"colorbar\":{\"outlinewidth\":0,\"ticks\":\"\"},\"type\":\"choropleth\"}],\"contourcarpet\":[{\"colorbar\":{\"outlinewidth\":0,\"ticks\":\"\"},\"type\":\"contourcarpet\"}],\"contour\":[{\"colorbar\":{\"outlinewidth\":0,\"ticks\":\"\"},\"colorscale\":[[0.0,\"#0d0887\"],[0.1111111111111111,\"#46039f\"],[0.2222222222222222,\"#7201a8\"],[0.3333333333333333,\"#9c179e\"],[0.4444444444444444,\"#bd3786\"],[0.5555555555555556,\"#d8576b\"],[0.6666666666666666,\"#ed7953\"],[0.7777777777777778,\"#fb9f3a\"],[0.8888888888888888,\"#fdca26\"],[1.0,\"#f0f921\"]],\"type\":\"contour\"}],\"heatmapgl\":[{\"colorbar\":{\"outlinewidth\":0,\"ticks\":\"\"},\"colorscale\":[[0.0,\"#0d0887\"],[0.1111111111111111,\"#46039f\"],[0.2222222222222222,\"#7201a8\"],[0.3333333333333333,\"#9c179e\"],[0.4444444444444444,\"#bd3786\"],[0.5555555555555556,\"#d8576b\"],[0.6666666666666666,\"#ed7953\"],[0.7777777777777778,\"#fb9f3a\"],[0.8888888888888888,\"#fdca26\"],[1.0,\"#f0f921\"]],\"type\":\"heatmapgl\"}],\"heatmap\":[{\"colorbar\":{\"outlinewidth\":0,\"ticks\":\"\"},\"colorscale\":[[0.0,\"#0d0887\"],[0.1111111111111111,\"#46039f\"],[0.2222222222222222,\"#7201a8\"],[0.3333333333333333,\"#9c179e\"],[0.4444444444444444,\"#bd3786\"],[0.5555555555555556,\"#d8576b\"],[0.6666666666666666,\"#ed7953\"],[0.7777777777777778,\"#fb9f3a\"],[0.8888888888888888,\"#fdca26\"],[1.0,\"#f0f921\"]],\"type\":\"heatmap\"}],\"histogram2dcontour\":[{\"colorbar\":{\"outlinewidth\":0,\"ticks\":\"\"},\"colorscale\":[[0.0,\"#0d0887\"],[0.1111111111111111,\"#46039f\"],[0.2222222222222222,\"#7201a8\"],[0.3333333333333333,\"#9c179e\"],[0.4444444444444444,\"#bd3786\"],[0.5555555555555556,\"#d8576b\"],[0.6666666666666666,\"#ed7953\"],[0.7777777777777778,\"#fb9f3a\"],[0.8888888888888888,\"#fdca26\"],[1.0,\"#f0f921\"]],\"type\":\"histogram2dcontour\"}],\"histogram2d\":[{\"colorbar\":{\"outlinewidth\":0,\"ticks\":\"\"},\"colorscale\":[[0.0,\"#0d0887\"],[0.1111111111111111,\"#46039f\"],[0.2222222222222222,\"#7201a8\"],[0.3333333333333333,\"#9c179e\"],[0.4444444444444444,\"#bd3786\"],[0.5555555555555556,\"#d8576b\"],[0.6666666666666666,\"#ed7953\"],[0.7777777777777778,\"#fb9f3a\"],[0.8888888888888888,\"#fdca26\"],[1.0,\"#f0f921\"]],\"type\":\"histogram2d\"}],\"histogram\":[{\"marker\":{\"pattern\":{\"fillmode\":\"overlay\",\"size\":10,\"solidity\":0.2}},\"type\":\"histogram\"}],\"mesh3d\":[{\"colorbar\":{\"outlinewidth\":0,\"ticks\":\"\"},\"type\":\"mesh3d\"}],\"parcoords\":[{\"line\":{\"colorbar\":{\"outlinewidth\":0,\"ticks\":\"\"}},\"type\":\"parcoords\"}],\"pie\":[{\"automargin\":true,\"type\":\"pie\"}],\"scatter3d\":[{\"line\":{\"colorbar\":{\"outlinewidth\":0,\"ticks\":\"\"}},\"marker\":{\"colorbar\":{\"outlinewidth\":0,\"ticks\":\"\"}},\"type\":\"scatter3d\"}],\"scattercarpet\":[{\"marker\":{\"colorbar\":{\"outlinewidth\":0,\"ticks\":\"\"}},\"type\":\"scattercarpet\"}],\"scattergeo\":[{\"marker\":{\"colorbar\":{\"outlinewidth\":0,\"ticks\":\"\"}},\"type\":\"scattergeo\"}],\"scattergl\":[{\"marker\":{\"colorbar\":{\"outlinewidth\":0,\"ticks\":\"\"}},\"type\":\"scattergl\"}],\"scattermapbox\":[{\"marker\":{\"colorbar\":{\"outlinewidth\":0,\"ticks\":\"\"}},\"type\":\"scattermapbox\"}],\"scatterpolargl\":[{\"marker\":{\"colorbar\":{\"outlinewidth\":0,\"ticks\":\"\"}},\"type\":\"scatterpolargl\"}],\"scatterpolar\":[{\"marker\":{\"colorbar\":{\"outlinewidth\":0,\"ticks\":\"\"}},\"type\":\"scatterpolar\"}],\"scatter\":[{\"fillpattern\":{\"fillmode\":\"overlay\",\"size\":10,\"solidity\":0.2},\"type\":\"scatter\"}],\"scatterternary\":[{\"marker\":{\"colorbar\":{\"outlinewidth\":0,\"ticks\":\"\"}},\"type\":\"scatterternary\"}],\"surface\":[{\"colorbar\":{\"outlinewidth\":0,\"ticks\":\"\"},\"colorscale\":[[0.0,\"#0d0887\"],[0.1111111111111111,\"#46039f\"],[0.2222222222222222,\"#7201a8\"],[0.3333333333333333,\"#9c179e\"],[0.4444444444444444,\"#bd3786\"],[0.5555555555555556,\"#d8576b\"],[0.6666666666666666,\"#ed7953\"],[0.7777777777777778,\"#fb9f3a\"],[0.8888888888888888,\"#fdca26\"],[1.0,\"#f0f921\"]],\"type\":\"surface\"}],\"table\":[{\"cells\":{\"fill\":{\"color\":\"#EBF0F8\"},\"line\":{\"color\":\"white\"}},\"header\":{\"fill\":{\"color\":\"#C8D4E3\"},\"line\":{\"color\":\"white\"}},\"type\":\"table\"}]},\"layout\":{\"annotationdefaults\":{\"arrowcolor\":\"#2a3f5f\",\"arrowhead\":0,\"arrowwidth\":1},\"autotypenumbers\":\"strict\",\"coloraxis\":{\"colorbar\":{\"outlinewidth\":0,\"ticks\":\"\"}},\"colorscale\":{\"diverging\":[[0,\"#8e0152\"],[0.1,\"#c51b7d\"],[0.2,\"#de77ae\"],[0.3,\"#f1b6da\"],[0.4,\"#fde0ef\"],[0.5,\"#f7f7f7\"],[0.6,\"#e6f5d0\"],[0.7,\"#b8e186\"],[0.8,\"#7fbc41\"],[0.9,\"#4d9221\"],[1,\"#276419\"]],\"sequential\":[[0.0,\"#0d0887\"],[0.1111111111111111,\"#46039f\"],[0.2222222222222222,\"#7201a8\"],[0.3333333333333333,\"#9c179e\"],[0.4444444444444444,\"#bd3786\"],[0.5555555555555556,\"#d8576b\"],[0.6666666666666666,\"#ed7953\"],[0.7777777777777778,\"#fb9f3a\"],[0.8888888888888888,\"#fdca26\"],[1.0,\"#f0f921\"]],\"sequentialminus\":[[0.0,\"#0d0887\"],[0.1111111111111111,\"#46039f\"],[0.2222222222222222,\"#7201a8\"],[0.3333333333333333,\"#9c179e\"],[0.4444444444444444,\"#bd3786\"],[0.5555555555555556,\"#d8576b\"],[0.6666666666666666,\"#ed7953\"],[0.7777777777777778,\"#fb9f3a\"],[0.8888888888888888,\"#fdca26\"],[1.0,\"#f0f921\"]]},\"colorway\":[\"#636efa\",\"#EF553B\",\"#00cc96\",\"#ab63fa\",\"#FFA15A\",\"#19d3f3\",\"#FF6692\",\"#B6E880\",\"#FF97FF\",\"#FECB52\"],\"font\":{\"color\":\"#2a3f5f\"},\"geo\":{\"bgcolor\":\"white\",\"lakecolor\":\"white\",\"landcolor\":\"#E5ECF6\",\"showlakes\":true,\"showland\":true,\"subunitcolor\":\"white\"},\"hoverlabel\":{\"align\":\"left\"},\"hovermode\":\"closest\",\"mapbox\":{\"style\":\"light\"},\"paper_bgcolor\":\"white\",\"plot_bgcolor\":\"#E5ECF6\",\"polar\":{\"angularaxis\":{\"gridcolor\":\"white\",\"linecolor\":\"white\",\"ticks\":\"\"},\"bgcolor\":\"#E5ECF6\",\"radialaxis\":{\"gridcolor\":\"white\",\"linecolor\":\"white\",\"ticks\":\"\"}},\"scene\":{\"xaxis\":{\"backgroundcolor\":\"#E5ECF6\",\"gridcolor\":\"white\",\"gridwidth\":2,\"linecolor\":\"white\",\"showbackground\":true,\"ticks\":\"\",\"zerolinecolor\":\"white\"},\"yaxis\":{\"backgroundcolor\":\"#E5ECF6\",\"gridcolor\":\"white\",\"gridwidth\":2,\"linecolor\":\"white\",\"showbackground\":true,\"ticks\":\"\",\"zerolinecolor\":\"white\"},\"zaxis\":{\"backgroundcolor\":\"#E5ECF6\",\"gridcolor\":\"white\",\"gridwidth\":2,\"linecolor\":\"white\",\"showbackground\":true,\"ticks\":\"\",\"zerolinecolor\":\"white\"}},\"shapedefaults\":{\"line\":{\"color\":\"#2a3f5f\"}},\"ternary\":{\"aaxis\":{\"gridcolor\":\"white\",\"linecolor\":\"white\",\"ticks\":\"\"},\"baxis\":{\"gridcolor\":\"white\",\"linecolor\":\"white\",\"ticks\":\"\"},\"bgcolor\":\"#E5ECF6\",\"caxis\":{\"gridcolor\":\"white\",\"linecolor\":\"white\",\"ticks\":\"\"}},\"title\":{\"x\":0.05},\"xaxis\":{\"automargin\":true,\"gridcolor\":\"white\",\"linecolor\":\"white\",\"ticks\":\"\",\"title\":{\"standoff\":15},\"zerolinecolor\":\"white\",\"zerolinewidth\":2},\"yaxis\":{\"automargin\":true,\"gridcolor\":\"white\",\"linecolor\":\"white\",\"ticks\":\"\",\"title\":{\"standoff\":15},\"zerolinecolor\":\"white\",\"zerolinewidth\":2}}},\"title\":{\"font\":{\"color\":\"#4D5663\"}},\"xaxis\":{\"gridcolor\":\"#E1E5ED\",\"showgrid\":true,\"tickfont\":{\"color\":\"#4D5663\"},\"title\":{\"font\":{\"color\":\"#4D5663\"},\"text\":\"\"},\"zerolinecolor\":\"#E1E5ED\"},\"yaxis\":{\"gridcolor\":\"#E1E5ED\",\"showgrid\":true,\"tickfont\":{\"color\":\"#4D5663\"},\"title\":{\"font\":{\"color\":\"#4D5663\"},\"text\":\"\"},\"zerolinecolor\":\"#E1E5ED\"}},                        {\"showLink\": true, \"linkText\": \"Export to plot.ly\", \"plotlyServerURL\": \"https://plot.ly\", \"responsive\": true}                    ).then(function(){\n",
       "                            \n",
       "var gd = document.getElementById('12e120e3-2abf-4e16-b435-6aa74b510943');\n",
       "var x = new MutationObserver(function (mutations, observer) {{\n",
       "        var display = window.getComputedStyle(gd).display;\n",
       "        if (!display || display === 'none') {{\n",
       "            console.log([gd, 'removed!']);\n",
       "            Plotly.purge(gd);\n",
       "            observer.disconnect();\n",
       "        }}\n",
       "}});\n",
       "\n",
       "// Listen for the removal of the full notebook cells\n",
       "var notebookContainer = gd.closest('#notebook-container');\n",
       "if (notebookContainer) {{\n",
       "    x.observe(notebookContainer, {childList: true});\n",
       "}}\n",
       "\n",
       "// Listen for the clearing of the current output cell\n",
       "var outputEl = gd.closest('.output');\n",
       "if (outputEl) {{\n",
       "    x.observe(outputEl, {childList: true});\n",
       "}}\n",
       "\n",
       "                        })                };                });            </script>        </div>"
      ]
     },
     "metadata": {},
     "output_type": "display_data"
    }
   ],
   "source": [
    "df2.iplot(kind='bar',x='Category',y='Values')"
   ]
  },
  {
   "cell_type": "code",
   "execution_count": 12,
   "metadata": {},
   "outputs": [
    {
     "data": {
      "application/vnd.plotly.v1+json": {
       "config": {
        "linkText": "Export to plot.ly",
        "plotlyServerURL": "https://plot.ly",
        "showLink": true
       },
       "data": [
        {
         "marker": {
          "color": "rgba(255, 153, 51, 0.6)",
          "line": {
           "color": "rgba(255, 153, 51, 1.0)",
           "width": 1
          }
         },
         "name": "None",
         "orientation": "v",
         "text": "",
         "type": "bar",
         "x": [
          "A",
          "B",
          "C",
          "D"
         ],
         "y": [
          100,
          100,
          100,
          100
         ]
        }
       ],
       "layout": {
        "legend": {
         "bgcolor": "#F5F6F9",
         "font": {
          "color": "#4D5663"
         }
        },
        "paper_bgcolor": "#F5F6F9",
        "plot_bgcolor": "#F5F6F9",
        "template": {
         "data": {
          "bar": [
           {
            "error_x": {
             "color": "#2a3f5f"
            },
            "error_y": {
             "color": "#2a3f5f"
            },
            "marker": {
             "line": {
              "color": "#E5ECF6",
              "width": 0.5
             },
             "pattern": {
              "fillmode": "overlay",
              "size": 10,
              "solidity": 0.2
             }
            },
            "type": "bar"
           }
          ],
          "barpolar": [
           {
            "marker": {
             "line": {
              "color": "#E5ECF6",
              "width": 0.5
             },
             "pattern": {
              "fillmode": "overlay",
              "size": 10,
              "solidity": 0.2
             }
            },
            "type": "barpolar"
           }
          ],
          "carpet": [
           {
            "aaxis": {
             "endlinecolor": "#2a3f5f",
             "gridcolor": "white",
             "linecolor": "white",
             "minorgridcolor": "white",
             "startlinecolor": "#2a3f5f"
            },
            "baxis": {
             "endlinecolor": "#2a3f5f",
             "gridcolor": "white",
             "linecolor": "white",
             "minorgridcolor": "white",
             "startlinecolor": "#2a3f5f"
            },
            "type": "carpet"
           }
          ],
          "choropleth": [
           {
            "colorbar": {
             "outlinewidth": 0,
             "ticks": ""
            },
            "type": "choropleth"
           }
          ],
          "contour": [
           {
            "colorbar": {
             "outlinewidth": 0,
             "ticks": ""
            },
            "colorscale": [
             [
              0,
              "#0d0887"
             ],
             [
              0.1111111111111111,
              "#46039f"
             ],
             [
              0.2222222222222222,
              "#7201a8"
             ],
             [
              0.3333333333333333,
              "#9c179e"
             ],
             [
              0.4444444444444444,
              "#bd3786"
             ],
             [
              0.5555555555555556,
              "#d8576b"
             ],
             [
              0.6666666666666666,
              "#ed7953"
             ],
             [
              0.7777777777777778,
              "#fb9f3a"
             ],
             [
              0.8888888888888888,
              "#fdca26"
             ],
             [
              1,
              "#f0f921"
             ]
            ],
            "type": "contour"
           }
          ],
          "contourcarpet": [
           {
            "colorbar": {
             "outlinewidth": 0,
             "ticks": ""
            },
            "type": "contourcarpet"
           }
          ],
          "heatmap": [
           {
            "colorbar": {
             "outlinewidth": 0,
             "ticks": ""
            },
            "colorscale": [
             [
              0,
              "#0d0887"
             ],
             [
              0.1111111111111111,
              "#46039f"
             ],
             [
              0.2222222222222222,
              "#7201a8"
             ],
             [
              0.3333333333333333,
              "#9c179e"
             ],
             [
              0.4444444444444444,
              "#bd3786"
             ],
             [
              0.5555555555555556,
              "#d8576b"
             ],
             [
              0.6666666666666666,
              "#ed7953"
             ],
             [
              0.7777777777777778,
              "#fb9f3a"
             ],
             [
              0.8888888888888888,
              "#fdca26"
             ],
             [
              1,
              "#f0f921"
             ]
            ],
            "type": "heatmap"
           }
          ],
          "heatmapgl": [
           {
            "colorbar": {
             "outlinewidth": 0,
             "ticks": ""
            },
            "colorscale": [
             [
              0,
              "#0d0887"
             ],
             [
              0.1111111111111111,
              "#46039f"
             ],
             [
              0.2222222222222222,
              "#7201a8"
             ],
             [
              0.3333333333333333,
              "#9c179e"
             ],
             [
              0.4444444444444444,
              "#bd3786"
             ],
             [
              0.5555555555555556,
              "#d8576b"
             ],
             [
              0.6666666666666666,
              "#ed7953"
             ],
             [
              0.7777777777777778,
              "#fb9f3a"
             ],
             [
              0.8888888888888888,
              "#fdca26"
             ],
             [
              1,
              "#f0f921"
             ]
            ],
            "type": "heatmapgl"
           }
          ],
          "histogram": [
           {
            "marker": {
             "pattern": {
              "fillmode": "overlay",
              "size": 10,
              "solidity": 0.2
             }
            },
            "type": "histogram"
           }
          ],
          "histogram2d": [
           {
            "colorbar": {
             "outlinewidth": 0,
             "ticks": ""
            },
            "colorscale": [
             [
              0,
              "#0d0887"
             ],
             [
              0.1111111111111111,
              "#46039f"
             ],
             [
              0.2222222222222222,
              "#7201a8"
             ],
             [
              0.3333333333333333,
              "#9c179e"
             ],
             [
              0.4444444444444444,
              "#bd3786"
             ],
             [
              0.5555555555555556,
              "#d8576b"
             ],
             [
              0.6666666666666666,
              "#ed7953"
             ],
             [
              0.7777777777777778,
              "#fb9f3a"
             ],
             [
              0.8888888888888888,
              "#fdca26"
             ],
             [
              1,
              "#f0f921"
             ]
            ],
            "type": "histogram2d"
           }
          ],
          "histogram2dcontour": [
           {
            "colorbar": {
             "outlinewidth": 0,
             "ticks": ""
            },
            "colorscale": [
             [
              0,
              "#0d0887"
             ],
             [
              0.1111111111111111,
              "#46039f"
             ],
             [
              0.2222222222222222,
              "#7201a8"
             ],
             [
              0.3333333333333333,
              "#9c179e"
             ],
             [
              0.4444444444444444,
              "#bd3786"
             ],
             [
              0.5555555555555556,
              "#d8576b"
             ],
             [
              0.6666666666666666,
              "#ed7953"
             ],
             [
              0.7777777777777778,
              "#fb9f3a"
             ],
             [
              0.8888888888888888,
              "#fdca26"
             ],
             [
              1,
              "#f0f921"
             ]
            ],
            "type": "histogram2dcontour"
           }
          ],
          "mesh3d": [
           {
            "colorbar": {
             "outlinewidth": 0,
             "ticks": ""
            },
            "type": "mesh3d"
           }
          ],
          "parcoords": [
           {
            "line": {
             "colorbar": {
              "outlinewidth": 0,
              "ticks": ""
             }
            },
            "type": "parcoords"
           }
          ],
          "pie": [
           {
            "automargin": true,
            "type": "pie"
           }
          ],
          "scatter": [
           {
            "fillpattern": {
             "fillmode": "overlay",
             "size": 10,
             "solidity": 0.2
            },
            "type": "scatter"
           }
          ],
          "scatter3d": [
           {
            "line": {
             "colorbar": {
              "outlinewidth": 0,
              "ticks": ""
             }
            },
            "marker": {
             "colorbar": {
              "outlinewidth": 0,
              "ticks": ""
             }
            },
            "type": "scatter3d"
           }
          ],
          "scattercarpet": [
           {
            "marker": {
             "colorbar": {
              "outlinewidth": 0,
              "ticks": ""
             }
            },
            "type": "scattercarpet"
           }
          ],
          "scattergeo": [
           {
            "marker": {
             "colorbar": {
              "outlinewidth": 0,
              "ticks": ""
             }
            },
            "type": "scattergeo"
           }
          ],
          "scattergl": [
           {
            "marker": {
             "colorbar": {
              "outlinewidth": 0,
              "ticks": ""
             }
            },
            "type": "scattergl"
           }
          ],
          "scattermapbox": [
           {
            "marker": {
             "colorbar": {
              "outlinewidth": 0,
              "ticks": ""
             }
            },
            "type": "scattermapbox"
           }
          ],
          "scatterpolar": [
           {
            "marker": {
             "colorbar": {
              "outlinewidth": 0,
              "ticks": ""
             }
            },
            "type": "scatterpolar"
           }
          ],
          "scatterpolargl": [
           {
            "marker": {
             "colorbar": {
              "outlinewidth": 0,
              "ticks": ""
             }
            },
            "type": "scatterpolargl"
           }
          ],
          "scatterternary": [
           {
            "marker": {
             "colorbar": {
              "outlinewidth": 0,
              "ticks": ""
             }
            },
            "type": "scatterternary"
           }
          ],
          "surface": [
           {
            "colorbar": {
             "outlinewidth": 0,
             "ticks": ""
            },
            "colorscale": [
             [
              0,
              "#0d0887"
             ],
             [
              0.1111111111111111,
              "#46039f"
             ],
             [
              0.2222222222222222,
              "#7201a8"
             ],
             [
              0.3333333333333333,
              "#9c179e"
             ],
             [
              0.4444444444444444,
              "#bd3786"
             ],
             [
              0.5555555555555556,
              "#d8576b"
             ],
             [
              0.6666666666666666,
              "#ed7953"
             ],
             [
              0.7777777777777778,
              "#fb9f3a"
             ],
             [
              0.8888888888888888,
              "#fdca26"
             ],
             [
              1,
              "#f0f921"
             ]
            ],
            "type": "surface"
           }
          ],
          "table": [
           {
            "cells": {
             "fill": {
              "color": "#EBF0F8"
             },
             "line": {
              "color": "white"
             }
            },
            "header": {
             "fill": {
              "color": "#C8D4E3"
             },
             "line": {
              "color": "white"
             }
            },
            "type": "table"
           }
          ]
         },
         "layout": {
          "annotationdefaults": {
           "arrowcolor": "#2a3f5f",
           "arrowhead": 0,
           "arrowwidth": 1
          },
          "autotypenumbers": "strict",
          "coloraxis": {
           "colorbar": {
            "outlinewidth": 0,
            "ticks": ""
           }
          },
          "colorscale": {
           "diverging": [
            [
             0,
             "#8e0152"
            ],
            [
             0.1,
             "#c51b7d"
            ],
            [
             0.2,
             "#de77ae"
            ],
            [
             0.3,
             "#f1b6da"
            ],
            [
             0.4,
             "#fde0ef"
            ],
            [
             0.5,
             "#f7f7f7"
            ],
            [
             0.6,
             "#e6f5d0"
            ],
            [
             0.7,
             "#b8e186"
            ],
            [
             0.8,
             "#7fbc41"
            ],
            [
             0.9,
             "#4d9221"
            ],
            [
             1,
             "#276419"
            ]
           ],
           "sequential": [
            [
             0,
             "#0d0887"
            ],
            [
             0.1111111111111111,
             "#46039f"
            ],
            [
             0.2222222222222222,
             "#7201a8"
            ],
            [
             0.3333333333333333,
             "#9c179e"
            ],
            [
             0.4444444444444444,
             "#bd3786"
            ],
            [
             0.5555555555555556,
             "#d8576b"
            ],
            [
             0.6666666666666666,
             "#ed7953"
            ],
            [
             0.7777777777777778,
             "#fb9f3a"
            ],
            [
             0.8888888888888888,
             "#fdca26"
            ],
            [
             1,
             "#f0f921"
            ]
           ],
           "sequentialminus": [
            [
             0,
             "#0d0887"
            ],
            [
             0.1111111111111111,
             "#46039f"
            ],
            [
             0.2222222222222222,
             "#7201a8"
            ],
            [
             0.3333333333333333,
             "#9c179e"
            ],
            [
             0.4444444444444444,
             "#bd3786"
            ],
            [
             0.5555555555555556,
             "#d8576b"
            ],
            [
             0.6666666666666666,
             "#ed7953"
            ],
            [
             0.7777777777777778,
             "#fb9f3a"
            ],
            [
             0.8888888888888888,
             "#fdca26"
            ],
            [
             1,
             "#f0f921"
            ]
           ]
          },
          "colorway": [
           "#636efa",
           "#EF553B",
           "#00cc96",
           "#ab63fa",
           "#FFA15A",
           "#19d3f3",
           "#FF6692",
           "#B6E880",
           "#FF97FF",
           "#FECB52"
          ],
          "font": {
           "color": "#2a3f5f"
          },
          "geo": {
           "bgcolor": "white",
           "lakecolor": "white",
           "landcolor": "#E5ECF6",
           "showlakes": true,
           "showland": true,
           "subunitcolor": "white"
          },
          "hoverlabel": {
           "align": "left"
          },
          "hovermode": "closest",
          "mapbox": {
           "style": "light"
          },
          "paper_bgcolor": "white",
          "plot_bgcolor": "#E5ECF6",
          "polar": {
           "angularaxis": {
            "gridcolor": "white",
            "linecolor": "white",
            "ticks": ""
           },
           "bgcolor": "#E5ECF6",
           "radialaxis": {
            "gridcolor": "white",
            "linecolor": "white",
            "ticks": ""
           }
          },
          "scene": {
           "xaxis": {
            "backgroundcolor": "#E5ECF6",
            "gridcolor": "white",
            "gridwidth": 2,
            "linecolor": "white",
            "showbackground": true,
            "ticks": "",
            "zerolinecolor": "white"
           },
           "yaxis": {
            "backgroundcolor": "#E5ECF6",
            "gridcolor": "white",
            "gridwidth": 2,
            "linecolor": "white",
            "showbackground": true,
            "ticks": "",
            "zerolinecolor": "white"
           },
           "zaxis": {
            "backgroundcolor": "#E5ECF6",
            "gridcolor": "white",
            "gridwidth": 2,
            "linecolor": "white",
            "showbackground": true,
            "ticks": "",
            "zerolinecolor": "white"
           }
          },
          "shapedefaults": {
           "line": {
            "color": "#2a3f5f"
           }
          },
          "ternary": {
           "aaxis": {
            "gridcolor": "white",
            "linecolor": "white",
            "ticks": ""
           },
           "baxis": {
            "gridcolor": "white",
            "linecolor": "white",
            "ticks": ""
           },
           "bgcolor": "#E5ECF6",
           "caxis": {
            "gridcolor": "white",
            "linecolor": "white",
            "ticks": ""
           }
          },
          "title": {
           "x": 0.05
          },
          "xaxis": {
           "automargin": true,
           "gridcolor": "white",
           "linecolor": "white",
           "ticks": "",
           "title": {
            "standoff": 15
           },
           "zerolinecolor": "white",
           "zerolinewidth": 2
          },
          "yaxis": {
           "automargin": true,
           "gridcolor": "white",
           "linecolor": "white",
           "ticks": "",
           "title": {
            "standoff": 15
           },
           "zerolinecolor": "white",
           "zerolinewidth": 2
          }
         }
        },
        "title": {
         "font": {
          "color": "#4D5663"
         }
        },
        "xaxis": {
         "gridcolor": "#E1E5ED",
         "showgrid": true,
         "tickfont": {
          "color": "#4D5663"
         },
         "title": {
          "font": {
           "color": "#4D5663"
          },
          "text": ""
         },
         "zerolinecolor": "#E1E5ED"
        },
        "yaxis": {
         "gridcolor": "#E1E5ED",
         "showgrid": true,
         "tickfont": {
          "color": "#4D5663"
         },
         "title": {
          "font": {
           "color": "#4D5663"
          },
          "text": ""
         },
         "zerolinecolor": "#E1E5ED"
        }
       }
      },
      "text/html": [
       "<div>                            <div id=\"c1d60c5b-f4f1-44e2-88ef-f493be79db0e\" class=\"plotly-graph-div\" style=\"height:525px; width:100%;\"></div>            <script type=\"text/javascript\">                require([\"plotly\"], function(Plotly) {                    window.PLOTLYENV=window.PLOTLYENV || {};\n",
       "                    window.PLOTLYENV.BASE_URL='https://plot.ly';                                    if (document.getElementById(\"c1d60c5b-f4f1-44e2-88ef-f493be79db0e\")) {                    Plotly.newPlot(                        \"c1d60c5b-f4f1-44e2-88ef-f493be79db0e\",                        [{\"marker\":{\"color\":\"rgba(255, 153, 51, 0.6)\",\"line\":{\"color\":\"rgba(255, 153, 51, 1.0)\",\"width\":1}},\"name\":\"None\",\"orientation\":\"v\",\"text\":\"\",\"x\":[\"A\",\"B\",\"C\",\"D\"],\"y\":[100,100,100,100],\"type\":\"bar\"}],                        {\"legend\":{\"bgcolor\":\"#F5F6F9\",\"font\":{\"color\":\"#4D5663\"}},\"paper_bgcolor\":\"#F5F6F9\",\"plot_bgcolor\":\"#F5F6F9\",\"template\":{\"data\":{\"barpolar\":[{\"marker\":{\"line\":{\"color\":\"#E5ECF6\",\"width\":0.5},\"pattern\":{\"fillmode\":\"overlay\",\"size\":10,\"solidity\":0.2}},\"type\":\"barpolar\"}],\"bar\":[{\"error_x\":{\"color\":\"#2a3f5f\"},\"error_y\":{\"color\":\"#2a3f5f\"},\"marker\":{\"line\":{\"color\":\"#E5ECF6\",\"width\":0.5},\"pattern\":{\"fillmode\":\"overlay\",\"size\":10,\"solidity\":0.2}},\"type\":\"bar\"}],\"carpet\":[{\"aaxis\":{\"endlinecolor\":\"#2a3f5f\",\"gridcolor\":\"white\",\"linecolor\":\"white\",\"minorgridcolor\":\"white\",\"startlinecolor\":\"#2a3f5f\"},\"baxis\":{\"endlinecolor\":\"#2a3f5f\",\"gridcolor\":\"white\",\"linecolor\":\"white\",\"minorgridcolor\":\"white\",\"startlinecolor\":\"#2a3f5f\"},\"type\":\"carpet\"}],\"choropleth\":[{\"colorbar\":{\"outlinewidth\":0,\"ticks\":\"\"},\"type\":\"choropleth\"}],\"contourcarpet\":[{\"colorbar\":{\"outlinewidth\":0,\"ticks\":\"\"},\"type\":\"contourcarpet\"}],\"contour\":[{\"colorbar\":{\"outlinewidth\":0,\"ticks\":\"\"},\"colorscale\":[[0.0,\"#0d0887\"],[0.1111111111111111,\"#46039f\"],[0.2222222222222222,\"#7201a8\"],[0.3333333333333333,\"#9c179e\"],[0.4444444444444444,\"#bd3786\"],[0.5555555555555556,\"#d8576b\"],[0.6666666666666666,\"#ed7953\"],[0.7777777777777778,\"#fb9f3a\"],[0.8888888888888888,\"#fdca26\"],[1.0,\"#f0f921\"]],\"type\":\"contour\"}],\"heatmapgl\":[{\"colorbar\":{\"outlinewidth\":0,\"ticks\":\"\"},\"colorscale\":[[0.0,\"#0d0887\"],[0.1111111111111111,\"#46039f\"],[0.2222222222222222,\"#7201a8\"],[0.3333333333333333,\"#9c179e\"],[0.4444444444444444,\"#bd3786\"],[0.5555555555555556,\"#d8576b\"],[0.6666666666666666,\"#ed7953\"],[0.7777777777777778,\"#fb9f3a\"],[0.8888888888888888,\"#fdca26\"],[1.0,\"#f0f921\"]],\"type\":\"heatmapgl\"}],\"heatmap\":[{\"colorbar\":{\"outlinewidth\":0,\"ticks\":\"\"},\"colorscale\":[[0.0,\"#0d0887\"],[0.1111111111111111,\"#46039f\"],[0.2222222222222222,\"#7201a8\"],[0.3333333333333333,\"#9c179e\"],[0.4444444444444444,\"#bd3786\"],[0.5555555555555556,\"#d8576b\"],[0.6666666666666666,\"#ed7953\"],[0.7777777777777778,\"#fb9f3a\"],[0.8888888888888888,\"#fdca26\"],[1.0,\"#f0f921\"]],\"type\":\"heatmap\"}],\"histogram2dcontour\":[{\"colorbar\":{\"outlinewidth\":0,\"ticks\":\"\"},\"colorscale\":[[0.0,\"#0d0887\"],[0.1111111111111111,\"#46039f\"],[0.2222222222222222,\"#7201a8\"],[0.3333333333333333,\"#9c179e\"],[0.4444444444444444,\"#bd3786\"],[0.5555555555555556,\"#d8576b\"],[0.6666666666666666,\"#ed7953\"],[0.7777777777777778,\"#fb9f3a\"],[0.8888888888888888,\"#fdca26\"],[1.0,\"#f0f921\"]],\"type\":\"histogram2dcontour\"}],\"histogram2d\":[{\"colorbar\":{\"outlinewidth\":0,\"ticks\":\"\"},\"colorscale\":[[0.0,\"#0d0887\"],[0.1111111111111111,\"#46039f\"],[0.2222222222222222,\"#7201a8\"],[0.3333333333333333,\"#9c179e\"],[0.4444444444444444,\"#bd3786\"],[0.5555555555555556,\"#d8576b\"],[0.6666666666666666,\"#ed7953\"],[0.7777777777777778,\"#fb9f3a\"],[0.8888888888888888,\"#fdca26\"],[1.0,\"#f0f921\"]],\"type\":\"histogram2d\"}],\"histogram\":[{\"marker\":{\"pattern\":{\"fillmode\":\"overlay\",\"size\":10,\"solidity\":0.2}},\"type\":\"histogram\"}],\"mesh3d\":[{\"colorbar\":{\"outlinewidth\":0,\"ticks\":\"\"},\"type\":\"mesh3d\"}],\"parcoords\":[{\"line\":{\"colorbar\":{\"outlinewidth\":0,\"ticks\":\"\"}},\"type\":\"parcoords\"}],\"pie\":[{\"automargin\":true,\"type\":\"pie\"}],\"scatter3d\":[{\"line\":{\"colorbar\":{\"outlinewidth\":0,\"ticks\":\"\"}},\"marker\":{\"colorbar\":{\"outlinewidth\":0,\"ticks\":\"\"}},\"type\":\"scatter3d\"}],\"scattercarpet\":[{\"marker\":{\"colorbar\":{\"outlinewidth\":0,\"ticks\":\"\"}},\"type\":\"scattercarpet\"}],\"scattergeo\":[{\"marker\":{\"colorbar\":{\"outlinewidth\":0,\"ticks\":\"\"}},\"type\":\"scattergeo\"}],\"scattergl\":[{\"marker\":{\"colorbar\":{\"outlinewidth\":0,\"ticks\":\"\"}},\"type\":\"scattergl\"}],\"scattermapbox\":[{\"marker\":{\"colorbar\":{\"outlinewidth\":0,\"ticks\":\"\"}},\"type\":\"scattermapbox\"}],\"scatterpolargl\":[{\"marker\":{\"colorbar\":{\"outlinewidth\":0,\"ticks\":\"\"}},\"type\":\"scatterpolargl\"}],\"scatterpolar\":[{\"marker\":{\"colorbar\":{\"outlinewidth\":0,\"ticks\":\"\"}},\"type\":\"scatterpolar\"}],\"scatter\":[{\"fillpattern\":{\"fillmode\":\"overlay\",\"size\":10,\"solidity\":0.2},\"type\":\"scatter\"}],\"scatterternary\":[{\"marker\":{\"colorbar\":{\"outlinewidth\":0,\"ticks\":\"\"}},\"type\":\"scatterternary\"}],\"surface\":[{\"colorbar\":{\"outlinewidth\":0,\"ticks\":\"\"},\"colorscale\":[[0.0,\"#0d0887\"],[0.1111111111111111,\"#46039f\"],[0.2222222222222222,\"#7201a8\"],[0.3333333333333333,\"#9c179e\"],[0.4444444444444444,\"#bd3786\"],[0.5555555555555556,\"#d8576b\"],[0.6666666666666666,\"#ed7953\"],[0.7777777777777778,\"#fb9f3a\"],[0.8888888888888888,\"#fdca26\"],[1.0,\"#f0f921\"]],\"type\":\"surface\"}],\"table\":[{\"cells\":{\"fill\":{\"color\":\"#EBF0F8\"},\"line\":{\"color\":\"white\"}},\"header\":{\"fill\":{\"color\":\"#C8D4E3\"},\"line\":{\"color\":\"white\"}},\"type\":\"table\"}]},\"layout\":{\"annotationdefaults\":{\"arrowcolor\":\"#2a3f5f\",\"arrowhead\":0,\"arrowwidth\":1},\"autotypenumbers\":\"strict\",\"coloraxis\":{\"colorbar\":{\"outlinewidth\":0,\"ticks\":\"\"}},\"colorscale\":{\"diverging\":[[0,\"#8e0152\"],[0.1,\"#c51b7d\"],[0.2,\"#de77ae\"],[0.3,\"#f1b6da\"],[0.4,\"#fde0ef\"],[0.5,\"#f7f7f7\"],[0.6,\"#e6f5d0\"],[0.7,\"#b8e186\"],[0.8,\"#7fbc41\"],[0.9,\"#4d9221\"],[1,\"#276419\"]],\"sequential\":[[0.0,\"#0d0887\"],[0.1111111111111111,\"#46039f\"],[0.2222222222222222,\"#7201a8\"],[0.3333333333333333,\"#9c179e\"],[0.4444444444444444,\"#bd3786\"],[0.5555555555555556,\"#d8576b\"],[0.6666666666666666,\"#ed7953\"],[0.7777777777777778,\"#fb9f3a\"],[0.8888888888888888,\"#fdca26\"],[1.0,\"#f0f921\"]],\"sequentialminus\":[[0.0,\"#0d0887\"],[0.1111111111111111,\"#46039f\"],[0.2222222222222222,\"#7201a8\"],[0.3333333333333333,\"#9c179e\"],[0.4444444444444444,\"#bd3786\"],[0.5555555555555556,\"#d8576b\"],[0.6666666666666666,\"#ed7953\"],[0.7777777777777778,\"#fb9f3a\"],[0.8888888888888888,\"#fdca26\"],[1.0,\"#f0f921\"]]},\"colorway\":[\"#636efa\",\"#EF553B\",\"#00cc96\",\"#ab63fa\",\"#FFA15A\",\"#19d3f3\",\"#FF6692\",\"#B6E880\",\"#FF97FF\",\"#FECB52\"],\"font\":{\"color\":\"#2a3f5f\"},\"geo\":{\"bgcolor\":\"white\",\"lakecolor\":\"white\",\"landcolor\":\"#E5ECF6\",\"showlakes\":true,\"showland\":true,\"subunitcolor\":\"white\"},\"hoverlabel\":{\"align\":\"left\"},\"hovermode\":\"closest\",\"mapbox\":{\"style\":\"light\"},\"paper_bgcolor\":\"white\",\"plot_bgcolor\":\"#E5ECF6\",\"polar\":{\"angularaxis\":{\"gridcolor\":\"white\",\"linecolor\":\"white\",\"ticks\":\"\"},\"bgcolor\":\"#E5ECF6\",\"radialaxis\":{\"gridcolor\":\"white\",\"linecolor\":\"white\",\"ticks\":\"\"}},\"scene\":{\"xaxis\":{\"backgroundcolor\":\"#E5ECF6\",\"gridcolor\":\"white\",\"gridwidth\":2,\"linecolor\":\"white\",\"showbackground\":true,\"ticks\":\"\",\"zerolinecolor\":\"white\"},\"yaxis\":{\"backgroundcolor\":\"#E5ECF6\",\"gridcolor\":\"white\",\"gridwidth\":2,\"linecolor\":\"white\",\"showbackground\":true,\"ticks\":\"\",\"zerolinecolor\":\"white\"},\"zaxis\":{\"backgroundcolor\":\"#E5ECF6\",\"gridcolor\":\"white\",\"gridwidth\":2,\"linecolor\":\"white\",\"showbackground\":true,\"ticks\":\"\",\"zerolinecolor\":\"white\"}},\"shapedefaults\":{\"line\":{\"color\":\"#2a3f5f\"}},\"ternary\":{\"aaxis\":{\"gridcolor\":\"white\",\"linecolor\":\"white\",\"ticks\":\"\"},\"baxis\":{\"gridcolor\":\"white\",\"linecolor\":\"white\",\"ticks\":\"\"},\"bgcolor\":\"#E5ECF6\",\"caxis\":{\"gridcolor\":\"white\",\"linecolor\":\"white\",\"ticks\":\"\"}},\"title\":{\"x\":0.05},\"xaxis\":{\"automargin\":true,\"gridcolor\":\"white\",\"linecolor\":\"white\",\"ticks\":\"\",\"title\":{\"standoff\":15},\"zerolinecolor\":\"white\",\"zerolinewidth\":2},\"yaxis\":{\"automargin\":true,\"gridcolor\":\"white\",\"linecolor\":\"white\",\"ticks\":\"\",\"title\":{\"standoff\":15},\"zerolinecolor\":\"white\",\"zerolinewidth\":2}}},\"title\":{\"font\":{\"color\":\"#4D5663\"}},\"xaxis\":{\"gridcolor\":\"#E1E5ED\",\"showgrid\":true,\"tickfont\":{\"color\":\"#4D5663\"},\"title\":{\"font\":{\"color\":\"#4D5663\"},\"text\":\"\"},\"zerolinecolor\":\"#E1E5ED\"},\"yaxis\":{\"gridcolor\":\"#E1E5ED\",\"showgrid\":true,\"tickfont\":{\"color\":\"#4D5663\"},\"title\":{\"font\":{\"color\":\"#4D5663\"},\"text\":\"\"},\"zerolinecolor\":\"#E1E5ED\"}},                        {\"showLink\": true, \"linkText\": \"Export to plot.ly\", \"plotlyServerURL\": \"https://plot.ly\", \"responsive\": true}                    ).then(function(){\n",
       "                            \n",
       "var gd = document.getElementById('c1d60c5b-f4f1-44e2-88ef-f493be79db0e');\n",
       "var x = new MutationObserver(function (mutations, observer) {{\n",
       "        var display = window.getComputedStyle(gd).display;\n",
       "        if (!display || display === 'none') {{\n",
       "            console.log([gd, 'removed!']);\n",
       "            Plotly.purge(gd);\n",
       "            observer.disconnect();\n",
       "        }}\n",
       "}});\n",
       "\n",
       "// Listen for the removal of the full notebook cells\n",
       "var notebookContainer = gd.closest('#notebook-container');\n",
       "if (notebookContainer) {{\n",
       "    x.observe(notebookContainer, {childList: true});\n",
       "}}\n",
       "\n",
       "// Listen for the clearing of the current output cell\n",
       "var outputEl = gd.closest('.output');\n",
       "if (outputEl) {{\n",
       "    x.observe(outputEl, {childList: true});\n",
       "}}\n",
       "\n",
       "                        })                };                });            </script>        </div>"
      ]
     },
     "metadata": {},
     "output_type": "display_data"
    }
   ],
   "source": [
    "df.count().iplot(kind='bar')"
   ]
  },
  {
   "cell_type": "markdown",
   "metadata": {},
   "source": [
    "## Boxplots"
   ]
  },
  {
   "cell_type": "code",
   "execution_count": 13,
   "metadata": {},
   "outputs": [
    {
     "data": {
      "application/vnd.plotly.v1+json": {
       "config": {
        "linkText": "Export to plot.ly",
        "plotlyServerURL": "https://plot.ly",
        "showLink": true
       },
       "data": [
        {
         "boxpoints": false,
         "line": {
          "width": 1.3
         },
         "marker": {
          "color": "rgba(255, 153, 51, 1.0)"
         },
         "name": "A",
         "orientation": "v",
         "type": "box",
         "y": [
          -1.0520499660805134,
          -0.6395256708852439,
          -0.33434764741888273,
          -0.602102263802253,
          0.3275992110293282,
          -0.8517119727079342,
          0.4823647677292349,
          -0.6733753513218748,
          1.0663693192389487,
          -0.6674469283977741,
          -0.1555538710682971,
          0.982078463400281,
          0.5605995734508707,
          -1.5992430724659148,
          -0.4863413205475636,
          -1.635285837548092,
          1.3935076424093102,
          1.7941318056056335,
          0.5341913789906737,
          -0.9524975663306507,
          -0.4573351632944464,
          1.1177083797834142,
          -0.5706607672093532,
          0.7867354928231047,
          0.07981317429930133,
          -0.6349940715278921,
          1.5425662192838554,
          -0.6132422783945425,
          0.15544048184803386,
          0.9192445510904795,
          -1.7359719590500762,
          -1.9119274895922669,
          0.6944479962123283,
          0.3532145001978853,
          -1.0600796071503271,
          -0.5334678844301335,
          -0.6394875240041487,
          0.3128946201121304,
          0.016069119234565766,
          -1.5744316004386434,
          0.7344487377210069,
          0.7193287039929793,
          0.4812823931213064,
          -0.24678614971224266,
          -0.2905274885290895,
          -0.1003666244799347,
          0.2183659952290479,
          -2.319740663802171,
          -0.6745518951897882,
          0.29578338730627296,
          0.027684720711771665,
          0.6195480439047139,
          0.6876980075689124,
          -1.1798993200458125,
          1.1244893859000014,
          0.5280412892103941,
          -0.6001297370928859,
          -0.027008110814554072,
          -0.2748635223706462,
          1.4138169456342016,
          -0.9151732693883676,
          -0.4134435108103696,
          0.9255576517778622,
          0.860868531480433,
          1.758016656113904,
          1.6783618939930056,
          0.06869043899424485,
          0.6937178925305963,
          -0.8760537876530695,
          0.9102278415320038,
          0.7191692678149171,
          -0.4913169243308279,
          1.2337987142169284,
          0.7956878705772449,
          1.371542963623464,
          -1.343501561614963,
          1.0118949910662463,
          1.1658612878341348,
          -0.6928552283460352,
          -0.4687295487764381,
          -0.8757314396497151,
          -0.3643879992119797,
          0.811605819362338,
          -0.42095946538411305,
          -0.9898935045710047,
          0.7334033677693634,
          -0.19290472361161884,
          1.8143264562579273,
          0.8281944946575908,
          0.4854377119690578,
          0.5615674241389551,
          0.30512951708273917,
          -0.2966780672407173,
          2.3797154891776886,
          1.4080321570020835,
          -1.03463191031649,
          -1.941093118397556,
          -0.5620252053886859,
          -0.7270510460295249,
          0.10178198219108311
         ]
        },
        {
         "boxpoints": false,
         "line": {
          "width": 1.3
         },
         "marker": {
          "color": "rgba(55, 128, 191, 1.0)"
         },
         "name": "B",
         "orientation": "v",
         "type": "box",
         "y": [
          -0.5756640459082741,
          0.5987981212644335,
          -0.7783665585217159,
          -0.09573196409819089,
          -0.14284747496470035,
          1.1566851064970056,
          0.14205945762224648,
          0.9925438822429384,
          -1.4205067005147545,
          -0.4243133975107277,
          0.2046316406674326,
          -0.8664033231860435,
          0.30018363681115173,
          0.7012726412626394,
          -0.5832744366644343,
          -1.9611912132619702,
          -1.2865690654113124,
          0.2805418321787577,
          0.5712498729810047,
          -0.6776239869439911,
          0.3316361158392233,
          -0.14461439325213005,
          -1.0410638673782593,
          -0.4080654043631619,
          -0.00631491901211208,
          0.654337983442778,
          0.04670538856144417,
          0.4891070888438266,
          -1.2277858127245984,
          -1.5325129450673443,
          1.2514271194867919,
          -0.6784529656249904,
          0.8507471393458212,
          0.3524385390065126,
          0.6553698989078516,
          -1.0598696128958636,
          -0.5655967775632145,
          1.1038885195167987,
          0.51412957783871,
          -1.03444943752192,
          -0.5231942655733847,
          -0.8380629336724287,
          1.903096658084694,
          0.4168137650785216,
          -0.4997398212243618,
          1.4029778201285397,
          0.8105226854959072,
          -1.7054169577749274,
          0.4605260705984755,
          -0.9824384505992422,
          -3.224746706249651,
          -0.6689949803255751,
          1.136152225459386,
          0.5680385123690971,
          0.7065628304892786,
          -0.42374809536258623,
          -0.8945591138218476,
          1.3206984539123967,
          -1.047728278006352,
          0.22476929272194288,
          -0.0009414573889848483,
          -0.01541225142410007,
          0.8263022924568258,
          0.42637279096367314,
          0.7989305066857885,
          -0.9789730984372811,
          -0.07071920797599111,
          -0.6115527255986463,
          -1.251525922052416,
          0.6676854765757444,
          1.9869694622253653,
          1.5658607072704804,
          -0.4186693946248924,
          -0.40628885793212743,
          1.5568244944045366,
          -0.7326242574894654,
          0.37958514924466513,
          -0.1783531218270007,
          -1.4160686077684221,
          0.4077861201653217,
          1.866778069209306,
          -1.0186822996845648,
          0.8993809357600041,
          -0.29568521043114,
          -0.47082542872155764,
          0.7282529986227604,
          0.06269962361015688,
          -0.3591244801120115,
          -0.28395660057604427,
          0.5295132537184689,
          -0.8352707178155664,
          0.3743707004534908,
          -0.31130372186525196,
          -0.7747932469996983,
          1.2259633383494222,
          -0.4464779411147586,
          0.996920839179652,
          0.20800829553317293,
          0.1858285403997541,
          -1.5192392350514088
         ]
        },
        {
         "boxpoints": false,
         "line": {
          "width": 1.3
         },
         "marker": {
          "color": "rgba(50, 171, 96, 1.0)"
         },
         "name": "C",
         "orientation": "v",
         "type": "box",
         "y": [
          -0.5819334923709587,
          -0.20535185346047247,
          0.46495722193269035,
          1.0070083228749713,
          -1.9374996309320467,
          -1.8541871881835001,
          -0.848496434101706,
          0.45974409273358985,
          -0.42962749274340156,
          0.7692492026076733,
          0.6928099983210566,
          -0.06208913376574852,
          -1.0053623155890632,
          0.007044029659171979,
          -0.6959485236317551,
          0.16773342407984793,
          0.4414972998112349,
          1.1882019964628374,
          -0.19853533442373375,
          0.3267154299617585,
          0.26714306155641165,
          -0.8955268783525614,
          -0.27288703912797035,
          0.39275060553488506,
          0.7115752608323191,
          0.7739850163751817,
          0.1775505555193976,
          -0.6086922158505274,
          -0.6294228912057446,
          -0.3894360632509466,
          -1.2076184402578136,
          3.0053123500080563,
          -1.5754072359244329,
          0.9081520007417977,
          0.41550855556638033,
          -0.8513454002492441,
          -1.1326100992100343,
          1.0146364521051245,
          0.3499554555995428,
          -0.18271749072119908,
          -1.3828375182730765,
          0.06925941812907539,
          -0.19944910235226446,
          0.28659471060857167,
          0.431064112970978,
          0.44260910684426763,
          1.2723582047994717,
          0.15314586765388086,
          -0.9177936069592793,
          0.3872575875906056,
          1.353121625137218,
          -0.854219028152435,
          0.6594533648064694,
          0.3192636945692223,
          -1.1155131217634007,
          -2.1766829042957143,
          -0.3998026993553559,
          0.10033839956286841,
          0.0015704263412207665,
          0.7967668240914113,
          0.4700248884500916,
          0.6766821536944682,
          -0.7350572401590547,
          1.663609236900145,
          -1.4250134126719334,
          -0.722653969919067,
          -0.61533551687048,
          -1.248779331333013,
          0.12473013029526318,
          -1.5055610854030745,
          -1.169929557726273,
          0.49176966267461564,
          -0.43076836408784097,
          -0.5615642090678576,
          -1.0749653716673913,
          0.14688846542818107,
          0.6169536007402349,
          0.34337017267739983,
          -0.21718300793707138,
          -0.3725730120890333,
          0.1631074630424868,
          -1.6531956150206424,
          -0.7909997606036744,
          -2.477105350291788,
          1.416172153010682,
          -0.058421198865491235,
          -0.9317774772046867,
          1.78265714700381,
          -0.9900013276270953,
          1.5728132878672307,
          1.1325937740258523,
          -1.1199356407596541,
          2.379674994438924,
          2.080399997501075,
          -0.6534166903005675,
          0.4672977861022814,
          0.8744911814364437,
          -1.6692849310609135,
          -1.7115761965081926,
          0.3828922611526809
         ]
        },
        {
         "boxpoints": false,
         "line": {
          "width": 1.3
         },
         "marker": {
          "color": "rgba(128, 0, 128, 1.0)"
         },
         "name": "D",
         "orientation": "v",
         "type": "box",
         "y": [
          0.9277319196502233,
          -0.12536008250933575,
          -0.12107125297344493,
          -0.8232707716494212,
          0.0664355796174163,
          -1.0678908297985703,
          0.0771054637995535,
          -0.051419097373521905,
          0.8336144416442017,
          -0.235139942535916,
          0.17619034695555033,
          2.0262920079966684,
          1.9755131430698687,
          -0.9611065737485338,
          -0.15006797456552856,
          0.11044491010489915,
          -0.4376965493761567,
          -1.5631316393241954,
          0.1471186920291873,
          -1.1640011834330464,
          0.4258943442374219,
          1.2146088757256255,
          0.7735049289379338,
          0.7082704771945506,
          0.11701812225321552,
          -0.15847090018087553,
          1.0719554689341357,
          -0.46749993915361393,
          0.16249504661882275,
          0.7356303076485307,
          -0.47825963665381,
          0.5706434066808811,
          0.3426791200908702,
          -0.1134673865337506,
          -1.1581329453850489,
          -0.6121034811396447,
          1.2680418810575937,
          -1.0479312107585474,
          0.15348820995902268,
          0.514842534562817,
          0.49451618938625846,
          1.6208723713139663,
          -0.25548314383520526,
          0.5374303675035457,
          -0.582559486730231,
          0.3586512893294155,
          -0.47962465951319494,
          0.2647371692605464,
          -0.47771343959240603,
          -0.7017403951073233,
          -0.034630588932819464,
          1.6522890087900828,
          0.5581153890731325,
          1.2058044077410321,
          -0.49446560660305783,
          -0.6736574987752219,
          -1.4315440524134833,
          -1.3562113280827872,
          -0.806985630376175,
          0.04536848363326349,
          -1.4830070051596294,
          0.4549646595345361,
          -0.48559025918958065,
          0.4561273132929846,
          -0.9969847859936918,
          -0.017345009789463923,
          -0.45243254887684414,
          1.3526888226060534,
          0.24175626611159212,
          1.5767487666136768,
          -1.3789565966868544,
          0.24661436799681344,
          0.43095305560163444,
          -1.1287038083661936,
          1.0868511602946072,
          0.3097320823328397,
          0.5923187864201388,
          0.3578463427763317,
          -1.4342376241981762,
          0.1907973388784022,
          1.2935339400068324,
          -1.7901698150670595,
          -0.933527031679027,
          1.678288570633211,
          0.01884053700803777,
          0.5652059967893183,
          -1.5100447146004006,
          -0.14949401638016677,
          2.0300286353463854,
          -2.072940206901961,
          2.3421377329868496,
          1.4888237344503232,
          -2.0842945390943983,
          0.5537941026885076,
          0.5471328253270026,
          0.6234422409414835,
          0.7736632900800269,
          0.3957359267460818,
          -0.40036226897897575,
          0.396793570420886
         ]
        }
       ],
       "layout": {
        "legend": {
         "bgcolor": "#F5F6F9",
         "font": {
          "color": "#4D5663"
         }
        },
        "paper_bgcolor": "#F5F6F9",
        "plot_bgcolor": "#F5F6F9",
        "template": {
         "data": {
          "bar": [
           {
            "error_x": {
             "color": "#2a3f5f"
            },
            "error_y": {
             "color": "#2a3f5f"
            },
            "marker": {
             "line": {
              "color": "#E5ECF6",
              "width": 0.5
             },
             "pattern": {
              "fillmode": "overlay",
              "size": 10,
              "solidity": 0.2
             }
            },
            "type": "bar"
           }
          ],
          "barpolar": [
           {
            "marker": {
             "line": {
              "color": "#E5ECF6",
              "width": 0.5
             },
             "pattern": {
              "fillmode": "overlay",
              "size": 10,
              "solidity": 0.2
             }
            },
            "type": "barpolar"
           }
          ],
          "carpet": [
           {
            "aaxis": {
             "endlinecolor": "#2a3f5f",
             "gridcolor": "white",
             "linecolor": "white",
             "minorgridcolor": "white",
             "startlinecolor": "#2a3f5f"
            },
            "baxis": {
             "endlinecolor": "#2a3f5f",
             "gridcolor": "white",
             "linecolor": "white",
             "minorgridcolor": "white",
             "startlinecolor": "#2a3f5f"
            },
            "type": "carpet"
           }
          ],
          "choropleth": [
           {
            "colorbar": {
             "outlinewidth": 0,
             "ticks": ""
            },
            "type": "choropleth"
           }
          ],
          "contour": [
           {
            "colorbar": {
             "outlinewidth": 0,
             "ticks": ""
            },
            "colorscale": [
             [
              0,
              "#0d0887"
             ],
             [
              0.1111111111111111,
              "#46039f"
             ],
             [
              0.2222222222222222,
              "#7201a8"
             ],
             [
              0.3333333333333333,
              "#9c179e"
             ],
             [
              0.4444444444444444,
              "#bd3786"
             ],
             [
              0.5555555555555556,
              "#d8576b"
             ],
             [
              0.6666666666666666,
              "#ed7953"
             ],
             [
              0.7777777777777778,
              "#fb9f3a"
             ],
             [
              0.8888888888888888,
              "#fdca26"
             ],
             [
              1,
              "#f0f921"
             ]
            ],
            "type": "contour"
           }
          ],
          "contourcarpet": [
           {
            "colorbar": {
             "outlinewidth": 0,
             "ticks": ""
            },
            "type": "contourcarpet"
           }
          ],
          "heatmap": [
           {
            "colorbar": {
             "outlinewidth": 0,
             "ticks": ""
            },
            "colorscale": [
             [
              0,
              "#0d0887"
             ],
             [
              0.1111111111111111,
              "#46039f"
             ],
             [
              0.2222222222222222,
              "#7201a8"
             ],
             [
              0.3333333333333333,
              "#9c179e"
             ],
             [
              0.4444444444444444,
              "#bd3786"
             ],
             [
              0.5555555555555556,
              "#d8576b"
             ],
             [
              0.6666666666666666,
              "#ed7953"
             ],
             [
              0.7777777777777778,
              "#fb9f3a"
             ],
             [
              0.8888888888888888,
              "#fdca26"
             ],
             [
              1,
              "#f0f921"
             ]
            ],
            "type": "heatmap"
           }
          ],
          "heatmapgl": [
           {
            "colorbar": {
             "outlinewidth": 0,
             "ticks": ""
            },
            "colorscale": [
             [
              0,
              "#0d0887"
             ],
             [
              0.1111111111111111,
              "#46039f"
             ],
             [
              0.2222222222222222,
              "#7201a8"
             ],
             [
              0.3333333333333333,
              "#9c179e"
             ],
             [
              0.4444444444444444,
              "#bd3786"
             ],
             [
              0.5555555555555556,
              "#d8576b"
             ],
             [
              0.6666666666666666,
              "#ed7953"
             ],
             [
              0.7777777777777778,
              "#fb9f3a"
             ],
             [
              0.8888888888888888,
              "#fdca26"
             ],
             [
              1,
              "#f0f921"
             ]
            ],
            "type": "heatmapgl"
           }
          ],
          "histogram": [
           {
            "marker": {
             "pattern": {
              "fillmode": "overlay",
              "size": 10,
              "solidity": 0.2
             }
            },
            "type": "histogram"
           }
          ],
          "histogram2d": [
           {
            "colorbar": {
             "outlinewidth": 0,
             "ticks": ""
            },
            "colorscale": [
             [
              0,
              "#0d0887"
             ],
             [
              0.1111111111111111,
              "#46039f"
             ],
             [
              0.2222222222222222,
              "#7201a8"
             ],
             [
              0.3333333333333333,
              "#9c179e"
             ],
             [
              0.4444444444444444,
              "#bd3786"
             ],
             [
              0.5555555555555556,
              "#d8576b"
             ],
             [
              0.6666666666666666,
              "#ed7953"
             ],
             [
              0.7777777777777778,
              "#fb9f3a"
             ],
             [
              0.8888888888888888,
              "#fdca26"
             ],
             [
              1,
              "#f0f921"
             ]
            ],
            "type": "histogram2d"
           }
          ],
          "histogram2dcontour": [
           {
            "colorbar": {
             "outlinewidth": 0,
             "ticks": ""
            },
            "colorscale": [
             [
              0,
              "#0d0887"
             ],
             [
              0.1111111111111111,
              "#46039f"
             ],
             [
              0.2222222222222222,
              "#7201a8"
             ],
             [
              0.3333333333333333,
              "#9c179e"
             ],
             [
              0.4444444444444444,
              "#bd3786"
             ],
             [
              0.5555555555555556,
              "#d8576b"
             ],
             [
              0.6666666666666666,
              "#ed7953"
             ],
             [
              0.7777777777777778,
              "#fb9f3a"
             ],
             [
              0.8888888888888888,
              "#fdca26"
             ],
             [
              1,
              "#f0f921"
             ]
            ],
            "type": "histogram2dcontour"
           }
          ],
          "mesh3d": [
           {
            "colorbar": {
             "outlinewidth": 0,
             "ticks": ""
            },
            "type": "mesh3d"
           }
          ],
          "parcoords": [
           {
            "line": {
             "colorbar": {
              "outlinewidth": 0,
              "ticks": ""
             }
            },
            "type": "parcoords"
           }
          ],
          "pie": [
           {
            "automargin": true,
            "type": "pie"
           }
          ],
          "scatter": [
           {
            "fillpattern": {
             "fillmode": "overlay",
             "size": 10,
             "solidity": 0.2
            },
            "type": "scatter"
           }
          ],
          "scatter3d": [
           {
            "line": {
             "colorbar": {
              "outlinewidth": 0,
              "ticks": ""
             }
            },
            "marker": {
             "colorbar": {
              "outlinewidth": 0,
              "ticks": ""
             }
            },
            "type": "scatter3d"
           }
          ],
          "scattercarpet": [
           {
            "marker": {
             "colorbar": {
              "outlinewidth": 0,
              "ticks": ""
             }
            },
            "type": "scattercarpet"
           }
          ],
          "scattergeo": [
           {
            "marker": {
             "colorbar": {
              "outlinewidth": 0,
              "ticks": ""
             }
            },
            "type": "scattergeo"
           }
          ],
          "scattergl": [
           {
            "marker": {
             "colorbar": {
              "outlinewidth": 0,
              "ticks": ""
             }
            },
            "type": "scattergl"
           }
          ],
          "scattermapbox": [
           {
            "marker": {
             "colorbar": {
              "outlinewidth": 0,
              "ticks": ""
             }
            },
            "type": "scattermapbox"
           }
          ],
          "scatterpolar": [
           {
            "marker": {
             "colorbar": {
              "outlinewidth": 0,
              "ticks": ""
             }
            },
            "type": "scatterpolar"
           }
          ],
          "scatterpolargl": [
           {
            "marker": {
             "colorbar": {
              "outlinewidth": 0,
              "ticks": ""
             }
            },
            "type": "scatterpolargl"
           }
          ],
          "scatterternary": [
           {
            "marker": {
             "colorbar": {
              "outlinewidth": 0,
              "ticks": ""
             }
            },
            "type": "scatterternary"
           }
          ],
          "surface": [
           {
            "colorbar": {
             "outlinewidth": 0,
             "ticks": ""
            },
            "colorscale": [
             [
              0,
              "#0d0887"
             ],
             [
              0.1111111111111111,
              "#46039f"
             ],
             [
              0.2222222222222222,
              "#7201a8"
             ],
             [
              0.3333333333333333,
              "#9c179e"
             ],
             [
              0.4444444444444444,
              "#bd3786"
             ],
             [
              0.5555555555555556,
              "#d8576b"
             ],
             [
              0.6666666666666666,
              "#ed7953"
             ],
             [
              0.7777777777777778,
              "#fb9f3a"
             ],
             [
              0.8888888888888888,
              "#fdca26"
             ],
             [
              1,
              "#f0f921"
             ]
            ],
            "type": "surface"
           }
          ],
          "table": [
           {
            "cells": {
             "fill": {
              "color": "#EBF0F8"
             },
             "line": {
              "color": "white"
             }
            },
            "header": {
             "fill": {
              "color": "#C8D4E3"
             },
             "line": {
              "color": "white"
             }
            },
            "type": "table"
           }
          ]
         },
         "layout": {
          "annotationdefaults": {
           "arrowcolor": "#2a3f5f",
           "arrowhead": 0,
           "arrowwidth": 1
          },
          "autotypenumbers": "strict",
          "coloraxis": {
           "colorbar": {
            "outlinewidth": 0,
            "ticks": ""
           }
          },
          "colorscale": {
           "diverging": [
            [
             0,
             "#8e0152"
            ],
            [
             0.1,
             "#c51b7d"
            ],
            [
             0.2,
             "#de77ae"
            ],
            [
             0.3,
             "#f1b6da"
            ],
            [
             0.4,
             "#fde0ef"
            ],
            [
             0.5,
             "#f7f7f7"
            ],
            [
             0.6,
             "#e6f5d0"
            ],
            [
             0.7,
             "#b8e186"
            ],
            [
             0.8,
             "#7fbc41"
            ],
            [
             0.9,
             "#4d9221"
            ],
            [
             1,
             "#276419"
            ]
           ],
           "sequential": [
            [
             0,
             "#0d0887"
            ],
            [
             0.1111111111111111,
             "#46039f"
            ],
            [
             0.2222222222222222,
             "#7201a8"
            ],
            [
             0.3333333333333333,
             "#9c179e"
            ],
            [
             0.4444444444444444,
             "#bd3786"
            ],
            [
             0.5555555555555556,
             "#d8576b"
            ],
            [
             0.6666666666666666,
             "#ed7953"
            ],
            [
             0.7777777777777778,
             "#fb9f3a"
            ],
            [
             0.8888888888888888,
             "#fdca26"
            ],
            [
             1,
             "#f0f921"
            ]
           ],
           "sequentialminus": [
            [
             0,
             "#0d0887"
            ],
            [
             0.1111111111111111,
             "#46039f"
            ],
            [
             0.2222222222222222,
             "#7201a8"
            ],
            [
             0.3333333333333333,
             "#9c179e"
            ],
            [
             0.4444444444444444,
             "#bd3786"
            ],
            [
             0.5555555555555556,
             "#d8576b"
            ],
            [
             0.6666666666666666,
             "#ed7953"
            ],
            [
             0.7777777777777778,
             "#fb9f3a"
            ],
            [
             0.8888888888888888,
             "#fdca26"
            ],
            [
             1,
             "#f0f921"
            ]
           ]
          },
          "colorway": [
           "#636efa",
           "#EF553B",
           "#00cc96",
           "#ab63fa",
           "#FFA15A",
           "#19d3f3",
           "#FF6692",
           "#B6E880",
           "#FF97FF",
           "#FECB52"
          ],
          "font": {
           "color": "#2a3f5f"
          },
          "geo": {
           "bgcolor": "white",
           "lakecolor": "white",
           "landcolor": "#E5ECF6",
           "showlakes": true,
           "showland": true,
           "subunitcolor": "white"
          },
          "hoverlabel": {
           "align": "left"
          },
          "hovermode": "closest",
          "mapbox": {
           "style": "light"
          },
          "paper_bgcolor": "white",
          "plot_bgcolor": "#E5ECF6",
          "polar": {
           "angularaxis": {
            "gridcolor": "white",
            "linecolor": "white",
            "ticks": ""
           },
           "bgcolor": "#E5ECF6",
           "radialaxis": {
            "gridcolor": "white",
            "linecolor": "white",
            "ticks": ""
           }
          },
          "scene": {
           "xaxis": {
            "backgroundcolor": "#E5ECF6",
            "gridcolor": "white",
            "gridwidth": 2,
            "linecolor": "white",
            "showbackground": true,
            "ticks": "",
            "zerolinecolor": "white"
           },
           "yaxis": {
            "backgroundcolor": "#E5ECF6",
            "gridcolor": "white",
            "gridwidth": 2,
            "linecolor": "white",
            "showbackground": true,
            "ticks": "",
            "zerolinecolor": "white"
           },
           "zaxis": {
            "backgroundcolor": "#E5ECF6",
            "gridcolor": "white",
            "gridwidth": 2,
            "linecolor": "white",
            "showbackground": true,
            "ticks": "",
            "zerolinecolor": "white"
           }
          },
          "shapedefaults": {
           "line": {
            "color": "#2a3f5f"
           }
          },
          "ternary": {
           "aaxis": {
            "gridcolor": "white",
            "linecolor": "white",
            "ticks": ""
           },
           "baxis": {
            "gridcolor": "white",
            "linecolor": "white",
            "ticks": ""
           },
           "bgcolor": "#E5ECF6",
           "caxis": {
            "gridcolor": "white",
            "linecolor": "white",
            "ticks": ""
           }
          },
          "title": {
           "x": 0.05
          },
          "xaxis": {
           "automargin": true,
           "gridcolor": "white",
           "linecolor": "white",
           "ticks": "",
           "title": {
            "standoff": 15
           },
           "zerolinecolor": "white",
           "zerolinewidth": 2
          },
          "yaxis": {
           "automargin": true,
           "gridcolor": "white",
           "linecolor": "white",
           "ticks": "",
           "title": {
            "standoff": 15
           },
           "zerolinecolor": "white",
           "zerolinewidth": 2
          }
         }
        },
        "title": {
         "font": {
          "color": "#4D5663"
         }
        },
        "xaxis": {
         "gridcolor": "#E1E5ED",
         "showgrid": true,
         "tickfont": {
          "color": "#4D5663"
         },
         "title": {
          "font": {
           "color": "#4D5663"
          },
          "text": ""
         },
         "zerolinecolor": "#E1E5ED"
        },
        "yaxis": {
         "gridcolor": "#E1E5ED",
         "showgrid": true,
         "tickfont": {
          "color": "#4D5663"
         },
         "title": {
          "font": {
           "color": "#4D5663"
          },
          "text": ""
         },
         "zerolinecolor": "#E1E5ED"
        }
       }
      },
      "text/html": [
       "<div>                            <div id=\"6e60368f-536c-4772-bb6d-8a8fd3236581\" class=\"plotly-graph-div\" style=\"height:525px; width:100%;\"></div>            <script type=\"text/javascript\">                require([\"plotly\"], function(Plotly) {                    window.PLOTLYENV=window.PLOTLYENV || {};\n",
       "                    window.PLOTLYENV.BASE_URL='https://plot.ly';                                    if (document.getElementById(\"6e60368f-536c-4772-bb6d-8a8fd3236581\")) {                    Plotly.newPlot(                        \"6e60368f-536c-4772-bb6d-8a8fd3236581\",                        [{\"boxpoints\":false,\"line\":{\"width\":1.3},\"marker\":{\"color\":\"rgba(255, 153, 51, 1.0)\"},\"name\":\"A\",\"orientation\":\"v\",\"y\":[-1.0520499660805134,-0.6395256708852439,-0.33434764741888273,-0.602102263802253,0.3275992110293282,-0.8517119727079342,0.4823647677292349,-0.6733753513218748,1.0663693192389487,-0.6674469283977741,-0.1555538710682971,0.982078463400281,0.5605995734508707,-1.5992430724659148,-0.4863413205475636,-1.635285837548092,1.3935076424093102,1.7941318056056335,0.5341913789906737,-0.9524975663306507,-0.4573351632944464,1.1177083797834142,-0.5706607672093532,0.7867354928231047,0.07981317429930133,-0.6349940715278921,1.5425662192838554,-0.6132422783945425,0.15544048184803386,0.9192445510904795,-1.7359719590500762,-1.9119274895922669,0.6944479962123283,0.3532145001978853,-1.0600796071503271,-0.5334678844301335,-0.6394875240041487,0.3128946201121304,0.016069119234565766,-1.5744316004386434,0.7344487377210069,0.7193287039929793,0.4812823931213064,-0.24678614971224266,-0.2905274885290895,-0.1003666244799347,0.2183659952290479,-2.319740663802171,-0.6745518951897882,0.29578338730627296,0.027684720711771665,0.6195480439047139,0.6876980075689124,-1.1798993200458125,1.1244893859000014,0.5280412892103941,-0.6001297370928859,-0.027008110814554072,-0.2748635223706462,1.4138169456342016,-0.9151732693883676,-0.4134435108103696,0.9255576517778622,0.860868531480433,1.758016656113904,1.6783618939930056,0.06869043899424485,0.6937178925305963,-0.8760537876530695,0.9102278415320038,0.7191692678149171,-0.4913169243308279,1.2337987142169284,0.7956878705772449,1.371542963623464,-1.343501561614963,1.0118949910662463,1.1658612878341348,-0.6928552283460352,-0.4687295487764381,-0.8757314396497151,-0.3643879992119797,0.811605819362338,-0.42095946538411305,-0.9898935045710047,0.7334033677693634,-0.19290472361161884,1.8143264562579273,0.8281944946575908,0.4854377119690578,0.5615674241389551,0.30512951708273917,-0.2966780672407173,2.3797154891776886,1.4080321570020835,-1.03463191031649,-1.941093118397556,-0.5620252053886859,-0.7270510460295249,0.10178198219108311],\"type\":\"box\"},{\"boxpoints\":false,\"line\":{\"width\":1.3},\"marker\":{\"color\":\"rgba(55, 128, 191, 1.0)\"},\"name\":\"B\",\"orientation\":\"v\",\"y\":[-0.5756640459082741,0.5987981212644335,-0.7783665585217159,-0.09573196409819089,-0.14284747496470035,1.1566851064970056,0.14205945762224648,0.9925438822429384,-1.4205067005147545,-0.4243133975107277,0.2046316406674326,-0.8664033231860435,0.30018363681115173,0.7012726412626394,-0.5832744366644343,-1.9611912132619702,-1.2865690654113124,0.2805418321787577,0.5712498729810047,-0.6776239869439911,0.3316361158392233,-0.14461439325213005,-1.0410638673782593,-0.4080654043631619,-0.00631491901211208,0.654337983442778,0.04670538856144417,0.4891070888438266,-1.2277858127245984,-1.5325129450673443,1.2514271194867919,-0.6784529656249904,0.8507471393458212,0.3524385390065126,0.6553698989078516,-1.0598696128958636,-0.5655967775632145,1.1038885195167987,0.51412957783871,-1.03444943752192,-0.5231942655733847,-0.8380629336724287,1.903096658084694,0.4168137650785216,-0.4997398212243618,1.4029778201285397,0.8105226854959072,-1.7054169577749274,0.4605260705984755,-0.9824384505992422,-3.224746706249651,-0.6689949803255751,1.136152225459386,0.5680385123690971,0.7065628304892786,-0.42374809536258623,-0.8945591138218476,1.3206984539123967,-1.047728278006352,0.22476929272194288,-0.0009414573889848483,-0.01541225142410007,0.8263022924568258,0.42637279096367314,0.7989305066857885,-0.9789730984372811,-0.07071920797599111,-0.6115527255986463,-1.251525922052416,0.6676854765757444,1.9869694622253653,1.5658607072704804,-0.4186693946248924,-0.40628885793212743,1.5568244944045366,-0.7326242574894654,0.37958514924466513,-0.1783531218270007,-1.4160686077684221,0.4077861201653217,1.866778069209306,-1.0186822996845648,0.8993809357600041,-0.29568521043114,-0.47082542872155764,0.7282529986227604,0.06269962361015688,-0.3591244801120115,-0.28395660057604427,0.5295132537184689,-0.8352707178155664,0.3743707004534908,-0.31130372186525196,-0.7747932469996983,1.2259633383494222,-0.4464779411147586,0.996920839179652,0.20800829553317293,0.1858285403997541,-1.5192392350514088],\"type\":\"box\"},{\"boxpoints\":false,\"line\":{\"width\":1.3},\"marker\":{\"color\":\"rgba(50, 171, 96, 1.0)\"},\"name\":\"C\",\"orientation\":\"v\",\"y\":[-0.5819334923709587,-0.20535185346047247,0.46495722193269035,1.0070083228749713,-1.9374996309320467,-1.8541871881835001,-0.848496434101706,0.45974409273358985,-0.42962749274340156,0.7692492026076733,0.6928099983210566,-0.06208913376574852,-1.0053623155890632,0.007044029659171979,-0.6959485236317551,0.16773342407984793,0.4414972998112349,1.1882019964628374,-0.19853533442373375,0.3267154299617585,0.26714306155641165,-0.8955268783525614,-0.27288703912797035,0.39275060553488506,0.7115752608323191,0.7739850163751817,0.1775505555193976,-0.6086922158505274,-0.6294228912057446,-0.3894360632509466,-1.2076184402578136,3.0053123500080563,-1.5754072359244329,0.9081520007417977,0.41550855556638033,-0.8513454002492441,-1.1326100992100343,1.0146364521051245,0.3499554555995428,-0.18271749072119908,-1.3828375182730765,0.06925941812907539,-0.19944910235226446,0.28659471060857167,0.431064112970978,0.44260910684426763,1.2723582047994717,0.15314586765388086,-0.9177936069592793,0.3872575875906056,1.353121625137218,-0.854219028152435,0.6594533648064694,0.3192636945692223,-1.1155131217634007,-2.1766829042957143,-0.3998026993553559,0.10033839956286841,0.0015704263412207665,0.7967668240914113,0.4700248884500916,0.6766821536944682,-0.7350572401590547,1.663609236900145,-1.4250134126719334,-0.722653969919067,-0.61533551687048,-1.248779331333013,0.12473013029526318,-1.5055610854030745,-1.169929557726273,0.49176966267461564,-0.43076836408784097,-0.5615642090678576,-1.0749653716673913,0.14688846542818107,0.6169536007402349,0.34337017267739983,-0.21718300793707138,-0.3725730120890333,0.1631074630424868,-1.6531956150206424,-0.7909997606036744,-2.477105350291788,1.416172153010682,-0.058421198865491235,-0.9317774772046867,1.78265714700381,-0.9900013276270953,1.5728132878672307,1.1325937740258523,-1.1199356407596541,2.379674994438924,2.080399997501075,-0.6534166903005675,0.4672977861022814,0.8744911814364437,-1.6692849310609135,-1.7115761965081926,0.3828922611526809],\"type\":\"box\"},{\"boxpoints\":false,\"line\":{\"width\":1.3},\"marker\":{\"color\":\"rgba(128, 0, 128, 1.0)\"},\"name\":\"D\",\"orientation\":\"v\",\"y\":[0.9277319196502233,-0.12536008250933575,-0.12107125297344493,-0.8232707716494212,0.0664355796174163,-1.0678908297985703,0.0771054637995535,-0.051419097373521905,0.8336144416442017,-0.235139942535916,0.17619034695555033,2.0262920079966684,1.9755131430698687,-0.9611065737485338,-0.15006797456552856,0.11044491010489915,-0.4376965493761567,-1.5631316393241954,0.1471186920291873,-1.1640011834330464,0.4258943442374219,1.2146088757256255,0.7735049289379338,0.7082704771945506,0.11701812225321552,-0.15847090018087553,1.0719554689341357,-0.46749993915361393,0.16249504661882275,0.7356303076485307,-0.47825963665381,0.5706434066808811,0.3426791200908702,-0.1134673865337506,-1.1581329453850489,-0.6121034811396447,1.2680418810575937,-1.0479312107585474,0.15348820995902268,0.514842534562817,0.49451618938625846,1.6208723713139663,-0.25548314383520526,0.5374303675035457,-0.582559486730231,0.3586512893294155,-0.47962465951319494,0.2647371692605464,-0.47771343959240603,-0.7017403951073233,-0.034630588932819464,1.6522890087900828,0.5581153890731325,1.2058044077410321,-0.49446560660305783,-0.6736574987752219,-1.4315440524134833,-1.3562113280827872,-0.806985630376175,0.04536848363326349,-1.4830070051596294,0.4549646595345361,-0.48559025918958065,0.4561273132929846,-0.9969847859936918,-0.017345009789463923,-0.45243254887684414,1.3526888226060534,0.24175626611159212,1.5767487666136768,-1.3789565966868544,0.24661436799681344,0.43095305560163444,-1.1287038083661936,1.0868511602946072,0.3097320823328397,0.5923187864201388,0.3578463427763317,-1.4342376241981762,0.1907973388784022,1.2935339400068324,-1.7901698150670595,-0.933527031679027,1.678288570633211,0.01884053700803777,0.5652059967893183,-1.5100447146004006,-0.14949401638016677,2.0300286353463854,-2.072940206901961,2.3421377329868496,1.4888237344503232,-2.0842945390943983,0.5537941026885076,0.5471328253270026,0.6234422409414835,0.7736632900800269,0.3957359267460818,-0.40036226897897575,0.396793570420886],\"type\":\"box\"}],                        {\"legend\":{\"bgcolor\":\"#F5F6F9\",\"font\":{\"color\":\"#4D5663\"}},\"paper_bgcolor\":\"#F5F6F9\",\"plot_bgcolor\":\"#F5F6F9\",\"template\":{\"data\":{\"barpolar\":[{\"marker\":{\"line\":{\"color\":\"#E5ECF6\",\"width\":0.5},\"pattern\":{\"fillmode\":\"overlay\",\"size\":10,\"solidity\":0.2}},\"type\":\"barpolar\"}],\"bar\":[{\"error_x\":{\"color\":\"#2a3f5f\"},\"error_y\":{\"color\":\"#2a3f5f\"},\"marker\":{\"line\":{\"color\":\"#E5ECF6\",\"width\":0.5},\"pattern\":{\"fillmode\":\"overlay\",\"size\":10,\"solidity\":0.2}},\"type\":\"bar\"}],\"carpet\":[{\"aaxis\":{\"endlinecolor\":\"#2a3f5f\",\"gridcolor\":\"white\",\"linecolor\":\"white\",\"minorgridcolor\":\"white\",\"startlinecolor\":\"#2a3f5f\"},\"baxis\":{\"endlinecolor\":\"#2a3f5f\",\"gridcolor\":\"white\",\"linecolor\":\"white\",\"minorgridcolor\":\"white\",\"startlinecolor\":\"#2a3f5f\"},\"type\":\"carpet\"}],\"choropleth\":[{\"colorbar\":{\"outlinewidth\":0,\"ticks\":\"\"},\"type\":\"choropleth\"}],\"contourcarpet\":[{\"colorbar\":{\"outlinewidth\":0,\"ticks\":\"\"},\"type\":\"contourcarpet\"}],\"contour\":[{\"colorbar\":{\"outlinewidth\":0,\"ticks\":\"\"},\"colorscale\":[[0.0,\"#0d0887\"],[0.1111111111111111,\"#46039f\"],[0.2222222222222222,\"#7201a8\"],[0.3333333333333333,\"#9c179e\"],[0.4444444444444444,\"#bd3786\"],[0.5555555555555556,\"#d8576b\"],[0.6666666666666666,\"#ed7953\"],[0.7777777777777778,\"#fb9f3a\"],[0.8888888888888888,\"#fdca26\"],[1.0,\"#f0f921\"]],\"type\":\"contour\"}],\"heatmapgl\":[{\"colorbar\":{\"outlinewidth\":0,\"ticks\":\"\"},\"colorscale\":[[0.0,\"#0d0887\"],[0.1111111111111111,\"#46039f\"],[0.2222222222222222,\"#7201a8\"],[0.3333333333333333,\"#9c179e\"],[0.4444444444444444,\"#bd3786\"],[0.5555555555555556,\"#d8576b\"],[0.6666666666666666,\"#ed7953\"],[0.7777777777777778,\"#fb9f3a\"],[0.8888888888888888,\"#fdca26\"],[1.0,\"#f0f921\"]],\"type\":\"heatmapgl\"}],\"heatmap\":[{\"colorbar\":{\"outlinewidth\":0,\"ticks\":\"\"},\"colorscale\":[[0.0,\"#0d0887\"],[0.1111111111111111,\"#46039f\"],[0.2222222222222222,\"#7201a8\"],[0.3333333333333333,\"#9c179e\"],[0.4444444444444444,\"#bd3786\"],[0.5555555555555556,\"#d8576b\"],[0.6666666666666666,\"#ed7953\"],[0.7777777777777778,\"#fb9f3a\"],[0.8888888888888888,\"#fdca26\"],[1.0,\"#f0f921\"]],\"type\":\"heatmap\"}],\"histogram2dcontour\":[{\"colorbar\":{\"outlinewidth\":0,\"ticks\":\"\"},\"colorscale\":[[0.0,\"#0d0887\"],[0.1111111111111111,\"#46039f\"],[0.2222222222222222,\"#7201a8\"],[0.3333333333333333,\"#9c179e\"],[0.4444444444444444,\"#bd3786\"],[0.5555555555555556,\"#d8576b\"],[0.6666666666666666,\"#ed7953\"],[0.7777777777777778,\"#fb9f3a\"],[0.8888888888888888,\"#fdca26\"],[1.0,\"#f0f921\"]],\"type\":\"histogram2dcontour\"}],\"histogram2d\":[{\"colorbar\":{\"outlinewidth\":0,\"ticks\":\"\"},\"colorscale\":[[0.0,\"#0d0887\"],[0.1111111111111111,\"#46039f\"],[0.2222222222222222,\"#7201a8\"],[0.3333333333333333,\"#9c179e\"],[0.4444444444444444,\"#bd3786\"],[0.5555555555555556,\"#d8576b\"],[0.6666666666666666,\"#ed7953\"],[0.7777777777777778,\"#fb9f3a\"],[0.8888888888888888,\"#fdca26\"],[1.0,\"#f0f921\"]],\"type\":\"histogram2d\"}],\"histogram\":[{\"marker\":{\"pattern\":{\"fillmode\":\"overlay\",\"size\":10,\"solidity\":0.2}},\"type\":\"histogram\"}],\"mesh3d\":[{\"colorbar\":{\"outlinewidth\":0,\"ticks\":\"\"},\"type\":\"mesh3d\"}],\"parcoords\":[{\"line\":{\"colorbar\":{\"outlinewidth\":0,\"ticks\":\"\"}},\"type\":\"parcoords\"}],\"pie\":[{\"automargin\":true,\"type\":\"pie\"}],\"scatter3d\":[{\"line\":{\"colorbar\":{\"outlinewidth\":0,\"ticks\":\"\"}},\"marker\":{\"colorbar\":{\"outlinewidth\":0,\"ticks\":\"\"}},\"type\":\"scatter3d\"}],\"scattercarpet\":[{\"marker\":{\"colorbar\":{\"outlinewidth\":0,\"ticks\":\"\"}},\"type\":\"scattercarpet\"}],\"scattergeo\":[{\"marker\":{\"colorbar\":{\"outlinewidth\":0,\"ticks\":\"\"}},\"type\":\"scattergeo\"}],\"scattergl\":[{\"marker\":{\"colorbar\":{\"outlinewidth\":0,\"ticks\":\"\"}},\"type\":\"scattergl\"}],\"scattermapbox\":[{\"marker\":{\"colorbar\":{\"outlinewidth\":0,\"ticks\":\"\"}},\"type\":\"scattermapbox\"}],\"scatterpolargl\":[{\"marker\":{\"colorbar\":{\"outlinewidth\":0,\"ticks\":\"\"}},\"type\":\"scatterpolargl\"}],\"scatterpolar\":[{\"marker\":{\"colorbar\":{\"outlinewidth\":0,\"ticks\":\"\"}},\"type\":\"scatterpolar\"}],\"scatter\":[{\"fillpattern\":{\"fillmode\":\"overlay\",\"size\":10,\"solidity\":0.2},\"type\":\"scatter\"}],\"scatterternary\":[{\"marker\":{\"colorbar\":{\"outlinewidth\":0,\"ticks\":\"\"}},\"type\":\"scatterternary\"}],\"surface\":[{\"colorbar\":{\"outlinewidth\":0,\"ticks\":\"\"},\"colorscale\":[[0.0,\"#0d0887\"],[0.1111111111111111,\"#46039f\"],[0.2222222222222222,\"#7201a8\"],[0.3333333333333333,\"#9c179e\"],[0.4444444444444444,\"#bd3786\"],[0.5555555555555556,\"#d8576b\"],[0.6666666666666666,\"#ed7953\"],[0.7777777777777778,\"#fb9f3a\"],[0.8888888888888888,\"#fdca26\"],[1.0,\"#f0f921\"]],\"type\":\"surface\"}],\"table\":[{\"cells\":{\"fill\":{\"color\":\"#EBF0F8\"},\"line\":{\"color\":\"white\"}},\"header\":{\"fill\":{\"color\":\"#C8D4E3\"},\"line\":{\"color\":\"white\"}},\"type\":\"table\"}]},\"layout\":{\"annotationdefaults\":{\"arrowcolor\":\"#2a3f5f\",\"arrowhead\":0,\"arrowwidth\":1},\"autotypenumbers\":\"strict\",\"coloraxis\":{\"colorbar\":{\"outlinewidth\":0,\"ticks\":\"\"}},\"colorscale\":{\"diverging\":[[0,\"#8e0152\"],[0.1,\"#c51b7d\"],[0.2,\"#de77ae\"],[0.3,\"#f1b6da\"],[0.4,\"#fde0ef\"],[0.5,\"#f7f7f7\"],[0.6,\"#e6f5d0\"],[0.7,\"#b8e186\"],[0.8,\"#7fbc41\"],[0.9,\"#4d9221\"],[1,\"#276419\"]],\"sequential\":[[0.0,\"#0d0887\"],[0.1111111111111111,\"#46039f\"],[0.2222222222222222,\"#7201a8\"],[0.3333333333333333,\"#9c179e\"],[0.4444444444444444,\"#bd3786\"],[0.5555555555555556,\"#d8576b\"],[0.6666666666666666,\"#ed7953\"],[0.7777777777777778,\"#fb9f3a\"],[0.8888888888888888,\"#fdca26\"],[1.0,\"#f0f921\"]],\"sequentialminus\":[[0.0,\"#0d0887\"],[0.1111111111111111,\"#46039f\"],[0.2222222222222222,\"#7201a8\"],[0.3333333333333333,\"#9c179e\"],[0.4444444444444444,\"#bd3786\"],[0.5555555555555556,\"#d8576b\"],[0.6666666666666666,\"#ed7953\"],[0.7777777777777778,\"#fb9f3a\"],[0.8888888888888888,\"#fdca26\"],[1.0,\"#f0f921\"]]},\"colorway\":[\"#636efa\",\"#EF553B\",\"#00cc96\",\"#ab63fa\",\"#FFA15A\",\"#19d3f3\",\"#FF6692\",\"#B6E880\",\"#FF97FF\",\"#FECB52\"],\"font\":{\"color\":\"#2a3f5f\"},\"geo\":{\"bgcolor\":\"white\",\"lakecolor\":\"white\",\"landcolor\":\"#E5ECF6\",\"showlakes\":true,\"showland\":true,\"subunitcolor\":\"white\"},\"hoverlabel\":{\"align\":\"left\"},\"hovermode\":\"closest\",\"mapbox\":{\"style\":\"light\"},\"paper_bgcolor\":\"white\",\"plot_bgcolor\":\"#E5ECF6\",\"polar\":{\"angularaxis\":{\"gridcolor\":\"white\",\"linecolor\":\"white\",\"ticks\":\"\"},\"bgcolor\":\"#E5ECF6\",\"radialaxis\":{\"gridcolor\":\"white\",\"linecolor\":\"white\",\"ticks\":\"\"}},\"scene\":{\"xaxis\":{\"backgroundcolor\":\"#E5ECF6\",\"gridcolor\":\"white\",\"gridwidth\":2,\"linecolor\":\"white\",\"showbackground\":true,\"ticks\":\"\",\"zerolinecolor\":\"white\"},\"yaxis\":{\"backgroundcolor\":\"#E5ECF6\",\"gridcolor\":\"white\",\"gridwidth\":2,\"linecolor\":\"white\",\"showbackground\":true,\"ticks\":\"\",\"zerolinecolor\":\"white\"},\"zaxis\":{\"backgroundcolor\":\"#E5ECF6\",\"gridcolor\":\"white\",\"gridwidth\":2,\"linecolor\":\"white\",\"showbackground\":true,\"ticks\":\"\",\"zerolinecolor\":\"white\"}},\"shapedefaults\":{\"line\":{\"color\":\"#2a3f5f\"}},\"ternary\":{\"aaxis\":{\"gridcolor\":\"white\",\"linecolor\":\"white\",\"ticks\":\"\"},\"baxis\":{\"gridcolor\":\"white\",\"linecolor\":\"white\",\"ticks\":\"\"},\"bgcolor\":\"#E5ECF6\",\"caxis\":{\"gridcolor\":\"white\",\"linecolor\":\"white\",\"ticks\":\"\"}},\"title\":{\"x\":0.05},\"xaxis\":{\"automargin\":true,\"gridcolor\":\"white\",\"linecolor\":\"white\",\"ticks\":\"\",\"title\":{\"standoff\":15},\"zerolinecolor\":\"white\",\"zerolinewidth\":2},\"yaxis\":{\"automargin\":true,\"gridcolor\":\"white\",\"linecolor\":\"white\",\"ticks\":\"\",\"title\":{\"standoff\":15},\"zerolinecolor\":\"white\",\"zerolinewidth\":2}}},\"title\":{\"font\":{\"color\":\"#4D5663\"}},\"xaxis\":{\"gridcolor\":\"#E1E5ED\",\"showgrid\":true,\"tickfont\":{\"color\":\"#4D5663\"},\"title\":{\"font\":{\"color\":\"#4D5663\"},\"text\":\"\"},\"zerolinecolor\":\"#E1E5ED\"},\"yaxis\":{\"gridcolor\":\"#E1E5ED\",\"showgrid\":true,\"tickfont\":{\"color\":\"#4D5663\"},\"title\":{\"font\":{\"color\":\"#4D5663\"},\"text\":\"\"},\"zerolinecolor\":\"#E1E5ED\"}},                        {\"showLink\": true, \"linkText\": \"Export to plot.ly\", \"plotlyServerURL\": \"https://plot.ly\", \"responsive\": true}                    ).then(function(){\n",
       "                            \n",
       "var gd = document.getElementById('6e60368f-536c-4772-bb6d-8a8fd3236581');\n",
       "var x = new MutationObserver(function (mutations, observer) {{\n",
       "        var display = window.getComputedStyle(gd).display;\n",
       "        if (!display || display === 'none') {{\n",
       "            console.log([gd, 'removed!']);\n",
       "            Plotly.purge(gd);\n",
       "            observer.disconnect();\n",
       "        }}\n",
       "}});\n",
       "\n",
       "// Listen for the removal of the full notebook cells\n",
       "var notebookContainer = gd.closest('#notebook-container');\n",
       "if (notebookContainer) {{\n",
       "    x.observe(notebookContainer, {childList: true});\n",
       "}}\n",
       "\n",
       "// Listen for the clearing of the current output cell\n",
       "var outputEl = gd.closest('.output');\n",
       "if (outputEl) {{\n",
       "    x.observe(outputEl, {childList: true});\n",
       "}}\n",
       "\n",
       "                        })                };                });            </script>        </div>"
      ]
     },
     "metadata": {},
     "output_type": "display_data"
    }
   ],
   "source": [
    "df.iplot(kind='box')"
   ]
  },
  {
   "cell_type": "markdown",
   "metadata": {},
   "source": [
    "## 3d Surface"
   ]
  },
  {
   "cell_type": "code",
   "execution_count": 14,
   "metadata": {},
   "outputs": [
    {
     "data": {
      "application/vnd.plotly.v1+json": {
       "config": {
        "linkText": "Export to plot.ly",
        "plotlyServerURL": "https://plot.ly",
        "showLink": true
       },
       "data": [
        {
         "colorscale": [
          [
           0,
           "rgb(165,0,38)"
          ],
          [
           0.1,
           "rgb(215,48,39)"
          ],
          [
           0.2,
           "rgb(244,109,67)"
          ],
          [
           0.3,
           "rgb(253,174,97)"
          ],
          [
           0.4,
           "rgb(254,224,144)"
          ],
          [
           0.5,
           "rgb(255,255,191)"
          ],
          [
           0.6,
           "rgb(224,243,248)"
          ],
          [
           0.7,
           "rgb(171,217,233)"
          ],
          [
           0.8,
           "rgb(116,173,209)"
          ],
          [
           0.9,
           "rgb(69,117,180)"
          ],
          [
           1,
           "rgb(49,54,149)"
          ]
         ],
         "type": "surface",
         "x": [
          0,
          1,
          2,
          3,
          4
         ],
         "y": [
          "x",
          "y",
          "z"
         ],
         "z": [
          [
           1,
           2,
           3,
           4,
           5
          ],
          [
           10,
           20,
           30,
           20,
           10
          ],
          [
           5,
           4,
           3,
           2,
           1
          ]
         ]
        }
       ],
       "layout": {
        "legend": {
         "bgcolor": "#F5F6F9",
         "font": {
          "color": "#4D5663"
         }
        },
        "paper_bgcolor": "#F5F6F9",
        "plot_bgcolor": "#F5F6F9",
        "template": {
         "data": {
          "bar": [
           {
            "error_x": {
             "color": "#2a3f5f"
            },
            "error_y": {
             "color": "#2a3f5f"
            },
            "marker": {
             "line": {
              "color": "#E5ECF6",
              "width": 0.5
             },
             "pattern": {
              "fillmode": "overlay",
              "size": 10,
              "solidity": 0.2
             }
            },
            "type": "bar"
           }
          ],
          "barpolar": [
           {
            "marker": {
             "line": {
              "color": "#E5ECF6",
              "width": 0.5
             },
             "pattern": {
              "fillmode": "overlay",
              "size": 10,
              "solidity": 0.2
             }
            },
            "type": "barpolar"
           }
          ],
          "carpet": [
           {
            "aaxis": {
             "endlinecolor": "#2a3f5f",
             "gridcolor": "white",
             "linecolor": "white",
             "minorgridcolor": "white",
             "startlinecolor": "#2a3f5f"
            },
            "baxis": {
             "endlinecolor": "#2a3f5f",
             "gridcolor": "white",
             "linecolor": "white",
             "minorgridcolor": "white",
             "startlinecolor": "#2a3f5f"
            },
            "type": "carpet"
           }
          ],
          "choropleth": [
           {
            "colorbar": {
             "outlinewidth": 0,
             "ticks": ""
            },
            "type": "choropleth"
           }
          ],
          "contour": [
           {
            "colorbar": {
             "outlinewidth": 0,
             "ticks": ""
            },
            "colorscale": [
             [
              0,
              "#0d0887"
             ],
             [
              0.1111111111111111,
              "#46039f"
             ],
             [
              0.2222222222222222,
              "#7201a8"
             ],
             [
              0.3333333333333333,
              "#9c179e"
             ],
             [
              0.4444444444444444,
              "#bd3786"
             ],
             [
              0.5555555555555556,
              "#d8576b"
             ],
             [
              0.6666666666666666,
              "#ed7953"
             ],
             [
              0.7777777777777778,
              "#fb9f3a"
             ],
             [
              0.8888888888888888,
              "#fdca26"
             ],
             [
              1,
              "#f0f921"
             ]
            ],
            "type": "contour"
           }
          ],
          "contourcarpet": [
           {
            "colorbar": {
             "outlinewidth": 0,
             "ticks": ""
            },
            "type": "contourcarpet"
           }
          ],
          "heatmap": [
           {
            "colorbar": {
             "outlinewidth": 0,
             "ticks": ""
            },
            "colorscale": [
             [
              0,
              "#0d0887"
             ],
             [
              0.1111111111111111,
              "#46039f"
             ],
             [
              0.2222222222222222,
              "#7201a8"
             ],
             [
              0.3333333333333333,
              "#9c179e"
             ],
             [
              0.4444444444444444,
              "#bd3786"
             ],
             [
              0.5555555555555556,
              "#d8576b"
             ],
             [
              0.6666666666666666,
              "#ed7953"
             ],
             [
              0.7777777777777778,
              "#fb9f3a"
             ],
             [
              0.8888888888888888,
              "#fdca26"
             ],
             [
              1,
              "#f0f921"
             ]
            ],
            "type": "heatmap"
           }
          ],
          "heatmapgl": [
           {
            "colorbar": {
             "outlinewidth": 0,
             "ticks": ""
            },
            "colorscale": [
             [
              0,
              "#0d0887"
             ],
             [
              0.1111111111111111,
              "#46039f"
             ],
             [
              0.2222222222222222,
              "#7201a8"
             ],
             [
              0.3333333333333333,
              "#9c179e"
             ],
             [
              0.4444444444444444,
              "#bd3786"
             ],
             [
              0.5555555555555556,
              "#d8576b"
             ],
             [
              0.6666666666666666,
              "#ed7953"
             ],
             [
              0.7777777777777778,
              "#fb9f3a"
             ],
             [
              0.8888888888888888,
              "#fdca26"
             ],
             [
              1,
              "#f0f921"
             ]
            ],
            "type": "heatmapgl"
           }
          ],
          "histogram": [
           {
            "marker": {
             "pattern": {
              "fillmode": "overlay",
              "size": 10,
              "solidity": 0.2
             }
            },
            "type": "histogram"
           }
          ],
          "histogram2d": [
           {
            "colorbar": {
             "outlinewidth": 0,
             "ticks": ""
            },
            "colorscale": [
             [
              0,
              "#0d0887"
             ],
             [
              0.1111111111111111,
              "#46039f"
             ],
             [
              0.2222222222222222,
              "#7201a8"
             ],
             [
              0.3333333333333333,
              "#9c179e"
             ],
             [
              0.4444444444444444,
              "#bd3786"
             ],
             [
              0.5555555555555556,
              "#d8576b"
             ],
             [
              0.6666666666666666,
              "#ed7953"
             ],
             [
              0.7777777777777778,
              "#fb9f3a"
             ],
             [
              0.8888888888888888,
              "#fdca26"
             ],
             [
              1,
              "#f0f921"
             ]
            ],
            "type": "histogram2d"
           }
          ],
          "histogram2dcontour": [
           {
            "colorbar": {
             "outlinewidth": 0,
             "ticks": ""
            },
            "colorscale": [
             [
              0,
              "#0d0887"
             ],
             [
              0.1111111111111111,
              "#46039f"
             ],
             [
              0.2222222222222222,
              "#7201a8"
             ],
             [
              0.3333333333333333,
              "#9c179e"
             ],
             [
              0.4444444444444444,
              "#bd3786"
             ],
             [
              0.5555555555555556,
              "#d8576b"
             ],
             [
              0.6666666666666666,
              "#ed7953"
             ],
             [
              0.7777777777777778,
              "#fb9f3a"
             ],
             [
              0.8888888888888888,
              "#fdca26"
             ],
             [
              1,
              "#f0f921"
             ]
            ],
            "type": "histogram2dcontour"
           }
          ],
          "mesh3d": [
           {
            "colorbar": {
             "outlinewidth": 0,
             "ticks": ""
            },
            "type": "mesh3d"
           }
          ],
          "parcoords": [
           {
            "line": {
             "colorbar": {
              "outlinewidth": 0,
              "ticks": ""
             }
            },
            "type": "parcoords"
           }
          ],
          "pie": [
           {
            "automargin": true,
            "type": "pie"
           }
          ],
          "scatter": [
           {
            "fillpattern": {
             "fillmode": "overlay",
             "size": 10,
             "solidity": 0.2
            },
            "type": "scatter"
           }
          ],
          "scatter3d": [
           {
            "line": {
             "colorbar": {
              "outlinewidth": 0,
              "ticks": ""
             }
            },
            "marker": {
             "colorbar": {
              "outlinewidth": 0,
              "ticks": ""
             }
            },
            "type": "scatter3d"
           }
          ],
          "scattercarpet": [
           {
            "marker": {
             "colorbar": {
              "outlinewidth": 0,
              "ticks": ""
             }
            },
            "type": "scattercarpet"
           }
          ],
          "scattergeo": [
           {
            "marker": {
             "colorbar": {
              "outlinewidth": 0,
              "ticks": ""
             }
            },
            "type": "scattergeo"
           }
          ],
          "scattergl": [
           {
            "marker": {
             "colorbar": {
              "outlinewidth": 0,
              "ticks": ""
             }
            },
            "type": "scattergl"
           }
          ],
          "scattermapbox": [
           {
            "marker": {
             "colorbar": {
              "outlinewidth": 0,
              "ticks": ""
             }
            },
            "type": "scattermapbox"
           }
          ],
          "scatterpolar": [
           {
            "marker": {
             "colorbar": {
              "outlinewidth": 0,
              "ticks": ""
             }
            },
            "type": "scatterpolar"
           }
          ],
          "scatterpolargl": [
           {
            "marker": {
             "colorbar": {
              "outlinewidth": 0,
              "ticks": ""
             }
            },
            "type": "scatterpolargl"
           }
          ],
          "scatterternary": [
           {
            "marker": {
             "colorbar": {
              "outlinewidth": 0,
              "ticks": ""
             }
            },
            "type": "scatterternary"
           }
          ],
          "surface": [
           {
            "colorbar": {
             "outlinewidth": 0,
             "ticks": ""
            },
            "colorscale": [
             [
              0,
              "#0d0887"
             ],
             [
              0.1111111111111111,
              "#46039f"
             ],
             [
              0.2222222222222222,
              "#7201a8"
             ],
             [
              0.3333333333333333,
              "#9c179e"
             ],
             [
              0.4444444444444444,
              "#bd3786"
             ],
             [
              0.5555555555555556,
              "#d8576b"
             ],
             [
              0.6666666666666666,
              "#ed7953"
             ],
             [
              0.7777777777777778,
              "#fb9f3a"
             ],
             [
              0.8888888888888888,
              "#fdca26"
             ],
             [
              1,
              "#f0f921"
             ]
            ],
            "type": "surface"
           }
          ],
          "table": [
           {
            "cells": {
             "fill": {
              "color": "#EBF0F8"
             },
             "line": {
              "color": "white"
             }
            },
            "header": {
             "fill": {
              "color": "#C8D4E3"
             },
             "line": {
              "color": "white"
             }
            },
            "type": "table"
           }
          ]
         },
         "layout": {
          "annotationdefaults": {
           "arrowcolor": "#2a3f5f",
           "arrowhead": 0,
           "arrowwidth": 1
          },
          "autotypenumbers": "strict",
          "coloraxis": {
           "colorbar": {
            "outlinewidth": 0,
            "ticks": ""
           }
          },
          "colorscale": {
           "diverging": [
            [
             0,
             "#8e0152"
            ],
            [
             0.1,
             "#c51b7d"
            ],
            [
             0.2,
             "#de77ae"
            ],
            [
             0.3,
             "#f1b6da"
            ],
            [
             0.4,
             "#fde0ef"
            ],
            [
             0.5,
             "#f7f7f7"
            ],
            [
             0.6,
             "#e6f5d0"
            ],
            [
             0.7,
             "#b8e186"
            ],
            [
             0.8,
             "#7fbc41"
            ],
            [
             0.9,
             "#4d9221"
            ],
            [
             1,
             "#276419"
            ]
           ],
           "sequential": [
            [
             0,
             "#0d0887"
            ],
            [
             0.1111111111111111,
             "#46039f"
            ],
            [
             0.2222222222222222,
             "#7201a8"
            ],
            [
             0.3333333333333333,
             "#9c179e"
            ],
            [
             0.4444444444444444,
             "#bd3786"
            ],
            [
             0.5555555555555556,
             "#d8576b"
            ],
            [
             0.6666666666666666,
             "#ed7953"
            ],
            [
             0.7777777777777778,
             "#fb9f3a"
            ],
            [
             0.8888888888888888,
             "#fdca26"
            ],
            [
             1,
             "#f0f921"
            ]
           ],
           "sequentialminus": [
            [
             0,
             "#0d0887"
            ],
            [
             0.1111111111111111,
             "#46039f"
            ],
            [
             0.2222222222222222,
             "#7201a8"
            ],
            [
             0.3333333333333333,
             "#9c179e"
            ],
            [
             0.4444444444444444,
             "#bd3786"
            ],
            [
             0.5555555555555556,
             "#d8576b"
            ],
            [
             0.6666666666666666,
             "#ed7953"
            ],
            [
             0.7777777777777778,
             "#fb9f3a"
            ],
            [
             0.8888888888888888,
             "#fdca26"
            ],
            [
             1,
             "#f0f921"
            ]
           ]
          },
          "colorway": [
           "#636efa",
           "#EF553B",
           "#00cc96",
           "#ab63fa",
           "#FFA15A",
           "#19d3f3",
           "#FF6692",
           "#B6E880",
           "#FF97FF",
           "#FECB52"
          ],
          "font": {
           "color": "#2a3f5f"
          },
          "geo": {
           "bgcolor": "white",
           "lakecolor": "white",
           "landcolor": "#E5ECF6",
           "showlakes": true,
           "showland": true,
           "subunitcolor": "white"
          },
          "hoverlabel": {
           "align": "left"
          },
          "hovermode": "closest",
          "mapbox": {
           "style": "light"
          },
          "paper_bgcolor": "white",
          "plot_bgcolor": "#E5ECF6",
          "polar": {
           "angularaxis": {
            "gridcolor": "white",
            "linecolor": "white",
            "ticks": ""
           },
           "bgcolor": "#E5ECF6",
           "radialaxis": {
            "gridcolor": "white",
            "linecolor": "white",
            "ticks": ""
           }
          },
          "scene": {
           "xaxis": {
            "backgroundcolor": "#E5ECF6",
            "gridcolor": "white",
            "gridwidth": 2,
            "linecolor": "white",
            "showbackground": true,
            "ticks": "",
            "zerolinecolor": "white"
           },
           "yaxis": {
            "backgroundcolor": "#E5ECF6",
            "gridcolor": "white",
            "gridwidth": 2,
            "linecolor": "white",
            "showbackground": true,
            "ticks": "",
            "zerolinecolor": "white"
           },
           "zaxis": {
            "backgroundcolor": "#E5ECF6",
            "gridcolor": "white",
            "gridwidth": 2,
            "linecolor": "white",
            "showbackground": true,
            "ticks": "",
            "zerolinecolor": "white"
           }
          },
          "shapedefaults": {
           "line": {
            "color": "#2a3f5f"
           }
          },
          "ternary": {
           "aaxis": {
            "gridcolor": "white",
            "linecolor": "white",
            "ticks": ""
           },
           "baxis": {
            "gridcolor": "white",
            "linecolor": "white",
            "ticks": ""
           },
           "bgcolor": "#E5ECF6",
           "caxis": {
            "gridcolor": "white",
            "linecolor": "white",
            "ticks": ""
           }
          },
          "title": {
           "x": 0.05
          },
          "xaxis": {
           "automargin": true,
           "gridcolor": "white",
           "linecolor": "white",
           "ticks": "",
           "title": {
            "standoff": 15
           },
           "zerolinecolor": "white",
           "zerolinewidth": 2
          },
          "yaxis": {
           "automargin": true,
           "gridcolor": "white",
           "linecolor": "white",
           "ticks": "",
           "title": {
            "standoff": 15
           },
           "zerolinecolor": "white",
           "zerolinewidth": 2
          }
         }
        },
        "title": {
         "font": {
          "color": "#4D5663"
         }
        },
        "xaxis": {
         "gridcolor": "#E1E5ED",
         "showgrid": true,
         "tickfont": {
          "color": "#4D5663"
         },
         "title": {
          "font": {
           "color": "#4D5663"
          },
          "text": ""
         },
         "zerolinecolor": "#E1E5ED"
        },
        "yaxis": {
         "gridcolor": "#E1E5ED",
         "showgrid": true,
         "tickfont": {
          "color": "#4D5663"
         },
         "title": {
          "font": {
           "color": "#4D5663"
          },
          "text": ""
         },
         "zerolinecolor": "#E1E5ED"
        }
       }
      },
      "text/html": [
       "<div>                            <div id=\"a96fab87-f362-4f62-980f-1bd567d69757\" class=\"plotly-graph-div\" style=\"height:525px; width:100%;\"></div>            <script type=\"text/javascript\">                require([\"plotly\"], function(Plotly) {                    window.PLOTLYENV=window.PLOTLYENV || {};\n",
       "                    window.PLOTLYENV.BASE_URL='https://plot.ly';                                    if (document.getElementById(\"a96fab87-f362-4f62-980f-1bd567d69757\")) {                    Plotly.newPlot(                        \"a96fab87-f362-4f62-980f-1bd567d69757\",                        [{\"colorscale\":[[0.0,\"rgb(165,0,38)\"],[0.1,\"rgb(215,48,39)\"],[0.2,\"rgb(244,109,67)\"],[0.3,\"rgb(253,174,97)\"],[0.4,\"rgb(254,224,144)\"],[0.5,\"rgb(255,255,191)\"],[0.6,\"rgb(224,243,248)\"],[0.7,\"rgb(171,217,233)\"],[0.8,\"rgb(116,173,209)\"],[0.9,\"rgb(69,117,180)\"],[1.0,\"rgb(49,54,149)\"]],\"x\":[0,1,2,3,4],\"y\":[\"x\",\"y\",\"z\"],\"z\":[[1,2,3,4,5],[10,20,30,20,10],[5,4,3,2,1]],\"type\":\"surface\"}],                        {\"legend\":{\"bgcolor\":\"#F5F6F9\",\"font\":{\"color\":\"#4D5663\"}},\"paper_bgcolor\":\"#F5F6F9\",\"plot_bgcolor\":\"#F5F6F9\",\"template\":{\"data\":{\"barpolar\":[{\"marker\":{\"line\":{\"color\":\"#E5ECF6\",\"width\":0.5},\"pattern\":{\"fillmode\":\"overlay\",\"size\":10,\"solidity\":0.2}},\"type\":\"barpolar\"}],\"bar\":[{\"error_x\":{\"color\":\"#2a3f5f\"},\"error_y\":{\"color\":\"#2a3f5f\"},\"marker\":{\"line\":{\"color\":\"#E5ECF6\",\"width\":0.5},\"pattern\":{\"fillmode\":\"overlay\",\"size\":10,\"solidity\":0.2}},\"type\":\"bar\"}],\"carpet\":[{\"aaxis\":{\"endlinecolor\":\"#2a3f5f\",\"gridcolor\":\"white\",\"linecolor\":\"white\",\"minorgridcolor\":\"white\",\"startlinecolor\":\"#2a3f5f\"},\"baxis\":{\"endlinecolor\":\"#2a3f5f\",\"gridcolor\":\"white\",\"linecolor\":\"white\",\"minorgridcolor\":\"white\",\"startlinecolor\":\"#2a3f5f\"},\"type\":\"carpet\"}],\"choropleth\":[{\"colorbar\":{\"outlinewidth\":0,\"ticks\":\"\"},\"type\":\"choropleth\"}],\"contourcarpet\":[{\"colorbar\":{\"outlinewidth\":0,\"ticks\":\"\"},\"type\":\"contourcarpet\"}],\"contour\":[{\"colorbar\":{\"outlinewidth\":0,\"ticks\":\"\"},\"colorscale\":[[0.0,\"#0d0887\"],[0.1111111111111111,\"#46039f\"],[0.2222222222222222,\"#7201a8\"],[0.3333333333333333,\"#9c179e\"],[0.4444444444444444,\"#bd3786\"],[0.5555555555555556,\"#d8576b\"],[0.6666666666666666,\"#ed7953\"],[0.7777777777777778,\"#fb9f3a\"],[0.8888888888888888,\"#fdca26\"],[1.0,\"#f0f921\"]],\"type\":\"contour\"}],\"heatmapgl\":[{\"colorbar\":{\"outlinewidth\":0,\"ticks\":\"\"},\"colorscale\":[[0.0,\"#0d0887\"],[0.1111111111111111,\"#46039f\"],[0.2222222222222222,\"#7201a8\"],[0.3333333333333333,\"#9c179e\"],[0.4444444444444444,\"#bd3786\"],[0.5555555555555556,\"#d8576b\"],[0.6666666666666666,\"#ed7953\"],[0.7777777777777778,\"#fb9f3a\"],[0.8888888888888888,\"#fdca26\"],[1.0,\"#f0f921\"]],\"type\":\"heatmapgl\"}],\"heatmap\":[{\"colorbar\":{\"outlinewidth\":0,\"ticks\":\"\"},\"colorscale\":[[0.0,\"#0d0887\"],[0.1111111111111111,\"#46039f\"],[0.2222222222222222,\"#7201a8\"],[0.3333333333333333,\"#9c179e\"],[0.4444444444444444,\"#bd3786\"],[0.5555555555555556,\"#d8576b\"],[0.6666666666666666,\"#ed7953\"],[0.7777777777777778,\"#fb9f3a\"],[0.8888888888888888,\"#fdca26\"],[1.0,\"#f0f921\"]],\"type\":\"heatmap\"}],\"histogram2dcontour\":[{\"colorbar\":{\"outlinewidth\":0,\"ticks\":\"\"},\"colorscale\":[[0.0,\"#0d0887\"],[0.1111111111111111,\"#46039f\"],[0.2222222222222222,\"#7201a8\"],[0.3333333333333333,\"#9c179e\"],[0.4444444444444444,\"#bd3786\"],[0.5555555555555556,\"#d8576b\"],[0.6666666666666666,\"#ed7953\"],[0.7777777777777778,\"#fb9f3a\"],[0.8888888888888888,\"#fdca26\"],[1.0,\"#f0f921\"]],\"type\":\"histogram2dcontour\"}],\"histogram2d\":[{\"colorbar\":{\"outlinewidth\":0,\"ticks\":\"\"},\"colorscale\":[[0.0,\"#0d0887\"],[0.1111111111111111,\"#46039f\"],[0.2222222222222222,\"#7201a8\"],[0.3333333333333333,\"#9c179e\"],[0.4444444444444444,\"#bd3786\"],[0.5555555555555556,\"#d8576b\"],[0.6666666666666666,\"#ed7953\"],[0.7777777777777778,\"#fb9f3a\"],[0.8888888888888888,\"#fdca26\"],[1.0,\"#f0f921\"]],\"type\":\"histogram2d\"}],\"histogram\":[{\"marker\":{\"pattern\":{\"fillmode\":\"overlay\",\"size\":10,\"solidity\":0.2}},\"type\":\"histogram\"}],\"mesh3d\":[{\"colorbar\":{\"outlinewidth\":0,\"ticks\":\"\"},\"type\":\"mesh3d\"}],\"parcoords\":[{\"line\":{\"colorbar\":{\"outlinewidth\":0,\"ticks\":\"\"}},\"type\":\"parcoords\"}],\"pie\":[{\"automargin\":true,\"type\":\"pie\"}],\"scatter3d\":[{\"line\":{\"colorbar\":{\"outlinewidth\":0,\"ticks\":\"\"}},\"marker\":{\"colorbar\":{\"outlinewidth\":0,\"ticks\":\"\"}},\"type\":\"scatter3d\"}],\"scattercarpet\":[{\"marker\":{\"colorbar\":{\"outlinewidth\":0,\"ticks\":\"\"}},\"type\":\"scattercarpet\"}],\"scattergeo\":[{\"marker\":{\"colorbar\":{\"outlinewidth\":0,\"ticks\":\"\"}},\"type\":\"scattergeo\"}],\"scattergl\":[{\"marker\":{\"colorbar\":{\"outlinewidth\":0,\"ticks\":\"\"}},\"type\":\"scattergl\"}],\"scattermapbox\":[{\"marker\":{\"colorbar\":{\"outlinewidth\":0,\"ticks\":\"\"}},\"type\":\"scattermapbox\"}],\"scatterpolargl\":[{\"marker\":{\"colorbar\":{\"outlinewidth\":0,\"ticks\":\"\"}},\"type\":\"scatterpolargl\"}],\"scatterpolar\":[{\"marker\":{\"colorbar\":{\"outlinewidth\":0,\"ticks\":\"\"}},\"type\":\"scatterpolar\"}],\"scatter\":[{\"fillpattern\":{\"fillmode\":\"overlay\",\"size\":10,\"solidity\":0.2},\"type\":\"scatter\"}],\"scatterternary\":[{\"marker\":{\"colorbar\":{\"outlinewidth\":0,\"ticks\":\"\"}},\"type\":\"scatterternary\"}],\"surface\":[{\"colorbar\":{\"outlinewidth\":0,\"ticks\":\"\"},\"colorscale\":[[0.0,\"#0d0887\"],[0.1111111111111111,\"#46039f\"],[0.2222222222222222,\"#7201a8\"],[0.3333333333333333,\"#9c179e\"],[0.4444444444444444,\"#bd3786\"],[0.5555555555555556,\"#d8576b\"],[0.6666666666666666,\"#ed7953\"],[0.7777777777777778,\"#fb9f3a\"],[0.8888888888888888,\"#fdca26\"],[1.0,\"#f0f921\"]],\"type\":\"surface\"}],\"table\":[{\"cells\":{\"fill\":{\"color\":\"#EBF0F8\"},\"line\":{\"color\":\"white\"}},\"header\":{\"fill\":{\"color\":\"#C8D4E3\"},\"line\":{\"color\":\"white\"}},\"type\":\"table\"}]},\"layout\":{\"annotationdefaults\":{\"arrowcolor\":\"#2a3f5f\",\"arrowhead\":0,\"arrowwidth\":1},\"autotypenumbers\":\"strict\",\"coloraxis\":{\"colorbar\":{\"outlinewidth\":0,\"ticks\":\"\"}},\"colorscale\":{\"diverging\":[[0,\"#8e0152\"],[0.1,\"#c51b7d\"],[0.2,\"#de77ae\"],[0.3,\"#f1b6da\"],[0.4,\"#fde0ef\"],[0.5,\"#f7f7f7\"],[0.6,\"#e6f5d0\"],[0.7,\"#b8e186\"],[0.8,\"#7fbc41\"],[0.9,\"#4d9221\"],[1,\"#276419\"]],\"sequential\":[[0.0,\"#0d0887\"],[0.1111111111111111,\"#46039f\"],[0.2222222222222222,\"#7201a8\"],[0.3333333333333333,\"#9c179e\"],[0.4444444444444444,\"#bd3786\"],[0.5555555555555556,\"#d8576b\"],[0.6666666666666666,\"#ed7953\"],[0.7777777777777778,\"#fb9f3a\"],[0.8888888888888888,\"#fdca26\"],[1.0,\"#f0f921\"]],\"sequentialminus\":[[0.0,\"#0d0887\"],[0.1111111111111111,\"#46039f\"],[0.2222222222222222,\"#7201a8\"],[0.3333333333333333,\"#9c179e\"],[0.4444444444444444,\"#bd3786\"],[0.5555555555555556,\"#d8576b\"],[0.6666666666666666,\"#ed7953\"],[0.7777777777777778,\"#fb9f3a\"],[0.8888888888888888,\"#fdca26\"],[1.0,\"#f0f921\"]]},\"colorway\":[\"#636efa\",\"#EF553B\",\"#00cc96\",\"#ab63fa\",\"#FFA15A\",\"#19d3f3\",\"#FF6692\",\"#B6E880\",\"#FF97FF\",\"#FECB52\"],\"font\":{\"color\":\"#2a3f5f\"},\"geo\":{\"bgcolor\":\"white\",\"lakecolor\":\"white\",\"landcolor\":\"#E5ECF6\",\"showlakes\":true,\"showland\":true,\"subunitcolor\":\"white\"},\"hoverlabel\":{\"align\":\"left\"},\"hovermode\":\"closest\",\"mapbox\":{\"style\":\"light\"},\"paper_bgcolor\":\"white\",\"plot_bgcolor\":\"#E5ECF6\",\"polar\":{\"angularaxis\":{\"gridcolor\":\"white\",\"linecolor\":\"white\",\"ticks\":\"\"},\"bgcolor\":\"#E5ECF6\",\"radialaxis\":{\"gridcolor\":\"white\",\"linecolor\":\"white\",\"ticks\":\"\"}},\"scene\":{\"xaxis\":{\"backgroundcolor\":\"#E5ECF6\",\"gridcolor\":\"white\",\"gridwidth\":2,\"linecolor\":\"white\",\"showbackground\":true,\"ticks\":\"\",\"zerolinecolor\":\"white\"},\"yaxis\":{\"backgroundcolor\":\"#E5ECF6\",\"gridcolor\":\"white\",\"gridwidth\":2,\"linecolor\":\"white\",\"showbackground\":true,\"ticks\":\"\",\"zerolinecolor\":\"white\"},\"zaxis\":{\"backgroundcolor\":\"#E5ECF6\",\"gridcolor\":\"white\",\"gridwidth\":2,\"linecolor\":\"white\",\"showbackground\":true,\"ticks\":\"\",\"zerolinecolor\":\"white\"}},\"shapedefaults\":{\"line\":{\"color\":\"#2a3f5f\"}},\"ternary\":{\"aaxis\":{\"gridcolor\":\"white\",\"linecolor\":\"white\",\"ticks\":\"\"},\"baxis\":{\"gridcolor\":\"white\",\"linecolor\":\"white\",\"ticks\":\"\"},\"bgcolor\":\"#E5ECF6\",\"caxis\":{\"gridcolor\":\"white\",\"linecolor\":\"white\",\"ticks\":\"\"}},\"title\":{\"x\":0.05},\"xaxis\":{\"automargin\":true,\"gridcolor\":\"white\",\"linecolor\":\"white\",\"ticks\":\"\",\"title\":{\"standoff\":15},\"zerolinecolor\":\"white\",\"zerolinewidth\":2},\"yaxis\":{\"automargin\":true,\"gridcolor\":\"white\",\"linecolor\":\"white\",\"ticks\":\"\",\"title\":{\"standoff\":15},\"zerolinecolor\":\"white\",\"zerolinewidth\":2}}},\"title\":{\"font\":{\"color\":\"#4D5663\"}},\"xaxis\":{\"gridcolor\":\"#E1E5ED\",\"showgrid\":true,\"tickfont\":{\"color\":\"#4D5663\"},\"title\":{\"font\":{\"color\":\"#4D5663\"},\"text\":\"\"},\"zerolinecolor\":\"#E1E5ED\"},\"yaxis\":{\"gridcolor\":\"#E1E5ED\",\"showgrid\":true,\"tickfont\":{\"color\":\"#4D5663\"},\"title\":{\"font\":{\"color\":\"#4D5663\"},\"text\":\"\"},\"zerolinecolor\":\"#E1E5ED\"}},                        {\"showLink\": true, \"linkText\": \"Export to plot.ly\", \"plotlyServerURL\": \"https://plot.ly\", \"responsive\": true}                    ).then(function(){\n",
       "                            \n",
       "var gd = document.getElementById('a96fab87-f362-4f62-980f-1bd567d69757');\n",
       "var x = new MutationObserver(function (mutations, observer) {{\n",
       "        var display = window.getComputedStyle(gd).display;\n",
       "        if (!display || display === 'none') {{\n",
       "            console.log([gd, 'removed!']);\n",
       "            Plotly.purge(gd);\n",
       "            observer.disconnect();\n",
       "        }}\n",
       "}});\n",
       "\n",
       "// Listen for the removal of the full notebook cells\n",
       "var notebookContainer = gd.closest('#notebook-container');\n",
       "if (notebookContainer) {{\n",
       "    x.observe(notebookContainer, {childList: true});\n",
       "}}\n",
       "\n",
       "// Listen for the clearing of the current output cell\n",
       "var outputEl = gd.closest('.output');\n",
       "if (outputEl) {{\n",
       "    x.observe(outputEl, {childList: true});\n",
       "}}\n",
       "\n",
       "                        })                };                });            </script>        </div>"
      ]
     },
     "metadata": {},
     "output_type": "display_data"
    }
   ],
   "source": [
    "df3 = pd.DataFrame({'x':[1,2,3,4,5],'y':[10,20,30,20,10],'z':[5,4,3,2,1]})\n",
    "df3.iplot(kind='surface',colorscale='rdylbu')"
   ]
  },
  {
   "cell_type": "markdown",
   "metadata": {},
   "source": [
    "## Spread"
   ]
  },
  {
   "cell_type": "code",
   "execution_count": 15,
   "metadata": {},
   "outputs": [
    {
     "name": "stderr",
     "output_type": "stream",
     "text": [
      "D:\\git_visualization\\data-visualization\\.env\\lib\\site-packages\\cufflinks\\plotlytools.py:849: FutureWarning:\n",
      "\n",
      "The pandas.np module is deprecated and will be removed from pandas in a future version. Import numpy directly instead.\n",
      "\n",
      "D:\\git_visualization\\data-visualization\\.env\\lib\\site-packages\\cufflinks\\plotlytools.py:850: FutureWarning:\n",
      "\n",
      "The pandas.np module is deprecated and will be removed from pandas in a future version. Import numpy directly instead.\n",
      "\n"
     ]
    },
    {
     "data": {
      "application/vnd.plotly.v1+json": {
       "config": {
        "linkText": "Export to plot.ly",
        "plotlyServerURL": "https://plot.ly",
        "showLink": true
       },
       "data": [
        {
         "line": {
          "color": "rgba(255, 153, 51, 1.0)",
          "dash": "solid",
          "shape": "linear",
          "width": 1.3
         },
         "mode": "lines",
         "name": "A",
         "text": "",
         "type": "scatter",
         "x": [
          0,
          1,
          2,
          3,
          4,
          5,
          6,
          7,
          8,
          9,
          10,
          11,
          12,
          13,
          14,
          15,
          16,
          17,
          18,
          19,
          20,
          21,
          22,
          23,
          24,
          25,
          26,
          27,
          28,
          29,
          30,
          31,
          32,
          33,
          34,
          35,
          36,
          37,
          38,
          39,
          40,
          41,
          42,
          43,
          44,
          45,
          46,
          47,
          48,
          49,
          50,
          51,
          52,
          53,
          54,
          55,
          56,
          57,
          58,
          59,
          60,
          61,
          62,
          63,
          64,
          65,
          66,
          67,
          68,
          69,
          70,
          71,
          72,
          73,
          74,
          75,
          76,
          77,
          78,
          79,
          80,
          81,
          82,
          83,
          84,
          85,
          86,
          87,
          88,
          89,
          90,
          91,
          92,
          93,
          94,
          95,
          96,
          97,
          98,
          99
         ],
         "y": [
          -1.0520499660805134,
          -0.6395256708852439,
          -0.33434764741888273,
          -0.602102263802253,
          0.3275992110293282,
          -0.8517119727079342,
          0.4823647677292349,
          -0.6733753513218748,
          1.0663693192389487,
          -0.6674469283977741,
          -0.1555538710682971,
          0.982078463400281,
          0.5605995734508707,
          -1.5992430724659148,
          -0.4863413205475636,
          -1.635285837548092,
          1.3935076424093102,
          1.7941318056056335,
          0.5341913789906737,
          -0.9524975663306507,
          -0.4573351632944464,
          1.1177083797834142,
          -0.5706607672093532,
          0.7867354928231047,
          0.07981317429930133,
          -0.6349940715278921,
          1.5425662192838554,
          -0.6132422783945425,
          0.15544048184803386,
          0.9192445510904795,
          -1.7359719590500762,
          -1.9119274895922669,
          0.6944479962123283,
          0.3532145001978853,
          -1.0600796071503271,
          -0.5334678844301335,
          -0.6394875240041487,
          0.3128946201121304,
          0.016069119234565766,
          -1.5744316004386434,
          0.7344487377210069,
          0.7193287039929793,
          0.4812823931213064,
          -0.24678614971224266,
          -0.2905274885290895,
          -0.1003666244799347,
          0.2183659952290479,
          -2.319740663802171,
          -0.6745518951897882,
          0.29578338730627296,
          0.027684720711771665,
          0.6195480439047139,
          0.6876980075689124,
          -1.1798993200458125,
          1.1244893859000014,
          0.5280412892103941,
          -0.6001297370928859,
          -0.027008110814554072,
          -0.2748635223706462,
          1.4138169456342016,
          -0.9151732693883676,
          -0.4134435108103696,
          0.9255576517778622,
          0.860868531480433,
          1.758016656113904,
          1.6783618939930056,
          0.06869043899424485,
          0.6937178925305963,
          -0.8760537876530695,
          0.9102278415320038,
          0.7191692678149171,
          -0.4913169243308279,
          1.2337987142169284,
          0.7956878705772449,
          1.371542963623464,
          -1.343501561614963,
          1.0118949910662463,
          1.1658612878341348,
          -0.6928552283460352,
          -0.4687295487764381,
          -0.8757314396497151,
          -0.3643879992119797,
          0.811605819362338,
          -0.42095946538411305,
          -0.9898935045710047,
          0.7334033677693634,
          -0.19290472361161884,
          1.8143264562579273,
          0.8281944946575908,
          0.4854377119690578,
          0.5615674241389551,
          0.30512951708273917,
          -0.2966780672407173,
          2.3797154891776886,
          1.4080321570020835,
          -1.03463191031649,
          -1.941093118397556,
          -0.5620252053886859,
          -0.7270510460295249,
          0.10178198219108311
         ]
        },
        {
         "line": {
          "color": "rgba(55, 128, 191, 1.0)",
          "dash": "solid",
          "shape": "linear",
          "width": 1.3
         },
         "mode": "lines",
         "name": "B",
         "text": "",
         "type": "scatter",
         "x": [
          0,
          1,
          2,
          3,
          4,
          5,
          6,
          7,
          8,
          9,
          10,
          11,
          12,
          13,
          14,
          15,
          16,
          17,
          18,
          19,
          20,
          21,
          22,
          23,
          24,
          25,
          26,
          27,
          28,
          29,
          30,
          31,
          32,
          33,
          34,
          35,
          36,
          37,
          38,
          39,
          40,
          41,
          42,
          43,
          44,
          45,
          46,
          47,
          48,
          49,
          50,
          51,
          52,
          53,
          54,
          55,
          56,
          57,
          58,
          59,
          60,
          61,
          62,
          63,
          64,
          65,
          66,
          67,
          68,
          69,
          70,
          71,
          72,
          73,
          74,
          75,
          76,
          77,
          78,
          79,
          80,
          81,
          82,
          83,
          84,
          85,
          86,
          87,
          88,
          89,
          90,
          91,
          92,
          93,
          94,
          95,
          96,
          97,
          98,
          99
         ],
         "y": [
          -0.5756640459082741,
          0.5987981212644335,
          -0.7783665585217159,
          -0.09573196409819089,
          -0.14284747496470035,
          1.1566851064970056,
          0.14205945762224648,
          0.9925438822429384,
          -1.4205067005147545,
          -0.4243133975107277,
          0.2046316406674326,
          -0.8664033231860435,
          0.30018363681115173,
          0.7012726412626394,
          -0.5832744366644343,
          -1.9611912132619702,
          -1.2865690654113124,
          0.2805418321787577,
          0.5712498729810047,
          -0.6776239869439911,
          0.3316361158392233,
          -0.14461439325213005,
          -1.0410638673782593,
          -0.4080654043631619,
          -0.00631491901211208,
          0.654337983442778,
          0.04670538856144417,
          0.4891070888438266,
          -1.2277858127245984,
          -1.5325129450673443,
          1.2514271194867919,
          -0.6784529656249904,
          0.8507471393458212,
          0.3524385390065126,
          0.6553698989078516,
          -1.0598696128958636,
          -0.5655967775632145,
          1.1038885195167987,
          0.51412957783871,
          -1.03444943752192,
          -0.5231942655733847,
          -0.8380629336724287,
          1.903096658084694,
          0.4168137650785216,
          -0.4997398212243618,
          1.4029778201285397,
          0.8105226854959072,
          -1.7054169577749274,
          0.4605260705984755,
          -0.9824384505992422,
          -3.224746706249651,
          -0.6689949803255751,
          1.136152225459386,
          0.5680385123690971,
          0.7065628304892786,
          -0.42374809536258623,
          -0.8945591138218476,
          1.3206984539123967,
          -1.047728278006352,
          0.22476929272194288,
          -0.0009414573889848483,
          -0.01541225142410007,
          0.8263022924568258,
          0.42637279096367314,
          0.7989305066857885,
          -0.9789730984372811,
          -0.07071920797599111,
          -0.6115527255986463,
          -1.251525922052416,
          0.6676854765757444,
          1.9869694622253653,
          1.5658607072704804,
          -0.4186693946248924,
          -0.40628885793212743,
          1.5568244944045366,
          -0.7326242574894654,
          0.37958514924466513,
          -0.1783531218270007,
          -1.4160686077684221,
          0.4077861201653217,
          1.866778069209306,
          -1.0186822996845648,
          0.8993809357600041,
          -0.29568521043114,
          -0.47082542872155764,
          0.7282529986227604,
          0.06269962361015688,
          -0.3591244801120115,
          -0.28395660057604427,
          0.5295132537184689,
          -0.8352707178155664,
          0.3743707004534908,
          -0.31130372186525196,
          -0.7747932469996983,
          1.2259633383494222,
          -0.4464779411147586,
          0.996920839179652,
          0.20800829553317293,
          0.1858285403997541,
          -1.5192392350514088
         ]
        },
        {
         "connectgaps": false,
         "fill": "tozeroy",
         "line": {
          "color": "green",
          "dash": "solid",
          "shape": "linear",
          "width": 0.5
         },
         "mode": "lines",
         "name": "Spread",
         "showlegend": false,
         "type": "scatter",
         "x": [
          0,
          1,
          2,
          3,
          4,
          5,
          6,
          7,
          8,
          9,
          10,
          11,
          12,
          13,
          14,
          15,
          16,
          17,
          18,
          19,
          20,
          21,
          22,
          23,
          24,
          25,
          26,
          27,
          28,
          29,
          30,
          31,
          32,
          33,
          34,
          35,
          36,
          37,
          38,
          39,
          40,
          41,
          42,
          43,
          44,
          45,
          46,
          47,
          48,
          49,
          50,
          51,
          52,
          53,
          54,
          55,
          56,
          57,
          58,
          59,
          60,
          61,
          62,
          63,
          64,
          65,
          66,
          67,
          68,
          69,
          70,
          71,
          72,
          73,
          74,
          75,
          76,
          77,
          78,
          79,
          80,
          81,
          82,
          83,
          84,
          85,
          86,
          87,
          88,
          89,
          90,
          91,
          92,
          93,
          94,
          95,
          96,
          97,
          98,
          99
         ],
         "xaxis": "x2",
         "y": [
          "",
          "",
          0.44401891110283315,
          "",
          0.47044668599402856,
          "",
          0.34030531010698845,
          "",
          2.486876019753703,
          "",
          "",
          1.8484817865863246,
          0.260415936639719,
          "",
          0.09693311611687072,
          0.3259053757138781,
          2.6800767078206227,
          1.5135899734268756,
          "",
          "",
          "",
          1.2623227730355442,
          0.4704031001689061,
          1.1948008971862667,
          0.08612809331141341,
          "",
          1.4958608307224113,
          "",
          1.3832262945726324,
          2.451757496157824,
          "",
          "",
          "",
          0.0007759611913726872,
          "",
          0.5264017284657301,
          "",
          "",
          "",
          "",
          1.2576430032943917,
          1.557391637665408,
          "",
          "",
          0.20921233269527229,
          "",
          "",
          "",
          "",
          1.278221837905515,
          3.2524314269614227,
          1.288543024230289,
          "",
          "",
          0.41792655541072277,
          0.9517893845729803,
          0.29442937672896174,
          "",
          0.7728647556357058,
          1.1890476529122587,
          "",
          "",
          0.09925535932103635,
          0.4344957405167598,
          0.9590861494281154,
          2.657334992430287,
          0.13940964697023595,
          1.3052706181292426,
          0.37547213439934646,
          0.24254236495625936,
          "",
          "",
          1.6524681088418207,
          1.2019767285093723,
          "",
          "",
          0.6323098418215811,
          1.3442144096611355,
          0.723213379422387,
          "",
          "",
          0.6542943004725852,
          "",
          "",
          "",
          0.005150369146603051,
          "",
          2.173450936369939,
          1.112151095233635,
          "",
          1.3968381419545215,
          "",
          0.014625654624534634,
          3.154508736177387,
          0.18206881865266134,
          "",
          "",
          "",
          "",
          1.6210212172424918
         ],
         "yaxis": "y2"
        },
        {
         "connectgaps": false,
         "fill": "tozeroy",
         "line": {
          "color": "red",
          "dash": "solid",
          "shape": "linear",
          "width": 0.5
         },
         "mode": "lines",
         "name": "Spread",
         "showlegend": false,
         "type": "scatter",
         "x": [
          0,
          1,
          2,
          3,
          4,
          5,
          6,
          7,
          8,
          9,
          10,
          11,
          12,
          13,
          14,
          15,
          16,
          17,
          18,
          19,
          20,
          21,
          22,
          23,
          24,
          25,
          26,
          27,
          28,
          29,
          30,
          31,
          32,
          33,
          34,
          35,
          36,
          37,
          38,
          39,
          40,
          41,
          42,
          43,
          44,
          45,
          46,
          47,
          48,
          49,
          50,
          51,
          52,
          53,
          54,
          55,
          56,
          57,
          58,
          59,
          60,
          61,
          62,
          63,
          64,
          65,
          66,
          67,
          68,
          69,
          70,
          71,
          72,
          73,
          74,
          75,
          76,
          77,
          78,
          79,
          80,
          81,
          82,
          83,
          84,
          85,
          86,
          87,
          88,
          89,
          90,
          91,
          92,
          93,
          94,
          95,
          96,
          97,
          98,
          99
         ],
         "xaxis": "x2",
         "y": [
          -0.47638592017223924,
          -1.2383237921496775,
          "",
          -0.5063702997040621,
          "",
          -2.00839707920494,
          "",
          -1.6659192335648132,
          "",
          -0.24313353088704637,
          -0.3601855117357297,
          "",
          "",
          -2.3005157137285543,
          "",
          "",
          "",
          "",
          -0.03705849399033101,
          -0.2748735793866597,
          -0.7889712791336697,
          "",
          "",
          "",
          "",
          -1.2893320549706702,
          "",
          -1.102349367238369,
          "",
          "",
          -2.987399078536868,
          -1.2334745239672764,
          -0.1562991431334929,
          "",
          -1.7154495060581787,
          "",
          -0.07389074644093419,
          -0.7909938994046684,
          -0.4980604586041443,
          -0.5399821629167234,
          "",
          "",
          -1.4218142649633876,
          -0.6635999147907643,
          "",
          -1.5033444446084743,
          -0.5921566902668594,
          -0.6143237060272435,
          -1.1350779657882637,
          "",
          "",
          "",
          -0.4484542178904737,
          -1.7479378324149097,
          "",
          "",
          "",
          -1.3477065647269508,
          "",
          "",
          -0.9142318119993827,
          -0.39803125938626954,
          "",
          "",
          "",
          "",
          "",
          "",
          "",
          "",
          -1.2678001944104482,
          -2.0571776316013084,
          "",
          "",
          -0.18528153078107268,
          -0.6108773041254977,
          "",
          "",
          "",
          -0.8765156689417597,
          -2.742509508859021,
          "",
          -0.08777511639766611,
          -0.12527425495297306,
          -0.519068075849447,
          "",
          -0.2556043472217757,
          "",
          "",
          -0.04407554174941114,
          "",
          -0.06924118337075164,
          "",
          "",
          "",
          -0.5881539692017315,
          -2.938013957577208,
          -0.7700335009218588,
          -0.9128795864292789,
          ""
         ],
         "yaxis": "y2"
        }
       ],
       "layout": {
        "hovermode": "x",
        "legend": {
         "bgcolor": "#F5F6F9",
         "font": {
          "color": "#4D5663"
         }
        },
        "paper_bgcolor": "#F5F6F9",
        "plot_bgcolor": "#F5F6F9",
        "template": {
         "data": {
          "bar": [
           {
            "error_x": {
             "color": "#2a3f5f"
            },
            "error_y": {
             "color": "#2a3f5f"
            },
            "marker": {
             "line": {
              "color": "#E5ECF6",
              "width": 0.5
             },
             "pattern": {
              "fillmode": "overlay",
              "size": 10,
              "solidity": 0.2
             }
            },
            "type": "bar"
           }
          ],
          "barpolar": [
           {
            "marker": {
             "line": {
              "color": "#E5ECF6",
              "width": 0.5
             },
             "pattern": {
              "fillmode": "overlay",
              "size": 10,
              "solidity": 0.2
             }
            },
            "type": "barpolar"
           }
          ],
          "carpet": [
           {
            "aaxis": {
             "endlinecolor": "#2a3f5f",
             "gridcolor": "white",
             "linecolor": "white",
             "minorgridcolor": "white",
             "startlinecolor": "#2a3f5f"
            },
            "baxis": {
             "endlinecolor": "#2a3f5f",
             "gridcolor": "white",
             "linecolor": "white",
             "minorgridcolor": "white",
             "startlinecolor": "#2a3f5f"
            },
            "type": "carpet"
           }
          ],
          "choropleth": [
           {
            "colorbar": {
             "outlinewidth": 0,
             "ticks": ""
            },
            "type": "choropleth"
           }
          ],
          "contour": [
           {
            "colorbar": {
             "outlinewidth": 0,
             "ticks": ""
            },
            "colorscale": [
             [
              0,
              "#0d0887"
             ],
             [
              0.1111111111111111,
              "#46039f"
             ],
             [
              0.2222222222222222,
              "#7201a8"
             ],
             [
              0.3333333333333333,
              "#9c179e"
             ],
             [
              0.4444444444444444,
              "#bd3786"
             ],
             [
              0.5555555555555556,
              "#d8576b"
             ],
             [
              0.6666666666666666,
              "#ed7953"
             ],
             [
              0.7777777777777778,
              "#fb9f3a"
             ],
             [
              0.8888888888888888,
              "#fdca26"
             ],
             [
              1,
              "#f0f921"
             ]
            ],
            "type": "contour"
           }
          ],
          "contourcarpet": [
           {
            "colorbar": {
             "outlinewidth": 0,
             "ticks": ""
            },
            "type": "contourcarpet"
           }
          ],
          "heatmap": [
           {
            "colorbar": {
             "outlinewidth": 0,
             "ticks": ""
            },
            "colorscale": [
             [
              0,
              "#0d0887"
             ],
             [
              0.1111111111111111,
              "#46039f"
             ],
             [
              0.2222222222222222,
              "#7201a8"
             ],
             [
              0.3333333333333333,
              "#9c179e"
             ],
             [
              0.4444444444444444,
              "#bd3786"
             ],
             [
              0.5555555555555556,
              "#d8576b"
             ],
             [
              0.6666666666666666,
              "#ed7953"
             ],
             [
              0.7777777777777778,
              "#fb9f3a"
             ],
             [
              0.8888888888888888,
              "#fdca26"
             ],
             [
              1,
              "#f0f921"
             ]
            ],
            "type": "heatmap"
           }
          ],
          "heatmapgl": [
           {
            "colorbar": {
             "outlinewidth": 0,
             "ticks": ""
            },
            "colorscale": [
             [
              0,
              "#0d0887"
             ],
             [
              0.1111111111111111,
              "#46039f"
             ],
             [
              0.2222222222222222,
              "#7201a8"
             ],
             [
              0.3333333333333333,
              "#9c179e"
             ],
             [
              0.4444444444444444,
              "#bd3786"
             ],
             [
              0.5555555555555556,
              "#d8576b"
             ],
             [
              0.6666666666666666,
              "#ed7953"
             ],
             [
              0.7777777777777778,
              "#fb9f3a"
             ],
             [
              0.8888888888888888,
              "#fdca26"
             ],
             [
              1,
              "#f0f921"
             ]
            ],
            "type": "heatmapgl"
           }
          ],
          "histogram": [
           {
            "marker": {
             "pattern": {
              "fillmode": "overlay",
              "size": 10,
              "solidity": 0.2
             }
            },
            "type": "histogram"
           }
          ],
          "histogram2d": [
           {
            "colorbar": {
             "outlinewidth": 0,
             "ticks": ""
            },
            "colorscale": [
             [
              0,
              "#0d0887"
             ],
             [
              0.1111111111111111,
              "#46039f"
             ],
             [
              0.2222222222222222,
              "#7201a8"
             ],
             [
              0.3333333333333333,
              "#9c179e"
             ],
             [
              0.4444444444444444,
              "#bd3786"
             ],
             [
              0.5555555555555556,
              "#d8576b"
             ],
             [
              0.6666666666666666,
              "#ed7953"
             ],
             [
              0.7777777777777778,
              "#fb9f3a"
             ],
             [
              0.8888888888888888,
              "#fdca26"
             ],
             [
              1,
              "#f0f921"
             ]
            ],
            "type": "histogram2d"
           }
          ],
          "histogram2dcontour": [
           {
            "colorbar": {
             "outlinewidth": 0,
             "ticks": ""
            },
            "colorscale": [
             [
              0,
              "#0d0887"
             ],
             [
              0.1111111111111111,
              "#46039f"
             ],
             [
              0.2222222222222222,
              "#7201a8"
             ],
             [
              0.3333333333333333,
              "#9c179e"
             ],
             [
              0.4444444444444444,
              "#bd3786"
             ],
             [
              0.5555555555555556,
              "#d8576b"
             ],
             [
              0.6666666666666666,
              "#ed7953"
             ],
             [
              0.7777777777777778,
              "#fb9f3a"
             ],
             [
              0.8888888888888888,
              "#fdca26"
             ],
             [
              1,
              "#f0f921"
             ]
            ],
            "type": "histogram2dcontour"
           }
          ],
          "mesh3d": [
           {
            "colorbar": {
             "outlinewidth": 0,
             "ticks": ""
            },
            "type": "mesh3d"
           }
          ],
          "parcoords": [
           {
            "line": {
             "colorbar": {
              "outlinewidth": 0,
              "ticks": ""
             }
            },
            "type": "parcoords"
           }
          ],
          "pie": [
           {
            "automargin": true,
            "type": "pie"
           }
          ],
          "scatter": [
           {
            "fillpattern": {
             "fillmode": "overlay",
             "size": 10,
             "solidity": 0.2
            },
            "type": "scatter"
           }
          ],
          "scatter3d": [
           {
            "line": {
             "colorbar": {
              "outlinewidth": 0,
              "ticks": ""
             }
            },
            "marker": {
             "colorbar": {
              "outlinewidth": 0,
              "ticks": ""
             }
            },
            "type": "scatter3d"
           }
          ],
          "scattercarpet": [
           {
            "marker": {
             "colorbar": {
              "outlinewidth": 0,
              "ticks": ""
             }
            },
            "type": "scattercarpet"
           }
          ],
          "scattergeo": [
           {
            "marker": {
             "colorbar": {
              "outlinewidth": 0,
              "ticks": ""
             }
            },
            "type": "scattergeo"
           }
          ],
          "scattergl": [
           {
            "marker": {
             "colorbar": {
              "outlinewidth": 0,
              "ticks": ""
             }
            },
            "type": "scattergl"
           }
          ],
          "scattermapbox": [
           {
            "marker": {
             "colorbar": {
              "outlinewidth": 0,
              "ticks": ""
             }
            },
            "type": "scattermapbox"
           }
          ],
          "scatterpolar": [
           {
            "marker": {
             "colorbar": {
              "outlinewidth": 0,
              "ticks": ""
             }
            },
            "type": "scatterpolar"
           }
          ],
          "scatterpolargl": [
           {
            "marker": {
             "colorbar": {
              "outlinewidth": 0,
              "ticks": ""
             }
            },
            "type": "scatterpolargl"
           }
          ],
          "scatterternary": [
           {
            "marker": {
             "colorbar": {
              "outlinewidth": 0,
              "ticks": ""
             }
            },
            "type": "scatterternary"
           }
          ],
          "surface": [
           {
            "colorbar": {
             "outlinewidth": 0,
             "ticks": ""
            },
            "colorscale": [
             [
              0,
              "#0d0887"
             ],
             [
              0.1111111111111111,
              "#46039f"
             ],
             [
              0.2222222222222222,
              "#7201a8"
             ],
             [
              0.3333333333333333,
              "#9c179e"
             ],
             [
              0.4444444444444444,
              "#bd3786"
             ],
             [
              0.5555555555555556,
              "#d8576b"
             ],
             [
              0.6666666666666666,
              "#ed7953"
             ],
             [
              0.7777777777777778,
              "#fb9f3a"
             ],
             [
              0.8888888888888888,
              "#fdca26"
             ],
             [
              1,
              "#f0f921"
             ]
            ],
            "type": "surface"
           }
          ],
          "table": [
           {
            "cells": {
             "fill": {
              "color": "#EBF0F8"
             },
             "line": {
              "color": "white"
             }
            },
            "header": {
             "fill": {
              "color": "#C8D4E3"
             },
             "line": {
              "color": "white"
             }
            },
            "type": "table"
           }
          ]
         },
         "layout": {
          "annotationdefaults": {
           "arrowcolor": "#2a3f5f",
           "arrowhead": 0,
           "arrowwidth": 1
          },
          "autotypenumbers": "strict",
          "coloraxis": {
           "colorbar": {
            "outlinewidth": 0,
            "ticks": ""
           }
          },
          "colorscale": {
           "diverging": [
            [
             0,
             "#8e0152"
            ],
            [
             0.1,
             "#c51b7d"
            ],
            [
             0.2,
             "#de77ae"
            ],
            [
             0.3,
             "#f1b6da"
            ],
            [
             0.4,
             "#fde0ef"
            ],
            [
             0.5,
             "#f7f7f7"
            ],
            [
             0.6,
             "#e6f5d0"
            ],
            [
             0.7,
             "#b8e186"
            ],
            [
             0.8,
             "#7fbc41"
            ],
            [
             0.9,
             "#4d9221"
            ],
            [
             1,
             "#276419"
            ]
           ],
           "sequential": [
            [
             0,
             "#0d0887"
            ],
            [
             0.1111111111111111,
             "#46039f"
            ],
            [
             0.2222222222222222,
             "#7201a8"
            ],
            [
             0.3333333333333333,
             "#9c179e"
            ],
            [
             0.4444444444444444,
             "#bd3786"
            ],
            [
             0.5555555555555556,
             "#d8576b"
            ],
            [
             0.6666666666666666,
             "#ed7953"
            ],
            [
             0.7777777777777778,
             "#fb9f3a"
            ],
            [
             0.8888888888888888,
             "#fdca26"
            ],
            [
             1,
             "#f0f921"
            ]
           ],
           "sequentialminus": [
            [
             0,
             "#0d0887"
            ],
            [
             0.1111111111111111,
             "#46039f"
            ],
            [
             0.2222222222222222,
             "#7201a8"
            ],
            [
             0.3333333333333333,
             "#9c179e"
            ],
            [
             0.4444444444444444,
             "#bd3786"
            ],
            [
             0.5555555555555556,
             "#d8576b"
            ],
            [
             0.6666666666666666,
             "#ed7953"
            ],
            [
             0.7777777777777778,
             "#fb9f3a"
            ],
            [
             0.8888888888888888,
             "#fdca26"
            ],
            [
             1,
             "#f0f921"
            ]
           ]
          },
          "colorway": [
           "#636efa",
           "#EF553B",
           "#00cc96",
           "#ab63fa",
           "#FFA15A",
           "#19d3f3",
           "#FF6692",
           "#B6E880",
           "#FF97FF",
           "#FECB52"
          ],
          "font": {
           "color": "#2a3f5f"
          },
          "geo": {
           "bgcolor": "white",
           "lakecolor": "white",
           "landcolor": "#E5ECF6",
           "showlakes": true,
           "showland": true,
           "subunitcolor": "white"
          },
          "hoverlabel": {
           "align": "left"
          },
          "hovermode": "closest",
          "mapbox": {
           "style": "light"
          },
          "paper_bgcolor": "white",
          "plot_bgcolor": "#E5ECF6",
          "polar": {
           "angularaxis": {
            "gridcolor": "white",
            "linecolor": "white",
            "ticks": ""
           },
           "bgcolor": "#E5ECF6",
           "radialaxis": {
            "gridcolor": "white",
            "linecolor": "white",
            "ticks": ""
           }
          },
          "scene": {
           "xaxis": {
            "backgroundcolor": "#E5ECF6",
            "gridcolor": "white",
            "gridwidth": 2,
            "linecolor": "white",
            "showbackground": true,
            "ticks": "",
            "zerolinecolor": "white"
           },
           "yaxis": {
            "backgroundcolor": "#E5ECF6",
            "gridcolor": "white",
            "gridwidth": 2,
            "linecolor": "white",
            "showbackground": true,
            "ticks": "",
            "zerolinecolor": "white"
           },
           "zaxis": {
            "backgroundcolor": "#E5ECF6",
            "gridcolor": "white",
            "gridwidth": 2,
            "linecolor": "white",
            "showbackground": true,
            "ticks": "",
            "zerolinecolor": "white"
           }
          },
          "shapedefaults": {
           "line": {
            "color": "#2a3f5f"
           }
          },
          "ternary": {
           "aaxis": {
            "gridcolor": "white",
            "linecolor": "white",
            "ticks": ""
           },
           "baxis": {
            "gridcolor": "white",
            "linecolor": "white",
            "ticks": ""
           },
           "bgcolor": "#E5ECF6",
           "caxis": {
            "gridcolor": "white",
            "linecolor": "white",
            "ticks": ""
           }
          },
          "title": {
           "x": 0.05
          },
          "xaxis": {
           "automargin": true,
           "gridcolor": "white",
           "linecolor": "white",
           "ticks": "",
           "title": {
            "standoff": 15
           },
           "zerolinecolor": "white",
           "zerolinewidth": 2
          },
          "yaxis": {
           "automargin": true,
           "gridcolor": "white",
           "linecolor": "white",
           "ticks": "",
           "title": {
            "standoff": 15
           },
           "zerolinecolor": "white",
           "zerolinewidth": 2
          }
         }
        },
        "title": {
         "font": {
          "color": "#4D5663"
         }
        },
        "xaxis": {
         "gridcolor": "#E1E5ED",
         "showgrid": true,
         "tickfont": {
          "color": "#4D5663"
         },
         "title": {
          "font": {
           "color": "#4D5663"
          },
          "text": ""
         },
         "zerolinecolor": "#E1E5ED"
        },
        "xaxis2": {
         "anchor": "y2",
         "gridcolor": "#E1E5ED",
         "showgrid": true,
         "showticklabels": false,
         "tickfont": {
          "color": "#4D5663"
         },
         "title": {
          "font": {
           "color": "#4D5663"
          },
          "text": ""
         },
         "zerolinecolor": "#E1E5ED"
        },
        "yaxis": {
         "domain": [
          0.3,
          1
         ],
         "gridcolor": "#E1E5ED",
         "showgrid": true,
         "tickfont": {
          "color": "#4D5663"
         },
         "title": {
          "font": {
           "color": "#4D5663"
          },
          "text": ""
         },
         "zerolinecolor": "#E1E5ED"
        },
        "yaxis2": {
         "domain": [
          0,
          0.25
         ],
         "gridcolor": "#E1E5ED",
         "showgrid": true,
         "tickfont": {
          "color": "#4D5663"
         },
         "title": {
          "font": {
           "color": "#4D5663"
          },
          "text": "Spread"
         },
         "zerolinecolor": "#E1E5ED"
        }
       }
      },
      "text/html": [
       "<div>                            <div id=\"23d9c1cd-a245-48de-8413-410e9943e4ec\" class=\"plotly-graph-div\" style=\"height:525px; width:100%;\"></div>            <script type=\"text/javascript\">                require([\"plotly\"], function(Plotly) {                    window.PLOTLYENV=window.PLOTLYENV || {};\n",
       "                    window.PLOTLYENV.BASE_URL='https://plot.ly';                                    if (document.getElementById(\"23d9c1cd-a245-48de-8413-410e9943e4ec\")) {                    Plotly.newPlot(                        \"23d9c1cd-a245-48de-8413-410e9943e4ec\",                        [{\"line\":{\"color\":\"rgba(255, 153, 51, 1.0)\",\"dash\":\"solid\",\"shape\":\"linear\",\"width\":1.3},\"mode\":\"lines\",\"name\":\"A\",\"text\":\"\",\"x\":[0,1,2,3,4,5,6,7,8,9,10,11,12,13,14,15,16,17,18,19,20,21,22,23,24,25,26,27,28,29,30,31,32,33,34,35,36,37,38,39,40,41,42,43,44,45,46,47,48,49,50,51,52,53,54,55,56,57,58,59,60,61,62,63,64,65,66,67,68,69,70,71,72,73,74,75,76,77,78,79,80,81,82,83,84,85,86,87,88,89,90,91,92,93,94,95,96,97,98,99],\"y\":[-1.0520499660805134,-0.6395256708852439,-0.33434764741888273,-0.602102263802253,0.3275992110293282,-0.8517119727079342,0.4823647677292349,-0.6733753513218748,1.0663693192389487,-0.6674469283977741,-0.1555538710682971,0.982078463400281,0.5605995734508707,-1.5992430724659148,-0.4863413205475636,-1.635285837548092,1.3935076424093102,1.7941318056056335,0.5341913789906737,-0.9524975663306507,-0.4573351632944464,1.1177083797834142,-0.5706607672093532,0.7867354928231047,0.07981317429930133,-0.6349940715278921,1.5425662192838554,-0.6132422783945425,0.15544048184803386,0.9192445510904795,-1.7359719590500762,-1.9119274895922669,0.6944479962123283,0.3532145001978853,-1.0600796071503271,-0.5334678844301335,-0.6394875240041487,0.3128946201121304,0.016069119234565766,-1.5744316004386434,0.7344487377210069,0.7193287039929793,0.4812823931213064,-0.24678614971224266,-0.2905274885290895,-0.1003666244799347,0.2183659952290479,-2.319740663802171,-0.6745518951897882,0.29578338730627296,0.027684720711771665,0.6195480439047139,0.6876980075689124,-1.1798993200458125,1.1244893859000014,0.5280412892103941,-0.6001297370928859,-0.027008110814554072,-0.2748635223706462,1.4138169456342016,-0.9151732693883676,-0.4134435108103696,0.9255576517778622,0.860868531480433,1.758016656113904,1.6783618939930056,0.06869043899424485,0.6937178925305963,-0.8760537876530695,0.9102278415320038,0.7191692678149171,-0.4913169243308279,1.2337987142169284,0.7956878705772449,1.371542963623464,-1.343501561614963,1.0118949910662463,1.1658612878341348,-0.6928552283460352,-0.4687295487764381,-0.8757314396497151,-0.3643879992119797,0.811605819362338,-0.42095946538411305,-0.9898935045710047,0.7334033677693634,-0.19290472361161884,1.8143264562579273,0.8281944946575908,0.4854377119690578,0.5615674241389551,0.30512951708273917,-0.2966780672407173,2.3797154891776886,1.4080321570020835,-1.03463191031649,-1.941093118397556,-0.5620252053886859,-0.7270510460295249,0.10178198219108311],\"type\":\"scatter\"},{\"line\":{\"color\":\"rgba(55, 128, 191, 1.0)\",\"dash\":\"solid\",\"shape\":\"linear\",\"width\":1.3},\"mode\":\"lines\",\"name\":\"B\",\"text\":\"\",\"x\":[0,1,2,3,4,5,6,7,8,9,10,11,12,13,14,15,16,17,18,19,20,21,22,23,24,25,26,27,28,29,30,31,32,33,34,35,36,37,38,39,40,41,42,43,44,45,46,47,48,49,50,51,52,53,54,55,56,57,58,59,60,61,62,63,64,65,66,67,68,69,70,71,72,73,74,75,76,77,78,79,80,81,82,83,84,85,86,87,88,89,90,91,92,93,94,95,96,97,98,99],\"y\":[-0.5756640459082741,0.5987981212644335,-0.7783665585217159,-0.09573196409819089,-0.14284747496470035,1.1566851064970056,0.14205945762224648,0.9925438822429384,-1.4205067005147545,-0.4243133975107277,0.2046316406674326,-0.8664033231860435,0.30018363681115173,0.7012726412626394,-0.5832744366644343,-1.9611912132619702,-1.2865690654113124,0.2805418321787577,0.5712498729810047,-0.6776239869439911,0.3316361158392233,-0.14461439325213005,-1.0410638673782593,-0.4080654043631619,-0.00631491901211208,0.654337983442778,0.04670538856144417,0.4891070888438266,-1.2277858127245984,-1.5325129450673443,1.2514271194867919,-0.6784529656249904,0.8507471393458212,0.3524385390065126,0.6553698989078516,-1.0598696128958636,-0.5655967775632145,1.1038885195167987,0.51412957783871,-1.03444943752192,-0.5231942655733847,-0.8380629336724287,1.903096658084694,0.4168137650785216,-0.4997398212243618,1.4029778201285397,0.8105226854959072,-1.7054169577749274,0.4605260705984755,-0.9824384505992422,-3.224746706249651,-0.6689949803255751,1.136152225459386,0.5680385123690971,0.7065628304892786,-0.42374809536258623,-0.8945591138218476,1.3206984539123967,-1.047728278006352,0.22476929272194288,-0.0009414573889848483,-0.01541225142410007,0.8263022924568258,0.42637279096367314,0.7989305066857885,-0.9789730984372811,-0.07071920797599111,-0.6115527255986463,-1.251525922052416,0.6676854765757444,1.9869694622253653,1.5658607072704804,-0.4186693946248924,-0.40628885793212743,1.5568244944045366,-0.7326242574894654,0.37958514924466513,-0.1783531218270007,-1.4160686077684221,0.4077861201653217,1.866778069209306,-1.0186822996845648,0.8993809357600041,-0.29568521043114,-0.47082542872155764,0.7282529986227604,0.06269962361015688,-0.3591244801120115,-0.28395660057604427,0.5295132537184689,-0.8352707178155664,0.3743707004534908,-0.31130372186525196,-0.7747932469996983,1.2259633383494222,-0.4464779411147586,0.996920839179652,0.20800829553317293,0.1858285403997541,-1.5192392350514088],\"type\":\"scatter\"},{\"connectgaps\":false,\"fill\":\"tozeroy\",\"line\":{\"color\":\"green\",\"dash\":\"solid\",\"shape\":\"linear\",\"width\":0.5},\"mode\":\"lines\",\"name\":\"Spread\",\"showlegend\":false,\"x\":[0,1,2,3,4,5,6,7,8,9,10,11,12,13,14,15,16,17,18,19,20,21,22,23,24,25,26,27,28,29,30,31,32,33,34,35,36,37,38,39,40,41,42,43,44,45,46,47,48,49,50,51,52,53,54,55,56,57,58,59,60,61,62,63,64,65,66,67,68,69,70,71,72,73,74,75,76,77,78,79,80,81,82,83,84,85,86,87,88,89,90,91,92,93,94,95,96,97,98,99],\"xaxis\":\"x2\",\"y\":[\"\",\"\",0.44401891110283315,\"\",0.47044668599402856,\"\",0.34030531010698845,\"\",2.486876019753703,\"\",\"\",1.8484817865863246,0.260415936639719,\"\",0.09693311611687072,0.3259053757138781,2.6800767078206227,1.5135899734268756,\"\",\"\",\"\",1.2623227730355442,0.4704031001689061,1.1948008971862667,0.08612809331141341,\"\",1.4958608307224113,\"\",1.3832262945726324,2.451757496157824,\"\",\"\",\"\",0.0007759611913726872,\"\",0.5264017284657301,\"\",\"\",\"\",\"\",1.2576430032943917,1.557391637665408,\"\",\"\",0.20921233269527229,\"\",\"\",\"\",\"\",1.278221837905515,3.2524314269614227,1.288543024230289,\"\",\"\",0.41792655541072277,0.9517893845729803,0.29442937672896174,\"\",0.7728647556357058,1.1890476529122587,\"\",\"\",0.09925535932103635,0.4344957405167598,0.9590861494281154,2.657334992430287,0.13940964697023595,1.3052706181292426,0.37547213439934646,0.24254236495625936,\"\",\"\",1.6524681088418207,1.2019767285093723,\"\",\"\",0.6323098418215811,1.3442144096611355,0.723213379422387,\"\",\"\",0.6542943004725852,\"\",\"\",\"\",0.005150369146603051,\"\",2.173450936369939,1.112151095233635,\"\",1.3968381419545215,\"\",0.014625654624534634,3.154508736177387,0.18206881865266134,\"\",\"\",\"\",\"\",1.6210212172424918],\"yaxis\":\"y2\",\"type\":\"scatter\"},{\"connectgaps\":false,\"fill\":\"tozeroy\",\"line\":{\"color\":\"red\",\"dash\":\"solid\",\"shape\":\"linear\",\"width\":0.5},\"mode\":\"lines\",\"name\":\"Spread\",\"showlegend\":false,\"x\":[0,1,2,3,4,5,6,7,8,9,10,11,12,13,14,15,16,17,18,19,20,21,22,23,24,25,26,27,28,29,30,31,32,33,34,35,36,37,38,39,40,41,42,43,44,45,46,47,48,49,50,51,52,53,54,55,56,57,58,59,60,61,62,63,64,65,66,67,68,69,70,71,72,73,74,75,76,77,78,79,80,81,82,83,84,85,86,87,88,89,90,91,92,93,94,95,96,97,98,99],\"xaxis\":\"x2\",\"y\":[-0.47638592017223924,-1.2383237921496775,\"\",-0.5063702997040621,\"\",-2.00839707920494,\"\",-1.6659192335648132,\"\",-0.24313353088704637,-0.3601855117357297,\"\",\"\",-2.3005157137285543,\"\",\"\",\"\",\"\",-0.03705849399033101,-0.2748735793866597,-0.7889712791336697,\"\",\"\",\"\",\"\",-1.2893320549706702,\"\",-1.102349367238369,\"\",\"\",-2.987399078536868,-1.2334745239672764,-0.1562991431334929,\"\",-1.7154495060581787,\"\",-0.07389074644093419,-0.7909938994046684,-0.4980604586041443,-0.5399821629167234,\"\",\"\",-1.4218142649633876,-0.6635999147907643,\"\",-1.5033444446084743,-0.5921566902668594,-0.6143237060272435,-1.1350779657882637,\"\",\"\",\"\",-0.4484542178904737,-1.7479378324149097,\"\",\"\",\"\",-1.3477065647269508,\"\",\"\",-0.9142318119993827,-0.39803125938626954,\"\",\"\",\"\",\"\",\"\",\"\",\"\",\"\",-1.2678001944104482,-2.0571776316013084,\"\",\"\",-0.18528153078107268,-0.6108773041254977,\"\",\"\",\"\",-0.8765156689417597,-2.742509508859021,\"\",-0.08777511639766611,-0.12527425495297306,-0.519068075849447,\"\",-0.2556043472217757,\"\",\"\",-0.04407554174941114,\"\",-0.06924118337075164,\"\",\"\",\"\",-0.5881539692017315,-2.938013957577208,-0.7700335009218588,-0.9128795864292789,\"\"],\"yaxis\":\"y2\",\"type\":\"scatter\"}],                        {\"hovermode\":\"x\",\"legend\":{\"bgcolor\":\"#F5F6F9\",\"font\":{\"color\":\"#4D5663\"}},\"paper_bgcolor\":\"#F5F6F9\",\"plot_bgcolor\":\"#F5F6F9\",\"template\":{\"data\":{\"barpolar\":[{\"marker\":{\"line\":{\"color\":\"#E5ECF6\",\"width\":0.5},\"pattern\":{\"fillmode\":\"overlay\",\"size\":10,\"solidity\":0.2}},\"type\":\"barpolar\"}],\"bar\":[{\"error_x\":{\"color\":\"#2a3f5f\"},\"error_y\":{\"color\":\"#2a3f5f\"},\"marker\":{\"line\":{\"color\":\"#E5ECF6\",\"width\":0.5},\"pattern\":{\"fillmode\":\"overlay\",\"size\":10,\"solidity\":0.2}},\"type\":\"bar\"}],\"carpet\":[{\"aaxis\":{\"endlinecolor\":\"#2a3f5f\",\"gridcolor\":\"white\",\"linecolor\":\"white\",\"minorgridcolor\":\"white\",\"startlinecolor\":\"#2a3f5f\"},\"baxis\":{\"endlinecolor\":\"#2a3f5f\",\"gridcolor\":\"white\",\"linecolor\":\"white\",\"minorgridcolor\":\"white\",\"startlinecolor\":\"#2a3f5f\"},\"type\":\"carpet\"}],\"choropleth\":[{\"colorbar\":{\"outlinewidth\":0,\"ticks\":\"\"},\"type\":\"choropleth\"}],\"contourcarpet\":[{\"colorbar\":{\"outlinewidth\":0,\"ticks\":\"\"},\"type\":\"contourcarpet\"}],\"contour\":[{\"colorbar\":{\"outlinewidth\":0,\"ticks\":\"\"},\"colorscale\":[[0.0,\"#0d0887\"],[0.1111111111111111,\"#46039f\"],[0.2222222222222222,\"#7201a8\"],[0.3333333333333333,\"#9c179e\"],[0.4444444444444444,\"#bd3786\"],[0.5555555555555556,\"#d8576b\"],[0.6666666666666666,\"#ed7953\"],[0.7777777777777778,\"#fb9f3a\"],[0.8888888888888888,\"#fdca26\"],[1.0,\"#f0f921\"]],\"type\":\"contour\"}],\"heatmapgl\":[{\"colorbar\":{\"outlinewidth\":0,\"ticks\":\"\"},\"colorscale\":[[0.0,\"#0d0887\"],[0.1111111111111111,\"#46039f\"],[0.2222222222222222,\"#7201a8\"],[0.3333333333333333,\"#9c179e\"],[0.4444444444444444,\"#bd3786\"],[0.5555555555555556,\"#d8576b\"],[0.6666666666666666,\"#ed7953\"],[0.7777777777777778,\"#fb9f3a\"],[0.8888888888888888,\"#fdca26\"],[1.0,\"#f0f921\"]],\"type\":\"heatmapgl\"}],\"heatmap\":[{\"colorbar\":{\"outlinewidth\":0,\"ticks\":\"\"},\"colorscale\":[[0.0,\"#0d0887\"],[0.1111111111111111,\"#46039f\"],[0.2222222222222222,\"#7201a8\"],[0.3333333333333333,\"#9c179e\"],[0.4444444444444444,\"#bd3786\"],[0.5555555555555556,\"#d8576b\"],[0.6666666666666666,\"#ed7953\"],[0.7777777777777778,\"#fb9f3a\"],[0.8888888888888888,\"#fdca26\"],[1.0,\"#f0f921\"]],\"type\":\"heatmap\"}],\"histogram2dcontour\":[{\"colorbar\":{\"outlinewidth\":0,\"ticks\":\"\"},\"colorscale\":[[0.0,\"#0d0887\"],[0.1111111111111111,\"#46039f\"],[0.2222222222222222,\"#7201a8\"],[0.3333333333333333,\"#9c179e\"],[0.4444444444444444,\"#bd3786\"],[0.5555555555555556,\"#d8576b\"],[0.6666666666666666,\"#ed7953\"],[0.7777777777777778,\"#fb9f3a\"],[0.8888888888888888,\"#fdca26\"],[1.0,\"#f0f921\"]],\"type\":\"histogram2dcontour\"}],\"histogram2d\":[{\"colorbar\":{\"outlinewidth\":0,\"ticks\":\"\"},\"colorscale\":[[0.0,\"#0d0887\"],[0.1111111111111111,\"#46039f\"],[0.2222222222222222,\"#7201a8\"],[0.3333333333333333,\"#9c179e\"],[0.4444444444444444,\"#bd3786\"],[0.5555555555555556,\"#d8576b\"],[0.6666666666666666,\"#ed7953\"],[0.7777777777777778,\"#fb9f3a\"],[0.8888888888888888,\"#fdca26\"],[1.0,\"#f0f921\"]],\"type\":\"histogram2d\"}],\"histogram\":[{\"marker\":{\"pattern\":{\"fillmode\":\"overlay\",\"size\":10,\"solidity\":0.2}},\"type\":\"histogram\"}],\"mesh3d\":[{\"colorbar\":{\"outlinewidth\":0,\"ticks\":\"\"},\"type\":\"mesh3d\"}],\"parcoords\":[{\"line\":{\"colorbar\":{\"outlinewidth\":0,\"ticks\":\"\"}},\"type\":\"parcoords\"}],\"pie\":[{\"automargin\":true,\"type\":\"pie\"}],\"scatter3d\":[{\"line\":{\"colorbar\":{\"outlinewidth\":0,\"ticks\":\"\"}},\"marker\":{\"colorbar\":{\"outlinewidth\":0,\"ticks\":\"\"}},\"type\":\"scatter3d\"}],\"scattercarpet\":[{\"marker\":{\"colorbar\":{\"outlinewidth\":0,\"ticks\":\"\"}},\"type\":\"scattercarpet\"}],\"scattergeo\":[{\"marker\":{\"colorbar\":{\"outlinewidth\":0,\"ticks\":\"\"}},\"type\":\"scattergeo\"}],\"scattergl\":[{\"marker\":{\"colorbar\":{\"outlinewidth\":0,\"ticks\":\"\"}},\"type\":\"scattergl\"}],\"scattermapbox\":[{\"marker\":{\"colorbar\":{\"outlinewidth\":0,\"ticks\":\"\"}},\"type\":\"scattermapbox\"}],\"scatterpolargl\":[{\"marker\":{\"colorbar\":{\"outlinewidth\":0,\"ticks\":\"\"}},\"type\":\"scatterpolargl\"}],\"scatterpolar\":[{\"marker\":{\"colorbar\":{\"outlinewidth\":0,\"ticks\":\"\"}},\"type\":\"scatterpolar\"}],\"scatter\":[{\"fillpattern\":{\"fillmode\":\"overlay\",\"size\":10,\"solidity\":0.2},\"type\":\"scatter\"}],\"scatterternary\":[{\"marker\":{\"colorbar\":{\"outlinewidth\":0,\"ticks\":\"\"}},\"type\":\"scatterternary\"}],\"surface\":[{\"colorbar\":{\"outlinewidth\":0,\"ticks\":\"\"},\"colorscale\":[[0.0,\"#0d0887\"],[0.1111111111111111,\"#46039f\"],[0.2222222222222222,\"#7201a8\"],[0.3333333333333333,\"#9c179e\"],[0.4444444444444444,\"#bd3786\"],[0.5555555555555556,\"#d8576b\"],[0.6666666666666666,\"#ed7953\"],[0.7777777777777778,\"#fb9f3a\"],[0.8888888888888888,\"#fdca26\"],[1.0,\"#f0f921\"]],\"type\":\"surface\"}],\"table\":[{\"cells\":{\"fill\":{\"color\":\"#EBF0F8\"},\"line\":{\"color\":\"white\"}},\"header\":{\"fill\":{\"color\":\"#C8D4E3\"},\"line\":{\"color\":\"white\"}},\"type\":\"table\"}]},\"layout\":{\"annotationdefaults\":{\"arrowcolor\":\"#2a3f5f\",\"arrowhead\":0,\"arrowwidth\":1},\"autotypenumbers\":\"strict\",\"coloraxis\":{\"colorbar\":{\"outlinewidth\":0,\"ticks\":\"\"}},\"colorscale\":{\"diverging\":[[0,\"#8e0152\"],[0.1,\"#c51b7d\"],[0.2,\"#de77ae\"],[0.3,\"#f1b6da\"],[0.4,\"#fde0ef\"],[0.5,\"#f7f7f7\"],[0.6,\"#e6f5d0\"],[0.7,\"#b8e186\"],[0.8,\"#7fbc41\"],[0.9,\"#4d9221\"],[1,\"#276419\"]],\"sequential\":[[0.0,\"#0d0887\"],[0.1111111111111111,\"#46039f\"],[0.2222222222222222,\"#7201a8\"],[0.3333333333333333,\"#9c179e\"],[0.4444444444444444,\"#bd3786\"],[0.5555555555555556,\"#d8576b\"],[0.6666666666666666,\"#ed7953\"],[0.7777777777777778,\"#fb9f3a\"],[0.8888888888888888,\"#fdca26\"],[1.0,\"#f0f921\"]],\"sequentialminus\":[[0.0,\"#0d0887\"],[0.1111111111111111,\"#46039f\"],[0.2222222222222222,\"#7201a8\"],[0.3333333333333333,\"#9c179e\"],[0.4444444444444444,\"#bd3786\"],[0.5555555555555556,\"#d8576b\"],[0.6666666666666666,\"#ed7953\"],[0.7777777777777778,\"#fb9f3a\"],[0.8888888888888888,\"#fdca26\"],[1.0,\"#f0f921\"]]},\"colorway\":[\"#636efa\",\"#EF553B\",\"#00cc96\",\"#ab63fa\",\"#FFA15A\",\"#19d3f3\",\"#FF6692\",\"#B6E880\",\"#FF97FF\",\"#FECB52\"],\"font\":{\"color\":\"#2a3f5f\"},\"geo\":{\"bgcolor\":\"white\",\"lakecolor\":\"white\",\"landcolor\":\"#E5ECF6\",\"showlakes\":true,\"showland\":true,\"subunitcolor\":\"white\"},\"hoverlabel\":{\"align\":\"left\"},\"hovermode\":\"closest\",\"mapbox\":{\"style\":\"light\"},\"paper_bgcolor\":\"white\",\"plot_bgcolor\":\"#E5ECF6\",\"polar\":{\"angularaxis\":{\"gridcolor\":\"white\",\"linecolor\":\"white\",\"ticks\":\"\"},\"bgcolor\":\"#E5ECF6\",\"radialaxis\":{\"gridcolor\":\"white\",\"linecolor\":\"white\",\"ticks\":\"\"}},\"scene\":{\"xaxis\":{\"backgroundcolor\":\"#E5ECF6\",\"gridcolor\":\"white\",\"gridwidth\":2,\"linecolor\":\"white\",\"showbackground\":true,\"ticks\":\"\",\"zerolinecolor\":\"white\"},\"yaxis\":{\"backgroundcolor\":\"#E5ECF6\",\"gridcolor\":\"white\",\"gridwidth\":2,\"linecolor\":\"white\",\"showbackground\":true,\"ticks\":\"\",\"zerolinecolor\":\"white\"},\"zaxis\":{\"backgroundcolor\":\"#E5ECF6\",\"gridcolor\":\"white\",\"gridwidth\":2,\"linecolor\":\"white\",\"showbackground\":true,\"ticks\":\"\",\"zerolinecolor\":\"white\"}},\"shapedefaults\":{\"line\":{\"color\":\"#2a3f5f\"}},\"ternary\":{\"aaxis\":{\"gridcolor\":\"white\",\"linecolor\":\"white\",\"ticks\":\"\"},\"baxis\":{\"gridcolor\":\"white\",\"linecolor\":\"white\",\"ticks\":\"\"},\"bgcolor\":\"#E5ECF6\",\"caxis\":{\"gridcolor\":\"white\",\"linecolor\":\"white\",\"ticks\":\"\"}},\"title\":{\"x\":0.05},\"xaxis\":{\"automargin\":true,\"gridcolor\":\"white\",\"linecolor\":\"white\",\"ticks\":\"\",\"title\":{\"standoff\":15},\"zerolinecolor\":\"white\",\"zerolinewidth\":2},\"yaxis\":{\"automargin\":true,\"gridcolor\":\"white\",\"linecolor\":\"white\",\"ticks\":\"\",\"title\":{\"standoff\":15},\"zerolinecolor\":\"white\",\"zerolinewidth\":2}}},\"title\":{\"font\":{\"color\":\"#4D5663\"}},\"xaxis\":{\"gridcolor\":\"#E1E5ED\",\"showgrid\":true,\"tickfont\":{\"color\":\"#4D5663\"},\"title\":{\"font\":{\"color\":\"#4D5663\"},\"text\":\"\"},\"zerolinecolor\":\"#E1E5ED\"},\"yaxis\":{\"domain\":[0.3,1],\"gridcolor\":\"#E1E5ED\",\"showgrid\":true,\"tickfont\":{\"color\":\"#4D5663\"},\"title\":{\"font\":{\"color\":\"#4D5663\"},\"text\":\"\"},\"zerolinecolor\":\"#E1E5ED\"},\"yaxis2\":{\"domain\":[0,0.25],\"gridcolor\":\"#E1E5ED\",\"showgrid\":true,\"tickfont\":{\"color\":\"#4D5663\"},\"title\":{\"font\":{\"color\":\"#4D5663\"},\"text\":\"Spread\"},\"zerolinecolor\":\"#E1E5ED\"},\"xaxis2\":{\"anchor\":\"y2\",\"gridcolor\":\"#E1E5ED\",\"showgrid\":true,\"showticklabels\":false,\"tickfont\":{\"color\":\"#4D5663\"},\"title\":{\"font\":{\"color\":\"#4D5663\"},\"text\":\"\"},\"zerolinecolor\":\"#E1E5ED\"}},                        {\"showLink\": true, \"linkText\": \"Export to plot.ly\", \"plotlyServerURL\": \"https://plot.ly\", \"responsive\": true}                    ).then(function(){\n",
       "                            \n",
       "var gd = document.getElementById('23d9c1cd-a245-48de-8413-410e9943e4ec');\n",
       "var x = new MutationObserver(function (mutations, observer) {{\n",
       "        var display = window.getComputedStyle(gd).display;\n",
       "        if (!display || display === 'none') {{\n",
       "            console.log([gd, 'removed!']);\n",
       "            Plotly.purge(gd);\n",
       "            observer.disconnect();\n",
       "        }}\n",
       "}});\n",
       "\n",
       "// Listen for the removal of the full notebook cells\n",
       "var notebookContainer = gd.closest('#notebook-container');\n",
       "if (notebookContainer) {{\n",
       "    x.observe(notebookContainer, {childList: true});\n",
       "}}\n",
       "\n",
       "// Listen for the clearing of the current output cell\n",
       "var outputEl = gd.closest('.output');\n",
       "if (outputEl) {{\n",
       "    x.observe(outputEl, {childList: true});\n",
       "}}\n",
       "\n",
       "                        })                };                });            </script>        </div>"
      ]
     },
     "metadata": {},
     "output_type": "display_data"
    }
   ],
   "source": [
    "df[['A','B']].iplot(kind='spread')"
   ]
  },
  {
   "cell_type": "markdown",
   "metadata": {},
   "source": [
    "## histogram"
   ]
  },
  {
   "cell_type": "code",
   "execution_count": 16,
   "metadata": {},
   "outputs": [
    {
     "data": {
      "application/vnd.plotly.v1+json": {
       "config": {
        "linkText": "Export to plot.ly",
        "plotlyServerURL": "https://plot.ly",
        "showLink": true
       },
       "data": [
        {
         "histfunc": "count",
         "histnorm": "",
         "marker": {
          "color": "rgba(255, 153, 51, 1.0)",
          "line": {
           "color": "#4D5663",
           "width": 1.3
          }
         },
         "name": "A",
         "nbinsx": 25,
         "opacity": 0.8,
         "orientation": "v",
         "type": "histogram",
         "x": [
          -1.0520499660805134,
          -0.6395256708852439,
          -0.33434764741888273,
          -0.602102263802253,
          0.3275992110293282,
          -0.8517119727079342,
          0.4823647677292349,
          -0.6733753513218748,
          1.0663693192389487,
          -0.6674469283977741,
          -0.1555538710682971,
          0.982078463400281,
          0.5605995734508707,
          -1.5992430724659148,
          -0.4863413205475636,
          -1.635285837548092,
          1.3935076424093102,
          1.7941318056056335,
          0.5341913789906737,
          -0.9524975663306507,
          -0.4573351632944464,
          1.1177083797834142,
          -0.5706607672093532,
          0.7867354928231047,
          0.07981317429930133,
          -0.6349940715278921,
          1.5425662192838554,
          -0.6132422783945425,
          0.15544048184803386,
          0.9192445510904795,
          -1.7359719590500762,
          -1.9119274895922669,
          0.6944479962123283,
          0.3532145001978853,
          -1.0600796071503271,
          -0.5334678844301335,
          -0.6394875240041487,
          0.3128946201121304,
          0.016069119234565766,
          -1.5744316004386434,
          0.7344487377210069,
          0.7193287039929793,
          0.4812823931213064,
          -0.24678614971224266,
          -0.2905274885290895,
          -0.1003666244799347,
          0.2183659952290479,
          -2.319740663802171,
          -0.6745518951897882,
          0.29578338730627296,
          0.027684720711771665,
          0.6195480439047139,
          0.6876980075689124,
          -1.1798993200458125,
          1.1244893859000014,
          0.5280412892103941,
          -0.6001297370928859,
          -0.027008110814554072,
          -0.2748635223706462,
          1.4138169456342016,
          -0.9151732693883676,
          -0.4134435108103696,
          0.9255576517778622,
          0.860868531480433,
          1.758016656113904,
          1.6783618939930056,
          0.06869043899424485,
          0.6937178925305963,
          -0.8760537876530695,
          0.9102278415320038,
          0.7191692678149171,
          -0.4913169243308279,
          1.2337987142169284,
          0.7956878705772449,
          1.371542963623464,
          -1.343501561614963,
          1.0118949910662463,
          1.1658612878341348,
          -0.6928552283460352,
          -0.4687295487764381,
          -0.8757314396497151,
          -0.3643879992119797,
          0.811605819362338,
          -0.42095946538411305,
          -0.9898935045710047,
          0.7334033677693634,
          -0.19290472361161884,
          1.8143264562579273,
          0.8281944946575908,
          0.4854377119690578,
          0.5615674241389551,
          0.30512951708273917,
          -0.2966780672407173,
          2.3797154891776886,
          1.4080321570020835,
          -1.03463191031649,
          -1.941093118397556,
          -0.5620252053886859,
          -0.7270510460295249,
          0.10178198219108311
         ]
        }
       ],
       "layout": {
        "barmode": "overlay",
        "legend": {
         "bgcolor": "#F5F6F9",
         "font": {
          "color": "#4D5663"
         }
        },
        "paper_bgcolor": "#F5F6F9",
        "plot_bgcolor": "#F5F6F9",
        "template": {
         "data": {
          "bar": [
           {
            "error_x": {
             "color": "#2a3f5f"
            },
            "error_y": {
             "color": "#2a3f5f"
            },
            "marker": {
             "line": {
              "color": "#E5ECF6",
              "width": 0.5
             },
             "pattern": {
              "fillmode": "overlay",
              "size": 10,
              "solidity": 0.2
             }
            },
            "type": "bar"
           }
          ],
          "barpolar": [
           {
            "marker": {
             "line": {
              "color": "#E5ECF6",
              "width": 0.5
             },
             "pattern": {
              "fillmode": "overlay",
              "size": 10,
              "solidity": 0.2
             }
            },
            "type": "barpolar"
           }
          ],
          "carpet": [
           {
            "aaxis": {
             "endlinecolor": "#2a3f5f",
             "gridcolor": "white",
             "linecolor": "white",
             "minorgridcolor": "white",
             "startlinecolor": "#2a3f5f"
            },
            "baxis": {
             "endlinecolor": "#2a3f5f",
             "gridcolor": "white",
             "linecolor": "white",
             "minorgridcolor": "white",
             "startlinecolor": "#2a3f5f"
            },
            "type": "carpet"
           }
          ],
          "choropleth": [
           {
            "colorbar": {
             "outlinewidth": 0,
             "ticks": ""
            },
            "type": "choropleth"
           }
          ],
          "contour": [
           {
            "colorbar": {
             "outlinewidth": 0,
             "ticks": ""
            },
            "colorscale": [
             [
              0,
              "#0d0887"
             ],
             [
              0.1111111111111111,
              "#46039f"
             ],
             [
              0.2222222222222222,
              "#7201a8"
             ],
             [
              0.3333333333333333,
              "#9c179e"
             ],
             [
              0.4444444444444444,
              "#bd3786"
             ],
             [
              0.5555555555555556,
              "#d8576b"
             ],
             [
              0.6666666666666666,
              "#ed7953"
             ],
             [
              0.7777777777777778,
              "#fb9f3a"
             ],
             [
              0.8888888888888888,
              "#fdca26"
             ],
             [
              1,
              "#f0f921"
             ]
            ],
            "type": "contour"
           }
          ],
          "contourcarpet": [
           {
            "colorbar": {
             "outlinewidth": 0,
             "ticks": ""
            },
            "type": "contourcarpet"
           }
          ],
          "heatmap": [
           {
            "colorbar": {
             "outlinewidth": 0,
             "ticks": ""
            },
            "colorscale": [
             [
              0,
              "#0d0887"
             ],
             [
              0.1111111111111111,
              "#46039f"
             ],
             [
              0.2222222222222222,
              "#7201a8"
             ],
             [
              0.3333333333333333,
              "#9c179e"
             ],
             [
              0.4444444444444444,
              "#bd3786"
             ],
             [
              0.5555555555555556,
              "#d8576b"
             ],
             [
              0.6666666666666666,
              "#ed7953"
             ],
             [
              0.7777777777777778,
              "#fb9f3a"
             ],
             [
              0.8888888888888888,
              "#fdca26"
             ],
             [
              1,
              "#f0f921"
             ]
            ],
            "type": "heatmap"
           }
          ],
          "heatmapgl": [
           {
            "colorbar": {
             "outlinewidth": 0,
             "ticks": ""
            },
            "colorscale": [
             [
              0,
              "#0d0887"
             ],
             [
              0.1111111111111111,
              "#46039f"
             ],
             [
              0.2222222222222222,
              "#7201a8"
             ],
             [
              0.3333333333333333,
              "#9c179e"
             ],
             [
              0.4444444444444444,
              "#bd3786"
             ],
             [
              0.5555555555555556,
              "#d8576b"
             ],
             [
              0.6666666666666666,
              "#ed7953"
             ],
             [
              0.7777777777777778,
              "#fb9f3a"
             ],
             [
              0.8888888888888888,
              "#fdca26"
             ],
             [
              1,
              "#f0f921"
             ]
            ],
            "type": "heatmapgl"
           }
          ],
          "histogram": [
           {
            "marker": {
             "pattern": {
              "fillmode": "overlay",
              "size": 10,
              "solidity": 0.2
             }
            },
            "type": "histogram"
           }
          ],
          "histogram2d": [
           {
            "colorbar": {
             "outlinewidth": 0,
             "ticks": ""
            },
            "colorscale": [
             [
              0,
              "#0d0887"
             ],
             [
              0.1111111111111111,
              "#46039f"
             ],
             [
              0.2222222222222222,
              "#7201a8"
             ],
             [
              0.3333333333333333,
              "#9c179e"
             ],
             [
              0.4444444444444444,
              "#bd3786"
             ],
             [
              0.5555555555555556,
              "#d8576b"
             ],
             [
              0.6666666666666666,
              "#ed7953"
             ],
             [
              0.7777777777777778,
              "#fb9f3a"
             ],
             [
              0.8888888888888888,
              "#fdca26"
             ],
             [
              1,
              "#f0f921"
             ]
            ],
            "type": "histogram2d"
           }
          ],
          "histogram2dcontour": [
           {
            "colorbar": {
             "outlinewidth": 0,
             "ticks": ""
            },
            "colorscale": [
             [
              0,
              "#0d0887"
             ],
             [
              0.1111111111111111,
              "#46039f"
             ],
             [
              0.2222222222222222,
              "#7201a8"
             ],
             [
              0.3333333333333333,
              "#9c179e"
             ],
             [
              0.4444444444444444,
              "#bd3786"
             ],
             [
              0.5555555555555556,
              "#d8576b"
             ],
             [
              0.6666666666666666,
              "#ed7953"
             ],
             [
              0.7777777777777778,
              "#fb9f3a"
             ],
             [
              0.8888888888888888,
              "#fdca26"
             ],
             [
              1,
              "#f0f921"
             ]
            ],
            "type": "histogram2dcontour"
           }
          ],
          "mesh3d": [
           {
            "colorbar": {
             "outlinewidth": 0,
             "ticks": ""
            },
            "type": "mesh3d"
           }
          ],
          "parcoords": [
           {
            "line": {
             "colorbar": {
              "outlinewidth": 0,
              "ticks": ""
             }
            },
            "type": "parcoords"
           }
          ],
          "pie": [
           {
            "automargin": true,
            "type": "pie"
           }
          ],
          "scatter": [
           {
            "fillpattern": {
             "fillmode": "overlay",
             "size": 10,
             "solidity": 0.2
            },
            "type": "scatter"
           }
          ],
          "scatter3d": [
           {
            "line": {
             "colorbar": {
              "outlinewidth": 0,
              "ticks": ""
             }
            },
            "marker": {
             "colorbar": {
              "outlinewidth": 0,
              "ticks": ""
             }
            },
            "type": "scatter3d"
           }
          ],
          "scattercarpet": [
           {
            "marker": {
             "colorbar": {
              "outlinewidth": 0,
              "ticks": ""
             }
            },
            "type": "scattercarpet"
           }
          ],
          "scattergeo": [
           {
            "marker": {
             "colorbar": {
              "outlinewidth": 0,
              "ticks": ""
             }
            },
            "type": "scattergeo"
           }
          ],
          "scattergl": [
           {
            "marker": {
             "colorbar": {
              "outlinewidth": 0,
              "ticks": ""
             }
            },
            "type": "scattergl"
           }
          ],
          "scattermapbox": [
           {
            "marker": {
             "colorbar": {
              "outlinewidth": 0,
              "ticks": ""
             }
            },
            "type": "scattermapbox"
           }
          ],
          "scatterpolar": [
           {
            "marker": {
             "colorbar": {
              "outlinewidth": 0,
              "ticks": ""
             }
            },
            "type": "scatterpolar"
           }
          ],
          "scatterpolargl": [
           {
            "marker": {
             "colorbar": {
              "outlinewidth": 0,
              "ticks": ""
             }
            },
            "type": "scatterpolargl"
           }
          ],
          "scatterternary": [
           {
            "marker": {
             "colorbar": {
              "outlinewidth": 0,
              "ticks": ""
             }
            },
            "type": "scatterternary"
           }
          ],
          "surface": [
           {
            "colorbar": {
             "outlinewidth": 0,
             "ticks": ""
            },
            "colorscale": [
             [
              0,
              "#0d0887"
             ],
             [
              0.1111111111111111,
              "#46039f"
             ],
             [
              0.2222222222222222,
              "#7201a8"
             ],
             [
              0.3333333333333333,
              "#9c179e"
             ],
             [
              0.4444444444444444,
              "#bd3786"
             ],
             [
              0.5555555555555556,
              "#d8576b"
             ],
             [
              0.6666666666666666,
              "#ed7953"
             ],
             [
              0.7777777777777778,
              "#fb9f3a"
             ],
             [
              0.8888888888888888,
              "#fdca26"
             ],
             [
              1,
              "#f0f921"
             ]
            ],
            "type": "surface"
           }
          ],
          "table": [
           {
            "cells": {
             "fill": {
              "color": "#EBF0F8"
             },
             "line": {
              "color": "white"
             }
            },
            "header": {
             "fill": {
              "color": "#C8D4E3"
             },
             "line": {
              "color": "white"
             }
            },
            "type": "table"
           }
          ]
         },
         "layout": {
          "annotationdefaults": {
           "arrowcolor": "#2a3f5f",
           "arrowhead": 0,
           "arrowwidth": 1
          },
          "autotypenumbers": "strict",
          "coloraxis": {
           "colorbar": {
            "outlinewidth": 0,
            "ticks": ""
           }
          },
          "colorscale": {
           "diverging": [
            [
             0,
             "#8e0152"
            ],
            [
             0.1,
             "#c51b7d"
            ],
            [
             0.2,
             "#de77ae"
            ],
            [
             0.3,
             "#f1b6da"
            ],
            [
             0.4,
             "#fde0ef"
            ],
            [
             0.5,
             "#f7f7f7"
            ],
            [
             0.6,
             "#e6f5d0"
            ],
            [
             0.7,
             "#b8e186"
            ],
            [
             0.8,
             "#7fbc41"
            ],
            [
             0.9,
             "#4d9221"
            ],
            [
             1,
             "#276419"
            ]
           ],
           "sequential": [
            [
             0,
             "#0d0887"
            ],
            [
             0.1111111111111111,
             "#46039f"
            ],
            [
             0.2222222222222222,
             "#7201a8"
            ],
            [
             0.3333333333333333,
             "#9c179e"
            ],
            [
             0.4444444444444444,
             "#bd3786"
            ],
            [
             0.5555555555555556,
             "#d8576b"
            ],
            [
             0.6666666666666666,
             "#ed7953"
            ],
            [
             0.7777777777777778,
             "#fb9f3a"
            ],
            [
             0.8888888888888888,
             "#fdca26"
            ],
            [
             1,
             "#f0f921"
            ]
           ],
           "sequentialminus": [
            [
             0,
             "#0d0887"
            ],
            [
             0.1111111111111111,
             "#46039f"
            ],
            [
             0.2222222222222222,
             "#7201a8"
            ],
            [
             0.3333333333333333,
             "#9c179e"
            ],
            [
             0.4444444444444444,
             "#bd3786"
            ],
            [
             0.5555555555555556,
             "#d8576b"
            ],
            [
             0.6666666666666666,
             "#ed7953"
            ],
            [
             0.7777777777777778,
             "#fb9f3a"
            ],
            [
             0.8888888888888888,
             "#fdca26"
            ],
            [
             1,
             "#f0f921"
            ]
           ]
          },
          "colorway": [
           "#636efa",
           "#EF553B",
           "#00cc96",
           "#ab63fa",
           "#FFA15A",
           "#19d3f3",
           "#FF6692",
           "#B6E880",
           "#FF97FF",
           "#FECB52"
          ],
          "font": {
           "color": "#2a3f5f"
          },
          "geo": {
           "bgcolor": "white",
           "lakecolor": "white",
           "landcolor": "#E5ECF6",
           "showlakes": true,
           "showland": true,
           "subunitcolor": "white"
          },
          "hoverlabel": {
           "align": "left"
          },
          "hovermode": "closest",
          "mapbox": {
           "style": "light"
          },
          "paper_bgcolor": "white",
          "plot_bgcolor": "#E5ECF6",
          "polar": {
           "angularaxis": {
            "gridcolor": "white",
            "linecolor": "white",
            "ticks": ""
           },
           "bgcolor": "#E5ECF6",
           "radialaxis": {
            "gridcolor": "white",
            "linecolor": "white",
            "ticks": ""
           }
          },
          "scene": {
           "xaxis": {
            "backgroundcolor": "#E5ECF6",
            "gridcolor": "white",
            "gridwidth": 2,
            "linecolor": "white",
            "showbackground": true,
            "ticks": "",
            "zerolinecolor": "white"
           },
           "yaxis": {
            "backgroundcolor": "#E5ECF6",
            "gridcolor": "white",
            "gridwidth": 2,
            "linecolor": "white",
            "showbackground": true,
            "ticks": "",
            "zerolinecolor": "white"
           },
           "zaxis": {
            "backgroundcolor": "#E5ECF6",
            "gridcolor": "white",
            "gridwidth": 2,
            "linecolor": "white",
            "showbackground": true,
            "ticks": "",
            "zerolinecolor": "white"
           }
          },
          "shapedefaults": {
           "line": {
            "color": "#2a3f5f"
           }
          },
          "ternary": {
           "aaxis": {
            "gridcolor": "white",
            "linecolor": "white",
            "ticks": ""
           },
           "baxis": {
            "gridcolor": "white",
            "linecolor": "white",
            "ticks": ""
           },
           "bgcolor": "#E5ECF6",
           "caxis": {
            "gridcolor": "white",
            "linecolor": "white",
            "ticks": ""
           }
          },
          "title": {
           "x": 0.05
          },
          "xaxis": {
           "automargin": true,
           "gridcolor": "white",
           "linecolor": "white",
           "ticks": "",
           "title": {
            "standoff": 15
           },
           "zerolinecolor": "white",
           "zerolinewidth": 2
          },
          "yaxis": {
           "automargin": true,
           "gridcolor": "white",
           "linecolor": "white",
           "ticks": "",
           "title": {
            "standoff": 15
           },
           "zerolinecolor": "white",
           "zerolinewidth": 2
          }
         }
        },
        "title": {
         "font": {
          "color": "#4D5663"
         }
        },
        "xaxis": {
         "gridcolor": "#E1E5ED",
         "showgrid": true,
         "tickfont": {
          "color": "#4D5663"
         },
         "title": {
          "font": {
           "color": "#4D5663"
          },
          "text": ""
         },
         "zerolinecolor": "#E1E5ED"
        },
        "yaxis": {
         "gridcolor": "#E1E5ED",
         "showgrid": true,
         "tickfont": {
          "color": "#4D5663"
         },
         "title": {
          "font": {
           "color": "#4D5663"
          },
          "text": ""
         },
         "zerolinecolor": "#E1E5ED"
        }
       }
      },
      "text/html": [
       "<div>                            <div id=\"afb17ed1-498f-4c43-8780-1979dc7003de\" class=\"plotly-graph-div\" style=\"height:525px; width:100%;\"></div>            <script type=\"text/javascript\">                require([\"plotly\"], function(Plotly) {                    window.PLOTLYENV=window.PLOTLYENV || {};\n",
       "                    window.PLOTLYENV.BASE_URL='https://plot.ly';                                    if (document.getElementById(\"afb17ed1-498f-4c43-8780-1979dc7003de\")) {                    Plotly.newPlot(                        \"afb17ed1-498f-4c43-8780-1979dc7003de\",                        [{\"histfunc\":\"count\",\"histnorm\":\"\",\"marker\":{\"color\":\"rgba(255, 153, 51, 1.0)\",\"line\":{\"color\":\"#4D5663\",\"width\":1.3}},\"name\":\"A\",\"nbinsx\":25,\"opacity\":0.8,\"orientation\":\"v\",\"x\":[-1.0520499660805134,-0.6395256708852439,-0.33434764741888273,-0.602102263802253,0.3275992110293282,-0.8517119727079342,0.4823647677292349,-0.6733753513218748,1.0663693192389487,-0.6674469283977741,-0.1555538710682971,0.982078463400281,0.5605995734508707,-1.5992430724659148,-0.4863413205475636,-1.635285837548092,1.3935076424093102,1.7941318056056335,0.5341913789906737,-0.9524975663306507,-0.4573351632944464,1.1177083797834142,-0.5706607672093532,0.7867354928231047,0.07981317429930133,-0.6349940715278921,1.5425662192838554,-0.6132422783945425,0.15544048184803386,0.9192445510904795,-1.7359719590500762,-1.9119274895922669,0.6944479962123283,0.3532145001978853,-1.0600796071503271,-0.5334678844301335,-0.6394875240041487,0.3128946201121304,0.016069119234565766,-1.5744316004386434,0.7344487377210069,0.7193287039929793,0.4812823931213064,-0.24678614971224266,-0.2905274885290895,-0.1003666244799347,0.2183659952290479,-2.319740663802171,-0.6745518951897882,0.29578338730627296,0.027684720711771665,0.6195480439047139,0.6876980075689124,-1.1798993200458125,1.1244893859000014,0.5280412892103941,-0.6001297370928859,-0.027008110814554072,-0.2748635223706462,1.4138169456342016,-0.9151732693883676,-0.4134435108103696,0.9255576517778622,0.860868531480433,1.758016656113904,1.6783618939930056,0.06869043899424485,0.6937178925305963,-0.8760537876530695,0.9102278415320038,0.7191692678149171,-0.4913169243308279,1.2337987142169284,0.7956878705772449,1.371542963623464,-1.343501561614963,1.0118949910662463,1.1658612878341348,-0.6928552283460352,-0.4687295487764381,-0.8757314396497151,-0.3643879992119797,0.811605819362338,-0.42095946538411305,-0.9898935045710047,0.7334033677693634,-0.19290472361161884,1.8143264562579273,0.8281944946575908,0.4854377119690578,0.5615674241389551,0.30512951708273917,-0.2966780672407173,2.3797154891776886,1.4080321570020835,-1.03463191031649,-1.941093118397556,-0.5620252053886859,-0.7270510460295249,0.10178198219108311],\"type\":\"histogram\"}],                        {\"barmode\":\"overlay\",\"legend\":{\"bgcolor\":\"#F5F6F9\",\"font\":{\"color\":\"#4D5663\"}},\"paper_bgcolor\":\"#F5F6F9\",\"plot_bgcolor\":\"#F5F6F9\",\"template\":{\"data\":{\"barpolar\":[{\"marker\":{\"line\":{\"color\":\"#E5ECF6\",\"width\":0.5},\"pattern\":{\"fillmode\":\"overlay\",\"size\":10,\"solidity\":0.2}},\"type\":\"barpolar\"}],\"bar\":[{\"error_x\":{\"color\":\"#2a3f5f\"},\"error_y\":{\"color\":\"#2a3f5f\"},\"marker\":{\"line\":{\"color\":\"#E5ECF6\",\"width\":0.5},\"pattern\":{\"fillmode\":\"overlay\",\"size\":10,\"solidity\":0.2}},\"type\":\"bar\"}],\"carpet\":[{\"aaxis\":{\"endlinecolor\":\"#2a3f5f\",\"gridcolor\":\"white\",\"linecolor\":\"white\",\"minorgridcolor\":\"white\",\"startlinecolor\":\"#2a3f5f\"},\"baxis\":{\"endlinecolor\":\"#2a3f5f\",\"gridcolor\":\"white\",\"linecolor\":\"white\",\"minorgridcolor\":\"white\",\"startlinecolor\":\"#2a3f5f\"},\"type\":\"carpet\"}],\"choropleth\":[{\"colorbar\":{\"outlinewidth\":0,\"ticks\":\"\"},\"type\":\"choropleth\"}],\"contourcarpet\":[{\"colorbar\":{\"outlinewidth\":0,\"ticks\":\"\"},\"type\":\"contourcarpet\"}],\"contour\":[{\"colorbar\":{\"outlinewidth\":0,\"ticks\":\"\"},\"colorscale\":[[0.0,\"#0d0887\"],[0.1111111111111111,\"#46039f\"],[0.2222222222222222,\"#7201a8\"],[0.3333333333333333,\"#9c179e\"],[0.4444444444444444,\"#bd3786\"],[0.5555555555555556,\"#d8576b\"],[0.6666666666666666,\"#ed7953\"],[0.7777777777777778,\"#fb9f3a\"],[0.8888888888888888,\"#fdca26\"],[1.0,\"#f0f921\"]],\"type\":\"contour\"}],\"heatmapgl\":[{\"colorbar\":{\"outlinewidth\":0,\"ticks\":\"\"},\"colorscale\":[[0.0,\"#0d0887\"],[0.1111111111111111,\"#46039f\"],[0.2222222222222222,\"#7201a8\"],[0.3333333333333333,\"#9c179e\"],[0.4444444444444444,\"#bd3786\"],[0.5555555555555556,\"#d8576b\"],[0.6666666666666666,\"#ed7953\"],[0.7777777777777778,\"#fb9f3a\"],[0.8888888888888888,\"#fdca26\"],[1.0,\"#f0f921\"]],\"type\":\"heatmapgl\"}],\"heatmap\":[{\"colorbar\":{\"outlinewidth\":0,\"ticks\":\"\"},\"colorscale\":[[0.0,\"#0d0887\"],[0.1111111111111111,\"#46039f\"],[0.2222222222222222,\"#7201a8\"],[0.3333333333333333,\"#9c179e\"],[0.4444444444444444,\"#bd3786\"],[0.5555555555555556,\"#d8576b\"],[0.6666666666666666,\"#ed7953\"],[0.7777777777777778,\"#fb9f3a\"],[0.8888888888888888,\"#fdca26\"],[1.0,\"#f0f921\"]],\"type\":\"heatmap\"}],\"histogram2dcontour\":[{\"colorbar\":{\"outlinewidth\":0,\"ticks\":\"\"},\"colorscale\":[[0.0,\"#0d0887\"],[0.1111111111111111,\"#46039f\"],[0.2222222222222222,\"#7201a8\"],[0.3333333333333333,\"#9c179e\"],[0.4444444444444444,\"#bd3786\"],[0.5555555555555556,\"#d8576b\"],[0.6666666666666666,\"#ed7953\"],[0.7777777777777778,\"#fb9f3a\"],[0.8888888888888888,\"#fdca26\"],[1.0,\"#f0f921\"]],\"type\":\"histogram2dcontour\"}],\"histogram2d\":[{\"colorbar\":{\"outlinewidth\":0,\"ticks\":\"\"},\"colorscale\":[[0.0,\"#0d0887\"],[0.1111111111111111,\"#46039f\"],[0.2222222222222222,\"#7201a8\"],[0.3333333333333333,\"#9c179e\"],[0.4444444444444444,\"#bd3786\"],[0.5555555555555556,\"#d8576b\"],[0.6666666666666666,\"#ed7953\"],[0.7777777777777778,\"#fb9f3a\"],[0.8888888888888888,\"#fdca26\"],[1.0,\"#f0f921\"]],\"type\":\"histogram2d\"}],\"histogram\":[{\"marker\":{\"pattern\":{\"fillmode\":\"overlay\",\"size\":10,\"solidity\":0.2}},\"type\":\"histogram\"}],\"mesh3d\":[{\"colorbar\":{\"outlinewidth\":0,\"ticks\":\"\"},\"type\":\"mesh3d\"}],\"parcoords\":[{\"line\":{\"colorbar\":{\"outlinewidth\":0,\"ticks\":\"\"}},\"type\":\"parcoords\"}],\"pie\":[{\"automargin\":true,\"type\":\"pie\"}],\"scatter3d\":[{\"line\":{\"colorbar\":{\"outlinewidth\":0,\"ticks\":\"\"}},\"marker\":{\"colorbar\":{\"outlinewidth\":0,\"ticks\":\"\"}},\"type\":\"scatter3d\"}],\"scattercarpet\":[{\"marker\":{\"colorbar\":{\"outlinewidth\":0,\"ticks\":\"\"}},\"type\":\"scattercarpet\"}],\"scattergeo\":[{\"marker\":{\"colorbar\":{\"outlinewidth\":0,\"ticks\":\"\"}},\"type\":\"scattergeo\"}],\"scattergl\":[{\"marker\":{\"colorbar\":{\"outlinewidth\":0,\"ticks\":\"\"}},\"type\":\"scattergl\"}],\"scattermapbox\":[{\"marker\":{\"colorbar\":{\"outlinewidth\":0,\"ticks\":\"\"}},\"type\":\"scattermapbox\"}],\"scatterpolargl\":[{\"marker\":{\"colorbar\":{\"outlinewidth\":0,\"ticks\":\"\"}},\"type\":\"scatterpolargl\"}],\"scatterpolar\":[{\"marker\":{\"colorbar\":{\"outlinewidth\":0,\"ticks\":\"\"}},\"type\":\"scatterpolar\"}],\"scatter\":[{\"fillpattern\":{\"fillmode\":\"overlay\",\"size\":10,\"solidity\":0.2},\"type\":\"scatter\"}],\"scatterternary\":[{\"marker\":{\"colorbar\":{\"outlinewidth\":0,\"ticks\":\"\"}},\"type\":\"scatterternary\"}],\"surface\":[{\"colorbar\":{\"outlinewidth\":0,\"ticks\":\"\"},\"colorscale\":[[0.0,\"#0d0887\"],[0.1111111111111111,\"#46039f\"],[0.2222222222222222,\"#7201a8\"],[0.3333333333333333,\"#9c179e\"],[0.4444444444444444,\"#bd3786\"],[0.5555555555555556,\"#d8576b\"],[0.6666666666666666,\"#ed7953\"],[0.7777777777777778,\"#fb9f3a\"],[0.8888888888888888,\"#fdca26\"],[1.0,\"#f0f921\"]],\"type\":\"surface\"}],\"table\":[{\"cells\":{\"fill\":{\"color\":\"#EBF0F8\"},\"line\":{\"color\":\"white\"}},\"header\":{\"fill\":{\"color\":\"#C8D4E3\"},\"line\":{\"color\":\"white\"}},\"type\":\"table\"}]},\"layout\":{\"annotationdefaults\":{\"arrowcolor\":\"#2a3f5f\",\"arrowhead\":0,\"arrowwidth\":1},\"autotypenumbers\":\"strict\",\"coloraxis\":{\"colorbar\":{\"outlinewidth\":0,\"ticks\":\"\"}},\"colorscale\":{\"diverging\":[[0,\"#8e0152\"],[0.1,\"#c51b7d\"],[0.2,\"#de77ae\"],[0.3,\"#f1b6da\"],[0.4,\"#fde0ef\"],[0.5,\"#f7f7f7\"],[0.6,\"#e6f5d0\"],[0.7,\"#b8e186\"],[0.8,\"#7fbc41\"],[0.9,\"#4d9221\"],[1,\"#276419\"]],\"sequential\":[[0.0,\"#0d0887\"],[0.1111111111111111,\"#46039f\"],[0.2222222222222222,\"#7201a8\"],[0.3333333333333333,\"#9c179e\"],[0.4444444444444444,\"#bd3786\"],[0.5555555555555556,\"#d8576b\"],[0.6666666666666666,\"#ed7953\"],[0.7777777777777778,\"#fb9f3a\"],[0.8888888888888888,\"#fdca26\"],[1.0,\"#f0f921\"]],\"sequentialminus\":[[0.0,\"#0d0887\"],[0.1111111111111111,\"#46039f\"],[0.2222222222222222,\"#7201a8\"],[0.3333333333333333,\"#9c179e\"],[0.4444444444444444,\"#bd3786\"],[0.5555555555555556,\"#d8576b\"],[0.6666666666666666,\"#ed7953\"],[0.7777777777777778,\"#fb9f3a\"],[0.8888888888888888,\"#fdca26\"],[1.0,\"#f0f921\"]]},\"colorway\":[\"#636efa\",\"#EF553B\",\"#00cc96\",\"#ab63fa\",\"#FFA15A\",\"#19d3f3\",\"#FF6692\",\"#B6E880\",\"#FF97FF\",\"#FECB52\"],\"font\":{\"color\":\"#2a3f5f\"},\"geo\":{\"bgcolor\":\"white\",\"lakecolor\":\"white\",\"landcolor\":\"#E5ECF6\",\"showlakes\":true,\"showland\":true,\"subunitcolor\":\"white\"},\"hoverlabel\":{\"align\":\"left\"},\"hovermode\":\"closest\",\"mapbox\":{\"style\":\"light\"},\"paper_bgcolor\":\"white\",\"plot_bgcolor\":\"#E5ECF6\",\"polar\":{\"angularaxis\":{\"gridcolor\":\"white\",\"linecolor\":\"white\",\"ticks\":\"\"},\"bgcolor\":\"#E5ECF6\",\"radialaxis\":{\"gridcolor\":\"white\",\"linecolor\":\"white\",\"ticks\":\"\"}},\"scene\":{\"xaxis\":{\"backgroundcolor\":\"#E5ECF6\",\"gridcolor\":\"white\",\"gridwidth\":2,\"linecolor\":\"white\",\"showbackground\":true,\"ticks\":\"\",\"zerolinecolor\":\"white\"},\"yaxis\":{\"backgroundcolor\":\"#E5ECF6\",\"gridcolor\":\"white\",\"gridwidth\":2,\"linecolor\":\"white\",\"showbackground\":true,\"ticks\":\"\",\"zerolinecolor\":\"white\"},\"zaxis\":{\"backgroundcolor\":\"#E5ECF6\",\"gridcolor\":\"white\",\"gridwidth\":2,\"linecolor\":\"white\",\"showbackground\":true,\"ticks\":\"\",\"zerolinecolor\":\"white\"}},\"shapedefaults\":{\"line\":{\"color\":\"#2a3f5f\"}},\"ternary\":{\"aaxis\":{\"gridcolor\":\"white\",\"linecolor\":\"white\",\"ticks\":\"\"},\"baxis\":{\"gridcolor\":\"white\",\"linecolor\":\"white\",\"ticks\":\"\"},\"bgcolor\":\"#E5ECF6\",\"caxis\":{\"gridcolor\":\"white\",\"linecolor\":\"white\",\"ticks\":\"\"}},\"title\":{\"x\":0.05},\"xaxis\":{\"automargin\":true,\"gridcolor\":\"white\",\"linecolor\":\"white\",\"ticks\":\"\",\"title\":{\"standoff\":15},\"zerolinecolor\":\"white\",\"zerolinewidth\":2},\"yaxis\":{\"automargin\":true,\"gridcolor\":\"white\",\"linecolor\":\"white\",\"ticks\":\"\",\"title\":{\"standoff\":15},\"zerolinecolor\":\"white\",\"zerolinewidth\":2}}},\"title\":{\"font\":{\"color\":\"#4D5663\"}},\"xaxis\":{\"gridcolor\":\"#E1E5ED\",\"showgrid\":true,\"tickfont\":{\"color\":\"#4D5663\"},\"title\":{\"font\":{\"color\":\"#4D5663\"},\"text\":\"\"},\"zerolinecolor\":\"#E1E5ED\"},\"yaxis\":{\"gridcolor\":\"#E1E5ED\",\"showgrid\":true,\"tickfont\":{\"color\":\"#4D5663\"},\"title\":{\"font\":{\"color\":\"#4D5663\"},\"text\":\"\"},\"zerolinecolor\":\"#E1E5ED\"}},                        {\"showLink\": true, \"linkText\": \"Export to plot.ly\", \"plotlyServerURL\": \"https://plot.ly\", \"responsive\": true}                    ).then(function(){\n",
       "                            \n",
       "var gd = document.getElementById('afb17ed1-498f-4c43-8780-1979dc7003de');\n",
       "var x = new MutationObserver(function (mutations, observer) {{\n",
       "        var display = window.getComputedStyle(gd).display;\n",
       "        if (!display || display === 'none') {{\n",
       "            console.log([gd, 'removed!']);\n",
       "            Plotly.purge(gd);\n",
       "            observer.disconnect();\n",
       "        }}\n",
       "}});\n",
       "\n",
       "// Listen for the removal of the full notebook cells\n",
       "var notebookContainer = gd.closest('#notebook-container');\n",
       "if (notebookContainer) {{\n",
       "    x.observe(notebookContainer, {childList: true});\n",
       "}}\n",
       "\n",
       "// Listen for the clearing of the current output cell\n",
       "var outputEl = gd.closest('.output');\n",
       "if (outputEl) {{\n",
       "    x.observe(outputEl, {childList: true});\n",
       "}}\n",
       "\n",
       "                        })                };                });            </script>        </div>"
      ]
     },
     "metadata": {},
     "output_type": "display_data"
    }
   ],
   "source": [
    "df['A'].iplot(kind='hist',bins=25)"
   ]
  },
  {
   "cell_type": "code",
   "execution_count": 17,
   "metadata": {},
   "outputs": [
    {
     "data": {
      "application/vnd.plotly.v1+json": {
       "config": {
        "linkText": "Export to plot.ly",
        "plotlyServerURL": "https://plot.ly",
        "showLink": true
       },
       "data": [
        {
         "marker": {
          "color": [
           "rgb(255, 153, 51)",
           "rgb(55, 128, 191)",
           "rgb(50, 171, 96)",
           "rgb(128, 0, 128)",
           "rgb(219, 64, 82)",
           "rgb(0, 128, 128)",
           "rgb(255, 255, 51)",
           "rgb(128, 128, 0)",
           "rgb(251, 128, 114)",
           "rgb(128, 177, 211)"
          ],
          "line": {
           "width": 1.3
          },
          "size": [
           46,
           53,
           65,
           75,
           21,
           23,
           41,
           65,
           49,
           71,
           69,
           56,
           38,
           57,
           44,
           60,
           65,
           78,
           53,
           63,
           62,
           40,
           52,
           64,
           70,
           71,
           60,
           46,
           45,
           50,
           35,
           111,
           28,
           73,
           64,
           41,
           36,
           75,
           63,
           53,
           31,
           58,
           53,
           62,
           65,
           65,
           80,
           59,
           40,
           64,
           81,
           41,
           69,
           63,
           36,
           17,
           49,
           59,
           57,
           71,
           65,
           69,
           43,
           87,
           31,
           44,
           45,
           34,
           59,
           29,
           35,
           66,
           49,
           46,
           37,
           59,
           68,
           63,
           53,
           50,
           60,
           27,
           42,
           12,
           83,
           56,
           40,
           89,
           39,
           85,
           77,
           36,
           100,
           95,
           45,
           65,
           73,
           26,
           25,
           64
          ],
          "symbol": "circle"
         },
         "mode": "markers",
         "text": "",
         "type": "scatter",
         "x": [
          -1.0520499660805134,
          -0.6395256708852439,
          -0.33434764741888273,
          -0.602102263802253,
          0.3275992110293282,
          -0.8517119727079342,
          0.4823647677292349,
          -0.6733753513218748,
          1.0663693192389487,
          -0.6674469283977741,
          -0.1555538710682971,
          0.982078463400281,
          0.5605995734508707,
          -1.5992430724659148,
          -0.4863413205475636,
          -1.635285837548092,
          1.3935076424093102,
          1.7941318056056335,
          0.5341913789906737,
          -0.9524975663306507,
          -0.4573351632944464,
          1.1177083797834142,
          -0.5706607672093532,
          0.7867354928231047,
          0.07981317429930133,
          -0.6349940715278921,
          1.5425662192838554,
          -0.6132422783945425,
          0.15544048184803386,
          0.9192445510904795,
          -1.7359719590500762,
          -1.9119274895922669,
          0.6944479962123283,
          0.3532145001978853,
          -1.0600796071503271,
          -0.5334678844301335,
          -0.6394875240041487,
          0.3128946201121304,
          0.016069119234565766,
          -1.5744316004386434,
          0.7344487377210069,
          0.7193287039929793,
          0.4812823931213064,
          -0.24678614971224266,
          -0.2905274885290895,
          -0.1003666244799347,
          0.2183659952290479,
          -2.319740663802171,
          -0.6745518951897882,
          0.29578338730627296,
          0.027684720711771665,
          0.6195480439047139,
          0.6876980075689124,
          -1.1798993200458125,
          1.1244893859000014,
          0.5280412892103941,
          -0.6001297370928859,
          -0.027008110814554072,
          -0.2748635223706462,
          1.4138169456342016,
          -0.9151732693883676,
          -0.4134435108103696,
          0.9255576517778622,
          0.860868531480433,
          1.758016656113904,
          1.6783618939930056,
          0.06869043899424485,
          0.6937178925305963,
          -0.8760537876530695,
          0.9102278415320038,
          0.7191692678149171,
          -0.4913169243308279,
          1.2337987142169284,
          0.7956878705772449,
          1.371542963623464,
          -1.343501561614963,
          1.0118949910662463,
          1.1658612878341348,
          -0.6928552283460352,
          -0.4687295487764381,
          -0.8757314396497151,
          -0.3643879992119797,
          0.811605819362338,
          -0.42095946538411305,
          -0.9898935045710047,
          0.7334033677693634,
          -0.19290472361161884,
          1.8143264562579273,
          0.8281944946575908,
          0.4854377119690578,
          0.5615674241389551,
          0.30512951708273917,
          -0.2966780672407173,
          2.3797154891776886,
          1.4080321570020835,
          -1.03463191031649,
          -1.941093118397556,
          -0.5620252053886859,
          -0.7270510460295249,
          0.10178198219108311
         ],
         "y": [
          -0.5756640459082741,
          0.5987981212644335,
          -0.7783665585217159,
          -0.09573196409819089,
          -0.14284747496470035,
          1.1566851064970056,
          0.14205945762224648,
          0.9925438822429384,
          -1.4205067005147545,
          -0.4243133975107277,
          0.2046316406674326,
          -0.8664033231860435,
          0.30018363681115173,
          0.7012726412626394,
          -0.5832744366644343,
          -1.9611912132619702,
          -1.2865690654113124,
          0.2805418321787577,
          0.5712498729810047,
          -0.6776239869439911,
          0.3316361158392233,
          -0.14461439325213005,
          -1.0410638673782593,
          -0.4080654043631619,
          -0.00631491901211208,
          0.654337983442778,
          0.04670538856144417,
          0.4891070888438266,
          -1.2277858127245984,
          -1.5325129450673443,
          1.2514271194867919,
          -0.6784529656249904,
          0.8507471393458212,
          0.3524385390065126,
          0.6553698989078516,
          -1.0598696128958636,
          -0.5655967775632145,
          1.1038885195167987,
          0.51412957783871,
          -1.03444943752192,
          -0.5231942655733847,
          -0.8380629336724287,
          1.903096658084694,
          0.4168137650785216,
          -0.4997398212243618,
          1.4029778201285397,
          0.8105226854959072,
          -1.7054169577749274,
          0.4605260705984755,
          -0.9824384505992422,
          -3.224746706249651,
          -0.6689949803255751,
          1.136152225459386,
          0.5680385123690971,
          0.7065628304892786,
          -0.42374809536258623,
          -0.8945591138218476,
          1.3206984539123967,
          -1.047728278006352,
          0.22476929272194288,
          -0.0009414573889848483,
          -0.01541225142410007,
          0.8263022924568258,
          0.42637279096367314,
          0.7989305066857885,
          -0.9789730984372811,
          -0.07071920797599111,
          -0.6115527255986463,
          -1.251525922052416,
          0.6676854765757444,
          1.9869694622253653,
          1.5658607072704804,
          -0.4186693946248924,
          -0.40628885793212743,
          1.5568244944045366,
          -0.7326242574894654,
          0.37958514924466513,
          -0.1783531218270007,
          -1.4160686077684221,
          0.4077861201653217,
          1.866778069209306,
          -1.0186822996845648,
          0.8993809357600041,
          -0.29568521043114,
          -0.47082542872155764,
          0.7282529986227604,
          0.06269962361015688,
          -0.3591244801120115,
          -0.28395660057604427,
          0.5295132537184689,
          -0.8352707178155664,
          0.3743707004534908,
          -0.31130372186525196,
          -0.7747932469996983,
          1.2259633383494222,
          -0.4464779411147586,
          0.996920839179652,
          0.20800829553317293,
          0.1858285403997541,
          -1.5192392350514088
         ]
        }
       ],
       "layout": {
        "legend": {
         "bgcolor": "#F5F6F9",
         "font": {
          "color": "#4D5663"
         }
        },
        "paper_bgcolor": "#F5F6F9",
        "plot_bgcolor": "#F5F6F9",
        "template": {
         "data": {
          "bar": [
           {
            "error_x": {
             "color": "#2a3f5f"
            },
            "error_y": {
             "color": "#2a3f5f"
            },
            "marker": {
             "line": {
              "color": "#E5ECF6",
              "width": 0.5
             },
             "pattern": {
              "fillmode": "overlay",
              "size": 10,
              "solidity": 0.2
             }
            },
            "type": "bar"
           }
          ],
          "barpolar": [
           {
            "marker": {
             "line": {
              "color": "#E5ECF6",
              "width": 0.5
             },
             "pattern": {
              "fillmode": "overlay",
              "size": 10,
              "solidity": 0.2
             }
            },
            "type": "barpolar"
           }
          ],
          "carpet": [
           {
            "aaxis": {
             "endlinecolor": "#2a3f5f",
             "gridcolor": "white",
             "linecolor": "white",
             "minorgridcolor": "white",
             "startlinecolor": "#2a3f5f"
            },
            "baxis": {
             "endlinecolor": "#2a3f5f",
             "gridcolor": "white",
             "linecolor": "white",
             "minorgridcolor": "white",
             "startlinecolor": "#2a3f5f"
            },
            "type": "carpet"
           }
          ],
          "choropleth": [
           {
            "colorbar": {
             "outlinewidth": 0,
             "ticks": ""
            },
            "type": "choropleth"
           }
          ],
          "contour": [
           {
            "colorbar": {
             "outlinewidth": 0,
             "ticks": ""
            },
            "colorscale": [
             [
              0,
              "#0d0887"
             ],
             [
              0.1111111111111111,
              "#46039f"
             ],
             [
              0.2222222222222222,
              "#7201a8"
             ],
             [
              0.3333333333333333,
              "#9c179e"
             ],
             [
              0.4444444444444444,
              "#bd3786"
             ],
             [
              0.5555555555555556,
              "#d8576b"
             ],
             [
              0.6666666666666666,
              "#ed7953"
             ],
             [
              0.7777777777777778,
              "#fb9f3a"
             ],
             [
              0.8888888888888888,
              "#fdca26"
             ],
             [
              1,
              "#f0f921"
             ]
            ],
            "type": "contour"
           }
          ],
          "contourcarpet": [
           {
            "colorbar": {
             "outlinewidth": 0,
             "ticks": ""
            },
            "type": "contourcarpet"
           }
          ],
          "heatmap": [
           {
            "colorbar": {
             "outlinewidth": 0,
             "ticks": ""
            },
            "colorscale": [
             [
              0,
              "#0d0887"
             ],
             [
              0.1111111111111111,
              "#46039f"
             ],
             [
              0.2222222222222222,
              "#7201a8"
             ],
             [
              0.3333333333333333,
              "#9c179e"
             ],
             [
              0.4444444444444444,
              "#bd3786"
             ],
             [
              0.5555555555555556,
              "#d8576b"
             ],
             [
              0.6666666666666666,
              "#ed7953"
             ],
             [
              0.7777777777777778,
              "#fb9f3a"
             ],
             [
              0.8888888888888888,
              "#fdca26"
             ],
             [
              1,
              "#f0f921"
             ]
            ],
            "type": "heatmap"
           }
          ],
          "heatmapgl": [
           {
            "colorbar": {
             "outlinewidth": 0,
             "ticks": ""
            },
            "colorscale": [
             [
              0,
              "#0d0887"
             ],
             [
              0.1111111111111111,
              "#46039f"
             ],
             [
              0.2222222222222222,
              "#7201a8"
             ],
             [
              0.3333333333333333,
              "#9c179e"
             ],
             [
              0.4444444444444444,
              "#bd3786"
             ],
             [
              0.5555555555555556,
              "#d8576b"
             ],
             [
              0.6666666666666666,
              "#ed7953"
             ],
             [
              0.7777777777777778,
              "#fb9f3a"
             ],
             [
              0.8888888888888888,
              "#fdca26"
             ],
             [
              1,
              "#f0f921"
             ]
            ],
            "type": "heatmapgl"
           }
          ],
          "histogram": [
           {
            "marker": {
             "pattern": {
              "fillmode": "overlay",
              "size": 10,
              "solidity": 0.2
             }
            },
            "type": "histogram"
           }
          ],
          "histogram2d": [
           {
            "colorbar": {
             "outlinewidth": 0,
             "ticks": ""
            },
            "colorscale": [
             [
              0,
              "#0d0887"
             ],
             [
              0.1111111111111111,
              "#46039f"
             ],
             [
              0.2222222222222222,
              "#7201a8"
             ],
             [
              0.3333333333333333,
              "#9c179e"
             ],
             [
              0.4444444444444444,
              "#bd3786"
             ],
             [
              0.5555555555555556,
              "#d8576b"
             ],
             [
              0.6666666666666666,
              "#ed7953"
             ],
             [
              0.7777777777777778,
              "#fb9f3a"
             ],
             [
              0.8888888888888888,
              "#fdca26"
             ],
             [
              1,
              "#f0f921"
             ]
            ],
            "type": "histogram2d"
           }
          ],
          "histogram2dcontour": [
           {
            "colorbar": {
             "outlinewidth": 0,
             "ticks": ""
            },
            "colorscale": [
             [
              0,
              "#0d0887"
             ],
             [
              0.1111111111111111,
              "#46039f"
             ],
             [
              0.2222222222222222,
              "#7201a8"
             ],
             [
              0.3333333333333333,
              "#9c179e"
             ],
             [
              0.4444444444444444,
              "#bd3786"
             ],
             [
              0.5555555555555556,
              "#d8576b"
             ],
             [
              0.6666666666666666,
              "#ed7953"
             ],
             [
              0.7777777777777778,
              "#fb9f3a"
             ],
             [
              0.8888888888888888,
              "#fdca26"
             ],
             [
              1,
              "#f0f921"
             ]
            ],
            "type": "histogram2dcontour"
           }
          ],
          "mesh3d": [
           {
            "colorbar": {
             "outlinewidth": 0,
             "ticks": ""
            },
            "type": "mesh3d"
           }
          ],
          "parcoords": [
           {
            "line": {
             "colorbar": {
              "outlinewidth": 0,
              "ticks": ""
             }
            },
            "type": "parcoords"
           }
          ],
          "pie": [
           {
            "automargin": true,
            "type": "pie"
           }
          ],
          "scatter": [
           {
            "fillpattern": {
             "fillmode": "overlay",
             "size": 10,
             "solidity": 0.2
            },
            "type": "scatter"
           }
          ],
          "scatter3d": [
           {
            "line": {
             "colorbar": {
              "outlinewidth": 0,
              "ticks": ""
             }
            },
            "marker": {
             "colorbar": {
              "outlinewidth": 0,
              "ticks": ""
             }
            },
            "type": "scatter3d"
           }
          ],
          "scattercarpet": [
           {
            "marker": {
             "colorbar": {
              "outlinewidth": 0,
              "ticks": ""
             }
            },
            "type": "scattercarpet"
           }
          ],
          "scattergeo": [
           {
            "marker": {
             "colorbar": {
              "outlinewidth": 0,
              "ticks": ""
             }
            },
            "type": "scattergeo"
           }
          ],
          "scattergl": [
           {
            "marker": {
             "colorbar": {
              "outlinewidth": 0,
              "ticks": ""
             }
            },
            "type": "scattergl"
           }
          ],
          "scattermapbox": [
           {
            "marker": {
             "colorbar": {
              "outlinewidth": 0,
              "ticks": ""
             }
            },
            "type": "scattermapbox"
           }
          ],
          "scatterpolar": [
           {
            "marker": {
             "colorbar": {
              "outlinewidth": 0,
              "ticks": ""
             }
            },
            "type": "scatterpolar"
           }
          ],
          "scatterpolargl": [
           {
            "marker": {
             "colorbar": {
              "outlinewidth": 0,
              "ticks": ""
             }
            },
            "type": "scatterpolargl"
           }
          ],
          "scatterternary": [
           {
            "marker": {
             "colorbar": {
              "outlinewidth": 0,
              "ticks": ""
             }
            },
            "type": "scatterternary"
           }
          ],
          "surface": [
           {
            "colorbar": {
             "outlinewidth": 0,
             "ticks": ""
            },
            "colorscale": [
             [
              0,
              "#0d0887"
             ],
             [
              0.1111111111111111,
              "#46039f"
             ],
             [
              0.2222222222222222,
              "#7201a8"
             ],
             [
              0.3333333333333333,
              "#9c179e"
             ],
             [
              0.4444444444444444,
              "#bd3786"
             ],
             [
              0.5555555555555556,
              "#d8576b"
             ],
             [
              0.6666666666666666,
              "#ed7953"
             ],
             [
              0.7777777777777778,
              "#fb9f3a"
             ],
             [
              0.8888888888888888,
              "#fdca26"
             ],
             [
              1,
              "#f0f921"
             ]
            ],
            "type": "surface"
           }
          ],
          "table": [
           {
            "cells": {
             "fill": {
              "color": "#EBF0F8"
             },
             "line": {
              "color": "white"
             }
            },
            "header": {
             "fill": {
              "color": "#C8D4E3"
             },
             "line": {
              "color": "white"
             }
            },
            "type": "table"
           }
          ]
         },
         "layout": {
          "annotationdefaults": {
           "arrowcolor": "#2a3f5f",
           "arrowhead": 0,
           "arrowwidth": 1
          },
          "autotypenumbers": "strict",
          "coloraxis": {
           "colorbar": {
            "outlinewidth": 0,
            "ticks": ""
           }
          },
          "colorscale": {
           "diverging": [
            [
             0,
             "#8e0152"
            ],
            [
             0.1,
             "#c51b7d"
            ],
            [
             0.2,
             "#de77ae"
            ],
            [
             0.3,
             "#f1b6da"
            ],
            [
             0.4,
             "#fde0ef"
            ],
            [
             0.5,
             "#f7f7f7"
            ],
            [
             0.6,
             "#e6f5d0"
            ],
            [
             0.7,
             "#b8e186"
            ],
            [
             0.8,
             "#7fbc41"
            ],
            [
             0.9,
             "#4d9221"
            ],
            [
             1,
             "#276419"
            ]
           ],
           "sequential": [
            [
             0,
             "#0d0887"
            ],
            [
             0.1111111111111111,
             "#46039f"
            ],
            [
             0.2222222222222222,
             "#7201a8"
            ],
            [
             0.3333333333333333,
             "#9c179e"
            ],
            [
             0.4444444444444444,
             "#bd3786"
            ],
            [
             0.5555555555555556,
             "#d8576b"
            ],
            [
             0.6666666666666666,
             "#ed7953"
            ],
            [
             0.7777777777777778,
             "#fb9f3a"
            ],
            [
             0.8888888888888888,
             "#fdca26"
            ],
            [
             1,
             "#f0f921"
            ]
           ],
           "sequentialminus": [
            [
             0,
             "#0d0887"
            ],
            [
             0.1111111111111111,
             "#46039f"
            ],
            [
             0.2222222222222222,
             "#7201a8"
            ],
            [
             0.3333333333333333,
             "#9c179e"
            ],
            [
             0.4444444444444444,
             "#bd3786"
            ],
            [
             0.5555555555555556,
             "#d8576b"
            ],
            [
             0.6666666666666666,
             "#ed7953"
            ],
            [
             0.7777777777777778,
             "#fb9f3a"
            ],
            [
             0.8888888888888888,
             "#fdca26"
            ],
            [
             1,
             "#f0f921"
            ]
           ]
          },
          "colorway": [
           "#636efa",
           "#EF553B",
           "#00cc96",
           "#ab63fa",
           "#FFA15A",
           "#19d3f3",
           "#FF6692",
           "#B6E880",
           "#FF97FF",
           "#FECB52"
          ],
          "font": {
           "color": "#2a3f5f"
          },
          "geo": {
           "bgcolor": "white",
           "lakecolor": "white",
           "landcolor": "#E5ECF6",
           "showlakes": true,
           "showland": true,
           "subunitcolor": "white"
          },
          "hoverlabel": {
           "align": "left"
          },
          "hovermode": "closest",
          "mapbox": {
           "style": "light"
          },
          "paper_bgcolor": "white",
          "plot_bgcolor": "#E5ECF6",
          "polar": {
           "angularaxis": {
            "gridcolor": "white",
            "linecolor": "white",
            "ticks": ""
           },
           "bgcolor": "#E5ECF6",
           "radialaxis": {
            "gridcolor": "white",
            "linecolor": "white",
            "ticks": ""
           }
          },
          "scene": {
           "xaxis": {
            "backgroundcolor": "#E5ECF6",
            "gridcolor": "white",
            "gridwidth": 2,
            "linecolor": "white",
            "showbackground": true,
            "ticks": "",
            "zerolinecolor": "white"
           },
           "yaxis": {
            "backgroundcolor": "#E5ECF6",
            "gridcolor": "white",
            "gridwidth": 2,
            "linecolor": "white",
            "showbackground": true,
            "ticks": "",
            "zerolinecolor": "white"
           },
           "zaxis": {
            "backgroundcolor": "#E5ECF6",
            "gridcolor": "white",
            "gridwidth": 2,
            "linecolor": "white",
            "showbackground": true,
            "ticks": "",
            "zerolinecolor": "white"
           }
          },
          "shapedefaults": {
           "line": {
            "color": "#2a3f5f"
           }
          },
          "ternary": {
           "aaxis": {
            "gridcolor": "white",
            "linecolor": "white",
            "ticks": ""
           },
           "baxis": {
            "gridcolor": "white",
            "linecolor": "white",
            "ticks": ""
           },
           "bgcolor": "#E5ECF6",
           "caxis": {
            "gridcolor": "white",
            "linecolor": "white",
            "ticks": ""
           }
          },
          "title": {
           "x": 0.05
          },
          "xaxis": {
           "automargin": true,
           "gridcolor": "white",
           "linecolor": "white",
           "ticks": "",
           "title": {
            "standoff": 15
           },
           "zerolinecolor": "white",
           "zerolinewidth": 2
          },
          "yaxis": {
           "automargin": true,
           "gridcolor": "white",
           "linecolor": "white",
           "ticks": "",
           "title": {
            "standoff": 15
           },
           "zerolinecolor": "white",
           "zerolinewidth": 2
          }
         }
        },
        "title": {
         "font": {
          "color": "#4D5663"
         }
        },
        "xaxis": {
         "gridcolor": "#E1E5ED",
         "showgrid": true,
         "tickfont": {
          "color": "#4D5663"
         },
         "title": {
          "font": {
           "color": "#4D5663"
          },
          "text": ""
         },
         "zerolinecolor": "#E1E5ED"
        },
        "yaxis": {
         "gridcolor": "#E1E5ED",
         "showgrid": true,
         "tickfont": {
          "color": "#4D5663"
         },
         "title": {
          "font": {
           "color": "#4D5663"
          },
          "text": ""
         },
         "zerolinecolor": "#E1E5ED"
        }
       }
      },
      "text/html": [
       "<div>                            <div id=\"2e2a9b2f-eb4a-4148-ae78-c63d627e65b6\" class=\"plotly-graph-div\" style=\"height:525px; width:100%;\"></div>            <script type=\"text/javascript\">                require([\"plotly\"], function(Plotly) {                    window.PLOTLYENV=window.PLOTLYENV || {};\n",
       "                    window.PLOTLYENV.BASE_URL='https://plot.ly';                                    if (document.getElementById(\"2e2a9b2f-eb4a-4148-ae78-c63d627e65b6\")) {                    Plotly.newPlot(                        \"2e2a9b2f-eb4a-4148-ae78-c63d627e65b6\",                        [{\"marker\":{\"color\":[\"rgb(255, 153, 51)\",\"rgb(55, 128, 191)\",\"rgb(50, 171, 96)\",\"rgb(128, 0, 128)\",\"rgb(219, 64, 82)\",\"rgb(0, 128, 128)\",\"rgb(255, 255, 51)\",\"rgb(128, 128, 0)\",\"rgb(251, 128, 114)\",\"rgb(128, 177, 211)\"],\"line\":{\"width\":1.3},\"size\":[46,53,65,75,21,23,41,65,49,71,69,56,38,57,44,60,65,78,53,63,62,40,52,64,70,71,60,46,45,50,35,111,28,73,64,41,36,75,63,53,31,58,53,62,65,65,80,59,40,64,81,41,69,63,36,17,49,59,57,71,65,69,43,87,31,44,45,34,59,29,35,66,49,46,37,59,68,63,53,50,60,27,42,12,83,56,40,89,39,85,77,36,100,95,45,65,73,26,25,64],\"symbol\":\"circle\"},\"mode\":\"markers\",\"text\":\"\",\"x\":[-1.0520499660805134,-0.6395256708852439,-0.33434764741888273,-0.602102263802253,0.3275992110293282,-0.8517119727079342,0.4823647677292349,-0.6733753513218748,1.0663693192389487,-0.6674469283977741,-0.1555538710682971,0.982078463400281,0.5605995734508707,-1.5992430724659148,-0.4863413205475636,-1.635285837548092,1.3935076424093102,1.7941318056056335,0.5341913789906737,-0.9524975663306507,-0.4573351632944464,1.1177083797834142,-0.5706607672093532,0.7867354928231047,0.07981317429930133,-0.6349940715278921,1.5425662192838554,-0.6132422783945425,0.15544048184803386,0.9192445510904795,-1.7359719590500762,-1.9119274895922669,0.6944479962123283,0.3532145001978853,-1.0600796071503271,-0.5334678844301335,-0.6394875240041487,0.3128946201121304,0.016069119234565766,-1.5744316004386434,0.7344487377210069,0.7193287039929793,0.4812823931213064,-0.24678614971224266,-0.2905274885290895,-0.1003666244799347,0.2183659952290479,-2.319740663802171,-0.6745518951897882,0.29578338730627296,0.027684720711771665,0.6195480439047139,0.6876980075689124,-1.1798993200458125,1.1244893859000014,0.5280412892103941,-0.6001297370928859,-0.027008110814554072,-0.2748635223706462,1.4138169456342016,-0.9151732693883676,-0.4134435108103696,0.9255576517778622,0.860868531480433,1.758016656113904,1.6783618939930056,0.06869043899424485,0.6937178925305963,-0.8760537876530695,0.9102278415320038,0.7191692678149171,-0.4913169243308279,1.2337987142169284,0.7956878705772449,1.371542963623464,-1.343501561614963,1.0118949910662463,1.1658612878341348,-0.6928552283460352,-0.4687295487764381,-0.8757314396497151,-0.3643879992119797,0.811605819362338,-0.42095946538411305,-0.9898935045710047,0.7334033677693634,-0.19290472361161884,1.8143264562579273,0.8281944946575908,0.4854377119690578,0.5615674241389551,0.30512951708273917,-0.2966780672407173,2.3797154891776886,1.4080321570020835,-1.03463191031649,-1.941093118397556,-0.5620252053886859,-0.7270510460295249,0.10178198219108311],\"y\":[-0.5756640459082741,0.5987981212644335,-0.7783665585217159,-0.09573196409819089,-0.14284747496470035,1.1566851064970056,0.14205945762224648,0.9925438822429384,-1.4205067005147545,-0.4243133975107277,0.2046316406674326,-0.8664033231860435,0.30018363681115173,0.7012726412626394,-0.5832744366644343,-1.9611912132619702,-1.2865690654113124,0.2805418321787577,0.5712498729810047,-0.6776239869439911,0.3316361158392233,-0.14461439325213005,-1.0410638673782593,-0.4080654043631619,-0.00631491901211208,0.654337983442778,0.04670538856144417,0.4891070888438266,-1.2277858127245984,-1.5325129450673443,1.2514271194867919,-0.6784529656249904,0.8507471393458212,0.3524385390065126,0.6553698989078516,-1.0598696128958636,-0.5655967775632145,1.1038885195167987,0.51412957783871,-1.03444943752192,-0.5231942655733847,-0.8380629336724287,1.903096658084694,0.4168137650785216,-0.4997398212243618,1.4029778201285397,0.8105226854959072,-1.7054169577749274,0.4605260705984755,-0.9824384505992422,-3.224746706249651,-0.6689949803255751,1.136152225459386,0.5680385123690971,0.7065628304892786,-0.42374809536258623,-0.8945591138218476,1.3206984539123967,-1.047728278006352,0.22476929272194288,-0.0009414573889848483,-0.01541225142410007,0.8263022924568258,0.42637279096367314,0.7989305066857885,-0.9789730984372811,-0.07071920797599111,-0.6115527255986463,-1.251525922052416,0.6676854765757444,1.9869694622253653,1.5658607072704804,-0.4186693946248924,-0.40628885793212743,1.5568244944045366,-0.7326242574894654,0.37958514924466513,-0.1783531218270007,-1.4160686077684221,0.4077861201653217,1.866778069209306,-1.0186822996845648,0.8993809357600041,-0.29568521043114,-0.47082542872155764,0.7282529986227604,0.06269962361015688,-0.3591244801120115,-0.28395660057604427,0.5295132537184689,-0.8352707178155664,0.3743707004534908,-0.31130372186525196,-0.7747932469996983,1.2259633383494222,-0.4464779411147586,0.996920839179652,0.20800829553317293,0.1858285403997541,-1.5192392350514088],\"type\":\"scatter\"}],                        {\"legend\":{\"bgcolor\":\"#F5F6F9\",\"font\":{\"color\":\"#4D5663\"}},\"paper_bgcolor\":\"#F5F6F9\",\"plot_bgcolor\":\"#F5F6F9\",\"template\":{\"data\":{\"barpolar\":[{\"marker\":{\"line\":{\"color\":\"#E5ECF6\",\"width\":0.5},\"pattern\":{\"fillmode\":\"overlay\",\"size\":10,\"solidity\":0.2}},\"type\":\"barpolar\"}],\"bar\":[{\"error_x\":{\"color\":\"#2a3f5f\"},\"error_y\":{\"color\":\"#2a3f5f\"},\"marker\":{\"line\":{\"color\":\"#E5ECF6\",\"width\":0.5},\"pattern\":{\"fillmode\":\"overlay\",\"size\":10,\"solidity\":0.2}},\"type\":\"bar\"}],\"carpet\":[{\"aaxis\":{\"endlinecolor\":\"#2a3f5f\",\"gridcolor\":\"white\",\"linecolor\":\"white\",\"minorgridcolor\":\"white\",\"startlinecolor\":\"#2a3f5f\"},\"baxis\":{\"endlinecolor\":\"#2a3f5f\",\"gridcolor\":\"white\",\"linecolor\":\"white\",\"minorgridcolor\":\"white\",\"startlinecolor\":\"#2a3f5f\"},\"type\":\"carpet\"}],\"choropleth\":[{\"colorbar\":{\"outlinewidth\":0,\"ticks\":\"\"},\"type\":\"choropleth\"}],\"contourcarpet\":[{\"colorbar\":{\"outlinewidth\":0,\"ticks\":\"\"},\"type\":\"contourcarpet\"}],\"contour\":[{\"colorbar\":{\"outlinewidth\":0,\"ticks\":\"\"},\"colorscale\":[[0.0,\"#0d0887\"],[0.1111111111111111,\"#46039f\"],[0.2222222222222222,\"#7201a8\"],[0.3333333333333333,\"#9c179e\"],[0.4444444444444444,\"#bd3786\"],[0.5555555555555556,\"#d8576b\"],[0.6666666666666666,\"#ed7953\"],[0.7777777777777778,\"#fb9f3a\"],[0.8888888888888888,\"#fdca26\"],[1.0,\"#f0f921\"]],\"type\":\"contour\"}],\"heatmapgl\":[{\"colorbar\":{\"outlinewidth\":0,\"ticks\":\"\"},\"colorscale\":[[0.0,\"#0d0887\"],[0.1111111111111111,\"#46039f\"],[0.2222222222222222,\"#7201a8\"],[0.3333333333333333,\"#9c179e\"],[0.4444444444444444,\"#bd3786\"],[0.5555555555555556,\"#d8576b\"],[0.6666666666666666,\"#ed7953\"],[0.7777777777777778,\"#fb9f3a\"],[0.8888888888888888,\"#fdca26\"],[1.0,\"#f0f921\"]],\"type\":\"heatmapgl\"}],\"heatmap\":[{\"colorbar\":{\"outlinewidth\":0,\"ticks\":\"\"},\"colorscale\":[[0.0,\"#0d0887\"],[0.1111111111111111,\"#46039f\"],[0.2222222222222222,\"#7201a8\"],[0.3333333333333333,\"#9c179e\"],[0.4444444444444444,\"#bd3786\"],[0.5555555555555556,\"#d8576b\"],[0.6666666666666666,\"#ed7953\"],[0.7777777777777778,\"#fb9f3a\"],[0.8888888888888888,\"#fdca26\"],[1.0,\"#f0f921\"]],\"type\":\"heatmap\"}],\"histogram2dcontour\":[{\"colorbar\":{\"outlinewidth\":0,\"ticks\":\"\"},\"colorscale\":[[0.0,\"#0d0887\"],[0.1111111111111111,\"#46039f\"],[0.2222222222222222,\"#7201a8\"],[0.3333333333333333,\"#9c179e\"],[0.4444444444444444,\"#bd3786\"],[0.5555555555555556,\"#d8576b\"],[0.6666666666666666,\"#ed7953\"],[0.7777777777777778,\"#fb9f3a\"],[0.8888888888888888,\"#fdca26\"],[1.0,\"#f0f921\"]],\"type\":\"histogram2dcontour\"}],\"histogram2d\":[{\"colorbar\":{\"outlinewidth\":0,\"ticks\":\"\"},\"colorscale\":[[0.0,\"#0d0887\"],[0.1111111111111111,\"#46039f\"],[0.2222222222222222,\"#7201a8\"],[0.3333333333333333,\"#9c179e\"],[0.4444444444444444,\"#bd3786\"],[0.5555555555555556,\"#d8576b\"],[0.6666666666666666,\"#ed7953\"],[0.7777777777777778,\"#fb9f3a\"],[0.8888888888888888,\"#fdca26\"],[1.0,\"#f0f921\"]],\"type\":\"histogram2d\"}],\"histogram\":[{\"marker\":{\"pattern\":{\"fillmode\":\"overlay\",\"size\":10,\"solidity\":0.2}},\"type\":\"histogram\"}],\"mesh3d\":[{\"colorbar\":{\"outlinewidth\":0,\"ticks\":\"\"},\"type\":\"mesh3d\"}],\"parcoords\":[{\"line\":{\"colorbar\":{\"outlinewidth\":0,\"ticks\":\"\"}},\"type\":\"parcoords\"}],\"pie\":[{\"automargin\":true,\"type\":\"pie\"}],\"scatter3d\":[{\"line\":{\"colorbar\":{\"outlinewidth\":0,\"ticks\":\"\"}},\"marker\":{\"colorbar\":{\"outlinewidth\":0,\"ticks\":\"\"}},\"type\":\"scatter3d\"}],\"scattercarpet\":[{\"marker\":{\"colorbar\":{\"outlinewidth\":0,\"ticks\":\"\"}},\"type\":\"scattercarpet\"}],\"scattergeo\":[{\"marker\":{\"colorbar\":{\"outlinewidth\":0,\"ticks\":\"\"}},\"type\":\"scattergeo\"}],\"scattergl\":[{\"marker\":{\"colorbar\":{\"outlinewidth\":0,\"ticks\":\"\"}},\"type\":\"scattergl\"}],\"scattermapbox\":[{\"marker\":{\"colorbar\":{\"outlinewidth\":0,\"ticks\":\"\"}},\"type\":\"scattermapbox\"}],\"scatterpolargl\":[{\"marker\":{\"colorbar\":{\"outlinewidth\":0,\"ticks\":\"\"}},\"type\":\"scatterpolargl\"}],\"scatterpolar\":[{\"marker\":{\"colorbar\":{\"outlinewidth\":0,\"ticks\":\"\"}},\"type\":\"scatterpolar\"}],\"scatter\":[{\"fillpattern\":{\"fillmode\":\"overlay\",\"size\":10,\"solidity\":0.2},\"type\":\"scatter\"}],\"scatterternary\":[{\"marker\":{\"colorbar\":{\"outlinewidth\":0,\"ticks\":\"\"}},\"type\":\"scatterternary\"}],\"surface\":[{\"colorbar\":{\"outlinewidth\":0,\"ticks\":\"\"},\"colorscale\":[[0.0,\"#0d0887\"],[0.1111111111111111,\"#46039f\"],[0.2222222222222222,\"#7201a8\"],[0.3333333333333333,\"#9c179e\"],[0.4444444444444444,\"#bd3786\"],[0.5555555555555556,\"#d8576b\"],[0.6666666666666666,\"#ed7953\"],[0.7777777777777778,\"#fb9f3a\"],[0.8888888888888888,\"#fdca26\"],[1.0,\"#f0f921\"]],\"type\":\"surface\"}],\"table\":[{\"cells\":{\"fill\":{\"color\":\"#EBF0F8\"},\"line\":{\"color\":\"white\"}},\"header\":{\"fill\":{\"color\":\"#C8D4E3\"},\"line\":{\"color\":\"white\"}},\"type\":\"table\"}]},\"layout\":{\"annotationdefaults\":{\"arrowcolor\":\"#2a3f5f\",\"arrowhead\":0,\"arrowwidth\":1},\"autotypenumbers\":\"strict\",\"coloraxis\":{\"colorbar\":{\"outlinewidth\":0,\"ticks\":\"\"}},\"colorscale\":{\"diverging\":[[0,\"#8e0152\"],[0.1,\"#c51b7d\"],[0.2,\"#de77ae\"],[0.3,\"#f1b6da\"],[0.4,\"#fde0ef\"],[0.5,\"#f7f7f7\"],[0.6,\"#e6f5d0\"],[0.7,\"#b8e186\"],[0.8,\"#7fbc41\"],[0.9,\"#4d9221\"],[1,\"#276419\"]],\"sequential\":[[0.0,\"#0d0887\"],[0.1111111111111111,\"#46039f\"],[0.2222222222222222,\"#7201a8\"],[0.3333333333333333,\"#9c179e\"],[0.4444444444444444,\"#bd3786\"],[0.5555555555555556,\"#d8576b\"],[0.6666666666666666,\"#ed7953\"],[0.7777777777777778,\"#fb9f3a\"],[0.8888888888888888,\"#fdca26\"],[1.0,\"#f0f921\"]],\"sequentialminus\":[[0.0,\"#0d0887\"],[0.1111111111111111,\"#46039f\"],[0.2222222222222222,\"#7201a8\"],[0.3333333333333333,\"#9c179e\"],[0.4444444444444444,\"#bd3786\"],[0.5555555555555556,\"#d8576b\"],[0.6666666666666666,\"#ed7953\"],[0.7777777777777778,\"#fb9f3a\"],[0.8888888888888888,\"#fdca26\"],[1.0,\"#f0f921\"]]},\"colorway\":[\"#636efa\",\"#EF553B\",\"#00cc96\",\"#ab63fa\",\"#FFA15A\",\"#19d3f3\",\"#FF6692\",\"#B6E880\",\"#FF97FF\",\"#FECB52\"],\"font\":{\"color\":\"#2a3f5f\"},\"geo\":{\"bgcolor\":\"white\",\"lakecolor\":\"white\",\"landcolor\":\"#E5ECF6\",\"showlakes\":true,\"showland\":true,\"subunitcolor\":\"white\"},\"hoverlabel\":{\"align\":\"left\"},\"hovermode\":\"closest\",\"mapbox\":{\"style\":\"light\"},\"paper_bgcolor\":\"white\",\"plot_bgcolor\":\"#E5ECF6\",\"polar\":{\"angularaxis\":{\"gridcolor\":\"white\",\"linecolor\":\"white\",\"ticks\":\"\"},\"bgcolor\":\"#E5ECF6\",\"radialaxis\":{\"gridcolor\":\"white\",\"linecolor\":\"white\",\"ticks\":\"\"}},\"scene\":{\"xaxis\":{\"backgroundcolor\":\"#E5ECF6\",\"gridcolor\":\"white\",\"gridwidth\":2,\"linecolor\":\"white\",\"showbackground\":true,\"ticks\":\"\",\"zerolinecolor\":\"white\"},\"yaxis\":{\"backgroundcolor\":\"#E5ECF6\",\"gridcolor\":\"white\",\"gridwidth\":2,\"linecolor\":\"white\",\"showbackground\":true,\"ticks\":\"\",\"zerolinecolor\":\"white\"},\"zaxis\":{\"backgroundcolor\":\"#E5ECF6\",\"gridcolor\":\"white\",\"gridwidth\":2,\"linecolor\":\"white\",\"showbackground\":true,\"ticks\":\"\",\"zerolinecolor\":\"white\"}},\"shapedefaults\":{\"line\":{\"color\":\"#2a3f5f\"}},\"ternary\":{\"aaxis\":{\"gridcolor\":\"white\",\"linecolor\":\"white\",\"ticks\":\"\"},\"baxis\":{\"gridcolor\":\"white\",\"linecolor\":\"white\",\"ticks\":\"\"},\"bgcolor\":\"#E5ECF6\",\"caxis\":{\"gridcolor\":\"white\",\"linecolor\":\"white\",\"ticks\":\"\"}},\"title\":{\"x\":0.05},\"xaxis\":{\"automargin\":true,\"gridcolor\":\"white\",\"linecolor\":\"white\",\"ticks\":\"\",\"title\":{\"standoff\":15},\"zerolinecolor\":\"white\",\"zerolinewidth\":2},\"yaxis\":{\"automargin\":true,\"gridcolor\":\"white\",\"linecolor\":\"white\",\"ticks\":\"\",\"title\":{\"standoff\":15},\"zerolinecolor\":\"white\",\"zerolinewidth\":2}}},\"title\":{\"font\":{\"color\":\"#4D5663\"}},\"xaxis\":{\"gridcolor\":\"#E1E5ED\",\"showgrid\":true,\"tickfont\":{\"color\":\"#4D5663\"},\"title\":{\"font\":{\"color\":\"#4D5663\"},\"text\":\"\"},\"zerolinecolor\":\"#E1E5ED\"},\"yaxis\":{\"gridcolor\":\"#E1E5ED\",\"showgrid\":true,\"tickfont\":{\"color\":\"#4D5663\"},\"title\":{\"font\":{\"color\":\"#4D5663\"},\"text\":\"\"},\"zerolinecolor\":\"#E1E5ED\"}},                        {\"showLink\": true, \"linkText\": \"Export to plot.ly\", \"plotlyServerURL\": \"https://plot.ly\", \"responsive\": true}                    ).then(function(){\n",
       "                            \n",
       "var gd = document.getElementById('2e2a9b2f-eb4a-4148-ae78-c63d627e65b6');\n",
       "var x = new MutationObserver(function (mutations, observer) {{\n",
       "        var display = window.getComputedStyle(gd).display;\n",
       "        if (!display || display === 'none') {{\n",
       "            console.log([gd, 'removed!']);\n",
       "            Plotly.purge(gd);\n",
       "            observer.disconnect();\n",
       "        }}\n",
       "}});\n",
       "\n",
       "// Listen for the removal of the full notebook cells\n",
       "var notebookContainer = gd.closest('#notebook-container');\n",
       "if (notebookContainer) {{\n",
       "    x.observe(notebookContainer, {childList: true});\n",
       "}}\n",
       "\n",
       "// Listen for the clearing of the current output cell\n",
       "var outputEl = gd.closest('.output');\n",
       "if (outputEl) {{\n",
       "    x.observe(outputEl, {childList: true});\n",
       "}}\n",
       "\n",
       "                        })                };                });            </script>        </div>"
      ]
     },
     "metadata": {},
     "output_type": "display_data"
    }
   ],
   "source": [
    "df.iplot(kind='bubble',x='A',y='B',size='C')"
   ]
  },
  {
   "cell_type": "markdown",
   "metadata": {},
   "source": [
    "## scatter_matrix()\n",
    "\n",
    "Similar to sns.pairplot()"
   ]
  },
  {
   "cell_type": "code",
   "execution_count": 18,
   "metadata": {},
   "outputs": [
    {
     "data": {
      "application/vnd.plotly.v1+json": {
       "config": {
        "linkText": "Export to plot.ly",
        "plotlyServerURL": "https://plot.ly",
        "showLink": true
       },
       "data": [
        {
         "histfunc": "count",
         "histnorm": "",
         "marker": {
          "color": "rgba(255, 153, 51, 1.0)",
          "line": {
           "color": "#4D5663",
           "width": 1.3
          }
         },
         "name": "A",
         "nbinsx": 10,
         "opacity": 0.8,
         "orientation": "v",
         "type": "histogram",
         "x": [
          -1.0520499660805134,
          -0.6395256708852439,
          -0.33434764741888273,
          -0.602102263802253,
          0.3275992110293282,
          -0.8517119727079342,
          0.4823647677292349,
          -0.6733753513218748,
          1.0663693192389487,
          -0.6674469283977741,
          -0.1555538710682971,
          0.982078463400281,
          0.5605995734508707,
          -1.5992430724659148,
          -0.4863413205475636,
          -1.635285837548092,
          1.3935076424093102,
          1.7941318056056335,
          0.5341913789906737,
          -0.9524975663306507,
          -0.4573351632944464,
          1.1177083797834142,
          -0.5706607672093532,
          0.7867354928231047,
          0.07981317429930133,
          -0.6349940715278921,
          1.5425662192838554,
          -0.6132422783945425,
          0.15544048184803386,
          0.9192445510904795,
          -1.7359719590500762,
          -1.9119274895922669,
          0.6944479962123283,
          0.3532145001978853,
          -1.0600796071503271,
          -0.5334678844301335,
          -0.6394875240041487,
          0.3128946201121304,
          0.016069119234565766,
          -1.5744316004386434,
          0.7344487377210069,
          0.7193287039929793,
          0.4812823931213064,
          -0.24678614971224266,
          -0.2905274885290895,
          -0.1003666244799347,
          0.2183659952290479,
          -2.319740663802171,
          -0.6745518951897882,
          0.29578338730627296,
          0.027684720711771665,
          0.6195480439047139,
          0.6876980075689124,
          -1.1798993200458125,
          1.1244893859000014,
          0.5280412892103941,
          -0.6001297370928859,
          -0.027008110814554072,
          -0.2748635223706462,
          1.4138169456342016,
          -0.9151732693883676,
          -0.4134435108103696,
          0.9255576517778622,
          0.860868531480433,
          1.758016656113904,
          1.6783618939930056,
          0.06869043899424485,
          0.6937178925305963,
          -0.8760537876530695,
          0.9102278415320038,
          0.7191692678149171,
          -0.4913169243308279,
          1.2337987142169284,
          0.7956878705772449,
          1.371542963623464,
          -1.343501561614963,
          1.0118949910662463,
          1.1658612878341348,
          -0.6928552283460352,
          -0.4687295487764381,
          -0.8757314396497151,
          -0.3643879992119797,
          0.811605819362338,
          -0.42095946538411305,
          -0.9898935045710047,
          0.7334033677693634,
          -0.19290472361161884,
          1.8143264562579273,
          0.8281944946575908,
          0.4854377119690578,
          0.5615674241389551,
          0.30512951708273917,
          -0.2966780672407173,
          2.3797154891776886,
          1.4080321570020835,
          -1.03463191031649,
          -1.941093118397556,
          -0.5620252053886859,
          -0.7270510460295249,
          0.10178198219108311
         ],
         "xaxis": "x",
         "yaxis": "y"
        },
        {
         "line": {
          "color": "rgba(128, 128, 128, 1.0)",
          "dash": "solid",
          "shape": "linear",
          "width": 1.3
         },
         "marker": {
          "size": 2,
          "symbol": "circle"
         },
         "mode": "markers",
         "name": "A",
         "text": "",
         "type": "scatter",
         "x": [
          -0.5756640459082741,
          0.5987981212644335,
          -0.7783665585217159,
          -0.09573196409819089,
          -0.14284747496470035,
          1.1566851064970056,
          0.14205945762224648,
          0.9925438822429384,
          -1.4205067005147545,
          -0.4243133975107277,
          0.2046316406674326,
          -0.8664033231860435,
          0.30018363681115173,
          0.7012726412626394,
          -0.5832744366644343,
          -1.9611912132619702,
          -1.2865690654113124,
          0.2805418321787577,
          0.5712498729810047,
          -0.6776239869439911,
          0.3316361158392233,
          -0.14461439325213005,
          -1.0410638673782593,
          -0.4080654043631619,
          -0.00631491901211208,
          0.654337983442778,
          0.04670538856144417,
          0.4891070888438266,
          -1.2277858127245984,
          -1.5325129450673443,
          1.2514271194867919,
          -0.6784529656249904,
          0.8507471393458212,
          0.3524385390065126,
          0.6553698989078516,
          -1.0598696128958636,
          -0.5655967775632145,
          1.1038885195167987,
          0.51412957783871,
          -1.03444943752192,
          -0.5231942655733847,
          -0.8380629336724287,
          1.903096658084694,
          0.4168137650785216,
          -0.4997398212243618,
          1.4029778201285397,
          0.8105226854959072,
          -1.7054169577749274,
          0.4605260705984755,
          -0.9824384505992422,
          -3.224746706249651,
          -0.6689949803255751,
          1.136152225459386,
          0.5680385123690971,
          0.7065628304892786,
          -0.42374809536258623,
          -0.8945591138218476,
          1.3206984539123967,
          -1.047728278006352,
          0.22476929272194288,
          -0.0009414573889848483,
          -0.01541225142410007,
          0.8263022924568258,
          0.42637279096367314,
          0.7989305066857885,
          -0.9789730984372811,
          -0.07071920797599111,
          -0.6115527255986463,
          -1.251525922052416,
          0.6676854765757444,
          1.9869694622253653,
          1.5658607072704804,
          -0.4186693946248924,
          -0.40628885793212743,
          1.5568244944045366,
          -0.7326242574894654,
          0.37958514924466513,
          -0.1783531218270007,
          -1.4160686077684221,
          0.4077861201653217,
          1.866778069209306,
          -1.0186822996845648,
          0.8993809357600041,
          -0.29568521043114,
          -0.47082542872155764,
          0.7282529986227604,
          0.06269962361015688,
          -0.3591244801120115,
          -0.28395660057604427,
          0.5295132537184689,
          -0.8352707178155664,
          0.3743707004534908,
          -0.31130372186525196,
          -0.7747932469996983,
          1.2259633383494222,
          -0.4464779411147586,
          0.996920839179652,
          0.20800829553317293,
          0.1858285403997541,
          -1.5192392350514088
         ],
         "xaxis": "x2",
         "y": [
          -1.0520499660805134,
          -0.6395256708852439,
          -0.33434764741888273,
          -0.602102263802253,
          0.3275992110293282,
          -0.8517119727079342,
          0.4823647677292349,
          -0.6733753513218748,
          1.0663693192389487,
          -0.6674469283977741,
          -0.1555538710682971,
          0.982078463400281,
          0.5605995734508707,
          -1.5992430724659148,
          -0.4863413205475636,
          -1.635285837548092,
          1.3935076424093102,
          1.7941318056056335,
          0.5341913789906737,
          -0.9524975663306507,
          -0.4573351632944464,
          1.1177083797834142,
          -0.5706607672093532,
          0.7867354928231047,
          0.07981317429930133,
          -0.6349940715278921,
          1.5425662192838554,
          -0.6132422783945425,
          0.15544048184803386,
          0.9192445510904795,
          -1.7359719590500762,
          -1.9119274895922669,
          0.6944479962123283,
          0.3532145001978853,
          -1.0600796071503271,
          -0.5334678844301335,
          -0.6394875240041487,
          0.3128946201121304,
          0.016069119234565766,
          -1.5744316004386434,
          0.7344487377210069,
          0.7193287039929793,
          0.4812823931213064,
          -0.24678614971224266,
          -0.2905274885290895,
          -0.1003666244799347,
          0.2183659952290479,
          -2.319740663802171,
          -0.6745518951897882,
          0.29578338730627296,
          0.027684720711771665,
          0.6195480439047139,
          0.6876980075689124,
          -1.1798993200458125,
          1.1244893859000014,
          0.5280412892103941,
          -0.6001297370928859,
          -0.027008110814554072,
          -0.2748635223706462,
          1.4138169456342016,
          -0.9151732693883676,
          -0.4134435108103696,
          0.9255576517778622,
          0.860868531480433,
          1.758016656113904,
          1.6783618939930056,
          0.06869043899424485,
          0.6937178925305963,
          -0.8760537876530695,
          0.9102278415320038,
          0.7191692678149171,
          -0.4913169243308279,
          1.2337987142169284,
          0.7956878705772449,
          1.371542963623464,
          -1.343501561614963,
          1.0118949910662463,
          1.1658612878341348,
          -0.6928552283460352,
          -0.4687295487764381,
          -0.8757314396497151,
          -0.3643879992119797,
          0.811605819362338,
          -0.42095946538411305,
          -0.9898935045710047,
          0.7334033677693634,
          -0.19290472361161884,
          1.8143264562579273,
          0.8281944946575908,
          0.4854377119690578,
          0.5615674241389551,
          0.30512951708273917,
          -0.2966780672407173,
          2.3797154891776886,
          1.4080321570020835,
          -1.03463191031649,
          -1.941093118397556,
          -0.5620252053886859,
          -0.7270510460295249,
          0.10178198219108311
         ],
         "yaxis": "y2"
        },
        {
         "line": {
          "color": "rgba(128, 128, 128, 1.0)",
          "dash": "solid",
          "shape": "linear",
          "width": 1.3
         },
         "marker": {
          "size": 2,
          "symbol": "circle"
         },
         "mode": "markers",
         "name": "A",
         "text": "",
         "type": "scatter",
         "x": [
          -0.5819334923709587,
          -0.20535185346047247,
          0.46495722193269035,
          1.0070083228749713,
          -1.9374996309320467,
          -1.8541871881835001,
          -0.848496434101706,
          0.45974409273358985,
          -0.42962749274340156,
          0.7692492026076733,
          0.6928099983210566,
          -0.06208913376574852,
          -1.0053623155890632,
          0.007044029659171979,
          -0.6959485236317551,
          0.16773342407984793,
          0.4414972998112349,
          1.1882019964628374,
          -0.19853533442373375,
          0.3267154299617585,
          0.26714306155641165,
          -0.8955268783525614,
          -0.27288703912797035,
          0.39275060553488506,
          0.7115752608323191,
          0.7739850163751817,
          0.1775505555193976,
          -0.6086922158505274,
          -0.6294228912057446,
          -0.3894360632509466,
          -1.2076184402578136,
          3.0053123500080563,
          -1.5754072359244329,
          0.9081520007417977,
          0.41550855556638033,
          -0.8513454002492441,
          -1.1326100992100343,
          1.0146364521051245,
          0.3499554555995428,
          -0.18271749072119908,
          -1.3828375182730765,
          0.06925941812907539,
          -0.19944910235226446,
          0.28659471060857167,
          0.431064112970978,
          0.44260910684426763,
          1.2723582047994717,
          0.15314586765388086,
          -0.9177936069592793,
          0.3872575875906056,
          1.353121625137218,
          -0.854219028152435,
          0.6594533648064694,
          0.3192636945692223,
          -1.1155131217634007,
          -2.1766829042957143,
          -0.3998026993553559,
          0.10033839956286841,
          0.0015704263412207665,
          0.7967668240914113,
          0.4700248884500916,
          0.6766821536944682,
          -0.7350572401590547,
          1.663609236900145,
          -1.4250134126719334,
          -0.722653969919067,
          -0.61533551687048,
          -1.248779331333013,
          0.12473013029526318,
          -1.5055610854030745,
          -1.169929557726273,
          0.49176966267461564,
          -0.43076836408784097,
          -0.5615642090678576,
          -1.0749653716673913,
          0.14688846542818107,
          0.6169536007402349,
          0.34337017267739983,
          -0.21718300793707138,
          -0.3725730120890333,
          0.1631074630424868,
          -1.6531956150206424,
          -0.7909997606036744,
          -2.477105350291788,
          1.416172153010682,
          -0.058421198865491235,
          -0.9317774772046867,
          1.78265714700381,
          -0.9900013276270953,
          1.5728132878672307,
          1.1325937740258523,
          -1.1199356407596541,
          2.379674994438924,
          2.080399997501075,
          -0.6534166903005675,
          0.4672977861022814,
          0.8744911814364437,
          -1.6692849310609135,
          -1.7115761965081926,
          0.3828922611526809
         ],
         "xaxis": "x3",
         "y": [
          -1.0520499660805134,
          -0.6395256708852439,
          -0.33434764741888273,
          -0.602102263802253,
          0.3275992110293282,
          -0.8517119727079342,
          0.4823647677292349,
          -0.6733753513218748,
          1.0663693192389487,
          -0.6674469283977741,
          -0.1555538710682971,
          0.982078463400281,
          0.5605995734508707,
          -1.5992430724659148,
          -0.4863413205475636,
          -1.635285837548092,
          1.3935076424093102,
          1.7941318056056335,
          0.5341913789906737,
          -0.9524975663306507,
          -0.4573351632944464,
          1.1177083797834142,
          -0.5706607672093532,
          0.7867354928231047,
          0.07981317429930133,
          -0.6349940715278921,
          1.5425662192838554,
          -0.6132422783945425,
          0.15544048184803386,
          0.9192445510904795,
          -1.7359719590500762,
          -1.9119274895922669,
          0.6944479962123283,
          0.3532145001978853,
          -1.0600796071503271,
          -0.5334678844301335,
          -0.6394875240041487,
          0.3128946201121304,
          0.016069119234565766,
          -1.5744316004386434,
          0.7344487377210069,
          0.7193287039929793,
          0.4812823931213064,
          -0.24678614971224266,
          -0.2905274885290895,
          -0.1003666244799347,
          0.2183659952290479,
          -2.319740663802171,
          -0.6745518951897882,
          0.29578338730627296,
          0.027684720711771665,
          0.6195480439047139,
          0.6876980075689124,
          -1.1798993200458125,
          1.1244893859000014,
          0.5280412892103941,
          -0.6001297370928859,
          -0.027008110814554072,
          -0.2748635223706462,
          1.4138169456342016,
          -0.9151732693883676,
          -0.4134435108103696,
          0.9255576517778622,
          0.860868531480433,
          1.758016656113904,
          1.6783618939930056,
          0.06869043899424485,
          0.6937178925305963,
          -0.8760537876530695,
          0.9102278415320038,
          0.7191692678149171,
          -0.4913169243308279,
          1.2337987142169284,
          0.7956878705772449,
          1.371542963623464,
          -1.343501561614963,
          1.0118949910662463,
          1.1658612878341348,
          -0.6928552283460352,
          -0.4687295487764381,
          -0.8757314396497151,
          -0.3643879992119797,
          0.811605819362338,
          -0.42095946538411305,
          -0.9898935045710047,
          0.7334033677693634,
          -0.19290472361161884,
          1.8143264562579273,
          0.8281944946575908,
          0.4854377119690578,
          0.5615674241389551,
          0.30512951708273917,
          -0.2966780672407173,
          2.3797154891776886,
          1.4080321570020835,
          -1.03463191031649,
          -1.941093118397556,
          -0.5620252053886859,
          -0.7270510460295249,
          0.10178198219108311
         ],
         "yaxis": "y3"
        },
        {
         "line": {
          "color": "rgba(128, 128, 128, 1.0)",
          "dash": "solid",
          "shape": "linear",
          "width": 1.3
         },
         "marker": {
          "size": 2,
          "symbol": "circle"
         },
         "mode": "markers",
         "name": "A",
         "text": "",
         "type": "scatter",
         "x": [
          0.9277319196502233,
          -0.12536008250933575,
          -0.12107125297344493,
          -0.8232707716494212,
          0.0664355796174163,
          -1.0678908297985703,
          0.0771054637995535,
          -0.051419097373521905,
          0.8336144416442017,
          -0.235139942535916,
          0.17619034695555033,
          2.0262920079966684,
          1.9755131430698687,
          -0.9611065737485338,
          -0.15006797456552856,
          0.11044491010489915,
          -0.4376965493761567,
          -1.5631316393241954,
          0.1471186920291873,
          -1.1640011834330464,
          0.4258943442374219,
          1.2146088757256255,
          0.7735049289379338,
          0.7082704771945506,
          0.11701812225321552,
          -0.15847090018087553,
          1.0719554689341357,
          -0.46749993915361393,
          0.16249504661882275,
          0.7356303076485307,
          -0.47825963665381,
          0.5706434066808811,
          0.3426791200908702,
          -0.1134673865337506,
          -1.1581329453850489,
          -0.6121034811396447,
          1.2680418810575937,
          -1.0479312107585474,
          0.15348820995902268,
          0.514842534562817,
          0.49451618938625846,
          1.6208723713139663,
          -0.25548314383520526,
          0.5374303675035457,
          -0.582559486730231,
          0.3586512893294155,
          -0.47962465951319494,
          0.2647371692605464,
          -0.47771343959240603,
          -0.7017403951073233,
          -0.034630588932819464,
          1.6522890087900828,
          0.5581153890731325,
          1.2058044077410321,
          -0.49446560660305783,
          -0.6736574987752219,
          -1.4315440524134833,
          -1.3562113280827872,
          -0.806985630376175,
          0.04536848363326349,
          -1.4830070051596294,
          0.4549646595345361,
          -0.48559025918958065,
          0.4561273132929846,
          -0.9969847859936918,
          -0.017345009789463923,
          -0.45243254887684414,
          1.3526888226060534,
          0.24175626611159212,
          1.5767487666136768,
          -1.3789565966868544,
          0.24661436799681344,
          0.43095305560163444,
          -1.1287038083661936,
          1.0868511602946072,
          0.3097320823328397,
          0.5923187864201388,
          0.3578463427763317,
          -1.4342376241981762,
          0.1907973388784022,
          1.2935339400068324,
          -1.7901698150670595,
          -0.933527031679027,
          1.678288570633211,
          0.01884053700803777,
          0.5652059967893183,
          -1.5100447146004006,
          -0.14949401638016677,
          2.0300286353463854,
          -2.072940206901961,
          2.3421377329868496,
          1.4888237344503232,
          -2.0842945390943983,
          0.5537941026885076,
          0.5471328253270026,
          0.6234422409414835,
          0.7736632900800269,
          0.3957359267460818,
          -0.40036226897897575,
          0.396793570420886
         ],
         "xaxis": "x4",
         "y": [
          -1.0520499660805134,
          -0.6395256708852439,
          -0.33434764741888273,
          -0.602102263802253,
          0.3275992110293282,
          -0.8517119727079342,
          0.4823647677292349,
          -0.6733753513218748,
          1.0663693192389487,
          -0.6674469283977741,
          -0.1555538710682971,
          0.982078463400281,
          0.5605995734508707,
          -1.5992430724659148,
          -0.4863413205475636,
          -1.635285837548092,
          1.3935076424093102,
          1.7941318056056335,
          0.5341913789906737,
          -0.9524975663306507,
          -0.4573351632944464,
          1.1177083797834142,
          -0.5706607672093532,
          0.7867354928231047,
          0.07981317429930133,
          -0.6349940715278921,
          1.5425662192838554,
          -0.6132422783945425,
          0.15544048184803386,
          0.9192445510904795,
          -1.7359719590500762,
          -1.9119274895922669,
          0.6944479962123283,
          0.3532145001978853,
          -1.0600796071503271,
          -0.5334678844301335,
          -0.6394875240041487,
          0.3128946201121304,
          0.016069119234565766,
          -1.5744316004386434,
          0.7344487377210069,
          0.7193287039929793,
          0.4812823931213064,
          -0.24678614971224266,
          -0.2905274885290895,
          -0.1003666244799347,
          0.2183659952290479,
          -2.319740663802171,
          -0.6745518951897882,
          0.29578338730627296,
          0.027684720711771665,
          0.6195480439047139,
          0.6876980075689124,
          -1.1798993200458125,
          1.1244893859000014,
          0.5280412892103941,
          -0.6001297370928859,
          -0.027008110814554072,
          -0.2748635223706462,
          1.4138169456342016,
          -0.9151732693883676,
          -0.4134435108103696,
          0.9255576517778622,
          0.860868531480433,
          1.758016656113904,
          1.6783618939930056,
          0.06869043899424485,
          0.6937178925305963,
          -0.8760537876530695,
          0.9102278415320038,
          0.7191692678149171,
          -0.4913169243308279,
          1.2337987142169284,
          0.7956878705772449,
          1.371542963623464,
          -1.343501561614963,
          1.0118949910662463,
          1.1658612878341348,
          -0.6928552283460352,
          -0.4687295487764381,
          -0.8757314396497151,
          -0.3643879992119797,
          0.811605819362338,
          -0.42095946538411305,
          -0.9898935045710047,
          0.7334033677693634,
          -0.19290472361161884,
          1.8143264562579273,
          0.8281944946575908,
          0.4854377119690578,
          0.5615674241389551,
          0.30512951708273917,
          -0.2966780672407173,
          2.3797154891776886,
          1.4080321570020835,
          -1.03463191031649,
          -1.941093118397556,
          -0.5620252053886859,
          -0.7270510460295249,
          0.10178198219108311
         ],
         "yaxis": "y4"
        },
        {
         "line": {
          "color": "rgba(128, 128, 128, 1.0)",
          "dash": "solid",
          "shape": "linear",
          "width": 1.3
         },
         "marker": {
          "size": 2,
          "symbol": "circle"
         },
         "mode": "markers",
         "name": "B",
         "text": "",
         "type": "scatter",
         "x": [
          -1.0520499660805134,
          -0.6395256708852439,
          -0.33434764741888273,
          -0.602102263802253,
          0.3275992110293282,
          -0.8517119727079342,
          0.4823647677292349,
          -0.6733753513218748,
          1.0663693192389487,
          -0.6674469283977741,
          -0.1555538710682971,
          0.982078463400281,
          0.5605995734508707,
          -1.5992430724659148,
          -0.4863413205475636,
          -1.635285837548092,
          1.3935076424093102,
          1.7941318056056335,
          0.5341913789906737,
          -0.9524975663306507,
          -0.4573351632944464,
          1.1177083797834142,
          -0.5706607672093532,
          0.7867354928231047,
          0.07981317429930133,
          -0.6349940715278921,
          1.5425662192838554,
          -0.6132422783945425,
          0.15544048184803386,
          0.9192445510904795,
          -1.7359719590500762,
          -1.9119274895922669,
          0.6944479962123283,
          0.3532145001978853,
          -1.0600796071503271,
          -0.5334678844301335,
          -0.6394875240041487,
          0.3128946201121304,
          0.016069119234565766,
          -1.5744316004386434,
          0.7344487377210069,
          0.7193287039929793,
          0.4812823931213064,
          -0.24678614971224266,
          -0.2905274885290895,
          -0.1003666244799347,
          0.2183659952290479,
          -2.319740663802171,
          -0.6745518951897882,
          0.29578338730627296,
          0.027684720711771665,
          0.6195480439047139,
          0.6876980075689124,
          -1.1798993200458125,
          1.1244893859000014,
          0.5280412892103941,
          -0.6001297370928859,
          -0.027008110814554072,
          -0.2748635223706462,
          1.4138169456342016,
          -0.9151732693883676,
          -0.4134435108103696,
          0.9255576517778622,
          0.860868531480433,
          1.758016656113904,
          1.6783618939930056,
          0.06869043899424485,
          0.6937178925305963,
          -0.8760537876530695,
          0.9102278415320038,
          0.7191692678149171,
          -0.4913169243308279,
          1.2337987142169284,
          0.7956878705772449,
          1.371542963623464,
          -1.343501561614963,
          1.0118949910662463,
          1.1658612878341348,
          -0.6928552283460352,
          -0.4687295487764381,
          -0.8757314396497151,
          -0.3643879992119797,
          0.811605819362338,
          -0.42095946538411305,
          -0.9898935045710047,
          0.7334033677693634,
          -0.19290472361161884,
          1.8143264562579273,
          0.8281944946575908,
          0.4854377119690578,
          0.5615674241389551,
          0.30512951708273917,
          -0.2966780672407173,
          2.3797154891776886,
          1.4080321570020835,
          -1.03463191031649,
          -1.941093118397556,
          -0.5620252053886859,
          -0.7270510460295249,
          0.10178198219108311
         ],
         "xaxis": "x5",
         "y": [
          -0.5756640459082741,
          0.5987981212644335,
          -0.7783665585217159,
          -0.09573196409819089,
          -0.14284747496470035,
          1.1566851064970056,
          0.14205945762224648,
          0.9925438822429384,
          -1.4205067005147545,
          -0.4243133975107277,
          0.2046316406674326,
          -0.8664033231860435,
          0.30018363681115173,
          0.7012726412626394,
          -0.5832744366644343,
          -1.9611912132619702,
          -1.2865690654113124,
          0.2805418321787577,
          0.5712498729810047,
          -0.6776239869439911,
          0.3316361158392233,
          -0.14461439325213005,
          -1.0410638673782593,
          -0.4080654043631619,
          -0.00631491901211208,
          0.654337983442778,
          0.04670538856144417,
          0.4891070888438266,
          -1.2277858127245984,
          -1.5325129450673443,
          1.2514271194867919,
          -0.6784529656249904,
          0.8507471393458212,
          0.3524385390065126,
          0.6553698989078516,
          -1.0598696128958636,
          -0.5655967775632145,
          1.1038885195167987,
          0.51412957783871,
          -1.03444943752192,
          -0.5231942655733847,
          -0.8380629336724287,
          1.903096658084694,
          0.4168137650785216,
          -0.4997398212243618,
          1.4029778201285397,
          0.8105226854959072,
          -1.7054169577749274,
          0.4605260705984755,
          -0.9824384505992422,
          -3.224746706249651,
          -0.6689949803255751,
          1.136152225459386,
          0.5680385123690971,
          0.7065628304892786,
          -0.42374809536258623,
          -0.8945591138218476,
          1.3206984539123967,
          -1.047728278006352,
          0.22476929272194288,
          -0.0009414573889848483,
          -0.01541225142410007,
          0.8263022924568258,
          0.42637279096367314,
          0.7989305066857885,
          -0.9789730984372811,
          -0.07071920797599111,
          -0.6115527255986463,
          -1.251525922052416,
          0.6676854765757444,
          1.9869694622253653,
          1.5658607072704804,
          -0.4186693946248924,
          -0.40628885793212743,
          1.5568244944045366,
          -0.7326242574894654,
          0.37958514924466513,
          -0.1783531218270007,
          -1.4160686077684221,
          0.4077861201653217,
          1.866778069209306,
          -1.0186822996845648,
          0.8993809357600041,
          -0.29568521043114,
          -0.47082542872155764,
          0.7282529986227604,
          0.06269962361015688,
          -0.3591244801120115,
          -0.28395660057604427,
          0.5295132537184689,
          -0.8352707178155664,
          0.3743707004534908,
          -0.31130372186525196,
          -0.7747932469996983,
          1.2259633383494222,
          -0.4464779411147586,
          0.996920839179652,
          0.20800829553317293,
          0.1858285403997541,
          -1.5192392350514088
         ],
         "yaxis": "y5"
        },
        {
         "histfunc": "count",
         "histnorm": "",
         "marker": {
          "color": "rgba(55, 128, 191, 1.0)",
          "line": {
           "color": "#4D5663",
           "width": 1.3
          }
         },
         "name": "B",
         "nbinsx": 10,
         "opacity": 0.8,
         "orientation": "v",
         "type": "histogram",
         "x": [
          -0.5756640459082741,
          0.5987981212644335,
          -0.7783665585217159,
          -0.09573196409819089,
          -0.14284747496470035,
          1.1566851064970056,
          0.14205945762224648,
          0.9925438822429384,
          -1.4205067005147545,
          -0.4243133975107277,
          0.2046316406674326,
          -0.8664033231860435,
          0.30018363681115173,
          0.7012726412626394,
          -0.5832744366644343,
          -1.9611912132619702,
          -1.2865690654113124,
          0.2805418321787577,
          0.5712498729810047,
          -0.6776239869439911,
          0.3316361158392233,
          -0.14461439325213005,
          -1.0410638673782593,
          -0.4080654043631619,
          -0.00631491901211208,
          0.654337983442778,
          0.04670538856144417,
          0.4891070888438266,
          -1.2277858127245984,
          -1.5325129450673443,
          1.2514271194867919,
          -0.6784529656249904,
          0.8507471393458212,
          0.3524385390065126,
          0.6553698989078516,
          -1.0598696128958636,
          -0.5655967775632145,
          1.1038885195167987,
          0.51412957783871,
          -1.03444943752192,
          -0.5231942655733847,
          -0.8380629336724287,
          1.903096658084694,
          0.4168137650785216,
          -0.4997398212243618,
          1.4029778201285397,
          0.8105226854959072,
          -1.7054169577749274,
          0.4605260705984755,
          -0.9824384505992422,
          -3.224746706249651,
          -0.6689949803255751,
          1.136152225459386,
          0.5680385123690971,
          0.7065628304892786,
          -0.42374809536258623,
          -0.8945591138218476,
          1.3206984539123967,
          -1.047728278006352,
          0.22476929272194288,
          -0.0009414573889848483,
          -0.01541225142410007,
          0.8263022924568258,
          0.42637279096367314,
          0.7989305066857885,
          -0.9789730984372811,
          -0.07071920797599111,
          -0.6115527255986463,
          -1.251525922052416,
          0.6676854765757444,
          1.9869694622253653,
          1.5658607072704804,
          -0.4186693946248924,
          -0.40628885793212743,
          1.5568244944045366,
          -0.7326242574894654,
          0.37958514924466513,
          -0.1783531218270007,
          -1.4160686077684221,
          0.4077861201653217,
          1.866778069209306,
          -1.0186822996845648,
          0.8993809357600041,
          -0.29568521043114,
          -0.47082542872155764,
          0.7282529986227604,
          0.06269962361015688,
          -0.3591244801120115,
          -0.28395660057604427,
          0.5295132537184689,
          -0.8352707178155664,
          0.3743707004534908,
          -0.31130372186525196,
          -0.7747932469996983,
          1.2259633383494222,
          -0.4464779411147586,
          0.996920839179652,
          0.20800829553317293,
          0.1858285403997541,
          -1.5192392350514088
         ],
         "xaxis": "x6",
         "yaxis": "y6"
        },
        {
         "line": {
          "color": "rgba(128, 128, 128, 1.0)",
          "dash": "solid",
          "shape": "linear",
          "width": 1.3
         },
         "marker": {
          "size": 2,
          "symbol": "circle"
         },
         "mode": "markers",
         "name": "B",
         "text": "",
         "type": "scatter",
         "x": [
          -0.5819334923709587,
          -0.20535185346047247,
          0.46495722193269035,
          1.0070083228749713,
          -1.9374996309320467,
          -1.8541871881835001,
          -0.848496434101706,
          0.45974409273358985,
          -0.42962749274340156,
          0.7692492026076733,
          0.6928099983210566,
          -0.06208913376574852,
          -1.0053623155890632,
          0.007044029659171979,
          -0.6959485236317551,
          0.16773342407984793,
          0.4414972998112349,
          1.1882019964628374,
          -0.19853533442373375,
          0.3267154299617585,
          0.26714306155641165,
          -0.8955268783525614,
          -0.27288703912797035,
          0.39275060553488506,
          0.7115752608323191,
          0.7739850163751817,
          0.1775505555193976,
          -0.6086922158505274,
          -0.6294228912057446,
          -0.3894360632509466,
          -1.2076184402578136,
          3.0053123500080563,
          -1.5754072359244329,
          0.9081520007417977,
          0.41550855556638033,
          -0.8513454002492441,
          -1.1326100992100343,
          1.0146364521051245,
          0.3499554555995428,
          -0.18271749072119908,
          -1.3828375182730765,
          0.06925941812907539,
          -0.19944910235226446,
          0.28659471060857167,
          0.431064112970978,
          0.44260910684426763,
          1.2723582047994717,
          0.15314586765388086,
          -0.9177936069592793,
          0.3872575875906056,
          1.353121625137218,
          -0.854219028152435,
          0.6594533648064694,
          0.3192636945692223,
          -1.1155131217634007,
          -2.1766829042957143,
          -0.3998026993553559,
          0.10033839956286841,
          0.0015704263412207665,
          0.7967668240914113,
          0.4700248884500916,
          0.6766821536944682,
          -0.7350572401590547,
          1.663609236900145,
          -1.4250134126719334,
          -0.722653969919067,
          -0.61533551687048,
          -1.248779331333013,
          0.12473013029526318,
          -1.5055610854030745,
          -1.169929557726273,
          0.49176966267461564,
          -0.43076836408784097,
          -0.5615642090678576,
          -1.0749653716673913,
          0.14688846542818107,
          0.6169536007402349,
          0.34337017267739983,
          -0.21718300793707138,
          -0.3725730120890333,
          0.1631074630424868,
          -1.6531956150206424,
          -0.7909997606036744,
          -2.477105350291788,
          1.416172153010682,
          -0.058421198865491235,
          -0.9317774772046867,
          1.78265714700381,
          -0.9900013276270953,
          1.5728132878672307,
          1.1325937740258523,
          -1.1199356407596541,
          2.379674994438924,
          2.080399997501075,
          -0.6534166903005675,
          0.4672977861022814,
          0.8744911814364437,
          -1.6692849310609135,
          -1.7115761965081926,
          0.3828922611526809
         ],
         "xaxis": "x7",
         "y": [
          -0.5756640459082741,
          0.5987981212644335,
          -0.7783665585217159,
          -0.09573196409819089,
          -0.14284747496470035,
          1.1566851064970056,
          0.14205945762224648,
          0.9925438822429384,
          -1.4205067005147545,
          -0.4243133975107277,
          0.2046316406674326,
          -0.8664033231860435,
          0.30018363681115173,
          0.7012726412626394,
          -0.5832744366644343,
          -1.9611912132619702,
          -1.2865690654113124,
          0.2805418321787577,
          0.5712498729810047,
          -0.6776239869439911,
          0.3316361158392233,
          -0.14461439325213005,
          -1.0410638673782593,
          -0.4080654043631619,
          -0.00631491901211208,
          0.654337983442778,
          0.04670538856144417,
          0.4891070888438266,
          -1.2277858127245984,
          -1.5325129450673443,
          1.2514271194867919,
          -0.6784529656249904,
          0.8507471393458212,
          0.3524385390065126,
          0.6553698989078516,
          -1.0598696128958636,
          -0.5655967775632145,
          1.1038885195167987,
          0.51412957783871,
          -1.03444943752192,
          -0.5231942655733847,
          -0.8380629336724287,
          1.903096658084694,
          0.4168137650785216,
          -0.4997398212243618,
          1.4029778201285397,
          0.8105226854959072,
          -1.7054169577749274,
          0.4605260705984755,
          -0.9824384505992422,
          -3.224746706249651,
          -0.6689949803255751,
          1.136152225459386,
          0.5680385123690971,
          0.7065628304892786,
          -0.42374809536258623,
          -0.8945591138218476,
          1.3206984539123967,
          -1.047728278006352,
          0.22476929272194288,
          -0.0009414573889848483,
          -0.01541225142410007,
          0.8263022924568258,
          0.42637279096367314,
          0.7989305066857885,
          -0.9789730984372811,
          -0.07071920797599111,
          -0.6115527255986463,
          -1.251525922052416,
          0.6676854765757444,
          1.9869694622253653,
          1.5658607072704804,
          -0.4186693946248924,
          -0.40628885793212743,
          1.5568244944045366,
          -0.7326242574894654,
          0.37958514924466513,
          -0.1783531218270007,
          -1.4160686077684221,
          0.4077861201653217,
          1.866778069209306,
          -1.0186822996845648,
          0.8993809357600041,
          -0.29568521043114,
          -0.47082542872155764,
          0.7282529986227604,
          0.06269962361015688,
          -0.3591244801120115,
          -0.28395660057604427,
          0.5295132537184689,
          -0.8352707178155664,
          0.3743707004534908,
          -0.31130372186525196,
          -0.7747932469996983,
          1.2259633383494222,
          -0.4464779411147586,
          0.996920839179652,
          0.20800829553317293,
          0.1858285403997541,
          -1.5192392350514088
         ],
         "yaxis": "y7"
        },
        {
         "line": {
          "color": "rgba(128, 128, 128, 1.0)",
          "dash": "solid",
          "shape": "linear",
          "width": 1.3
         },
         "marker": {
          "size": 2,
          "symbol": "circle"
         },
         "mode": "markers",
         "name": "B",
         "text": "",
         "type": "scatter",
         "x": [
          0.9277319196502233,
          -0.12536008250933575,
          -0.12107125297344493,
          -0.8232707716494212,
          0.0664355796174163,
          -1.0678908297985703,
          0.0771054637995535,
          -0.051419097373521905,
          0.8336144416442017,
          -0.235139942535916,
          0.17619034695555033,
          2.0262920079966684,
          1.9755131430698687,
          -0.9611065737485338,
          -0.15006797456552856,
          0.11044491010489915,
          -0.4376965493761567,
          -1.5631316393241954,
          0.1471186920291873,
          -1.1640011834330464,
          0.4258943442374219,
          1.2146088757256255,
          0.7735049289379338,
          0.7082704771945506,
          0.11701812225321552,
          -0.15847090018087553,
          1.0719554689341357,
          -0.46749993915361393,
          0.16249504661882275,
          0.7356303076485307,
          -0.47825963665381,
          0.5706434066808811,
          0.3426791200908702,
          -0.1134673865337506,
          -1.1581329453850489,
          -0.6121034811396447,
          1.2680418810575937,
          -1.0479312107585474,
          0.15348820995902268,
          0.514842534562817,
          0.49451618938625846,
          1.6208723713139663,
          -0.25548314383520526,
          0.5374303675035457,
          -0.582559486730231,
          0.3586512893294155,
          -0.47962465951319494,
          0.2647371692605464,
          -0.47771343959240603,
          -0.7017403951073233,
          -0.034630588932819464,
          1.6522890087900828,
          0.5581153890731325,
          1.2058044077410321,
          -0.49446560660305783,
          -0.6736574987752219,
          -1.4315440524134833,
          -1.3562113280827872,
          -0.806985630376175,
          0.04536848363326349,
          -1.4830070051596294,
          0.4549646595345361,
          -0.48559025918958065,
          0.4561273132929846,
          -0.9969847859936918,
          -0.017345009789463923,
          -0.45243254887684414,
          1.3526888226060534,
          0.24175626611159212,
          1.5767487666136768,
          -1.3789565966868544,
          0.24661436799681344,
          0.43095305560163444,
          -1.1287038083661936,
          1.0868511602946072,
          0.3097320823328397,
          0.5923187864201388,
          0.3578463427763317,
          -1.4342376241981762,
          0.1907973388784022,
          1.2935339400068324,
          -1.7901698150670595,
          -0.933527031679027,
          1.678288570633211,
          0.01884053700803777,
          0.5652059967893183,
          -1.5100447146004006,
          -0.14949401638016677,
          2.0300286353463854,
          -2.072940206901961,
          2.3421377329868496,
          1.4888237344503232,
          -2.0842945390943983,
          0.5537941026885076,
          0.5471328253270026,
          0.6234422409414835,
          0.7736632900800269,
          0.3957359267460818,
          -0.40036226897897575,
          0.396793570420886
         ],
         "xaxis": "x8",
         "y": [
          -0.5756640459082741,
          0.5987981212644335,
          -0.7783665585217159,
          -0.09573196409819089,
          -0.14284747496470035,
          1.1566851064970056,
          0.14205945762224648,
          0.9925438822429384,
          -1.4205067005147545,
          -0.4243133975107277,
          0.2046316406674326,
          -0.8664033231860435,
          0.30018363681115173,
          0.7012726412626394,
          -0.5832744366644343,
          -1.9611912132619702,
          -1.2865690654113124,
          0.2805418321787577,
          0.5712498729810047,
          -0.6776239869439911,
          0.3316361158392233,
          -0.14461439325213005,
          -1.0410638673782593,
          -0.4080654043631619,
          -0.00631491901211208,
          0.654337983442778,
          0.04670538856144417,
          0.4891070888438266,
          -1.2277858127245984,
          -1.5325129450673443,
          1.2514271194867919,
          -0.6784529656249904,
          0.8507471393458212,
          0.3524385390065126,
          0.6553698989078516,
          -1.0598696128958636,
          -0.5655967775632145,
          1.1038885195167987,
          0.51412957783871,
          -1.03444943752192,
          -0.5231942655733847,
          -0.8380629336724287,
          1.903096658084694,
          0.4168137650785216,
          -0.4997398212243618,
          1.4029778201285397,
          0.8105226854959072,
          -1.7054169577749274,
          0.4605260705984755,
          -0.9824384505992422,
          -3.224746706249651,
          -0.6689949803255751,
          1.136152225459386,
          0.5680385123690971,
          0.7065628304892786,
          -0.42374809536258623,
          -0.8945591138218476,
          1.3206984539123967,
          -1.047728278006352,
          0.22476929272194288,
          -0.0009414573889848483,
          -0.01541225142410007,
          0.8263022924568258,
          0.42637279096367314,
          0.7989305066857885,
          -0.9789730984372811,
          -0.07071920797599111,
          -0.6115527255986463,
          -1.251525922052416,
          0.6676854765757444,
          1.9869694622253653,
          1.5658607072704804,
          -0.4186693946248924,
          -0.40628885793212743,
          1.5568244944045366,
          -0.7326242574894654,
          0.37958514924466513,
          -0.1783531218270007,
          -1.4160686077684221,
          0.4077861201653217,
          1.866778069209306,
          -1.0186822996845648,
          0.8993809357600041,
          -0.29568521043114,
          -0.47082542872155764,
          0.7282529986227604,
          0.06269962361015688,
          -0.3591244801120115,
          -0.28395660057604427,
          0.5295132537184689,
          -0.8352707178155664,
          0.3743707004534908,
          -0.31130372186525196,
          -0.7747932469996983,
          1.2259633383494222,
          -0.4464779411147586,
          0.996920839179652,
          0.20800829553317293,
          0.1858285403997541,
          -1.5192392350514088
         ],
         "yaxis": "y8"
        },
        {
         "line": {
          "color": "rgba(128, 128, 128, 1.0)",
          "dash": "solid",
          "shape": "linear",
          "width": 1.3
         },
         "marker": {
          "size": 2,
          "symbol": "circle"
         },
         "mode": "markers",
         "name": "C",
         "text": "",
         "type": "scatter",
         "x": [
          -1.0520499660805134,
          -0.6395256708852439,
          -0.33434764741888273,
          -0.602102263802253,
          0.3275992110293282,
          -0.8517119727079342,
          0.4823647677292349,
          -0.6733753513218748,
          1.0663693192389487,
          -0.6674469283977741,
          -0.1555538710682971,
          0.982078463400281,
          0.5605995734508707,
          -1.5992430724659148,
          -0.4863413205475636,
          -1.635285837548092,
          1.3935076424093102,
          1.7941318056056335,
          0.5341913789906737,
          -0.9524975663306507,
          -0.4573351632944464,
          1.1177083797834142,
          -0.5706607672093532,
          0.7867354928231047,
          0.07981317429930133,
          -0.6349940715278921,
          1.5425662192838554,
          -0.6132422783945425,
          0.15544048184803386,
          0.9192445510904795,
          -1.7359719590500762,
          -1.9119274895922669,
          0.6944479962123283,
          0.3532145001978853,
          -1.0600796071503271,
          -0.5334678844301335,
          -0.6394875240041487,
          0.3128946201121304,
          0.016069119234565766,
          -1.5744316004386434,
          0.7344487377210069,
          0.7193287039929793,
          0.4812823931213064,
          -0.24678614971224266,
          -0.2905274885290895,
          -0.1003666244799347,
          0.2183659952290479,
          -2.319740663802171,
          -0.6745518951897882,
          0.29578338730627296,
          0.027684720711771665,
          0.6195480439047139,
          0.6876980075689124,
          -1.1798993200458125,
          1.1244893859000014,
          0.5280412892103941,
          -0.6001297370928859,
          -0.027008110814554072,
          -0.2748635223706462,
          1.4138169456342016,
          -0.9151732693883676,
          -0.4134435108103696,
          0.9255576517778622,
          0.860868531480433,
          1.758016656113904,
          1.6783618939930056,
          0.06869043899424485,
          0.6937178925305963,
          -0.8760537876530695,
          0.9102278415320038,
          0.7191692678149171,
          -0.4913169243308279,
          1.2337987142169284,
          0.7956878705772449,
          1.371542963623464,
          -1.343501561614963,
          1.0118949910662463,
          1.1658612878341348,
          -0.6928552283460352,
          -0.4687295487764381,
          -0.8757314396497151,
          -0.3643879992119797,
          0.811605819362338,
          -0.42095946538411305,
          -0.9898935045710047,
          0.7334033677693634,
          -0.19290472361161884,
          1.8143264562579273,
          0.8281944946575908,
          0.4854377119690578,
          0.5615674241389551,
          0.30512951708273917,
          -0.2966780672407173,
          2.3797154891776886,
          1.4080321570020835,
          -1.03463191031649,
          -1.941093118397556,
          -0.5620252053886859,
          -0.7270510460295249,
          0.10178198219108311
         ],
         "xaxis": "x9",
         "y": [
          -0.5819334923709587,
          -0.20535185346047247,
          0.46495722193269035,
          1.0070083228749713,
          -1.9374996309320467,
          -1.8541871881835001,
          -0.848496434101706,
          0.45974409273358985,
          -0.42962749274340156,
          0.7692492026076733,
          0.6928099983210566,
          -0.06208913376574852,
          -1.0053623155890632,
          0.007044029659171979,
          -0.6959485236317551,
          0.16773342407984793,
          0.4414972998112349,
          1.1882019964628374,
          -0.19853533442373375,
          0.3267154299617585,
          0.26714306155641165,
          -0.8955268783525614,
          -0.27288703912797035,
          0.39275060553488506,
          0.7115752608323191,
          0.7739850163751817,
          0.1775505555193976,
          -0.6086922158505274,
          -0.6294228912057446,
          -0.3894360632509466,
          -1.2076184402578136,
          3.0053123500080563,
          -1.5754072359244329,
          0.9081520007417977,
          0.41550855556638033,
          -0.8513454002492441,
          -1.1326100992100343,
          1.0146364521051245,
          0.3499554555995428,
          -0.18271749072119908,
          -1.3828375182730765,
          0.06925941812907539,
          -0.19944910235226446,
          0.28659471060857167,
          0.431064112970978,
          0.44260910684426763,
          1.2723582047994717,
          0.15314586765388086,
          -0.9177936069592793,
          0.3872575875906056,
          1.353121625137218,
          -0.854219028152435,
          0.6594533648064694,
          0.3192636945692223,
          -1.1155131217634007,
          -2.1766829042957143,
          -0.3998026993553559,
          0.10033839956286841,
          0.0015704263412207665,
          0.7967668240914113,
          0.4700248884500916,
          0.6766821536944682,
          -0.7350572401590547,
          1.663609236900145,
          -1.4250134126719334,
          -0.722653969919067,
          -0.61533551687048,
          -1.248779331333013,
          0.12473013029526318,
          -1.5055610854030745,
          -1.169929557726273,
          0.49176966267461564,
          -0.43076836408784097,
          -0.5615642090678576,
          -1.0749653716673913,
          0.14688846542818107,
          0.6169536007402349,
          0.34337017267739983,
          -0.21718300793707138,
          -0.3725730120890333,
          0.1631074630424868,
          -1.6531956150206424,
          -0.7909997606036744,
          -2.477105350291788,
          1.416172153010682,
          -0.058421198865491235,
          -0.9317774772046867,
          1.78265714700381,
          -0.9900013276270953,
          1.5728132878672307,
          1.1325937740258523,
          -1.1199356407596541,
          2.379674994438924,
          2.080399997501075,
          -0.6534166903005675,
          0.4672977861022814,
          0.8744911814364437,
          -1.6692849310609135,
          -1.7115761965081926,
          0.3828922611526809
         ],
         "yaxis": "y9"
        },
        {
         "line": {
          "color": "rgba(128, 128, 128, 1.0)",
          "dash": "solid",
          "shape": "linear",
          "width": 1.3
         },
         "marker": {
          "size": 2,
          "symbol": "circle"
         },
         "mode": "markers",
         "name": "C",
         "text": "",
         "type": "scatter",
         "x": [
          -0.5756640459082741,
          0.5987981212644335,
          -0.7783665585217159,
          -0.09573196409819089,
          -0.14284747496470035,
          1.1566851064970056,
          0.14205945762224648,
          0.9925438822429384,
          -1.4205067005147545,
          -0.4243133975107277,
          0.2046316406674326,
          -0.8664033231860435,
          0.30018363681115173,
          0.7012726412626394,
          -0.5832744366644343,
          -1.9611912132619702,
          -1.2865690654113124,
          0.2805418321787577,
          0.5712498729810047,
          -0.6776239869439911,
          0.3316361158392233,
          -0.14461439325213005,
          -1.0410638673782593,
          -0.4080654043631619,
          -0.00631491901211208,
          0.654337983442778,
          0.04670538856144417,
          0.4891070888438266,
          -1.2277858127245984,
          -1.5325129450673443,
          1.2514271194867919,
          -0.6784529656249904,
          0.8507471393458212,
          0.3524385390065126,
          0.6553698989078516,
          -1.0598696128958636,
          -0.5655967775632145,
          1.1038885195167987,
          0.51412957783871,
          -1.03444943752192,
          -0.5231942655733847,
          -0.8380629336724287,
          1.903096658084694,
          0.4168137650785216,
          -0.4997398212243618,
          1.4029778201285397,
          0.8105226854959072,
          -1.7054169577749274,
          0.4605260705984755,
          -0.9824384505992422,
          -3.224746706249651,
          -0.6689949803255751,
          1.136152225459386,
          0.5680385123690971,
          0.7065628304892786,
          -0.42374809536258623,
          -0.8945591138218476,
          1.3206984539123967,
          -1.047728278006352,
          0.22476929272194288,
          -0.0009414573889848483,
          -0.01541225142410007,
          0.8263022924568258,
          0.42637279096367314,
          0.7989305066857885,
          -0.9789730984372811,
          -0.07071920797599111,
          -0.6115527255986463,
          -1.251525922052416,
          0.6676854765757444,
          1.9869694622253653,
          1.5658607072704804,
          -0.4186693946248924,
          -0.40628885793212743,
          1.5568244944045366,
          -0.7326242574894654,
          0.37958514924466513,
          -0.1783531218270007,
          -1.4160686077684221,
          0.4077861201653217,
          1.866778069209306,
          -1.0186822996845648,
          0.8993809357600041,
          -0.29568521043114,
          -0.47082542872155764,
          0.7282529986227604,
          0.06269962361015688,
          -0.3591244801120115,
          -0.28395660057604427,
          0.5295132537184689,
          -0.8352707178155664,
          0.3743707004534908,
          -0.31130372186525196,
          -0.7747932469996983,
          1.2259633383494222,
          -0.4464779411147586,
          0.996920839179652,
          0.20800829553317293,
          0.1858285403997541,
          -1.5192392350514088
         ],
         "xaxis": "x10",
         "y": [
          -0.5819334923709587,
          -0.20535185346047247,
          0.46495722193269035,
          1.0070083228749713,
          -1.9374996309320467,
          -1.8541871881835001,
          -0.848496434101706,
          0.45974409273358985,
          -0.42962749274340156,
          0.7692492026076733,
          0.6928099983210566,
          -0.06208913376574852,
          -1.0053623155890632,
          0.007044029659171979,
          -0.6959485236317551,
          0.16773342407984793,
          0.4414972998112349,
          1.1882019964628374,
          -0.19853533442373375,
          0.3267154299617585,
          0.26714306155641165,
          -0.8955268783525614,
          -0.27288703912797035,
          0.39275060553488506,
          0.7115752608323191,
          0.7739850163751817,
          0.1775505555193976,
          -0.6086922158505274,
          -0.6294228912057446,
          -0.3894360632509466,
          -1.2076184402578136,
          3.0053123500080563,
          -1.5754072359244329,
          0.9081520007417977,
          0.41550855556638033,
          -0.8513454002492441,
          -1.1326100992100343,
          1.0146364521051245,
          0.3499554555995428,
          -0.18271749072119908,
          -1.3828375182730765,
          0.06925941812907539,
          -0.19944910235226446,
          0.28659471060857167,
          0.431064112970978,
          0.44260910684426763,
          1.2723582047994717,
          0.15314586765388086,
          -0.9177936069592793,
          0.3872575875906056,
          1.353121625137218,
          -0.854219028152435,
          0.6594533648064694,
          0.3192636945692223,
          -1.1155131217634007,
          -2.1766829042957143,
          -0.3998026993553559,
          0.10033839956286841,
          0.0015704263412207665,
          0.7967668240914113,
          0.4700248884500916,
          0.6766821536944682,
          -0.7350572401590547,
          1.663609236900145,
          -1.4250134126719334,
          -0.722653969919067,
          -0.61533551687048,
          -1.248779331333013,
          0.12473013029526318,
          -1.5055610854030745,
          -1.169929557726273,
          0.49176966267461564,
          -0.43076836408784097,
          -0.5615642090678576,
          -1.0749653716673913,
          0.14688846542818107,
          0.6169536007402349,
          0.34337017267739983,
          -0.21718300793707138,
          -0.3725730120890333,
          0.1631074630424868,
          -1.6531956150206424,
          -0.7909997606036744,
          -2.477105350291788,
          1.416172153010682,
          -0.058421198865491235,
          -0.9317774772046867,
          1.78265714700381,
          -0.9900013276270953,
          1.5728132878672307,
          1.1325937740258523,
          -1.1199356407596541,
          2.379674994438924,
          2.080399997501075,
          -0.6534166903005675,
          0.4672977861022814,
          0.8744911814364437,
          -1.6692849310609135,
          -1.7115761965081926,
          0.3828922611526809
         ],
         "yaxis": "y10"
        },
        {
         "histfunc": "count",
         "histnorm": "",
         "marker": {
          "color": "rgba(50, 171, 96, 1.0)",
          "line": {
           "color": "#4D5663",
           "width": 1.3
          }
         },
         "name": "C",
         "nbinsx": 10,
         "opacity": 0.8,
         "orientation": "v",
         "type": "histogram",
         "x": [
          -0.5819334923709587,
          -0.20535185346047247,
          0.46495722193269035,
          1.0070083228749713,
          -1.9374996309320467,
          -1.8541871881835001,
          -0.848496434101706,
          0.45974409273358985,
          -0.42962749274340156,
          0.7692492026076733,
          0.6928099983210566,
          -0.06208913376574852,
          -1.0053623155890632,
          0.007044029659171979,
          -0.6959485236317551,
          0.16773342407984793,
          0.4414972998112349,
          1.1882019964628374,
          -0.19853533442373375,
          0.3267154299617585,
          0.26714306155641165,
          -0.8955268783525614,
          -0.27288703912797035,
          0.39275060553488506,
          0.7115752608323191,
          0.7739850163751817,
          0.1775505555193976,
          -0.6086922158505274,
          -0.6294228912057446,
          -0.3894360632509466,
          -1.2076184402578136,
          3.0053123500080563,
          -1.5754072359244329,
          0.9081520007417977,
          0.41550855556638033,
          -0.8513454002492441,
          -1.1326100992100343,
          1.0146364521051245,
          0.3499554555995428,
          -0.18271749072119908,
          -1.3828375182730765,
          0.06925941812907539,
          -0.19944910235226446,
          0.28659471060857167,
          0.431064112970978,
          0.44260910684426763,
          1.2723582047994717,
          0.15314586765388086,
          -0.9177936069592793,
          0.3872575875906056,
          1.353121625137218,
          -0.854219028152435,
          0.6594533648064694,
          0.3192636945692223,
          -1.1155131217634007,
          -2.1766829042957143,
          -0.3998026993553559,
          0.10033839956286841,
          0.0015704263412207665,
          0.7967668240914113,
          0.4700248884500916,
          0.6766821536944682,
          -0.7350572401590547,
          1.663609236900145,
          -1.4250134126719334,
          -0.722653969919067,
          -0.61533551687048,
          -1.248779331333013,
          0.12473013029526318,
          -1.5055610854030745,
          -1.169929557726273,
          0.49176966267461564,
          -0.43076836408784097,
          -0.5615642090678576,
          -1.0749653716673913,
          0.14688846542818107,
          0.6169536007402349,
          0.34337017267739983,
          -0.21718300793707138,
          -0.3725730120890333,
          0.1631074630424868,
          -1.6531956150206424,
          -0.7909997606036744,
          -2.477105350291788,
          1.416172153010682,
          -0.058421198865491235,
          -0.9317774772046867,
          1.78265714700381,
          -0.9900013276270953,
          1.5728132878672307,
          1.1325937740258523,
          -1.1199356407596541,
          2.379674994438924,
          2.080399997501075,
          -0.6534166903005675,
          0.4672977861022814,
          0.8744911814364437,
          -1.6692849310609135,
          -1.7115761965081926,
          0.3828922611526809
         ],
         "xaxis": "x11",
         "yaxis": "y11"
        },
        {
         "line": {
          "color": "rgba(128, 128, 128, 1.0)",
          "dash": "solid",
          "shape": "linear",
          "width": 1.3
         },
         "marker": {
          "size": 2,
          "symbol": "circle"
         },
         "mode": "markers",
         "name": "C",
         "text": "",
         "type": "scatter",
         "x": [
          0.9277319196502233,
          -0.12536008250933575,
          -0.12107125297344493,
          -0.8232707716494212,
          0.0664355796174163,
          -1.0678908297985703,
          0.0771054637995535,
          -0.051419097373521905,
          0.8336144416442017,
          -0.235139942535916,
          0.17619034695555033,
          2.0262920079966684,
          1.9755131430698687,
          -0.9611065737485338,
          -0.15006797456552856,
          0.11044491010489915,
          -0.4376965493761567,
          -1.5631316393241954,
          0.1471186920291873,
          -1.1640011834330464,
          0.4258943442374219,
          1.2146088757256255,
          0.7735049289379338,
          0.7082704771945506,
          0.11701812225321552,
          -0.15847090018087553,
          1.0719554689341357,
          -0.46749993915361393,
          0.16249504661882275,
          0.7356303076485307,
          -0.47825963665381,
          0.5706434066808811,
          0.3426791200908702,
          -0.1134673865337506,
          -1.1581329453850489,
          -0.6121034811396447,
          1.2680418810575937,
          -1.0479312107585474,
          0.15348820995902268,
          0.514842534562817,
          0.49451618938625846,
          1.6208723713139663,
          -0.25548314383520526,
          0.5374303675035457,
          -0.582559486730231,
          0.3586512893294155,
          -0.47962465951319494,
          0.2647371692605464,
          -0.47771343959240603,
          -0.7017403951073233,
          -0.034630588932819464,
          1.6522890087900828,
          0.5581153890731325,
          1.2058044077410321,
          -0.49446560660305783,
          -0.6736574987752219,
          -1.4315440524134833,
          -1.3562113280827872,
          -0.806985630376175,
          0.04536848363326349,
          -1.4830070051596294,
          0.4549646595345361,
          -0.48559025918958065,
          0.4561273132929846,
          -0.9969847859936918,
          -0.017345009789463923,
          -0.45243254887684414,
          1.3526888226060534,
          0.24175626611159212,
          1.5767487666136768,
          -1.3789565966868544,
          0.24661436799681344,
          0.43095305560163444,
          -1.1287038083661936,
          1.0868511602946072,
          0.3097320823328397,
          0.5923187864201388,
          0.3578463427763317,
          -1.4342376241981762,
          0.1907973388784022,
          1.2935339400068324,
          -1.7901698150670595,
          -0.933527031679027,
          1.678288570633211,
          0.01884053700803777,
          0.5652059967893183,
          -1.5100447146004006,
          -0.14949401638016677,
          2.0300286353463854,
          -2.072940206901961,
          2.3421377329868496,
          1.4888237344503232,
          -2.0842945390943983,
          0.5537941026885076,
          0.5471328253270026,
          0.6234422409414835,
          0.7736632900800269,
          0.3957359267460818,
          -0.40036226897897575,
          0.396793570420886
         ],
         "xaxis": "x12",
         "y": [
          -0.5819334923709587,
          -0.20535185346047247,
          0.46495722193269035,
          1.0070083228749713,
          -1.9374996309320467,
          -1.8541871881835001,
          -0.848496434101706,
          0.45974409273358985,
          -0.42962749274340156,
          0.7692492026076733,
          0.6928099983210566,
          -0.06208913376574852,
          -1.0053623155890632,
          0.007044029659171979,
          -0.6959485236317551,
          0.16773342407984793,
          0.4414972998112349,
          1.1882019964628374,
          -0.19853533442373375,
          0.3267154299617585,
          0.26714306155641165,
          -0.8955268783525614,
          -0.27288703912797035,
          0.39275060553488506,
          0.7115752608323191,
          0.7739850163751817,
          0.1775505555193976,
          -0.6086922158505274,
          -0.6294228912057446,
          -0.3894360632509466,
          -1.2076184402578136,
          3.0053123500080563,
          -1.5754072359244329,
          0.9081520007417977,
          0.41550855556638033,
          -0.8513454002492441,
          -1.1326100992100343,
          1.0146364521051245,
          0.3499554555995428,
          -0.18271749072119908,
          -1.3828375182730765,
          0.06925941812907539,
          -0.19944910235226446,
          0.28659471060857167,
          0.431064112970978,
          0.44260910684426763,
          1.2723582047994717,
          0.15314586765388086,
          -0.9177936069592793,
          0.3872575875906056,
          1.353121625137218,
          -0.854219028152435,
          0.6594533648064694,
          0.3192636945692223,
          -1.1155131217634007,
          -2.1766829042957143,
          -0.3998026993553559,
          0.10033839956286841,
          0.0015704263412207665,
          0.7967668240914113,
          0.4700248884500916,
          0.6766821536944682,
          -0.7350572401590547,
          1.663609236900145,
          -1.4250134126719334,
          -0.722653969919067,
          -0.61533551687048,
          -1.248779331333013,
          0.12473013029526318,
          -1.5055610854030745,
          -1.169929557726273,
          0.49176966267461564,
          -0.43076836408784097,
          -0.5615642090678576,
          -1.0749653716673913,
          0.14688846542818107,
          0.6169536007402349,
          0.34337017267739983,
          -0.21718300793707138,
          -0.3725730120890333,
          0.1631074630424868,
          -1.6531956150206424,
          -0.7909997606036744,
          -2.477105350291788,
          1.416172153010682,
          -0.058421198865491235,
          -0.9317774772046867,
          1.78265714700381,
          -0.9900013276270953,
          1.5728132878672307,
          1.1325937740258523,
          -1.1199356407596541,
          2.379674994438924,
          2.080399997501075,
          -0.6534166903005675,
          0.4672977861022814,
          0.8744911814364437,
          -1.6692849310609135,
          -1.7115761965081926,
          0.3828922611526809
         ],
         "yaxis": "y12"
        },
        {
         "line": {
          "color": "rgba(128, 128, 128, 1.0)",
          "dash": "solid",
          "shape": "linear",
          "width": 1.3
         },
         "marker": {
          "size": 2,
          "symbol": "circle"
         },
         "mode": "markers",
         "name": "D",
         "text": "",
         "type": "scatter",
         "x": [
          -1.0520499660805134,
          -0.6395256708852439,
          -0.33434764741888273,
          -0.602102263802253,
          0.3275992110293282,
          -0.8517119727079342,
          0.4823647677292349,
          -0.6733753513218748,
          1.0663693192389487,
          -0.6674469283977741,
          -0.1555538710682971,
          0.982078463400281,
          0.5605995734508707,
          -1.5992430724659148,
          -0.4863413205475636,
          -1.635285837548092,
          1.3935076424093102,
          1.7941318056056335,
          0.5341913789906737,
          -0.9524975663306507,
          -0.4573351632944464,
          1.1177083797834142,
          -0.5706607672093532,
          0.7867354928231047,
          0.07981317429930133,
          -0.6349940715278921,
          1.5425662192838554,
          -0.6132422783945425,
          0.15544048184803386,
          0.9192445510904795,
          -1.7359719590500762,
          -1.9119274895922669,
          0.6944479962123283,
          0.3532145001978853,
          -1.0600796071503271,
          -0.5334678844301335,
          -0.6394875240041487,
          0.3128946201121304,
          0.016069119234565766,
          -1.5744316004386434,
          0.7344487377210069,
          0.7193287039929793,
          0.4812823931213064,
          -0.24678614971224266,
          -0.2905274885290895,
          -0.1003666244799347,
          0.2183659952290479,
          -2.319740663802171,
          -0.6745518951897882,
          0.29578338730627296,
          0.027684720711771665,
          0.6195480439047139,
          0.6876980075689124,
          -1.1798993200458125,
          1.1244893859000014,
          0.5280412892103941,
          -0.6001297370928859,
          -0.027008110814554072,
          -0.2748635223706462,
          1.4138169456342016,
          -0.9151732693883676,
          -0.4134435108103696,
          0.9255576517778622,
          0.860868531480433,
          1.758016656113904,
          1.6783618939930056,
          0.06869043899424485,
          0.6937178925305963,
          -0.8760537876530695,
          0.9102278415320038,
          0.7191692678149171,
          -0.4913169243308279,
          1.2337987142169284,
          0.7956878705772449,
          1.371542963623464,
          -1.343501561614963,
          1.0118949910662463,
          1.1658612878341348,
          -0.6928552283460352,
          -0.4687295487764381,
          -0.8757314396497151,
          -0.3643879992119797,
          0.811605819362338,
          -0.42095946538411305,
          -0.9898935045710047,
          0.7334033677693634,
          -0.19290472361161884,
          1.8143264562579273,
          0.8281944946575908,
          0.4854377119690578,
          0.5615674241389551,
          0.30512951708273917,
          -0.2966780672407173,
          2.3797154891776886,
          1.4080321570020835,
          -1.03463191031649,
          -1.941093118397556,
          -0.5620252053886859,
          -0.7270510460295249,
          0.10178198219108311
         ],
         "xaxis": "x13",
         "y": [
          0.9277319196502233,
          -0.12536008250933575,
          -0.12107125297344493,
          -0.8232707716494212,
          0.0664355796174163,
          -1.0678908297985703,
          0.0771054637995535,
          -0.051419097373521905,
          0.8336144416442017,
          -0.235139942535916,
          0.17619034695555033,
          2.0262920079966684,
          1.9755131430698687,
          -0.9611065737485338,
          -0.15006797456552856,
          0.11044491010489915,
          -0.4376965493761567,
          -1.5631316393241954,
          0.1471186920291873,
          -1.1640011834330464,
          0.4258943442374219,
          1.2146088757256255,
          0.7735049289379338,
          0.7082704771945506,
          0.11701812225321552,
          -0.15847090018087553,
          1.0719554689341357,
          -0.46749993915361393,
          0.16249504661882275,
          0.7356303076485307,
          -0.47825963665381,
          0.5706434066808811,
          0.3426791200908702,
          -0.1134673865337506,
          -1.1581329453850489,
          -0.6121034811396447,
          1.2680418810575937,
          -1.0479312107585474,
          0.15348820995902268,
          0.514842534562817,
          0.49451618938625846,
          1.6208723713139663,
          -0.25548314383520526,
          0.5374303675035457,
          -0.582559486730231,
          0.3586512893294155,
          -0.47962465951319494,
          0.2647371692605464,
          -0.47771343959240603,
          -0.7017403951073233,
          -0.034630588932819464,
          1.6522890087900828,
          0.5581153890731325,
          1.2058044077410321,
          -0.49446560660305783,
          -0.6736574987752219,
          -1.4315440524134833,
          -1.3562113280827872,
          -0.806985630376175,
          0.04536848363326349,
          -1.4830070051596294,
          0.4549646595345361,
          -0.48559025918958065,
          0.4561273132929846,
          -0.9969847859936918,
          -0.017345009789463923,
          -0.45243254887684414,
          1.3526888226060534,
          0.24175626611159212,
          1.5767487666136768,
          -1.3789565966868544,
          0.24661436799681344,
          0.43095305560163444,
          -1.1287038083661936,
          1.0868511602946072,
          0.3097320823328397,
          0.5923187864201388,
          0.3578463427763317,
          -1.4342376241981762,
          0.1907973388784022,
          1.2935339400068324,
          -1.7901698150670595,
          -0.933527031679027,
          1.678288570633211,
          0.01884053700803777,
          0.5652059967893183,
          -1.5100447146004006,
          -0.14949401638016677,
          2.0300286353463854,
          -2.072940206901961,
          2.3421377329868496,
          1.4888237344503232,
          -2.0842945390943983,
          0.5537941026885076,
          0.5471328253270026,
          0.6234422409414835,
          0.7736632900800269,
          0.3957359267460818,
          -0.40036226897897575,
          0.396793570420886
         ],
         "yaxis": "y13"
        },
        {
         "line": {
          "color": "rgba(128, 128, 128, 1.0)",
          "dash": "solid",
          "shape": "linear",
          "width": 1.3
         },
         "marker": {
          "size": 2,
          "symbol": "circle"
         },
         "mode": "markers",
         "name": "D",
         "text": "",
         "type": "scatter",
         "x": [
          -0.5756640459082741,
          0.5987981212644335,
          -0.7783665585217159,
          -0.09573196409819089,
          -0.14284747496470035,
          1.1566851064970056,
          0.14205945762224648,
          0.9925438822429384,
          -1.4205067005147545,
          -0.4243133975107277,
          0.2046316406674326,
          -0.8664033231860435,
          0.30018363681115173,
          0.7012726412626394,
          -0.5832744366644343,
          -1.9611912132619702,
          -1.2865690654113124,
          0.2805418321787577,
          0.5712498729810047,
          -0.6776239869439911,
          0.3316361158392233,
          -0.14461439325213005,
          -1.0410638673782593,
          -0.4080654043631619,
          -0.00631491901211208,
          0.654337983442778,
          0.04670538856144417,
          0.4891070888438266,
          -1.2277858127245984,
          -1.5325129450673443,
          1.2514271194867919,
          -0.6784529656249904,
          0.8507471393458212,
          0.3524385390065126,
          0.6553698989078516,
          -1.0598696128958636,
          -0.5655967775632145,
          1.1038885195167987,
          0.51412957783871,
          -1.03444943752192,
          -0.5231942655733847,
          -0.8380629336724287,
          1.903096658084694,
          0.4168137650785216,
          -0.4997398212243618,
          1.4029778201285397,
          0.8105226854959072,
          -1.7054169577749274,
          0.4605260705984755,
          -0.9824384505992422,
          -3.224746706249651,
          -0.6689949803255751,
          1.136152225459386,
          0.5680385123690971,
          0.7065628304892786,
          -0.42374809536258623,
          -0.8945591138218476,
          1.3206984539123967,
          -1.047728278006352,
          0.22476929272194288,
          -0.0009414573889848483,
          -0.01541225142410007,
          0.8263022924568258,
          0.42637279096367314,
          0.7989305066857885,
          -0.9789730984372811,
          -0.07071920797599111,
          -0.6115527255986463,
          -1.251525922052416,
          0.6676854765757444,
          1.9869694622253653,
          1.5658607072704804,
          -0.4186693946248924,
          -0.40628885793212743,
          1.5568244944045366,
          -0.7326242574894654,
          0.37958514924466513,
          -0.1783531218270007,
          -1.4160686077684221,
          0.4077861201653217,
          1.866778069209306,
          -1.0186822996845648,
          0.8993809357600041,
          -0.29568521043114,
          -0.47082542872155764,
          0.7282529986227604,
          0.06269962361015688,
          -0.3591244801120115,
          -0.28395660057604427,
          0.5295132537184689,
          -0.8352707178155664,
          0.3743707004534908,
          -0.31130372186525196,
          -0.7747932469996983,
          1.2259633383494222,
          -0.4464779411147586,
          0.996920839179652,
          0.20800829553317293,
          0.1858285403997541,
          -1.5192392350514088
         ],
         "xaxis": "x14",
         "y": [
          0.9277319196502233,
          -0.12536008250933575,
          -0.12107125297344493,
          -0.8232707716494212,
          0.0664355796174163,
          -1.0678908297985703,
          0.0771054637995535,
          -0.051419097373521905,
          0.8336144416442017,
          -0.235139942535916,
          0.17619034695555033,
          2.0262920079966684,
          1.9755131430698687,
          -0.9611065737485338,
          -0.15006797456552856,
          0.11044491010489915,
          -0.4376965493761567,
          -1.5631316393241954,
          0.1471186920291873,
          -1.1640011834330464,
          0.4258943442374219,
          1.2146088757256255,
          0.7735049289379338,
          0.7082704771945506,
          0.11701812225321552,
          -0.15847090018087553,
          1.0719554689341357,
          -0.46749993915361393,
          0.16249504661882275,
          0.7356303076485307,
          -0.47825963665381,
          0.5706434066808811,
          0.3426791200908702,
          -0.1134673865337506,
          -1.1581329453850489,
          -0.6121034811396447,
          1.2680418810575937,
          -1.0479312107585474,
          0.15348820995902268,
          0.514842534562817,
          0.49451618938625846,
          1.6208723713139663,
          -0.25548314383520526,
          0.5374303675035457,
          -0.582559486730231,
          0.3586512893294155,
          -0.47962465951319494,
          0.2647371692605464,
          -0.47771343959240603,
          -0.7017403951073233,
          -0.034630588932819464,
          1.6522890087900828,
          0.5581153890731325,
          1.2058044077410321,
          -0.49446560660305783,
          -0.6736574987752219,
          -1.4315440524134833,
          -1.3562113280827872,
          -0.806985630376175,
          0.04536848363326349,
          -1.4830070051596294,
          0.4549646595345361,
          -0.48559025918958065,
          0.4561273132929846,
          -0.9969847859936918,
          -0.017345009789463923,
          -0.45243254887684414,
          1.3526888226060534,
          0.24175626611159212,
          1.5767487666136768,
          -1.3789565966868544,
          0.24661436799681344,
          0.43095305560163444,
          -1.1287038083661936,
          1.0868511602946072,
          0.3097320823328397,
          0.5923187864201388,
          0.3578463427763317,
          -1.4342376241981762,
          0.1907973388784022,
          1.2935339400068324,
          -1.7901698150670595,
          -0.933527031679027,
          1.678288570633211,
          0.01884053700803777,
          0.5652059967893183,
          -1.5100447146004006,
          -0.14949401638016677,
          2.0300286353463854,
          -2.072940206901961,
          2.3421377329868496,
          1.4888237344503232,
          -2.0842945390943983,
          0.5537941026885076,
          0.5471328253270026,
          0.6234422409414835,
          0.7736632900800269,
          0.3957359267460818,
          -0.40036226897897575,
          0.396793570420886
         ],
         "yaxis": "y14"
        },
        {
         "line": {
          "color": "rgba(128, 128, 128, 1.0)",
          "dash": "solid",
          "shape": "linear",
          "width": 1.3
         },
         "marker": {
          "size": 2,
          "symbol": "circle"
         },
         "mode": "markers",
         "name": "D",
         "text": "",
         "type": "scatter",
         "x": [
          -0.5819334923709587,
          -0.20535185346047247,
          0.46495722193269035,
          1.0070083228749713,
          -1.9374996309320467,
          -1.8541871881835001,
          -0.848496434101706,
          0.45974409273358985,
          -0.42962749274340156,
          0.7692492026076733,
          0.6928099983210566,
          -0.06208913376574852,
          -1.0053623155890632,
          0.007044029659171979,
          -0.6959485236317551,
          0.16773342407984793,
          0.4414972998112349,
          1.1882019964628374,
          -0.19853533442373375,
          0.3267154299617585,
          0.26714306155641165,
          -0.8955268783525614,
          -0.27288703912797035,
          0.39275060553488506,
          0.7115752608323191,
          0.7739850163751817,
          0.1775505555193976,
          -0.6086922158505274,
          -0.6294228912057446,
          -0.3894360632509466,
          -1.2076184402578136,
          3.0053123500080563,
          -1.5754072359244329,
          0.9081520007417977,
          0.41550855556638033,
          -0.8513454002492441,
          -1.1326100992100343,
          1.0146364521051245,
          0.3499554555995428,
          -0.18271749072119908,
          -1.3828375182730765,
          0.06925941812907539,
          -0.19944910235226446,
          0.28659471060857167,
          0.431064112970978,
          0.44260910684426763,
          1.2723582047994717,
          0.15314586765388086,
          -0.9177936069592793,
          0.3872575875906056,
          1.353121625137218,
          -0.854219028152435,
          0.6594533648064694,
          0.3192636945692223,
          -1.1155131217634007,
          -2.1766829042957143,
          -0.3998026993553559,
          0.10033839956286841,
          0.0015704263412207665,
          0.7967668240914113,
          0.4700248884500916,
          0.6766821536944682,
          -0.7350572401590547,
          1.663609236900145,
          -1.4250134126719334,
          -0.722653969919067,
          -0.61533551687048,
          -1.248779331333013,
          0.12473013029526318,
          -1.5055610854030745,
          -1.169929557726273,
          0.49176966267461564,
          -0.43076836408784097,
          -0.5615642090678576,
          -1.0749653716673913,
          0.14688846542818107,
          0.6169536007402349,
          0.34337017267739983,
          -0.21718300793707138,
          -0.3725730120890333,
          0.1631074630424868,
          -1.6531956150206424,
          -0.7909997606036744,
          -2.477105350291788,
          1.416172153010682,
          -0.058421198865491235,
          -0.9317774772046867,
          1.78265714700381,
          -0.9900013276270953,
          1.5728132878672307,
          1.1325937740258523,
          -1.1199356407596541,
          2.379674994438924,
          2.080399997501075,
          -0.6534166903005675,
          0.4672977861022814,
          0.8744911814364437,
          -1.6692849310609135,
          -1.7115761965081926,
          0.3828922611526809
         ],
         "xaxis": "x15",
         "y": [
          0.9277319196502233,
          -0.12536008250933575,
          -0.12107125297344493,
          -0.8232707716494212,
          0.0664355796174163,
          -1.0678908297985703,
          0.0771054637995535,
          -0.051419097373521905,
          0.8336144416442017,
          -0.235139942535916,
          0.17619034695555033,
          2.0262920079966684,
          1.9755131430698687,
          -0.9611065737485338,
          -0.15006797456552856,
          0.11044491010489915,
          -0.4376965493761567,
          -1.5631316393241954,
          0.1471186920291873,
          -1.1640011834330464,
          0.4258943442374219,
          1.2146088757256255,
          0.7735049289379338,
          0.7082704771945506,
          0.11701812225321552,
          -0.15847090018087553,
          1.0719554689341357,
          -0.46749993915361393,
          0.16249504661882275,
          0.7356303076485307,
          -0.47825963665381,
          0.5706434066808811,
          0.3426791200908702,
          -0.1134673865337506,
          -1.1581329453850489,
          -0.6121034811396447,
          1.2680418810575937,
          -1.0479312107585474,
          0.15348820995902268,
          0.514842534562817,
          0.49451618938625846,
          1.6208723713139663,
          -0.25548314383520526,
          0.5374303675035457,
          -0.582559486730231,
          0.3586512893294155,
          -0.47962465951319494,
          0.2647371692605464,
          -0.47771343959240603,
          -0.7017403951073233,
          -0.034630588932819464,
          1.6522890087900828,
          0.5581153890731325,
          1.2058044077410321,
          -0.49446560660305783,
          -0.6736574987752219,
          -1.4315440524134833,
          -1.3562113280827872,
          -0.806985630376175,
          0.04536848363326349,
          -1.4830070051596294,
          0.4549646595345361,
          -0.48559025918958065,
          0.4561273132929846,
          -0.9969847859936918,
          -0.017345009789463923,
          -0.45243254887684414,
          1.3526888226060534,
          0.24175626611159212,
          1.5767487666136768,
          -1.3789565966868544,
          0.24661436799681344,
          0.43095305560163444,
          -1.1287038083661936,
          1.0868511602946072,
          0.3097320823328397,
          0.5923187864201388,
          0.3578463427763317,
          -1.4342376241981762,
          0.1907973388784022,
          1.2935339400068324,
          -1.7901698150670595,
          -0.933527031679027,
          1.678288570633211,
          0.01884053700803777,
          0.5652059967893183,
          -1.5100447146004006,
          -0.14949401638016677,
          2.0300286353463854,
          -2.072940206901961,
          2.3421377329868496,
          1.4888237344503232,
          -2.0842945390943983,
          0.5537941026885076,
          0.5471328253270026,
          0.6234422409414835,
          0.7736632900800269,
          0.3957359267460818,
          -0.40036226897897575,
          0.396793570420886
         ],
         "yaxis": "y15"
        },
        {
         "histfunc": "count",
         "histnorm": "",
         "marker": {
          "color": "rgba(128, 0, 128, 1.0)",
          "line": {
           "color": "#4D5663",
           "width": 1.3
          }
         },
         "name": "D",
         "nbinsx": 10,
         "opacity": 0.8,
         "orientation": "v",
         "type": "histogram",
         "x": [
          0.9277319196502233,
          -0.12536008250933575,
          -0.12107125297344493,
          -0.8232707716494212,
          0.0664355796174163,
          -1.0678908297985703,
          0.0771054637995535,
          -0.051419097373521905,
          0.8336144416442017,
          -0.235139942535916,
          0.17619034695555033,
          2.0262920079966684,
          1.9755131430698687,
          -0.9611065737485338,
          -0.15006797456552856,
          0.11044491010489915,
          -0.4376965493761567,
          -1.5631316393241954,
          0.1471186920291873,
          -1.1640011834330464,
          0.4258943442374219,
          1.2146088757256255,
          0.7735049289379338,
          0.7082704771945506,
          0.11701812225321552,
          -0.15847090018087553,
          1.0719554689341357,
          -0.46749993915361393,
          0.16249504661882275,
          0.7356303076485307,
          -0.47825963665381,
          0.5706434066808811,
          0.3426791200908702,
          -0.1134673865337506,
          -1.1581329453850489,
          -0.6121034811396447,
          1.2680418810575937,
          -1.0479312107585474,
          0.15348820995902268,
          0.514842534562817,
          0.49451618938625846,
          1.6208723713139663,
          -0.25548314383520526,
          0.5374303675035457,
          -0.582559486730231,
          0.3586512893294155,
          -0.47962465951319494,
          0.2647371692605464,
          -0.47771343959240603,
          -0.7017403951073233,
          -0.034630588932819464,
          1.6522890087900828,
          0.5581153890731325,
          1.2058044077410321,
          -0.49446560660305783,
          -0.6736574987752219,
          -1.4315440524134833,
          -1.3562113280827872,
          -0.806985630376175,
          0.04536848363326349,
          -1.4830070051596294,
          0.4549646595345361,
          -0.48559025918958065,
          0.4561273132929846,
          -0.9969847859936918,
          -0.017345009789463923,
          -0.45243254887684414,
          1.3526888226060534,
          0.24175626611159212,
          1.5767487666136768,
          -1.3789565966868544,
          0.24661436799681344,
          0.43095305560163444,
          -1.1287038083661936,
          1.0868511602946072,
          0.3097320823328397,
          0.5923187864201388,
          0.3578463427763317,
          -1.4342376241981762,
          0.1907973388784022,
          1.2935339400068324,
          -1.7901698150670595,
          -0.933527031679027,
          1.678288570633211,
          0.01884053700803777,
          0.5652059967893183,
          -1.5100447146004006,
          -0.14949401638016677,
          2.0300286353463854,
          -2.072940206901961,
          2.3421377329868496,
          1.4888237344503232,
          -2.0842945390943983,
          0.5537941026885076,
          0.5471328253270026,
          0.6234422409414835,
          0.7736632900800269,
          0.3957359267460818,
          -0.40036226897897575,
          0.396793570420886
         ],
         "xaxis": "x16",
         "yaxis": "y16"
        }
       ],
       "layout": {
        "bargap": 0.02,
        "legend": {
         "bgcolor": "#F5F6F9",
         "font": {
          "color": "#4D5663"
         }
        },
        "paper_bgcolor": "#F5F6F9",
        "plot_bgcolor": "#F5F6F9",
        "showlegend": false,
        "template": {
         "data": {
          "bar": [
           {
            "error_x": {
             "color": "#2a3f5f"
            },
            "error_y": {
             "color": "#2a3f5f"
            },
            "marker": {
             "line": {
              "color": "#E5ECF6",
              "width": 0.5
             },
             "pattern": {
              "fillmode": "overlay",
              "size": 10,
              "solidity": 0.2
             }
            },
            "type": "bar"
           }
          ],
          "barpolar": [
           {
            "marker": {
             "line": {
              "color": "#E5ECF6",
              "width": 0.5
             },
             "pattern": {
              "fillmode": "overlay",
              "size": 10,
              "solidity": 0.2
             }
            },
            "type": "barpolar"
           }
          ],
          "carpet": [
           {
            "aaxis": {
             "endlinecolor": "#2a3f5f",
             "gridcolor": "white",
             "linecolor": "white",
             "minorgridcolor": "white",
             "startlinecolor": "#2a3f5f"
            },
            "baxis": {
             "endlinecolor": "#2a3f5f",
             "gridcolor": "white",
             "linecolor": "white",
             "minorgridcolor": "white",
             "startlinecolor": "#2a3f5f"
            },
            "type": "carpet"
           }
          ],
          "choropleth": [
           {
            "colorbar": {
             "outlinewidth": 0,
             "ticks": ""
            },
            "type": "choropleth"
           }
          ],
          "contour": [
           {
            "colorbar": {
             "outlinewidth": 0,
             "ticks": ""
            },
            "colorscale": [
             [
              0,
              "#0d0887"
             ],
             [
              0.1111111111111111,
              "#46039f"
             ],
             [
              0.2222222222222222,
              "#7201a8"
             ],
             [
              0.3333333333333333,
              "#9c179e"
             ],
             [
              0.4444444444444444,
              "#bd3786"
             ],
             [
              0.5555555555555556,
              "#d8576b"
             ],
             [
              0.6666666666666666,
              "#ed7953"
             ],
             [
              0.7777777777777778,
              "#fb9f3a"
             ],
             [
              0.8888888888888888,
              "#fdca26"
             ],
             [
              1,
              "#f0f921"
             ]
            ],
            "type": "contour"
           }
          ],
          "contourcarpet": [
           {
            "colorbar": {
             "outlinewidth": 0,
             "ticks": ""
            },
            "type": "contourcarpet"
           }
          ],
          "heatmap": [
           {
            "colorbar": {
             "outlinewidth": 0,
             "ticks": ""
            },
            "colorscale": [
             [
              0,
              "#0d0887"
             ],
             [
              0.1111111111111111,
              "#46039f"
             ],
             [
              0.2222222222222222,
              "#7201a8"
             ],
             [
              0.3333333333333333,
              "#9c179e"
             ],
             [
              0.4444444444444444,
              "#bd3786"
             ],
             [
              0.5555555555555556,
              "#d8576b"
             ],
             [
              0.6666666666666666,
              "#ed7953"
             ],
             [
              0.7777777777777778,
              "#fb9f3a"
             ],
             [
              0.8888888888888888,
              "#fdca26"
             ],
             [
              1,
              "#f0f921"
             ]
            ],
            "type": "heatmap"
           }
          ],
          "heatmapgl": [
           {
            "colorbar": {
             "outlinewidth": 0,
             "ticks": ""
            },
            "colorscale": [
             [
              0,
              "#0d0887"
             ],
             [
              0.1111111111111111,
              "#46039f"
             ],
             [
              0.2222222222222222,
              "#7201a8"
             ],
             [
              0.3333333333333333,
              "#9c179e"
             ],
             [
              0.4444444444444444,
              "#bd3786"
             ],
             [
              0.5555555555555556,
              "#d8576b"
             ],
             [
              0.6666666666666666,
              "#ed7953"
             ],
             [
              0.7777777777777778,
              "#fb9f3a"
             ],
             [
              0.8888888888888888,
              "#fdca26"
             ],
             [
              1,
              "#f0f921"
             ]
            ],
            "type": "heatmapgl"
           }
          ],
          "histogram": [
           {
            "marker": {
             "pattern": {
              "fillmode": "overlay",
              "size": 10,
              "solidity": 0.2
             }
            },
            "type": "histogram"
           }
          ],
          "histogram2d": [
           {
            "colorbar": {
             "outlinewidth": 0,
             "ticks": ""
            },
            "colorscale": [
             [
              0,
              "#0d0887"
             ],
             [
              0.1111111111111111,
              "#46039f"
             ],
             [
              0.2222222222222222,
              "#7201a8"
             ],
             [
              0.3333333333333333,
              "#9c179e"
             ],
             [
              0.4444444444444444,
              "#bd3786"
             ],
             [
              0.5555555555555556,
              "#d8576b"
             ],
             [
              0.6666666666666666,
              "#ed7953"
             ],
             [
              0.7777777777777778,
              "#fb9f3a"
             ],
             [
              0.8888888888888888,
              "#fdca26"
             ],
             [
              1,
              "#f0f921"
             ]
            ],
            "type": "histogram2d"
           }
          ],
          "histogram2dcontour": [
           {
            "colorbar": {
             "outlinewidth": 0,
             "ticks": ""
            },
            "colorscale": [
             [
              0,
              "#0d0887"
             ],
             [
              0.1111111111111111,
              "#46039f"
             ],
             [
              0.2222222222222222,
              "#7201a8"
             ],
             [
              0.3333333333333333,
              "#9c179e"
             ],
             [
              0.4444444444444444,
              "#bd3786"
             ],
             [
              0.5555555555555556,
              "#d8576b"
             ],
             [
              0.6666666666666666,
              "#ed7953"
             ],
             [
              0.7777777777777778,
              "#fb9f3a"
             ],
             [
              0.8888888888888888,
              "#fdca26"
             ],
             [
              1,
              "#f0f921"
             ]
            ],
            "type": "histogram2dcontour"
           }
          ],
          "mesh3d": [
           {
            "colorbar": {
             "outlinewidth": 0,
             "ticks": ""
            },
            "type": "mesh3d"
           }
          ],
          "parcoords": [
           {
            "line": {
             "colorbar": {
              "outlinewidth": 0,
              "ticks": ""
             }
            },
            "type": "parcoords"
           }
          ],
          "pie": [
           {
            "automargin": true,
            "type": "pie"
           }
          ],
          "scatter": [
           {
            "fillpattern": {
             "fillmode": "overlay",
             "size": 10,
             "solidity": 0.2
            },
            "type": "scatter"
           }
          ],
          "scatter3d": [
           {
            "line": {
             "colorbar": {
              "outlinewidth": 0,
              "ticks": ""
             }
            },
            "marker": {
             "colorbar": {
              "outlinewidth": 0,
              "ticks": ""
             }
            },
            "type": "scatter3d"
           }
          ],
          "scattercarpet": [
           {
            "marker": {
             "colorbar": {
              "outlinewidth": 0,
              "ticks": ""
             }
            },
            "type": "scattercarpet"
           }
          ],
          "scattergeo": [
           {
            "marker": {
             "colorbar": {
              "outlinewidth": 0,
              "ticks": ""
             }
            },
            "type": "scattergeo"
           }
          ],
          "scattergl": [
           {
            "marker": {
             "colorbar": {
              "outlinewidth": 0,
              "ticks": ""
             }
            },
            "type": "scattergl"
           }
          ],
          "scattermapbox": [
           {
            "marker": {
             "colorbar": {
              "outlinewidth": 0,
              "ticks": ""
             }
            },
            "type": "scattermapbox"
           }
          ],
          "scatterpolar": [
           {
            "marker": {
             "colorbar": {
              "outlinewidth": 0,
              "ticks": ""
             }
            },
            "type": "scatterpolar"
           }
          ],
          "scatterpolargl": [
           {
            "marker": {
             "colorbar": {
              "outlinewidth": 0,
              "ticks": ""
             }
            },
            "type": "scatterpolargl"
           }
          ],
          "scatterternary": [
           {
            "marker": {
             "colorbar": {
              "outlinewidth": 0,
              "ticks": ""
             }
            },
            "type": "scatterternary"
           }
          ],
          "surface": [
           {
            "colorbar": {
             "outlinewidth": 0,
             "ticks": ""
            },
            "colorscale": [
             [
              0,
              "#0d0887"
             ],
             [
              0.1111111111111111,
              "#46039f"
             ],
             [
              0.2222222222222222,
              "#7201a8"
             ],
             [
              0.3333333333333333,
              "#9c179e"
             ],
             [
              0.4444444444444444,
              "#bd3786"
             ],
             [
              0.5555555555555556,
              "#d8576b"
             ],
             [
              0.6666666666666666,
              "#ed7953"
             ],
             [
              0.7777777777777778,
              "#fb9f3a"
             ],
             [
              0.8888888888888888,
              "#fdca26"
             ],
             [
              1,
              "#f0f921"
             ]
            ],
            "type": "surface"
           }
          ],
          "table": [
           {
            "cells": {
             "fill": {
              "color": "#EBF0F8"
             },
             "line": {
              "color": "white"
             }
            },
            "header": {
             "fill": {
              "color": "#C8D4E3"
             },
             "line": {
              "color": "white"
             }
            },
            "type": "table"
           }
          ]
         },
         "layout": {
          "annotationdefaults": {
           "arrowcolor": "#2a3f5f",
           "arrowhead": 0,
           "arrowwidth": 1
          },
          "autotypenumbers": "strict",
          "coloraxis": {
           "colorbar": {
            "outlinewidth": 0,
            "ticks": ""
           }
          },
          "colorscale": {
           "diverging": [
            [
             0,
             "#8e0152"
            ],
            [
             0.1,
             "#c51b7d"
            ],
            [
             0.2,
             "#de77ae"
            ],
            [
             0.3,
             "#f1b6da"
            ],
            [
             0.4,
             "#fde0ef"
            ],
            [
             0.5,
             "#f7f7f7"
            ],
            [
             0.6,
             "#e6f5d0"
            ],
            [
             0.7,
             "#b8e186"
            ],
            [
             0.8,
             "#7fbc41"
            ],
            [
             0.9,
             "#4d9221"
            ],
            [
             1,
             "#276419"
            ]
           ],
           "sequential": [
            [
             0,
             "#0d0887"
            ],
            [
             0.1111111111111111,
             "#46039f"
            ],
            [
             0.2222222222222222,
             "#7201a8"
            ],
            [
             0.3333333333333333,
             "#9c179e"
            ],
            [
             0.4444444444444444,
             "#bd3786"
            ],
            [
             0.5555555555555556,
             "#d8576b"
            ],
            [
             0.6666666666666666,
             "#ed7953"
            ],
            [
             0.7777777777777778,
             "#fb9f3a"
            ],
            [
             0.8888888888888888,
             "#fdca26"
            ],
            [
             1,
             "#f0f921"
            ]
           ],
           "sequentialminus": [
            [
             0,
             "#0d0887"
            ],
            [
             0.1111111111111111,
             "#46039f"
            ],
            [
             0.2222222222222222,
             "#7201a8"
            ],
            [
             0.3333333333333333,
             "#9c179e"
            ],
            [
             0.4444444444444444,
             "#bd3786"
            ],
            [
             0.5555555555555556,
             "#d8576b"
            ],
            [
             0.6666666666666666,
             "#ed7953"
            ],
            [
             0.7777777777777778,
             "#fb9f3a"
            ],
            [
             0.8888888888888888,
             "#fdca26"
            ],
            [
             1,
             "#f0f921"
            ]
           ]
          },
          "colorway": [
           "#636efa",
           "#EF553B",
           "#00cc96",
           "#ab63fa",
           "#FFA15A",
           "#19d3f3",
           "#FF6692",
           "#B6E880",
           "#FF97FF",
           "#FECB52"
          ],
          "font": {
           "color": "#2a3f5f"
          },
          "geo": {
           "bgcolor": "white",
           "lakecolor": "white",
           "landcolor": "#E5ECF6",
           "showlakes": true,
           "showland": true,
           "subunitcolor": "white"
          },
          "hoverlabel": {
           "align": "left"
          },
          "hovermode": "closest",
          "mapbox": {
           "style": "light"
          },
          "paper_bgcolor": "white",
          "plot_bgcolor": "#E5ECF6",
          "polar": {
           "angularaxis": {
            "gridcolor": "white",
            "linecolor": "white",
            "ticks": ""
           },
           "bgcolor": "#E5ECF6",
           "radialaxis": {
            "gridcolor": "white",
            "linecolor": "white",
            "ticks": ""
           }
          },
          "scene": {
           "xaxis": {
            "backgroundcolor": "#E5ECF6",
            "gridcolor": "white",
            "gridwidth": 2,
            "linecolor": "white",
            "showbackground": true,
            "ticks": "",
            "zerolinecolor": "white"
           },
           "yaxis": {
            "backgroundcolor": "#E5ECF6",
            "gridcolor": "white",
            "gridwidth": 2,
            "linecolor": "white",
            "showbackground": true,
            "ticks": "",
            "zerolinecolor": "white"
           },
           "zaxis": {
            "backgroundcolor": "#E5ECF6",
            "gridcolor": "white",
            "gridwidth": 2,
            "linecolor": "white",
            "showbackground": true,
            "ticks": "",
            "zerolinecolor": "white"
           }
          },
          "shapedefaults": {
           "line": {
            "color": "#2a3f5f"
           }
          },
          "ternary": {
           "aaxis": {
            "gridcolor": "white",
            "linecolor": "white",
            "ticks": ""
           },
           "baxis": {
            "gridcolor": "white",
            "linecolor": "white",
            "ticks": ""
           },
           "bgcolor": "#E5ECF6",
           "caxis": {
            "gridcolor": "white",
            "linecolor": "white",
            "ticks": ""
           }
          },
          "title": {
           "x": 0.05
          },
          "xaxis": {
           "automargin": true,
           "gridcolor": "white",
           "linecolor": "white",
           "ticks": "",
           "title": {
            "standoff": 15
           },
           "zerolinecolor": "white",
           "zerolinewidth": 2
          },
          "yaxis": {
           "automargin": true,
           "gridcolor": "white",
           "linecolor": "white",
           "ticks": "",
           "title": {
            "standoff": 15
           },
           "zerolinecolor": "white",
           "zerolinewidth": 2
          }
         }
        },
        "title": {
         "font": {
          "color": "#4D5663"
         }
        },
        "xaxis": {
         "anchor": "y",
         "domain": [
          0,
          0.2125
         ],
         "gridcolor": "#E1E5ED",
         "showgrid": false,
         "tickfont": {
          "color": "#4D5663"
         },
         "title": {
          "font": {
           "color": "#4D5663"
          },
          "text": ""
         },
         "zerolinecolor": "#E1E5ED"
        },
        "xaxis10": {
         "anchor": "y10",
         "domain": [
          0.2625,
          0.475
         ],
         "gridcolor": "#E1E5ED",
         "showgrid": false,
         "tickfont": {
          "color": "#4D5663"
         },
         "title": {
          "font": {
           "color": "#4D5663"
          },
          "text": ""
         },
         "zerolinecolor": "#E1E5ED"
        },
        "xaxis11": {
         "anchor": "y11",
         "domain": [
          0.525,
          0.7375
         ],
         "gridcolor": "#E1E5ED",
         "showgrid": false,
         "tickfont": {
          "color": "#4D5663"
         },
         "title": {
          "font": {
           "color": "#4D5663"
          },
          "text": ""
         },
         "zerolinecolor": "#E1E5ED"
        },
        "xaxis12": {
         "anchor": "y12",
         "domain": [
          0.7875,
          1
         ],
         "gridcolor": "#E1E5ED",
         "showgrid": false,
         "tickfont": {
          "color": "#4D5663"
         },
         "title": {
          "font": {
           "color": "#4D5663"
          },
          "text": ""
         },
         "zerolinecolor": "#E1E5ED"
        },
        "xaxis13": {
         "anchor": "y13",
         "domain": [
          0,
          0.2125
         ],
         "gridcolor": "#E1E5ED",
         "showgrid": false,
         "tickfont": {
          "color": "#4D5663"
         },
         "title": {
          "font": {
           "color": "#4D5663"
          },
          "text": ""
         },
         "zerolinecolor": "#E1E5ED"
        },
        "xaxis14": {
         "anchor": "y14",
         "domain": [
          0.2625,
          0.475
         ],
         "gridcolor": "#E1E5ED",
         "showgrid": false,
         "tickfont": {
          "color": "#4D5663"
         },
         "title": {
          "font": {
           "color": "#4D5663"
          },
          "text": ""
         },
         "zerolinecolor": "#E1E5ED"
        },
        "xaxis15": {
         "anchor": "y15",
         "domain": [
          0.525,
          0.7375
         ],
         "gridcolor": "#E1E5ED",
         "showgrid": false,
         "tickfont": {
          "color": "#4D5663"
         },
         "title": {
          "font": {
           "color": "#4D5663"
          },
          "text": ""
         },
         "zerolinecolor": "#E1E5ED"
        },
        "xaxis16": {
         "anchor": "y16",
         "domain": [
          0.7875,
          1
         ],
         "gridcolor": "#E1E5ED",
         "showgrid": false,
         "tickfont": {
          "color": "#4D5663"
         },
         "title": {
          "font": {
           "color": "#4D5663"
          },
          "text": ""
         },
         "zerolinecolor": "#E1E5ED"
        },
        "xaxis2": {
         "anchor": "y2",
         "domain": [
          0.2625,
          0.475
         ],
         "gridcolor": "#E1E5ED",
         "showgrid": false,
         "tickfont": {
          "color": "#4D5663"
         },
         "title": {
          "font": {
           "color": "#4D5663"
          },
          "text": ""
         },
         "zerolinecolor": "#E1E5ED"
        },
        "xaxis3": {
         "anchor": "y3",
         "domain": [
          0.525,
          0.7375
         ],
         "gridcolor": "#E1E5ED",
         "showgrid": false,
         "tickfont": {
          "color": "#4D5663"
         },
         "title": {
          "font": {
           "color": "#4D5663"
          },
          "text": ""
         },
         "zerolinecolor": "#E1E5ED"
        },
        "xaxis4": {
         "anchor": "y4",
         "domain": [
          0.7875,
          1
         ],
         "gridcolor": "#E1E5ED",
         "showgrid": false,
         "tickfont": {
          "color": "#4D5663"
         },
         "title": {
          "font": {
           "color": "#4D5663"
          },
          "text": ""
         },
         "zerolinecolor": "#E1E5ED"
        },
        "xaxis5": {
         "anchor": "y5",
         "domain": [
          0,
          0.2125
         ],
         "gridcolor": "#E1E5ED",
         "showgrid": false,
         "tickfont": {
          "color": "#4D5663"
         },
         "title": {
          "font": {
           "color": "#4D5663"
          },
          "text": ""
         },
         "zerolinecolor": "#E1E5ED"
        },
        "xaxis6": {
         "anchor": "y6",
         "domain": [
          0.2625,
          0.475
         ],
         "gridcolor": "#E1E5ED",
         "showgrid": false,
         "tickfont": {
          "color": "#4D5663"
         },
         "title": {
          "font": {
           "color": "#4D5663"
          },
          "text": ""
         },
         "zerolinecolor": "#E1E5ED"
        },
        "xaxis7": {
         "anchor": "y7",
         "domain": [
          0.525,
          0.7375
         ],
         "gridcolor": "#E1E5ED",
         "showgrid": false,
         "tickfont": {
          "color": "#4D5663"
         },
         "title": {
          "font": {
           "color": "#4D5663"
          },
          "text": ""
         },
         "zerolinecolor": "#E1E5ED"
        },
        "xaxis8": {
         "anchor": "y8",
         "domain": [
          0.7875,
          1
         ],
         "gridcolor": "#E1E5ED",
         "showgrid": false,
         "tickfont": {
          "color": "#4D5663"
         },
         "title": {
          "font": {
           "color": "#4D5663"
          },
          "text": ""
         },
         "zerolinecolor": "#E1E5ED"
        },
        "xaxis9": {
         "anchor": "y9",
         "domain": [
          0,
          0.2125
         ],
         "gridcolor": "#E1E5ED",
         "showgrid": false,
         "tickfont": {
          "color": "#4D5663"
         },
         "title": {
          "font": {
           "color": "#4D5663"
          },
          "text": ""
         },
         "zerolinecolor": "#E1E5ED"
        },
        "yaxis": {
         "anchor": "x",
         "domain": [
          0.8025,
          1
         ],
         "gridcolor": "#E1E5ED",
         "showgrid": false,
         "tickfont": {
          "color": "#4D5663"
         },
         "title": {
          "font": {
           "color": "#4D5663"
          },
          "text": ""
         },
         "zerolinecolor": "#E1E5ED"
        },
        "yaxis10": {
         "anchor": "x10",
         "domain": [
          0.2675,
          0.465
         ],
         "gridcolor": "#E1E5ED",
         "showgrid": false,
         "tickfont": {
          "color": "#4D5663"
         },
         "title": {
          "font": {
           "color": "#4D5663"
          },
          "text": ""
         },
         "zerolinecolor": "#E1E5ED"
        },
        "yaxis11": {
         "anchor": "x11",
         "domain": [
          0.2675,
          0.465
         ],
         "gridcolor": "#E1E5ED",
         "showgrid": false,
         "tickfont": {
          "color": "#4D5663"
         },
         "title": {
          "font": {
           "color": "#4D5663"
          },
          "text": ""
         },
         "zerolinecolor": "#E1E5ED"
        },
        "yaxis12": {
         "anchor": "x12",
         "domain": [
          0.2675,
          0.465
         ],
         "gridcolor": "#E1E5ED",
         "showgrid": false,
         "tickfont": {
          "color": "#4D5663"
         },
         "title": {
          "font": {
           "color": "#4D5663"
          },
          "text": ""
         },
         "zerolinecolor": "#E1E5ED"
        },
        "yaxis13": {
         "anchor": "x13",
         "domain": [
          0,
          0.1975
         ],
         "gridcolor": "#E1E5ED",
         "showgrid": false,
         "tickfont": {
          "color": "#4D5663"
         },
         "title": {
          "font": {
           "color": "#4D5663"
          },
          "text": ""
         },
         "zerolinecolor": "#E1E5ED"
        },
        "yaxis14": {
         "anchor": "x14",
         "domain": [
          0,
          0.1975
         ],
         "gridcolor": "#E1E5ED",
         "showgrid": false,
         "tickfont": {
          "color": "#4D5663"
         },
         "title": {
          "font": {
           "color": "#4D5663"
          },
          "text": ""
         },
         "zerolinecolor": "#E1E5ED"
        },
        "yaxis15": {
         "anchor": "x15",
         "domain": [
          0,
          0.1975
         ],
         "gridcolor": "#E1E5ED",
         "showgrid": false,
         "tickfont": {
          "color": "#4D5663"
         },
         "title": {
          "font": {
           "color": "#4D5663"
          },
          "text": ""
         },
         "zerolinecolor": "#E1E5ED"
        },
        "yaxis16": {
         "anchor": "x16",
         "domain": [
          0,
          0.1975
         ],
         "gridcolor": "#E1E5ED",
         "showgrid": false,
         "tickfont": {
          "color": "#4D5663"
         },
         "title": {
          "font": {
           "color": "#4D5663"
          },
          "text": ""
         },
         "zerolinecolor": "#E1E5ED"
        },
        "yaxis2": {
         "anchor": "x2",
         "domain": [
          0.8025,
          1
         ],
         "gridcolor": "#E1E5ED",
         "showgrid": false,
         "tickfont": {
          "color": "#4D5663"
         },
         "title": {
          "font": {
           "color": "#4D5663"
          },
          "text": ""
         },
         "zerolinecolor": "#E1E5ED"
        },
        "yaxis3": {
         "anchor": "x3",
         "domain": [
          0.8025,
          1
         ],
         "gridcolor": "#E1E5ED",
         "showgrid": false,
         "tickfont": {
          "color": "#4D5663"
         },
         "title": {
          "font": {
           "color": "#4D5663"
          },
          "text": ""
         },
         "zerolinecolor": "#E1E5ED"
        },
        "yaxis4": {
         "anchor": "x4",
         "domain": [
          0.8025,
          1
         ],
         "gridcolor": "#E1E5ED",
         "showgrid": false,
         "tickfont": {
          "color": "#4D5663"
         },
         "title": {
          "font": {
           "color": "#4D5663"
          },
          "text": ""
         },
         "zerolinecolor": "#E1E5ED"
        },
        "yaxis5": {
         "anchor": "x5",
         "domain": [
          0.535,
          0.7325
         ],
         "gridcolor": "#E1E5ED",
         "showgrid": false,
         "tickfont": {
          "color": "#4D5663"
         },
         "title": {
          "font": {
           "color": "#4D5663"
          },
          "text": ""
         },
         "zerolinecolor": "#E1E5ED"
        },
        "yaxis6": {
         "anchor": "x6",
         "domain": [
          0.535,
          0.7325
         ],
         "gridcolor": "#E1E5ED",
         "showgrid": false,
         "tickfont": {
          "color": "#4D5663"
         },
         "title": {
          "font": {
           "color": "#4D5663"
          },
          "text": ""
         },
         "zerolinecolor": "#E1E5ED"
        },
        "yaxis7": {
         "anchor": "x7",
         "domain": [
          0.535,
          0.7325
         ],
         "gridcolor": "#E1E5ED",
         "showgrid": false,
         "tickfont": {
          "color": "#4D5663"
         },
         "title": {
          "font": {
           "color": "#4D5663"
          },
          "text": ""
         },
         "zerolinecolor": "#E1E5ED"
        },
        "yaxis8": {
         "anchor": "x8",
         "domain": [
          0.535,
          0.7325
         ],
         "gridcolor": "#E1E5ED",
         "showgrid": false,
         "tickfont": {
          "color": "#4D5663"
         },
         "title": {
          "font": {
           "color": "#4D5663"
          },
          "text": ""
         },
         "zerolinecolor": "#E1E5ED"
        },
        "yaxis9": {
         "anchor": "x9",
         "domain": [
          0.2675,
          0.465
         ],
         "gridcolor": "#E1E5ED",
         "showgrid": false,
         "tickfont": {
          "color": "#4D5663"
         },
         "title": {
          "font": {
           "color": "#4D5663"
          },
          "text": ""
         },
         "zerolinecolor": "#E1E5ED"
        }
       }
      },
      "text/html": [
       "<div>                            <div id=\"e527cad4-e57c-48b1-9e72-bd65345f5fd3\" class=\"plotly-graph-div\" style=\"height:525px; width:100%;\"></div>            <script type=\"text/javascript\">                require([\"plotly\"], function(Plotly) {                    window.PLOTLYENV=window.PLOTLYENV || {};\n",
       "                    window.PLOTLYENV.BASE_URL='https://plot.ly';                                    if (document.getElementById(\"e527cad4-e57c-48b1-9e72-bd65345f5fd3\")) {                    Plotly.newPlot(                        \"e527cad4-e57c-48b1-9e72-bd65345f5fd3\",                        [{\"histfunc\":\"count\",\"histnorm\":\"\",\"marker\":{\"color\":\"rgba(255, 153, 51, 1.0)\",\"line\":{\"color\":\"#4D5663\",\"width\":1.3}},\"name\":\"A\",\"nbinsx\":10,\"opacity\":0.8,\"orientation\":\"v\",\"x\":[-1.0520499660805134,-0.6395256708852439,-0.33434764741888273,-0.602102263802253,0.3275992110293282,-0.8517119727079342,0.4823647677292349,-0.6733753513218748,1.0663693192389487,-0.6674469283977741,-0.1555538710682971,0.982078463400281,0.5605995734508707,-1.5992430724659148,-0.4863413205475636,-1.635285837548092,1.3935076424093102,1.7941318056056335,0.5341913789906737,-0.9524975663306507,-0.4573351632944464,1.1177083797834142,-0.5706607672093532,0.7867354928231047,0.07981317429930133,-0.6349940715278921,1.5425662192838554,-0.6132422783945425,0.15544048184803386,0.9192445510904795,-1.7359719590500762,-1.9119274895922669,0.6944479962123283,0.3532145001978853,-1.0600796071503271,-0.5334678844301335,-0.6394875240041487,0.3128946201121304,0.016069119234565766,-1.5744316004386434,0.7344487377210069,0.7193287039929793,0.4812823931213064,-0.24678614971224266,-0.2905274885290895,-0.1003666244799347,0.2183659952290479,-2.319740663802171,-0.6745518951897882,0.29578338730627296,0.027684720711771665,0.6195480439047139,0.6876980075689124,-1.1798993200458125,1.1244893859000014,0.5280412892103941,-0.6001297370928859,-0.027008110814554072,-0.2748635223706462,1.4138169456342016,-0.9151732693883676,-0.4134435108103696,0.9255576517778622,0.860868531480433,1.758016656113904,1.6783618939930056,0.06869043899424485,0.6937178925305963,-0.8760537876530695,0.9102278415320038,0.7191692678149171,-0.4913169243308279,1.2337987142169284,0.7956878705772449,1.371542963623464,-1.343501561614963,1.0118949910662463,1.1658612878341348,-0.6928552283460352,-0.4687295487764381,-0.8757314396497151,-0.3643879992119797,0.811605819362338,-0.42095946538411305,-0.9898935045710047,0.7334033677693634,-0.19290472361161884,1.8143264562579273,0.8281944946575908,0.4854377119690578,0.5615674241389551,0.30512951708273917,-0.2966780672407173,2.3797154891776886,1.4080321570020835,-1.03463191031649,-1.941093118397556,-0.5620252053886859,-0.7270510460295249,0.10178198219108311],\"xaxis\":\"x\",\"yaxis\":\"y\",\"type\":\"histogram\"},{\"line\":{\"color\":\"rgba(128, 128, 128, 1.0)\",\"dash\":\"solid\",\"shape\":\"linear\",\"width\":1.3},\"marker\":{\"size\":2,\"symbol\":\"circle\"},\"mode\":\"markers\",\"name\":\"A\",\"text\":\"\",\"x\":[-0.5756640459082741,0.5987981212644335,-0.7783665585217159,-0.09573196409819089,-0.14284747496470035,1.1566851064970056,0.14205945762224648,0.9925438822429384,-1.4205067005147545,-0.4243133975107277,0.2046316406674326,-0.8664033231860435,0.30018363681115173,0.7012726412626394,-0.5832744366644343,-1.9611912132619702,-1.2865690654113124,0.2805418321787577,0.5712498729810047,-0.6776239869439911,0.3316361158392233,-0.14461439325213005,-1.0410638673782593,-0.4080654043631619,-0.00631491901211208,0.654337983442778,0.04670538856144417,0.4891070888438266,-1.2277858127245984,-1.5325129450673443,1.2514271194867919,-0.6784529656249904,0.8507471393458212,0.3524385390065126,0.6553698989078516,-1.0598696128958636,-0.5655967775632145,1.1038885195167987,0.51412957783871,-1.03444943752192,-0.5231942655733847,-0.8380629336724287,1.903096658084694,0.4168137650785216,-0.4997398212243618,1.4029778201285397,0.8105226854959072,-1.7054169577749274,0.4605260705984755,-0.9824384505992422,-3.224746706249651,-0.6689949803255751,1.136152225459386,0.5680385123690971,0.7065628304892786,-0.42374809536258623,-0.8945591138218476,1.3206984539123967,-1.047728278006352,0.22476929272194288,-0.0009414573889848483,-0.01541225142410007,0.8263022924568258,0.42637279096367314,0.7989305066857885,-0.9789730984372811,-0.07071920797599111,-0.6115527255986463,-1.251525922052416,0.6676854765757444,1.9869694622253653,1.5658607072704804,-0.4186693946248924,-0.40628885793212743,1.5568244944045366,-0.7326242574894654,0.37958514924466513,-0.1783531218270007,-1.4160686077684221,0.4077861201653217,1.866778069209306,-1.0186822996845648,0.8993809357600041,-0.29568521043114,-0.47082542872155764,0.7282529986227604,0.06269962361015688,-0.3591244801120115,-0.28395660057604427,0.5295132537184689,-0.8352707178155664,0.3743707004534908,-0.31130372186525196,-0.7747932469996983,1.2259633383494222,-0.4464779411147586,0.996920839179652,0.20800829553317293,0.1858285403997541,-1.5192392350514088],\"xaxis\":\"x2\",\"y\":[-1.0520499660805134,-0.6395256708852439,-0.33434764741888273,-0.602102263802253,0.3275992110293282,-0.8517119727079342,0.4823647677292349,-0.6733753513218748,1.0663693192389487,-0.6674469283977741,-0.1555538710682971,0.982078463400281,0.5605995734508707,-1.5992430724659148,-0.4863413205475636,-1.635285837548092,1.3935076424093102,1.7941318056056335,0.5341913789906737,-0.9524975663306507,-0.4573351632944464,1.1177083797834142,-0.5706607672093532,0.7867354928231047,0.07981317429930133,-0.6349940715278921,1.5425662192838554,-0.6132422783945425,0.15544048184803386,0.9192445510904795,-1.7359719590500762,-1.9119274895922669,0.6944479962123283,0.3532145001978853,-1.0600796071503271,-0.5334678844301335,-0.6394875240041487,0.3128946201121304,0.016069119234565766,-1.5744316004386434,0.7344487377210069,0.7193287039929793,0.4812823931213064,-0.24678614971224266,-0.2905274885290895,-0.1003666244799347,0.2183659952290479,-2.319740663802171,-0.6745518951897882,0.29578338730627296,0.027684720711771665,0.6195480439047139,0.6876980075689124,-1.1798993200458125,1.1244893859000014,0.5280412892103941,-0.6001297370928859,-0.027008110814554072,-0.2748635223706462,1.4138169456342016,-0.9151732693883676,-0.4134435108103696,0.9255576517778622,0.860868531480433,1.758016656113904,1.6783618939930056,0.06869043899424485,0.6937178925305963,-0.8760537876530695,0.9102278415320038,0.7191692678149171,-0.4913169243308279,1.2337987142169284,0.7956878705772449,1.371542963623464,-1.343501561614963,1.0118949910662463,1.1658612878341348,-0.6928552283460352,-0.4687295487764381,-0.8757314396497151,-0.3643879992119797,0.811605819362338,-0.42095946538411305,-0.9898935045710047,0.7334033677693634,-0.19290472361161884,1.8143264562579273,0.8281944946575908,0.4854377119690578,0.5615674241389551,0.30512951708273917,-0.2966780672407173,2.3797154891776886,1.4080321570020835,-1.03463191031649,-1.941093118397556,-0.5620252053886859,-0.7270510460295249,0.10178198219108311],\"yaxis\":\"y2\",\"type\":\"scatter\"},{\"line\":{\"color\":\"rgba(128, 128, 128, 1.0)\",\"dash\":\"solid\",\"shape\":\"linear\",\"width\":1.3},\"marker\":{\"size\":2,\"symbol\":\"circle\"},\"mode\":\"markers\",\"name\":\"A\",\"text\":\"\",\"x\":[-0.5819334923709587,-0.20535185346047247,0.46495722193269035,1.0070083228749713,-1.9374996309320467,-1.8541871881835001,-0.848496434101706,0.45974409273358985,-0.42962749274340156,0.7692492026076733,0.6928099983210566,-0.06208913376574852,-1.0053623155890632,0.007044029659171979,-0.6959485236317551,0.16773342407984793,0.4414972998112349,1.1882019964628374,-0.19853533442373375,0.3267154299617585,0.26714306155641165,-0.8955268783525614,-0.27288703912797035,0.39275060553488506,0.7115752608323191,0.7739850163751817,0.1775505555193976,-0.6086922158505274,-0.6294228912057446,-0.3894360632509466,-1.2076184402578136,3.0053123500080563,-1.5754072359244329,0.9081520007417977,0.41550855556638033,-0.8513454002492441,-1.1326100992100343,1.0146364521051245,0.3499554555995428,-0.18271749072119908,-1.3828375182730765,0.06925941812907539,-0.19944910235226446,0.28659471060857167,0.431064112970978,0.44260910684426763,1.2723582047994717,0.15314586765388086,-0.9177936069592793,0.3872575875906056,1.353121625137218,-0.854219028152435,0.6594533648064694,0.3192636945692223,-1.1155131217634007,-2.1766829042957143,-0.3998026993553559,0.10033839956286841,0.0015704263412207665,0.7967668240914113,0.4700248884500916,0.6766821536944682,-0.7350572401590547,1.663609236900145,-1.4250134126719334,-0.722653969919067,-0.61533551687048,-1.248779331333013,0.12473013029526318,-1.5055610854030745,-1.169929557726273,0.49176966267461564,-0.43076836408784097,-0.5615642090678576,-1.0749653716673913,0.14688846542818107,0.6169536007402349,0.34337017267739983,-0.21718300793707138,-0.3725730120890333,0.1631074630424868,-1.6531956150206424,-0.7909997606036744,-2.477105350291788,1.416172153010682,-0.058421198865491235,-0.9317774772046867,1.78265714700381,-0.9900013276270953,1.5728132878672307,1.1325937740258523,-1.1199356407596541,2.379674994438924,2.080399997501075,-0.6534166903005675,0.4672977861022814,0.8744911814364437,-1.6692849310609135,-1.7115761965081926,0.3828922611526809],\"xaxis\":\"x3\",\"y\":[-1.0520499660805134,-0.6395256708852439,-0.33434764741888273,-0.602102263802253,0.3275992110293282,-0.8517119727079342,0.4823647677292349,-0.6733753513218748,1.0663693192389487,-0.6674469283977741,-0.1555538710682971,0.982078463400281,0.5605995734508707,-1.5992430724659148,-0.4863413205475636,-1.635285837548092,1.3935076424093102,1.7941318056056335,0.5341913789906737,-0.9524975663306507,-0.4573351632944464,1.1177083797834142,-0.5706607672093532,0.7867354928231047,0.07981317429930133,-0.6349940715278921,1.5425662192838554,-0.6132422783945425,0.15544048184803386,0.9192445510904795,-1.7359719590500762,-1.9119274895922669,0.6944479962123283,0.3532145001978853,-1.0600796071503271,-0.5334678844301335,-0.6394875240041487,0.3128946201121304,0.016069119234565766,-1.5744316004386434,0.7344487377210069,0.7193287039929793,0.4812823931213064,-0.24678614971224266,-0.2905274885290895,-0.1003666244799347,0.2183659952290479,-2.319740663802171,-0.6745518951897882,0.29578338730627296,0.027684720711771665,0.6195480439047139,0.6876980075689124,-1.1798993200458125,1.1244893859000014,0.5280412892103941,-0.6001297370928859,-0.027008110814554072,-0.2748635223706462,1.4138169456342016,-0.9151732693883676,-0.4134435108103696,0.9255576517778622,0.860868531480433,1.758016656113904,1.6783618939930056,0.06869043899424485,0.6937178925305963,-0.8760537876530695,0.9102278415320038,0.7191692678149171,-0.4913169243308279,1.2337987142169284,0.7956878705772449,1.371542963623464,-1.343501561614963,1.0118949910662463,1.1658612878341348,-0.6928552283460352,-0.4687295487764381,-0.8757314396497151,-0.3643879992119797,0.811605819362338,-0.42095946538411305,-0.9898935045710047,0.7334033677693634,-0.19290472361161884,1.8143264562579273,0.8281944946575908,0.4854377119690578,0.5615674241389551,0.30512951708273917,-0.2966780672407173,2.3797154891776886,1.4080321570020835,-1.03463191031649,-1.941093118397556,-0.5620252053886859,-0.7270510460295249,0.10178198219108311],\"yaxis\":\"y3\",\"type\":\"scatter\"},{\"line\":{\"color\":\"rgba(128, 128, 128, 1.0)\",\"dash\":\"solid\",\"shape\":\"linear\",\"width\":1.3},\"marker\":{\"size\":2,\"symbol\":\"circle\"},\"mode\":\"markers\",\"name\":\"A\",\"text\":\"\",\"x\":[0.9277319196502233,-0.12536008250933575,-0.12107125297344493,-0.8232707716494212,0.0664355796174163,-1.0678908297985703,0.0771054637995535,-0.051419097373521905,0.8336144416442017,-0.235139942535916,0.17619034695555033,2.0262920079966684,1.9755131430698687,-0.9611065737485338,-0.15006797456552856,0.11044491010489915,-0.4376965493761567,-1.5631316393241954,0.1471186920291873,-1.1640011834330464,0.4258943442374219,1.2146088757256255,0.7735049289379338,0.7082704771945506,0.11701812225321552,-0.15847090018087553,1.0719554689341357,-0.46749993915361393,0.16249504661882275,0.7356303076485307,-0.47825963665381,0.5706434066808811,0.3426791200908702,-0.1134673865337506,-1.1581329453850489,-0.6121034811396447,1.2680418810575937,-1.0479312107585474,0.15348820995902268,0.514842534562817,0.49451618938625846,1.6208723713139663,-0.25548314383520526,0.5374303675035457,-0.582559486730231,0.3586512893294155,-0.47962465951319494,0.2647371692605464,-0.47771343959240603,-0.7017403951073233,-0.034630588932819464,1.6522890087900828,0.5581153890731325,1.2058044077410321,-0.49446560660305783,-0.6736574987752219,-1.4315440524134833,-1.3562113280827872,-0.806985630376175,0.04536848363326349,-1.4830070051596294,0.4549646595345361,-0.48559025918958065,0.4561273132929846,-0.9969847859936918,-0.017345009789463923,-0.45243254887684414,1.3526888226060534,0.24175626611159212,1.5767487666136768,-1.3789565966868544,0.24661436799681344,0.43095305560163444,-1.1287038083661936,1.0868511602946072,0.3097320823328397,0.5923187864201388,0.3578463427763317,-1.4342376241981762,0.1907973388784022,1.2935339400068324,-1.7901698150670595,-0.933527031679027,1.678288570633211,0.01884053700803777,0.5652059967893183,-1.5100447146004006,-0.14949401638016677,2.0300286353463854,-2.072940206901961,2.3421377329868496,1.4888237344503232,-2.0842945390943983,0.5537941026885076,0.5471328253270026,0.6234422409414835,0.7736632900800269,0.3957359267460818,-0.40036226897897575,0.396793570420886],\"xaxis\":\"x4\",\"y\":[-1.0520499660805134,-0.6395256708852439,-0.33434764741888273,-0.602102263802253,0.3275992110293282,-0.8517119727079342,0.4823647677292349,-0.6733753513218748,1.0663693192389487,-0.6674469283977741,-0.1555538710682971,0.982078463400281,0.5605995734508707,-1.5992430724659148,-0.4863413205475636,-1.635285837548092,1.3935076424093102,1.7941318056056335,0.5341913789906737,-0.9524975663306507,-0.4573351632944464,1.1177083797834142,-0.5706607672093532,0.7867354928231047,0.07981317429930133,-0.6349940715278921,1.5425662192838554,-0.6132422783945425,0.15544048184803386,0.9192445510904795,-1.7359719590500762,-1.9119274895922669,0.6944479962123283,0.3532145001978853,-1.0600796071503271,-0.5334678844301335,-0.6394875240041487,0.3128946201121304,0.016069119234565766,-1.5744316004386434,0.7344487377210069,0.7193287039929793,0.4812823931213064,-0.24678614971224266,-0.2905274885290895,-0.1003666244799347,0.2183659952290479,-2.319740663802171,-0.6745518951897882,0.29578338730627296,0.027684720711771665,0.6195480439047139,0.6876980075689124,-1.1798993200458125,1.1244893859000014,0.5280412892103941,-0.6001297370928859,-0.027008110814554072,-0.2748635223706462,1.4138169456342016,-0.9151732693883676,-0.4134435108103696,0.9255576517778622,0.860868531480433,1.758016656113904,1.6783618939930056,0.06869043899424485,0.6937178925305963,-0.8760537876530695,0.9102278415320038,0.7191692678149171,-0.4913169243308279,1.2337987142169284,0.7956878705772449,1.371542963623464,-1.343501561614963,1.0118949910662463,1.1658612878341348,-0.6928552283460352,-0.4687295487764381,-0.8757314396497151,-0.3643879992119797,0.811605819362338,-0.42095946538411305,-0.9898935045710047,0.7334033677693634,-0.19290472361161884,1.8143264562579273,0.8281944946575908,0.4854377119690578,0.5615674241389551,0.30512951708273917,-0.2966780672407173,2.3797154891776886,1.4080321570020835,-1.03463191031649,-1.941093118397556,-0.5620252053886859,-0.7270510460295249,0.10178198219108311],\"yaxis\":\"y4\",\"type\":\"scatter\"},{\"line\":{\"color\":\"rgba(128, 128, 128, 1.0)\",\"dash\":\"solid\",\"shape\":\"linear\",\"width\":1.3},\"marker\":{\"size\":2,\"symbol\":\"circle\"},\"mode\":\"markers\",\"name\":\"B\",\"text\":\"\",\"x\":[-1.0520499660805134,-0.6395256708852439,-0.33434764741888273,-0.602102263802253,0.3275992110293282,-0.8517119727079342,0.4823647677292349,-0.6733753513218748,1.0663693192389487,-0.6674469283977741,-0.1555538710682971,0.982078463400281,0.5605995734508707,-1.5992430724659148,-0.4863413205475636,-1.635285837548092,1.3935076424093102,1.7941318056056335,0.5341913789906737,-0.9524975663306507,-0.4573351632944464,1.1177083797834142,-0.5706607672093532,0.7867354928231047,0.07981317429930133,-0.6349940715278921,1.5425662192838554,-0.6132422783945425,0.15544048184803386,0.9192445510904795,-1.7359719590500762,-1.9119274895922669,0.6944479962123283,0.3532145001978853,-1.0600796071503271,-0.5334678844301335,-0.6394875240041487,0.3128946201121304,0.016069119234565766,-1.5744316004386434,0.7344487377210069,0.7193287039929793,0.4812823931213064,-0.24678614971224266,-0.2905274885290895,-0.1003666244799347,0.2183659952290479,-2.319740663802171,-0.6745518951897882,0.29578338730627296,0.027684720711771665,0.6195480439047139,0.6876980075689124,-1.1798993200458125,1.1244893859000014,0.5280412892103941,-0.6001297370928859,-0.027008110814554072,-0.2748635223706462,1.4138169456342016,-0.9151732693883676,-0.4134435108103696,0.9255576517778622,0.860868531480433,1.758016656113904,1.6783618939930056,0.06869043899424485,0.6937178925305963,-0.8760537876530695,0.9102278415320038,0.7191692678149171,-0.4913169243308279,1.2337987142169284,0.7956878705772449,1.371542963623464,-1.343501561614963,1.0118949910662463,1.1658612878341348,-0.6928552283460352,-0.4687295487764381,-0.8757314396497151,-0.3643879992119797,0.811605819362338,-0.42095946538411305,-0.9898935045710047,0.7334033677693634,-0.19290472361161884,1.8143264562579273,0.8281944946575908,0.4854377119690578,0.5615674241389551,0.30512951708273917,-0.2966780672407173,2.3797154891776886,1.4080321570020835,-1.03463191031649,-1.941093118397556,-0.5620252053886859,-0.7270510460295249,0.10178198219108311],\"xaxis\":\"x5\",\"y\":[-0.5756640459082741,0.5987981212644335,-0.7783665585217159,-0.09573196409819089,-0.14284747496470035,1.1566851064970056,0.14205945762224648,0.9925438822429384,-1.4205067005147545,-0.4243133975107277,0.2046316406674326,-0.8664033231860435,0.30018363681115173,0.7012726412626394,-0.5832744366644343,-1.9611912132619702,-1.2865690654113124,0.2805418321787577,0.5712498729810047,-0.6776239869439911,0.3316361158392233,-0.14461439325213005,-1.0410638673782593,-0.4080654043631619,-0.00631491901211208,0.654337983442778,0.04670538856144417,0.4891070888438266,-1.2277858127245984,-1.5325129450673443,1.2514271194867919,-0.6784529656249904,0.8507471393458212,0.3524385390065126,0.6553698989078516,-1.0598696128958636,-0.5655967775632145,1.1038885195167987,0.51412957783871,-1.03444943752192,-0.5231942655733847,-0.8380629336724287,1.903096658084694,0.4168137650785216,-0.4997398212243618,1.4029778201285397,0.8105226854959072,-1.7054169577749274,0.4605260705984755,-0.9824384505992422,-3.224746706249651,-0.6689949803255751,1.136152225459386,0.5680385123690971,0.7065628304892786,-0.42374809536258623,-0.8945591138218476,1.3206984539123967,-1.047728278006352,0.22476929272194288,-0.0009414573889848483,-0.01541225142410007,0.8263022924568258,0.42637279096367314,0.7989305066857885,-0.9789730984372811,-0.07071920797599111,-0.6115527255986463,-1.251525922052416,0.6676854765757444,1.9869694622253653,1.5658607072704804,-0.4186693946248924,-0.40628885793212743,1.5568244944045366,-0.7326242574894654,0.37958514924466513,-0.1783531218270007,-1.4160686077684221,0.4077861201653217,1.866778069209306,-1.0186822996845648,0.8993809357600041,-0.29568521043114,-0.47082542872155764,0.7282529986227604,0.06269962361015688,-0.3591244801120115,-0.28395660057604427,0.5295132537184689,-0.8352707178155664,0.3743707004534908,-0.31130372186525196,-0.7747932469996983,1.2259633383494222,-0.4464779411147586,0.996920839179652,0.20800829553317293,0.1858285403997541,-1.5192392350514088],\"yaxis\":\"y5\",\"type\":\"scatter\"},{\"histfunc\":\"count\",\"histnorm\":\"\",\"marker\":{\"color\":\"rgba(55, 128, 191, 1.0)\",\"line\":{\"color\":\"#4D5663\",\"width\":1.3}},\"name\":\"B\",\"nbinsx\":10,\"opacity\":0.8,\"orientation\":\"v\",\"x\":[-0.5756640459082741,0.5987981212644335,-0.7783665585217159,-0.09573196409819089,-0.14284747496470035,1.1566851064970056,0.14205945762224648,0.9925438822429384,-1.4205067005147545,-0.4243133975107277,0.2046316406674326,-0.8664033231860435,0.30018363681115173,0.7012726412626394,-0.5832744366644343,-1.9611912132619702,-1.2865690654113124,0.2805418321787577,0.5712498729810047,-0.6776239869439911,0.3316361158392233,-0.14461439325213005,-1.0410638673782593,-0.4080654043631619,-0.00631491901211208,0.654337983442778,0.04670538856144417,0.4891070888438266,-1.2277858127245984,-1.5325129450673443,1.2514271194867919,-0.6784529656249904,0.8507471393458212,0.3524385390065126,0.6553698989078516,-1.0598696128958636,-0.5655967775632145,1.1038885195167987,0.51412957783871,-1.03444943752192,-0.5231942655733847,-0.8380629336724287,1.903096658084694,0.4168137650785216,-0.4997398212243618,1.4029778201285397,0.8105226854959072,-1.7054169577749274,0.4605260705984755,-0.9824384505992422,-3.224746706249651,-0.6689949803255751,1.136152225459386,0.5680385123690971,0.7065628304892786,-0.42374809536258623,-0.8945591138218476,1.3206984539123967,-1.047728278006352,0.22476929272194288,-0.0009414573889848483,-0.01541225142410007,0.8263022924568258,0.42637279096367314,0.7989305066857885,-0.9789730984372811,-0.07071920797599111,-0.6115527255986463,-1.251525922052416,0.6676854765757444,1.9869694622253653,1.5658607072704804,-0.4186693946248924,-0.40628885793212743,1.5568244944045366,-0.7326242574894654,0.37958514924466513,-0.1783531218270007,-1.4160686077684221,0.4077861201653217,1.866778069209306,-1.0186822996845648,0.8993809357600041,-0.29568521043114,-0.47082542872155764,0.7282529986227604,0.06269962361015688,-0.3591244801120115,-0.28395660057604427,0.5295132537184689,-0.8352707178155664,0.3743707004534908,-0.31130372186525196,-0.7747932469996983,1.2259633383494222,-0.4464779411147586,0.996920839179652,0.20800829553317293,0.1858285403997541,-1.5192392350514088],\"xaxis\":\"x6\",\"yaxis\":\"y6\",\"type\":\"histogram\"},{\"line\":{\"color\":\"rgba(128, 128, 128, 1.0)\",\"dash\":\"solid\",\"shape\":\"linear\",\"width\":1.3},\"marker\":{\"size\":2,\"symbol\":\"circle\"},\"mode\":\"markers\",\"name\":\"B\",\"text\":\"\",\"x\":[-0.5819334923709587,-0.20535185346047247,0.46495722193269035,1.0070083228749713,-1.9374996309320467,-1.8541871881835001,-0.848496434101706,0.45974409273358985,-0.42962749274340156,0.7692492026076733,0.6928099983210566,-0.06208913376574852,-1.0053623155890632,0.007044029659171979,-0.6959485236317551,0.16773342407984793,0.4414972998112349,1.1882019964628374,-0.19853533442373375,0.3267154299617585,0.26714306155641165,-0.8955268783525614,-0.27288703912797035,0.39275060553488506,0.7115752608323191,0.7739850163751817,0.1775505555193976,-0.6086922158505274,-0.6294228912057446,-0.3894360632509466,-1.2076184402578136,3.0053123500080563,-1.5754072359244329,0.9081520007417977,0.41550855556638033,-0.8513454002492441,-1.1326100992100343,1.0146364521051245,0.3499554555995428,-0.18271749072119908,-1.3828375182730765,0.06925941812907539,-0.19944910235226446,0.28659471060857167,0.431064112970978,0.44260910684426763,1.2723582047994717,0.15314586765388086,-0.9177936069592793,0.3872575875906056,1.353121625137218,-0.854219028152435,0.6594533648064694,0.3192636945692223,-1.1155131217634007,-2.1766829042957143,-0.3998026993553559,0.10033839956286841,0.0015704263412207665,0.7967668240914113,0.4700248884500916,0.6766821536944682,-0.7350572401590547,1.663609236900145,-1.4250134126719334,-0.722653969919067,-0.61533551687048,-1.248779331333013,0.12473013029526318,-1.5055610854030745,-1.169929557726273,0.49176966267461564,-0.43076836408784097,-0.5615642090678576,-1.0749653716673913,0.14688846542818107,0.6169536007402349,0.34337017267739983,-0.21718300793707138,-0.3725730120890333,0.1631074630424868,-1.6531956150206424,-0.7909997606036744,-2.477105350291788,1.416172153010682,-0.058421198865491235,-0.9317774772046867,1.78265714700381,-0.9900013276270953,1.5728132878672307,1.1325937740258523,-1.1199356407596541,2.379674994438924,2.080399997501075,-0.6534166903005675,0.4672977861022814,0.8744911814364437,-1.6692849310609135,-1.7115761965081926,0.3828922611526809],\"xaxis\":\"x7\",\"y\":[-0.5756640459082741,0.5987981212644335,-0.7783665585217159,-0.09573196409819089,-0.14284747496470035,1.1566851064970056,0.14205945762224648,0.9925438822429384,-1.4205067005147545,-0.4243133975107277,0.2046316406674326,-0.8664033231860435,0.30018363681115173,0.7012726412626394,-0.5832744366644343,-1.9611912132619702,-1.2865690654113124,0.2805418321787577,0.5712498729810047,-0.6776239869439911,0.3316361158392233,-0.14461439325213005,-1.0410638673782593,-0.4080654043631619,-0.00631491901211208,0.654337983442778,0.04670538856144417,0.4891070888438266,-1.2277858127245984,-1.5325129450673443,1.2514271194867919,-0.6784529656249904,0.8507471393458212,0.3524385390065126,0.6553698989078516,-1.0598696128958636,-0.5655967775632145,1.1038885195167987,0.51412957783871,-1.03444943752192,-0.5231942655733847,-0.8380629336724287,1.903096658084694,0.4168137650785216,-0.4997398212243618,1.4029778201285397,0.8105226854959072,-1.7054169577749274,0.4605260705984755,-0.9824384505992422,-3.224746706249651,-0.6689949803255751,1.136152225459386,0.5680385123690971,0.7065628304892786,-0.42374809536258623,-0.8945591138218476,1.3206984539123967,-1.047728278006352,0.22476929272194288,-0.0009414573889848483,-0.01541225142410007,0.8263022924568258,0.42637279096367314,0.7989305066857885,-0.9789730984372811,-0.07071920797599111,-0.6115527255986463,-1.251525922052416,0.6676854765757444,1.9869694622253653,1.5658607072704804,-0.4186693946248924,-0.40628885793212743,1.5568244944045366,-0.7326242574894654,0.37958514924466513,-0.1783531218270007,-1.4160686077684221,0.4077861201653217,1.866778069209306,-1.0186822996845648,0.8993809357600041,-0.29568521043114,-0.47082542872155764,0.7282529986227604,0.06269962361015688,-0.3591244801120115,-0.28395660057604427,0.5295132537184689,-0.8352707178155664,0.3743707004534908,-0.31130372186525196,-0.7747932469996983,1.2259633383494222,-0.4464779411147586,0.996920839179652,0.20800829553317293,0.1858285403997541,-1.5192392350514088],\"yaxis\":\"y7\",\"type\":\"scatter\"},{\"line\":{\"color\":\"rgba(128, 128, 128, 1.0)\",\"dash\":\"solid\",\"shape\":\"linear\",\"width\":1.3},\"marker\":{\"size\":2,\"symbol\":\"circle\"},\"mode\":\"markers\",\"name\":\"B\",\"text\":\"\",\"x\":[0.9277319196502233,-0.12536008250933575,-0.12107125297344493,-0.8232707716494212,0.0664355796174163,-1.0678908297985703,0.0771054637995535,-0.051419097373521905,0.8336144416442017,-0.235139942535916,0.17619034695555033,2.0262920079966684,1.9755131430698687,-0.9611065737485338,-0.15006797456552856,0.11044491010489915,-0.4376965493761567,-1.5631316393241954,0.1471186920291873,-1.1640011834330464,0.4258943442374219,1.2146088757256255,0.7735049289379338,0.7082704771945506,0.11701812225321552,-0.15847090018087553,1.0719554689341357,-0.46749993915361393,0.16249504661882275,0.7356303076485307,-0.47825963665381,0.5706434066808811,0.3426791200908702,-0.1134673865337506,-1.1581329453850489,-0.6121034811396447,1.2680418810575937,-1.0479312107585474,0.15348820995902268,0.514842534562817,0.49451618938625846,1.6208723713139663,-0.25548314383520526,0.5374303675035457,-0.582559486730231,0.3586512893294155,-0.47962465951319494,0.2647371692605464,-0.47771343959240603,-0.7017403951073233,-0.034630588932819464,1.6522890087900828,0.5581153890731325,1.2058044077410321,-0.49446560660305783,-0.6736574987752219,-1.4315440524134833,-1.3562113280827872,-0.806985630376175,0.04536848363326349,-1.4830070051596294,0.4549646595345361,-0.48559025918958065,0.4561273132929846,-0.9969847859936918,-0.017345009789463923,-0.45243254887684414,1.3526888226060534,0.24175626611159212,1.5767487666136768,-1.3789565966868544,0.24661436799681344,0.43095305560163444,-1.1287038083661936,1.0868511602946072,0.3097320823328397,0.5923187864201388,0.3578463427763317,-1.4342376241981762,0.1907973388784022,1.2935339400068324,-1.7901698150670595,-0.933527031679027,1.678288570633211,0.01884053700803777,0.5652059967893183,-1.5100447146004006,-0.14949401638016677,2.0300286353463854,-2.072940206901961,2.3421377329868496,1.4888237344503232,-2.0842945390943983,0.5537941026885076,0.5471328253270026,0.6234422409414835,0.7736632900800269,0.3957359267460818,-0.40036226897897575,0.396793570420886],\"xaxis\":\"x8\",\"y\":[-0.5756640459082741,0.5987981212644335,-0.7783665585217159,-0.09573196409819089,-0.14284747496470035,1.1566851064970056,0.14205945762224648,0.9925438822429384,-1.4205067005147545,-0.4243133975107277,0.2046316406674326,-0.8664033231860435,0.30018363681115173,0.7012726412626394,-0.5832744366644343,-1.9611912132619702,-1.2865690654113124,0.2805418321787577,0.5712498729810047,-0.6776239869439911,0.3316361158392233,-0.14461439325213005,-1.0410638673782593,-0.4080654043631619,-0.00631491901211208,0.654337983442778,0.04670538856144417,0.4891070888438266,-1.2277858127245984,-1.5325129450673443,1.2514271194867919,-0.6784529656249904,0.8507471393458212,0.3524385390065126,0.6553698989078516,-1.0598696128958636,-0.5655967775632145,1.1038885195167987,0.51412957783871,-1.03444943752192,-0.5231942655733847,-0.8380629336724287,1.903096658084694,0.4168137650785216,-0.4997398212243618,1.4029778201285397,0.8105226854959072,-1.7054169577749274,0.4605260705984755,-0.9824384505992422,-3.224746706249651,-0.6689949803255751,1.136152225459386,0.5680385123690971,0.7065628304892786,-0.42374809536258623,-0.8945591138218476,1.3206984539123967,-1.047728278006352,0.22476929272194288,-0.0009414573889848483,-0.01541225142410007,0.8263022924568258,0.42637279096367314,0.7989305066857885,-0.9789730984372811,-0.07071920797599111,-0.6115527255986463,-1.251525922052416,0.6676854765757444,1.9869694622253653,1.5658607072704804,-0.4186693946248924,-0.40628885793212743,1.5568244944045366,-0.7326242574894654,0.37958514924466513,-0.1783531218270007,-1.4160686077684221,0.4077861201653217,1.866778069209306,-1.0186822996845648,0.8993809357600041,-0.29568521043114,-0.47082542872155764,0.7282529986227604,0.06269962361015688,-0.3591244801120115,-0.28395660057604427,0.5295132537184689,-0.8352707178155664,0.3743707004534908,-0.31130372186525196,-0.7747932469996983,1.2259633383494222,-0.4464779411147586,0.996920839179652,0.20800829553317293,0.1858285403997541,-1.5192392350514088],\"yaxis\":\"y8\",\"type\":\"scatter\"},{\"line\":{\"color\":\"rgba(128, 128, 128, 1.0)\",\"dash\":\"solid\",\"shape\":\"linear\",\"width\":1.3},\"marker\":{\"size\":2,\"symbol\":\"circle\"},\"mode\":\"markers\",\"name\":\"C\",\"text\":\"\",\"x\":[-1.0520499660805134,-0.6395256708852439,-0.33434764741888273,-0.602102263802253,0.3275992110293282,-0.8517119727079342,0.4823647677292349,-0.6733753513218748,1.0663693192389487,-0.6674469283977741,-0.1555538710682971,0.982078463400281,0.5605995734508707,-1.5992430724659148,-0.4863413205475636,-1.635285837548092,1.3935076424093102,1.7941318056056335,0.5341913789906737,-0.9524975663306507,-0.4573351632944464,1.1177083797834142,-0.5706607672093532,0.7867354928231047,0.07981317429930133,-0.6349940715278921,1.5425662192838554,-0.6132422783945425,0.15544048184803386,0.9192445510904795,-1.7359719590500762,-1.9119274895922669,0.6944479962123283,0.3532145001978853,-1.0600796071503271,-0.5334678844301335,-0.6394875240041487,0.3128946201121304,0.016069119234565766,-1.5744316004386434,0.7344487377210069,0.7193287039929793,0.4812823931213064,-0.24678614971224266,-0.2905274885290895,-0.1003666244799347,0.2183659952290479,-2.319740663802171,-0.6745518951897882,0.29578338730627296,0.027684720711771665,0.6195480439047139,0.6876980075689124,-1.1798993200458125,1.1244893859000014,0.5280412892103941,-0.6001297370928859,-0.027008110814554072,-0.2748635223706462,1.4138169456342016,-0.9151732693883676,-0.4134435108103696,0.9255576517778622,0.860868531480433,1.758016656113904,1.6783618939930056,0.06869043899424485,0.6937178925305963,-0.8760537876530695,0.9102278415320038,0.7191692678149171,-0.4913169243308279,1.2337987142169284,0.7956878705772449,1.371542963623464,-1.343501561614963,1.0118949910662463,1.1658612878341348,-0.6928552283460352,-0.4687295487764381,-0.8757314396497151,-0.3643879992119797,0.811605819362338,-0.42095946538411305,-0.9898935045710047,0.7334033677693634,-0.19290472361161884,1.8143264562579273,0.8281944946575908,0.4854377119690578,0.5615674241389551,0.30512951708273917,-0.2966780672407173,2.3797154891776886,1.4080321570020835,-1.03463191031649,-1.941093118397556,-0.5620252053886859,-0.7270510460295249,0.10178198219108311],\"xaxis\":\"x9\",\"y\":[-0.5819334923709587,-0.20535185346047247,0.46495722193269035,1.0070083228749713,-1.9374996309320467,-1.8541871881835001,-0.848496434101706,0.45974409273358985,-0.42962749274340156,0.7692492026076733,0.6928099983210566,-0.06208913376574852,-1.0053623155890632,0.007044029659171979,-0.6959485236317551,0.16773342407984793,0.4414972998112349,1.1882019964628374,-0.19853533442373375,0.3267154299617585,0.26714306155641165,-0.8955268783525614,-0.27288703912797035,0.39275060553488506,0.7115752608323191,0.7739850163751817,0.1775505555193976,-0.6086922158505274,-0.6294228912057446,-0.3894360632509466,-1.2076184402578136,3.0053123500080563,-1.5754072359244329,0.9081520007417977,0.41550855556638033,-0.8513454002492441,-1.1326100992100343,1.0146364521051245,0.3499554555995428,-0.18271749072119908,-1.3828375182730765,0.06925941812907539,-0.19944910235226446,0.28659471060857167,0.431064112970978,0.44260910684426763,1.2723582047994717,0.15314586765388086,-0.9177936069592793,0.3872575875906056,1.353121625137218,-0.854219028152435,0.6594533648064694,0.3192636945692223,-1.1155131217634007,-2.1766829042957143,-0.3998026993553559,0.10033839956286841,0.0015704263412207665,0.7967668240914113,0.4700248884500916,0.6766821536944682,-0.7350572401590547,1.663609236900145,-1.4250134126719334,-0.722653969919067,-0.61533551687048,-1.248779331333013,0.12473013029526318,-1.5055610854030745,-1.169929557726273,0.49176966267461564,-0.43076836408784097,-0.5615642090678576,-1.0749653716673913,0.14688846542818107,0.6169536007402349,0.34337017267739983,-0.21718300793707138,-0.3725730120890333,0.1631074630424868,-1.6531956150206424,-0.7909997606036744,-2.477105350291788,1.416172153010682,-0.058421198865491235,-0.9317774772046867,1.78265714700381,-0.9900013276270953,1.5728132878672307,1.1325937740258523,-1.1199356407596541,2.379674994438924,2.080399997501075,-0.6534166903005675,0.4672977861022814,0.8744911814364437,-1.6692849310609135,-1.7115761965081926,0.3828922611526809],\"yaxis\":\"y9\",\"type\":\"scatter\"},{\"line\":{\"color\":\"rgba(128, 128, 128, 1.0)\",\"dash\":\"solid\",\"shape\":\"linear\",\"width\":1.3},\"marker\":{\"size\":2,\"symbol\":\"circle\"},\"mode\":\"markers\",\"name\":\"C\",\"text\":\"\",\"x\":[-0.5756640459082741,0.5987981212644335,-0.7783665585217159,-0.09573196409819089,-0.14284747496470035,1.1566851064970056,0.14205945762224648,0.9925438822429384,-1.4205067005147545,-0.4243133975107277,0.2046316406674326,-0.8664033231860435,0.30018363681115173,0.7012726412626394,-0.5832744366644343,-1.9611912132619702,-1.2865690654113124,0.2805418321787577,0.5712498729810047,-0.6776239869439911,0.3316361158392233,-0.14461439325213005,-1.0410638673782593,-0.4080654043631619,-0.00631491901211208,0.654337983442778,0.04670538856144417,0.4891070888438266,-1.2277858127245984,-1.5325129450673443,1.2514271194867919,-0.6784529656249904,0.8507471393458212,0.3524385390065126,0.6553698989078516,-1.0598696128958636,-0.5655967775632145,1.1038885195167987,0.51412957783871,-1.03444943752192,-0.5231942655733847,-0.8380629336724287,1.903096658084694,0.4168137650785216,-0.4997398212243618,1.4029778201285397,0.8105226854959072,-1.7054169577749274,0.4605260705984755,-0.9824384505992422,-3.224746706249651,-0.6689949803255751,1.136152225459386,0.5680385123690971,0.7065628304892786,-0.42374809536258623,-0.8945591138218476,1.3206984539123967,-1.047728278006352,0.22476929272194288,-0.0009414573889848483,-0.01541225142410007,0.8263022924568258,0.42637279096367314,0.7989305066857885,-0.9789730984372811,-0.07071920797599111,-0.6115527255986463,-1.251525922052416,0.6676854765757444,1.9869694622253653,1.5658607072704804,-0.4186693946248924,-0.40628885793212743,1.5568244944045366,-0.7326242574894654,0.37958514924466513,-0.1783531218270007,-1.4160686077684221,0.4077861201653217,1.866778069209306,-1.0186822996845648,0.8993809357600041,-0.29568521043114,-0.47082542872155764,0.7282529986227604,0.06269962361015688,-0.3591244801120115,-0.28395660057604427,0.5295132537184689,-0.8352707178155664,0.3743707004534908,-0.31130372186525196,-0.7747932469996983,1.2259633383494222,-0.4464779411147586,0.996920839179652,0.20800829553317293,0.1858285403997541,-1.5192392350514088],\"xaxis\":\"x10\",\"y\":[-0.5819334923709587,-0.20535185346047247,0.46495722193269035,1.0070083228749713,-1.9374996309320467,-1.8541871881835001,-0.848496434101706,0.45974409273358985,-0.42962749274340156,0.7692492026076733,0.6928099983210566,-0.06208913376574852,-1.0053623155890632,0.007044029659171979,-0.6959485236317551,0.16773342407984793,0.4414972998112349,1.1882019964628374,-0.19853533442373375,0.3267154299617585,0.26714306155641165,-0.8955268783525614,-0.27288703912797035,0.39275060553488506,0.7115752608323191,0.7739850163751817,0.1775505555193976,-0.6086922158505274,-0.6294228912057446,-0.3894360632509466,-1.2076184402578136,3.0053123500080563,-1.5754072359244329,0.9081520007417977,0.41550855556638033,-0.8513454002492441,-1.1326100992100343,1.0146364521051245,0.3499554555995428,-0.18271749072119908,-1.3828375182730765,0.06925941812907539,-0.19944910235226446,0.28659471060857167,0.431064112970978,0.44260910684426763,1.2723582047994717,0.15314586765388086,-0.9177936069592793,0.3872575875906056,1.353121625137218,-0.854219028152435,0.6594533648064694,0.3192636945692223,-1.1155131217634007,-2.1766829042957143,-0.3998026993553559,0.10033839956286841,0.0015704263412207665,0.7967668240914113,0.4700248884500916,0.6766821536944682,-0.7350572401590547,1.663609236900145,-1.4250134126719334,-0.722653969919067,-0.61533551687048,-1.248779331333013,0.12473013029526318,-1.5055610854030745,-1.169929557726273,0.49176966267461564,-0.43076836408784097,-0.5615642090678576,-1.0749653716673913,0.14688846542818107,0.6169536007402349,0.34337017267739983,-0.21718300793707138,-0.3725730120890333,0.1631074630424868,-1.6531956150206424,-0.7909997606036744,-2.477105350291788,1.416172153010682,-0.058421198865491235,-0.9317774772046867,1.78265714700381,-0.9900013276270953,1.5728132878672307,1.1325937740258523,-1.1199356407596541,2.379674994438924,2.080399997501075,-0.6534166903005675,0.4672977861022814,0.8744911814364437,-1.6692849310609135,-1.7115761965081926,0.3828922611526809],\"yaxis\":\"y10\",\"type\":\"scatter\"},{\"histfunc\":\"count\",\"histnorm\":\"\",\"marker\":{\"color\":\"rgba(50, 171, 96, 1.0)\",\"line\":{\"color\":\"#4D5663\",\"width\":1.3}},\"name\":\"C\",\"nbinsx\":10,\"opacity\":0.8,\"orientation\":\"v\",\"x\":[-0.5819334923709587,-0.20535185346047247,0.46495722193269035,1.0070083228749713,-1.9374996309320467,-1.8541871881835001,-0.848496434101706,0.45974409273358985,-0.42962749274340156,0.7692492026076733,0.6928099983210566,-0.06208913376574852,-1.0053623155890632,0.007044029659171979,-0.6959485236317551,0.16773342407984793,0.4414972998112349,1.1882019964628374,-0.19853533442373375,0.3267154299617585,0.26714306155641165,-0.8955268783525614,-0.27288703912797035,0.39275060553488506,0.7115752608323191,0.7739850163751817,0.1775505555193976,-0.6086922158505274,-0.6294228912057446,-0.3894360632509466,-1.2076184402578136,3.0053123500080563,-1.5754072359244329,0.9081520007417977,0.41550855556638033,-0.8513454002492441,-1.1326100992100343,1.0146364521051245,0.3499554555995428,-0.18271749072119908,-1.3828375182730765,0.06925941812907539,-0.19944910235226446,0.28659471060857167,0.431064112970978,0.44260910684426763,1.2723582047994717,0.15314586765388086,-0.9177936069592793,0.3872575875906056,1.353121625137218,-0.854219028152435,0.6594533648064694,0.3192636945692223,-1.1155131217634007,-2.1766829042957143,-0.3998026993553559,0.10033839956286841,0.0015704263412207665,0.7967668240914113,0.4700248884500916,0.6766821536944682,-0.7350572401590547,1.663609236900145,-1.4250134126719334,-0.722653969919067,-0.61533551687048,-1.248779331333013,0.12473013029526318,-1.5055610854030745,-1.169929557726273,0.49176966267461564,-0.43076836408784097,-0.5615642090678576,-1.0749653716673913,0.14688846542818107,0.6169536007402349,0.34337017267739983,-0.21718300793707138,-0.3725730120890333,0.1631074630424868,-1.6531956150206424,-0.7909997606036744,-2.477105350291788,1.416172153010682,-0.058421198865491235,-0.9317774772046867,1.78265714700381,-0.9900013276270953,1.5728132878672307,1.1325937740258523,-1.1199356407596541,2.379674994438924,2.080399997501075,-0.6534166903005675,0.4672977861022814,0.8744911814364437,-1.6692849310609135,-1.7115761965081926,0.3828922611526809],\"xaxis\":\"x11\",\"yaxis\":\"y11\",\"type\":\"histogram\"},{\"line\":{\"color\":\"rgba(128, 128, 128, 1.0)\",\"dash\":\"solid\",\"shape\":\"linear\",\"width\":1.3},\"marker\":{\"size\":2,\"symbol\":\"circle\"},\"mode\":\"markers\",\"name\":\"C\",\"text\":\"\",\"x\":[0.9277319196502233,-0.12536008250933575,-0.12107125297344493,-0.8232707716494212,0.0664355796174163,-1.0678908297985703,0.0771054637995535,-0.051419097373521905,0.8336144416442017,-0.235139942535916,0.17619034695555033,2.0262920079966684,1.9755131430698687,-0.9611065737485338,-0.15006797456552856,0.11044491010489915,-0.4376965493761567,-1.5631316393241954,0.1471186920291873,-1.1640011834330464,0.4258943442374219,1.2146088757256255,0.7735049289379338,0.7082704771945506,0.11701812225321552,-0.15847090018087553,1.0719554689341357,-0.46749993915361393,0.16249504661882275,0.7356303076485307,-0.47825963665381,0.5706434066808811,0.3426791200908702,-0.1134673865337506,-1.1581329453850489,-0.6121034811396447,1.2680418810575937,-1.0479312107585474,0.15348820995902268,0.514842534562817,0.49451618938625846,1.6208723713139663,-0.25548314383520526,0.5374303675035457,-0.582559486730231,0.3586512893294155,-0.47962465951319494,0.2647371692605464,-0.47771343959240603,-0.7017403951073233,-0.034630588932819464,1.6522890087900828,0.5581153890731325,1.2058044077410321,-0.49446560660305783,-0.6736574987752219,-1.4315440524134833,-1.3562113280827872,-0.806985630376175,0.04536848363326349,-1.4830070051596294,0.4549646595345361,-0.48559025918958065,0.4561273132929846,-0.9969847859936918,-0.017345009789463923,-0.45243254887684414,1.3526888226060534,0.24175626611159212,1.5767487666136768,-1.3789565966868544,0.24661436799681344,0.43095305560163444,-1.1287038083661936,1.0868511602946072,0.3097320823328397,0.5923187864201388,0.3578463427763317,-1.4342376241981762,0.1907973388784022,1.2935339400068324,-1.7901698150670595,-0.933527031679027,1.678288570633211,0.01884053700803777,0.5652059967893183,-1.5100447146004006,-0.14949401638016677,2.0300286353463854,-2.072940206901961,2.3421377329868496,1.4888237344503232,-2.0842945390943983,0.5537941026885076,0.5471328253270026,0.6234422409414835,0.7736632900800269,0.3957359267460818,-0.40036226897897575,0.396793570420886],\"xaxis\":\"x12\",\"y\":[-0.5819334923709587,-0.20535185346047247,0.46495722193269035,1.0070083228749713,-1.9374996309320467,-1.8541871881835001,-0.848496434101706,0.45974409273358985,-0.42962749274340156,0.7692492026076733,0.6928099983210566,-0.06208913376574852,-1.0053623155890632,0.007044029659171979,-0.6959485236317551,0.16773342407984793,0.4414972998112349,1.1882019964628374,-0.19853533442373375,0.3267154299617585,0.26714306155641165,-0.8955268783525614,-0.27288703912797035,0.39275060553488506,0.7115752608323191,0.7739850163751817,0.1775505555193976,-0.6086922158505274,-0.6294228912057446,-0.3894360632509466,-1.2076184402578136,3.0053123500080563,-1.5754072359244329,0.9081520007417977,0.41550855556638033,-0.8513454002492441,-1.1326100992100343,1.0146364521051245,0.3499554555995428,-0.18271749072119908,-1.3828375182730765,0.06925941812907539,-0.19944910235226446,0.28659471060857167,0.431064112970978,0.44260910684426763,1.2723582047994717,0.15314586765388086,-0.9177936069592793,0.3872575875906056,1.353121625137218,-0.854219028152435,0.6594533648064694,0.3192636945692223,-1.1155131217634007,-2.1766829042957143,-0.3998026993553559,0.10033839956286841,0.0015704263412207665,0.7967668240914113,0.4700248884500916,0.6766821536944682,-0.7350572401590547,1.663609236900145,-1.4250134126719334,-0.722653969919067,-0.61533551687048,-1.248779331333013,0.12473013029526318,-1.5055610854030745,-1.169929557726273,0.49176966267461564,-0.43076836408784097,-0.5615642090678576,-1.0749653716673913,0.14688846542818107,0.6169536007402349,0.34337017267739983,-0.21718300793707138,-0.3725730120890333,0.1631074630424868,-1.6531956150206424,-0.7909997606036744,-2.477105350291788,1.416172153010682,-0.058421198865491235,-0.9317774772046867,1.78265714700381,-0.9900013276270953,1.5728132878672307,1.1325937740258523,-1.1199356407596541,2.379674994438924,2.080399997501075,-0.6534166903005675,0.4672977861022814,0.8744911814364437,-1.6692849310609135,-1.7115761965081926,0.3828922611526809],\"yaxis\":\"y12\",\"type\":\"scatter\"},{\"line\":{\"color\":\"rgba(128, 128, 128, 1.0)\",\"dash\":\"solid\",\"shape\":\"linear\",\"width\":1.3},\"marker\":{\"size\":2,\"symbol\":\"circle\"},\"mode\":\"markers\",\"name\":\"D\",\"text\":\"\",\"x\":[-1.0520499660805134,-0.6395256708852439,-0.33434764741888273,-0.602102263802253,0.3275992110293282,-0.8517119727079342,0.4823647677292349,-0.6733753513218748,1.0663693192389487,-0.6674469283977741,-0.1555538710682971,0.982078463400281,0.5605995734508707,-1.5992430724659148,-0.4863413205475636,-1.635285837548092,1.3935076424093102,1.7941318056056335,0.5341913789906737,-0.9524975663306507,-0.4573351632944464,1.1177083797834142,-0.5706607672093532,0.7867354928231047,0.07981317429930133,-0.6349940715278921,1.5425662192838554,-0.6132422783945425,0.15544048184803386,0.9192445510904795,-1.7359719590500762,-1.9119274895922669,0.6944479962123283,0.3532145001978853,-1.0600796071503271,-0.5334678844301335,-0.6394875240041487,0.3128946201121304,0.016069119234565766,-1.5744316004386434,0.7344487377210069,0.7193287039929793,0.4812823931213064,-0.24678614971224266,-0.2905274885290895,-0.1003666244799347,0.2183659952290479,-2.319740663802171,-0.6745518951897882,0.29578338730627296,0.027684720711771665,0.6195480439047139,0.6876980075689124,-1.1798993200458125,1.1244893859000014,0.5280412892103941,-0.6001297370928859,-0.027008110814554072,-0.2748635223706462,1.4138169456342016,-0.9151732693883676,-0.4134435108103696,0.9255576517778622,0.860868531480433,1.758016656113904,1.6783618939930056,0.06869043899424485,0.6937178925305963,-0.8760537876530695,0.9102278415320038,0.7191692678149171,-0.4913169243308279,1.2337987142169284,0.7956878705772449,1.371542963623464,-1.343501561614963,1.0118949910662463,1.1658612878341348,-0.6928552283460352,-0.4687295487764381,-0.8757314396497151,-0.3643879992119797,0.811605819362338,-0.42095946538411305,-0.9898935045710047,0.7334033677693634,-0.19290472361161884,1.8143264562579273,0.8281944946575908,0.4854377119690578,0.5615674241389551,0.30512951708273917,-0.2966780672407173,2.3797154891776886,1.4080321570020835,-1.03463191031649,-1.941093118397556,-0.5620252053886859,-0.7270510460295249,0.10178198219108311],\"xaxis\":\"x13\",\"y\":[0.9277319196502233,-0.12536008250933575,-0.12107125297344493,-0.8232707716494212,0.0664355796174163,-1.0678908297985703,0.0771054637995535,-0.051419097373521905,0.8336144416442017,-0.235139942535916,0.17619034695555033,2.0262920079966684,1.9755131430698687,-0.9611065737485338,-0.15006797456552856,0.11044491010489915,-0.4376965493761567,-1.5631316393241954,0.1471186920291873,-1.1640011834330464,0.4258943442374219,1.2146088757256255,0.7735049289379338,0.7082704771945506,0.11701812225321552,-0.15847090018087553,1.0719554689341357,-0.46749993915361393,0.16249504661882275,0.7356303076485307,-0.47825963665381,0.5706434066808811,0.3426791200908702,-0.1134673865337506,-1.1581329453850489,-0.6121034811396447,1.2680418810575937,-1.0479312107585474,0.15348820995902268,0.514842534562817,0.49451618938625846,1.6208723713139663,-0.25548314383520526,0.5374303675035457,-0.582559486730231,0.3586512893294155,-0.47962465951319494,0.2647371692605464,-0.47771343959240603,-0.7017403951073233,-0.034630588932819464,1.6522890087900828,0.5581153890731325,1.2058044077410321,-0.49446560660305783,-0.6736574987752219,-1.4315440524134833,-1.3562113280827872,-0.806985630376175,0.04536848363326349,-1.4830070051596294,0.4549646595345361,-0.48559025918958065,0.4561273132929846,-0.9969847859936918,-0.017345009789463923,-0.45243254887684414,1.3526888226060534,0.24175626611159212,1.5767487666136768,-1.3789565966868544,0.24661436799681344,0.43095305560163444,-1.1287038083661936,1.0868511602946072,0.3097320823328397,0.5923187864201388,0.3578463427763317,-1.4342376241981762,0.1907973388784022,1.2935339400068324,-1.7901698150670595,-0.933527031679027,1.678288570633211,0.01884053700803777,0.5652059967893183,-1.5100447146004006,-0.14949401638016677,2.0300286353463854,-2.072940206901961,2.3421377329868496,1.4888237344503232,-2.0842945390943983,0.5537941026885076,0.5471328253270026,0.6234422409414835,0.7736632900800269,0.3957359267460818,-0.40036226897897575,0.396793570420886],\"yaxis\":\"y13\",\"type\":\"scatter\"},{\"line\":{\"color\":\"rgba(128, 128, 128, 1.0)\",\"dash\":\"solid\",\"shape\":\"linear\",\"width\":1.3},\"marker\":{\"size\":2,\"symbol\":\"circle\"},\"mode\":\"markers\",\"name\":\"D\",\"text\":\"\",\"x\":[-0.5756640459082741,0.5987981212644335,-0.7783665585217159,-0.09573196409819089,-0.14284747496470035,1.1566851064970056,0.14205945762224648,0.9925438822429384,-1.4205067005147545,-0.4243133975107277,0.2046316406674326,-0.8664033231860435,0.30018363681115173,0.7012726412626394,-0.5832744366644343,-1.9611912132619702,-1.2865690654113124,0.2805418321787577,0.5712498729810047,-0.6776239869439911,0.3316361158392233,-0.14461439325213005,-1.0410638673782593,-0.4080654043631619,-0.00631491901211208,0.654337983442778,0.04670538856144417,0.4891070888438266,-1.2277858127245984,-1.5325129450673443,1.2514271194867919,-0.6784529656249904,0.8507471393458212,0.3524385390065126,0.6553698989078516,-1.0598696128958636,-0.5655967775632145,1.1038885195167987,0.51412957783871,-1.03444943752192,-0.5231942655733847,-0.8380629336724287,1.903096658084694,0.4168137650785216,-0.4997398212243618,1.4029778201285397,0.8105226854959072,-1.7054169577749274,0.4605260705984755,-0.9824384505992422,-3.224746706249651,-0.6689949803255751,1.136152225459386,0.5680385123690971,0.7065628304892786,-0.42374809536258623,-0.8945591138218476,1.3206984539123967,-1.047728278006352,0.22476929272194288,-0.0009414573889848483,-0.01541225142410007,0.8263022924568258,0.42637279096367314,0.7989305066857885,-0.9789730984372811,-0.07071920797599111,-0.6115527255986463,-1.251525922052416,0.6676854765757444,1.9869694622253653,1.5658607072704804,-0.4186693946248924,-0.40628885793212743,1.5568244944045366,-0.7326242574894654,0.37958514924466513,-0.1783531218270007,-1.4160686077684221,0.4077861201653217,1.866778069209306,-1.0186822996845648,0.8993809357600041,-0.29568521043114,-0.47082542872155764,0.7282529986227604,0.06269962361015688,-0.3591244801120115,-0.28395660057604427,0.5295132537184689,-0.8352707178155664,0.3743707004534908,-0.31130372186525196,-0.7747932469996983,1.2259633383494222,-0.4464779411147586,0.996920839179652,0.20800829553317293,0.1858285403997541,-1.5192392350514088],\"xaxis\":\"x14\",\"y\":[0.9277319196502233,-0.12536008250933575,-0.12107125297344493,-0.8232707716494212,0.0664355796174163,-1.0678908297985703,0.0771054637995535,-0.051419097373521905,0.8336144416442017,-0.235139942535916,0.17619034695555033,2.0262920079966684,1.9755131430698687,-0.9611065737485338,-0.15006797456552856,0.11044491010489915,-0.4376965493761567,-1.5631316393241954,0.1471186920291873,-1.1640011834330464,0.4258943442374219,1.2146088757256255,0.7735049289379338,0.7082704771945506,0.11701812225321552,-0.15847090018087553,1.0719554689341357,-0.46749993915361393,0.16249504661882275,0.7356303076485307,-0.47825963665381,0.5706434066808811,0.3426791200908702,-0.1134673865337506,-1.1581329453850489,-0.6121034811396447,1.2680418810575937,-1.0479312107585474,0.15348820995902268,0.514842534562817,0.49451618938625846,1.6208723713139663,-0.25548314383520526,0.5374303675035457,-0.582559486730231,0.3586512893294155,-0.47962465951319494,0.2647371692605464,-0.47771343959240603,-0.7017403951073233,-0.034630588932819464,1.6522890087900828,0.5581153890731325,1.2058044077410321,-0.49446560660305783,-0.6736574987752219,-1.4315440524134833,-1.3562113280827872,-0.806985630376175,0.04536848363326349,-1.4830070051596294,0.4549646595345361,-0.48559025918958065,0.4561273132929846,-0.9969847859936918,-0.017345009789463923,-0.45243254887684414,1.3526888226060534,0.24175626611159212,1.5767487666136768,-1.3789565966868544,0.24661436799681344,0.43095305560163444,-1.1287038083661936,1.0868511602946072,0.3097320823328397,0.5923187864201388,0.3578463427763317,-1.4342376241981762,0.1907973388784022,1.2935339400068324,-1.7901698150670595,-0.933527031679027,1.678288570633211,0.01884053700803777,0.5652059967893183,-1.5100447146004006,-0.14949401638016677,2.0300286353463854,-2.072940206901961,2.3421377329868496,1.4888237344503232,-2.0842945390943983,0.5537941026885076,0.5471328253270026,0.6234422409414835,0.7736632900800269,0.3957359267460818,-0.40036226897897575,0.396793570420886],\"yaxis\":\"y14\",\"type\":\"scatter\"},{\"line\":{\"color\":\"rgba(128, 128, 128, 1.0)\",\"dash\":\"solid\",\"shape\":\"linear\",\"width\":1.3},\"marker\":{\"size\":2,\"symbol\":\"circle\"},\"mode\":\"markers\",\"name\":\"D\",\"text\":\"\",\"x\":[-0.5819334923709587,-0.20535185346047247,0.46495722193269035,1.0070083228749713,-1.9374996309320467,-1.8541871881835001,-0.848496434101706,0.45974409273358985,-0.42962749274340156,0.7692492026076733,0.6928099983210566,-0.06208913376574852,-1.0053623155890632,0.007044029659171979,-0.6959485236317551,0.16773342407984793,0.4414972998112349,1.1882019964628374,-0.19853533442373375,0.3267154299617585,0.26714306155641165,-0.8955268783525614,-0.27288703912797035,0.39275060553488506,0.7115752608323191,0.7739850163751817,0.1775505555193976,-0.6086922158505274,-0.6294228912057446,-0.3894360632509466,-1.2076184402578136,3.0053123500080563,-1.5754072359244329,0.9081520007417977,0.41550855556638033,-0.8513454002492441,-1.1326100992100343,1.0146364521051245,0.3499554555995428,-0.18271749072119908,-1.3828375182730765,0.06925941812907539,-0.19944910235226446,0.28659471060857167,0.431064112970978,0.44260910684426763,1.2723582047994717,0.15314586765388086,-0.9177936069592793,0.3872575875906056,1.353121625137218,-0.854219028152435,0.6594533648064694,0.3192636945692223,-1.1155131217634007,-2.1766829042957143,-0.3998026993553559,0.10033839956286841,0.0015704263412207665,0.7967668240914113,0.4700248884500916,0.6766821536944682,-0.7350572401590547,1.663609236900145,-1.4250134126719334,-0.722653969919067,-0.61533551687048,-1.248779331333013,0.12473013029526318,-1.5055610854030745,-1.169929557726273,0.49176966267461564,-0.43076836408784097,-0.5615642090678576,-1.0749653716673913,0.14688846542818107,0.6169536007402349,0.34337017267739983,-0.21718300793707138,-0.3725730120890333,0.1631074630424868,-1.6531956150206424,-0.7909997606036744,-2.477105350291788,1.416172153010682,-0.058421198865491235,-0.9317774772046867,1.78265714700381,-0.9900013276270953,1.5728132878672307,1.1325937740258523,-1.1199356407596541,2.379674994438924,2.080399997501075,-0.6534166903005675,0.4672977861022814,0.8744911814364437,-1.6692849310609135,-1.7115761965081926,0.3828922611526809],\"xaxis\":\"x15\",\"y\":[0.9277319196502233,-0.12536008250933575,-0.12107125297344493,-0.8232707716494212,0.0664355796174163,-1.0678908297985703,0.0771054637995535,-0.051419097373521905,0.8336144416442017,-0.235139942535916,0.17619034695555033,2.0262920079966684,1.9755131430698687,-0.9611065737485338,-0.15006797456552856,0.11044491010489915,-0.4376965493761567,-1.5631316393241954,0.1471186920291873,-1.1640011834330464,0.4258943442374219,1.2146088757256255,0.7735049289379338,0.7082704771945506,0.11701812225321552,-0.15847090018087553,1.0719554689341357,-0.46749993915361393,0.16249504661882275,0.7356303076485307,-0.47825963665381,0.5706434066808811,0.3426791200908702,-0.1134673865337506,-1.1581329453850489,-0.6121034811396447,1.2680418810575937,-1.0479312107585474,0.15348820995902268,0.514842534562817,0.49451618938625846,1.6208723713139663,-0.25548314383520526,0.5374303675035457,-0.582559486730231,0.3586512893294155,-0.47962465951319494,0.2647371692605464,-0.47771343959240603,-0.7017403951073233,-0.034630588932819464,1.6522890087900828,0.5581153890731325,1.2058044077410321,-0.49446560660305783,-0.6736574987752219,-1.4315440524134833,-1.3562113280827872,-0.806985630376175,0.04536848363326349,-1.4830070051596294,0.4549646595345361,-0.48559025918958065,0.4561273132929846,-0.9969847859936918,-0.017345009789463923,-0.45243254887684414,1.3526888226060534,0.24175626611159212,1.5767487666136768,-1.3789565966868544,0.24661436799681344,0.43095305560163444,-1.1287038083661936,1.0868511602946072,0.3097320823328397,0.5923187864201388,0.3578463427763317,-1.4342376241981762,0.1907973388784022,1.2935339400068324,-1.7901698150670595,-0.933527031679027,1.678288570633211,0.01884053700803777,0.5652059967893183,-1.5100447146004006,-0.14949401638016677,2.0300286353463854,-2.072940206901961,2.3421377329868496,1.4888237344503232,-2.0842945390943983,0.5537941026885076,0.5471328253270026,0.6234422409414835,0.7736632900800269,0.3957359267460818,-0.40036226897897575,0.396793570420886],\"yaxis\":\"y15\",\"type\":\"scatter\"},{\"histfunc\":\"count\",\"histnorm\":\"\",\"marker\":{\"color\":\"rgba(128, 0, 128, 1.0)\",\"line\":{\"color\":\"#4D5663\",\"width\":1.3}},\"name\":\"D\",\"nbinsx\":10,\"opacity\":0.8,\"orientation\":\"v\",\"x\":[0.9277319196502233,-0.12536008250933575,-0.12107125297344493,-0.8232707716494212,0.0664355796174163,-1.0678908297985703,0.0771054637995535,-0.051419097373521905,0.8336144416442017,-0.235139942535916,0.17619034695555033,2.0262920079966684,1.9755131430698687,-0.9611065737485338,-0.15006797456552856,0.11044491010489915,-0.4376965493761567,-1.5631316393241954,0.1471186920291873,-1.1640011834330464,0.4258943442374219,1.2146088757256255,0.7735049289379338,0.7082704771945506,0.11701812225321552,-0.15847090018087553,1.0719554689341357,-0.46749993915361393,0.16249504661882275,0.7356303076485307,-0.47825963665381,0.5706434066808811,0.3426791200908702,-0.1134673865337506,-1.1581329453850489,-0.6121034811396447,1.2680418810575937,-1.0479312107585474,0.15348820995902268,0.514842534562817,0.49451618938625846,1.6208723713139663,-0.25548314383520526,0.5374303675035457,-0.582559486730231,0.3586512893294155,-0.47962465951319494,0.2647371692605464,-0.47771343959240603,-0.7017403951073233,-0.034630588932819464,1.6522890087900828,0.5581153890731325,1.2058044077410321,-0.49446560660305783,-0.6736574987752219,-1.4315440524134833,-1.3562113280827872,-0.806985630376175,0.04536848363326349,-1.4830070051596294,0.4549646595345361,-0.48559025918958065,0.4561273132929846,-0.9969847859936918,-0.017345009789463923,-0.45243254887684414,1.3526888226060534,0.24175626611159212,1.5767487666136768,-1.3789565966868544,0.24661436799681344,0.43095305560163444,-1.1287038083661936,1.0868511602946072,0.3097320823328397,0.5923187864201388,0.3578463427763317,-1.4342376241981762,0.1907973388784022,1.2935339400068324,-1.7901698150670595,-0.933527031679027,1.678288570633211,0.01884053700803777,0.5652059967893183,-1.5100447146004006,-0.14949401638016677,2.0300286353463854,-2.072940206901961,2.3421377329868496,1.4888237344503232,-2.0842945390943983,0.5537941026885076,0.5471328253270026,0.6234422409414835,0.7736632900800269,0.3957359267460818,-0.40036226897897575,0.396793570420886],\"xaxis\":\"x16\",\"yaxis\":\"y16\",\"type\":\"histogram\"}],                        {\"bargap\":0.02,\"legend\":{\"bgcolor\":\"#F5F6F9\",\"font\":{\"color\":\"#4D5663\"}},\"paper_bgcolor\":\"#F5F6F9\",\"plot_bgcolor\":\"#F5F6F9\",\"showlegend\":false,\"template\":{\"data\":{\"barpolar\":[{\"marker\":{\"line\":{\"color\":\"#E5ECF6\",\"width\":0.5},\"pattern\":{\"fillmode\":\"overlay\",\"size\":10,\"solidity\":0.2}},\"type\":\"barpolar\"}],\"bar\":[{\"error_x\":{\"color\":\"#2a3f5f\"},\"error_y\":{\"color\":\"#2a3f5f\"},\"marker\":{\"line\":{\"color\":\"#E5ECF6\",\"width\":0.5},\"pattern\":{\"fillmode\":\"overlay\",\"size\":10,\"solidity\":0.2}},\"type\":\"bar\"}],\"carpet\":[{\"aaxis\":{\"endlinecolor\":\"#2a3f5f\",\"gridcolor\":\"white\",\"linecolor\":\"white\",\"minorgridcolor\":\"white\",\"startlinecolor\":\"#2a3f5f\"},\"baxis\":{\"endlinecolor\":\"#2a3f5f\",\"gridcolor\":\"white\",\"linecolor\":\"white\",\"minorgridcolor\":\"white\",\"startlinecolor\":\"#2a3f5f\"},\"type\":\"carpet\"}],\"choropleth\":[{\"colorbar\":{\"outlinewidth\":0,\"ticks\":\"\"},\"type\":\"choropleth\"}],\"contourcarpet\":[{\"colorbar\":{\"outlinewidth\":0,\"ticks\":\"\"},\"type\":\"contourcarpet\"}],\"contour\":[{\"colorbar\":{\"outlinewidth\":0,\"ticks\":\"\"},\"colorscale\":[[0.0,\"#0d0887\"],[0.1111111111111111,\"#46039f\"],[0.2222222222222222,\"#7201a8\"],[0.3333333333333333,\"#9c179e\"],[0.4444444444444444,\"#bd3786\"],[0.5555555555555556,\"#d8576b\"],[0.6666666666666666,\"#ed7953\"],[0.7777777777777778,\"#fb9f3a\"],[0.8888888888888888,\"#fdca26\"],[1.0,\"#f0f921\"]],\"type\":\"contour\"}],\"heatmapgl\":[{\"colorbar\":{\"outlinewidth\":0,\"ticks\":\"\"},\"colorscale\":[[0.0,\"#0d0887\"],[0.1111111111111111,\"#46039f\"],[0.2222222222222222,\"#7201a8\"],[0.3333333333333333,\"#9c179e\"],[0.4444444444444444,\"#bd3786\"],[0.5555555555555556,\"#d8576b\"],[0.6666666666666666,\"#ed7953\"],[0.7777777777777778,\"#fb9f3a\"],[0.8888888888888888,\"#fdca26\"],[1.0,\"#f0f921\"]],\"type\":\"heatmapgl\"}],\"heatmap\":[{\"colorbar\":{\"outlinewidth\":0,\"ticks\":\"\"},\"colorscale\":[[0.0,\"#0d0887\"],[0.1111111111111111,\"#46039f\"],[0.2222222222222222,\"#7201a8\"],[0.3333333333333333,\"#9c179e\"],[0.4444444444444444,\"#bd3786\"],[0.5555555555555556,\"#d8576b\"],[0.6666666666666666,\"#ed7953\"],[0.7777777777777778,\"#fb9f3a\"],[0.8888888888888888,\"#fdca26\"],[1.0,\"#f0f921\"]],\"type\":\"heatmap\"}],\"histogram2dcontour\":[{\"colorbar\":{\"outlinewidth\":0,\"ticks\":\"\"},\"colorscale\":[[0.0,\"#0d0887\"],[0.1111111111111111,\"#46039f\"],[0.2222222222222222,\"#7201a8\"],[0.3333333333333333,\"#9c179e\"],[0.4444444444444444,\"#bd3786\"],[0.5555555555555556,\"#d8576b\"],[0.6666666666666666,\"#ed7953\"],[0.7777777777777778,\"#fb9f3a\"],[0.8888888888888888,\"#fdca26\"],[1.0,\"#f0f921\"]],\"type\":\"histogram2dcontour\"}],\"histogram2d\":[{\"colorbar\":{\"outlinewidth\":0,\"ticks\":\"\"},\"colorscale\":[[0.0,\"#0d0887\"],[0.1111111111111111,\"#46039f\"],[0.2222222222222222,\"#7201a8\"],[0.3333333333333333,\"#9c179e\"],[0.4444444444444444,\"#bd3786\"],[0.5555555555555556,\"#d8576b\"],[0.6666666666666666,\"#ed7953\"],[0.7777777777777778,\"#fb9f3a\"],[0.8888888888888888,\"#fdca26\"],[1.0,\"#f0f921\"]],\"type\":\"histogram2d\"}],\"histogram\":[{\"marker\":{\"pattern\":{\"fillmode\":\"overlay\",\"size\":10,\"solidity\":0.2}},\"type\":\"histogram\"}],\"mesh3d\":[{\"colorbar\":{\"outlinewidth\":0,\"ticks\":\"\"},\"type\":\"mesh3d\"}],\"parcoords\":[{\"line\":{\"colorbar\":{\"outlinewidth\":0,\"ticks\":\"\"}},\"type\":\"parcoords\"}],\"pie\":[{\"automargin\":true,\"type\":\"pie\"}],\"scatter3d\":[{\"line\":{\"colorbar\":{\"outlinewidth\":0,\"ticks\":\"\"}},\"marker\":{\"colorbar\":{\"outlinewidth\":0,\"ticks\":\"\"}},\"type\":\"scatter3d\"}],\"scattercarpet\":[{\"marker\":{\"colorbar\":{\"outlinewidth\":0,\"ticks\":\"\"}},\"type\":\"scattercarpet\"}],\"scattergeo\":[{\"marker\":{\"colorbar\":{\"outlinewidth\":0,\"ticks\":\"\"}},\"type\":\"scattergeo\"}],\"scattergl\":[{\"marker\":{\"colorbar\":{\"outlinewidth\":0,\"ticks\":\"\"}},\"type\":\"scattergl\"}],\"scattermapbox\":[{\"marker\":{\"colorbar\":{\"outlinewidth\":0,\"ticks\":\"\"}},\"type\":\"scattermapbox\"}],\"scatterpolargl\":[{\"marker\":{\"colorbar\":{\"outlinewidth\":0,\"ticks\":\"\"}},\"type\":\"scatterpolargl\"}],\"scatterpolar\":[{\"marker\":{\"colorbar\":{\"outlinewidth\":0,\"ticks\":\"\"}},\"type\":\"scatterpolar\"}],\"scatter\":[{\"fillpattern\":{\"fillmode\":\"overlay\",\"size\":10,\"solidity\":0.2},\"type\":\"scatter\"}],\"scatterternary\":[{\"marker\":{\"colorbar\":{\"outlinewidth\":0,\"ticks\":\"\"}},\"type\":\"scatterternary\"}],\"surface\":[{\"colorbar\":{\"outlinewidth\":0,\"ticks\":\"\"},\"colorscale\":[[0.0,\"#0d0887\"],[0.1111111111111111,\"#46039f\"],[0.2222222222222222,\"#7201a8\"],[0.3333333333333333,\"#9c179e\"],[0.4444444444444444,\"#bd3786\"],[0.5555555555555556,\"#d8576b\"],[0.6666666666666666,\"#ed7953\"],[0.7777777777777778,\"#fb9f3a\"],[0.8888888888888888,\"#fdca26\"],[1.0,\"#f0f921\"]],\"type\":\"surface\"}],\"table\":[{\"cells\":{\"fill\":{\"color\":\"#EBF0F8\"},\"line\":{\"color\":\"white\"}},\"header\":{\"fill\":{\"color\":\"#C8D4E3\"},\"line\":{\"color\":\"white\"}},\"type\":\"table\"}]},\"layout\":{\"annotationdefaults\":{\"arrowcolor\":\"#2a3f5f\",\"arrowhead\":0,\"arrowwidth\":1},\"autotypenumbers\":\"strict\",\"coloraxis\":{\"colorbar\":{\"outlinewidth\":0,\"ticks\":\"\"}},\"colorscale\":{\"diverging\":[[0,\"#8e0152\"],[0.1,\"#c51b7d\"],[0.2,\"#de77ae\"],[0.3,\"#f1b6da\"],[0.4,\"#fde0ef\"],[0.5,\"#f7f7f7\"],[0.6,\"#e6f5d0\"],[0.7,\"#b8e186\"],[0.8,\"#7fbc41\"],[0.9,\"#4d9221\"],[1,\"#276419\"]],\"sequential\":[[0.0,\"#0d0887\"],[0.1111111111111111,\"#46039f\"],[0.2222222222222222,\"#7201a8\"],[0.3333333333333333,\"#9c179e\"],[0.4444444444444444,\"#bd3786\"],[0.5555555555555556,\"#d8576b\"],[0.6666666666666666,\"#ed7953\"],[0.7777777777777778,\"#fb9f3a\"],[0.8888888888888888,\"#fdca26\"],[1.0,\"#f0f921\"]],\"sequentialminus\":[[0.0,\"#0d0887\"],[0.1111111111111111,\"#46039f\"],[0.2222222222222222,\"#7201a8\"],[0.3333333333333333,\"#9c179e\"],[0.4444444444444444,\"#bd3786\"],[0.5555555555555556,\"#d8576b\"],[0.6666666666666666,\"#ed7953\"],[0.7777777777777778,\"#fb9f3a\"],[0.8888888888888888,\"#fdca26\"],[1.0,\"#f0f921\"]]},\"colorway\":[\"#636efa\",\"#EF553B\",\"#00cc96\",\"#ab63fa\",\"#FFA15A\",\"#19d3f3\",\"#FF6692\",\"#B6E880\",\"#FF97FF\",\"#FECB52\"],\"font\":{\"color\":\"#2a3f5f\"},\"geo\":{\"bgcolor\":\"white\",\"lakecolor\":\"white\",\"landcolor\":\"#E5ECF6\",\"showlakes\":true,\"showland\":true,\"subunitcolor\":\"white\"},\"hoverlabel\":{\"align\":\"left\"},\"hovermode\":\"closest\",\"mapbox\":{\"style\":\"light\"},\"paper_bgcolor\":\"white\",\"plot_bgcolor\":\"#E5ECF6\",\"polar\":{\"angularaxis\":{\"gridcolor\":\"white\",\"linecolor\":\"white\",\"ticks\":\"\"},\"bgcolor\":\"#E5ECF6\",\"radialaxis\":{\"gridcolor\":\"white\",\"linecolor\":\"white\",\"ticks\":\"\"}},\"scene\":{\"xaxis\":{\"backgroundcolor\":\"#E5ECF6\",\"gridcolor\":\"white\",\"gridwidth\":2,\"linecolor\":\"white\",\"showbackground\":true,\"ticks\":\"\",\"zerolinecolor\":\"white\"},\"yaxis\":{\"backgroundcolor\":\"#E5ECF6\",\"gridcolor\":\"white\",\"gridwidth\":2,\"linecolor\":\"white\",\"showbackground\":true,\"ticks\":\"\",\"zerolinecolor\":\"white\"},\"zaxis\":{\"backgroundcolor\":\"#E5ECF6\",\"gridcolor\":\"white\",\"gridwidth\":2,\"linecolor\":\"white\",\"showbackground\":true,\"ticks\":\"\",\"zerolinecolor\":\"white\"}},\"shapedefaults\":{\"line\":{\"color\":\"#2a3f5f\"}},\"ternary\":{\"aaxis\":{\"gridcolor\":\"white\",\"linecolor\":\"white\",\"ticks\":\"\"},\"baxis\":{\"gridcolor\":\"white\",\"linecolor\":\"white\",\"ticks\":\"\"},\"bgcolor\":\"#E5ECF6\",\"caxis\":{\"gridcolor\":\"white\",\"linecolor\":\"white\",\"ticks\":\"\"}},\"title\":{\"x\":0.05},\"xaxis\":{\"automargin\":true,\"gridcolor\":\"white\",\"linecolor\":\"white\",\"ticks\":\"\",\"title\":{\"standoff\":15},\"zerolinecolor\":\"white\",\"zerolinewidth\":2},\"yaxis\":{\"automargin\":true,\"gridcolor\":\"white\",\"linecolor\":\"white\",\"ticks\":\"\",\"title\":{\"standoff\":15},\"zerolinecolor\":\"white\",\"zerolinewidth\":2}}},\"title\":{\"font\":{\"color\":\"#4D5663\"}},\"xaxis\":{\"anchor\":\"y\",\"domain\":[0.0,0.2125],\"gridcolor\":\"#E1E5ED\",\"showgrid\":false,\"tickfont\":{\"color\":\"#4D5663\"},\"title\":{\"font\":{\"color\":\"#4D5663\"},\"text\":\"\"},\"zerolinecolor\":\"#E1E5ED\"},\"yaxis\":{\"anchor\":\"x\",\"domain\":[0.8025,1.0],\"gridcolor\":\"#E1E5ED\",\"showgrid\":false,\"tickfont\":{\"color\":\"#4D5663\"},\"title\":{\"font\":{\"color\":\"#4D5663\"},\"text\":\"\"},\"zerolinecolor\":\"#E1E5ED\"},\"xaxis2\":{\"anchor\":\"y2\",\"domain\":[0.2625,0.475],\"gridcolor\":\"#E1E5ED\",\"showgrid\":false,\"tickfont\":{\"color\":\"#4D5663\"},\"title\":{\"font\":{\"color\":\"#4D5663\"},\"text\":\"\"},\"zerolinecolor\":\"#E1E5ED\"},\"yaxis2\":{\"anchor\":\"x2\",\"domain\":[0.8025,1.0],\"gridcolor\":\"#E1E5ED\",\"showgrid\":false,\"tickfont\":{\"color\":\"#4D5663\"},\"title\":{\"font\":{\"color\":\"#4D5663\"},\"text\":\"\"},\"zerolinecolor\":\"#E1E5ED\"},\"xaxis3\":{\"anchor\":\"y3\",\"domain\":[0.525,0.7375],\"gridcolor\":\"#E1E5ED\",\"showgrid\":false,\"tickfont\":{\"color\":\"#4D5663\"},\"title\":{\"font\":{\"color\":\"#4D5663\"},\"text\":\"\"},\"zerolinecolor\":\"#E1E5ED\"},\"yaxis3\":{\"anchor\":\"x3\",\"domain\":[0.8025,1.0],\"gridcolor\":\"#E1E5ED\",\"showgrid\":false,\"tickfont\":{\"color\":\"#4D5663\"},\"title\":{\"font\":{\"color\":\"#4D5663\"},\"text\":\"\"},\"zerolinecolor\":\"#E1E5ED\"},\"xaxis4\":{\"anchor\":\"y4\",\"domain\":[0.7875,1.0],\"gridcolor\":\"#E1E5ED\",\"showgrid\":false,\"tickfont\":{\"color\":\"#4D5663\"},\"title\":{\"font\":{\"color\":\"#4D5663\"},\"text\":\"\"},\"zerolinecolor\":\"#E1E5ED\"},\"yaxis4\":{\"anchor\":\"x4\",\"domain\":[0.8025,1.0],\"gridcolor\":\"#E1E5ED\",\"showgrid\":false,\"tickfont\":{\"color\":\"#4D5663\"},\"title\":{\"font\":{\"color\":\"#4D5663\"},\"text\":\"\"},\"zerolinecolor\":\"#E1E5ED\"},\"xaxis5\":{\"anchor\":\"y5\",\"domain\":[0.0,0.2125],\"gridcolor\":\"#E1E5ED\",\"showgrid\":false,\"tickfont\":{\"color\":\"#4D5663\"},\"title\":{\"font\":{\"color\":\"#4D5663\"},\"text\":\"\"},\"zerolinecolor\":\"#E1E5ED\"},\"yaxis5\":{\"anchor\":\"x5\",\"domain\":[0.535,0.7325],\"gridcolor\":\"#E1E5ED\",\"showgrid\":false,\"tickfont\":{\"color\":\"#4D5663\"},\"title\":{\"font\":{\"color\":\"#4D5663\"},\"text\":\"\"},\"zerolinecolor\":\"#E1E5ED\"},\"xaxis6\":{\"anchor\":\"y6\",\"domain\":[0.2625,0.475],\"gridcolor\":\"#E1E5ED\",\"showgrid\":false,\"tickfont\":{\"color\":\"#4D5663\"},\"title\":{\"font\":{\"color\":\"#4D5663\"},\"text\":\"\"},\"zerolinecolor\":\"#E1E5ED\"},\"yaxis6\":{\"anchor\":\"x6\",\"domain\":[0.535,0.7325],\"gridcolor\":\"#E1E5ED\",\"showgrid\":false,\"tickfont\":{\"color\":\"#4D5663\"},\"title\":{\"font\":{\"color\":\"#4D5663\"},\"text\":\"\"},\"zerolinecolor\":\"#E1E5ED\"},\"xaxis7\":{\"anchor\":\"y7\",\"domain\":[0.525,0.7375],\"gridcolor\":\"#E1E5ED\",\"showgrid\":false,\"tickfont\":{\"color\":\"#4D5663\"},\"title\":{\"font\":{\"color\":\"#4D5663\"},\"text\":\"\"},\"zerolinecolor\":\"#E1E5ED\"},\"yaxis7\":{\"anchor\":\"x7\",\"domain\":[0.535,0.7325],\"gridcolor\":\"#E1E5ED\",\"showgrid\":false,\"tickfont\":{\"color\":\"#4D5663\"},\"title\":{\"font\":{\"color\":\"#4D5663\"},\"text\":\"\"},\"zerolinecolor\":\"#E1E5ED\"},\"xaxis8\":{\"anchor\":\"y8\",\"domain\":[0.7875,1.0],\"gridcolor\":\"#E1E5ED\",\"showgrid\":false,\"tickfont\":{\"color\":\"#4D5663\"},\"title\":{\"font\":{\"color\":\"#4D5663\"},\"text\":\"\"},\"zerolinecolor\":\"#E1E5ED\"},\"yaxis8\":{\"anchor\":\"x8\",\"domain\":[0.535,0.7325],\"gridcolor\":\"#E1E5ED\",\"showgrid\":false,\"tickfont\":{\"color\":\"#4D5663\"},\"title\":{\"font\":{\"color\":\"#4D5663\"},\"text\":\"\"},\"zerolinecolor\":\"#E1E5ED\"},\"xaxis9\":{\"anchor\":\"y9\",\"domain\":[0.0,0.2125],\"gridcolor\":\"#E1E5ED\",\"showgrid\":false,\"tickfont\":{\"color\":\"#4D5663\"},\"title\":{\"font\":{\"color\":\"#4D5663\"},\"text\":\"\"},\"zerolinecolor\":\"#E1E5ED\"},\"yaxis9\":{\"anchor\":\"x9\",\"domain\":[0.2675,0.465],\"gridcolor\":\"#E1E5ED\",\"showgrid\":false,\"tickfont\":{\"color\":\"#4D5663\"},\"title\":{\"font\":{\"color\":\"#4D5663\"},\"text\":\"\"},\"zerolinecolor\":\"#E1E5ED\"},\"xaxis10\":{\"anchor\":\"y10\",\"domain\":[0.2625,0.475],\"gridcolor\":\"#E1E5ED\",\"showgrid\":false,\"tickfont\":{\"color\":\"#4D5663\"},\"title\":{\"font\":{\"color\":\"#4D5663\"},\"text\":\"\"},\"zerolinecolor\":\"#E1E5ED\"},\"yaxis10\":{\"anchor\":\"x10\",\"domain\":[0.2675,0.465],\"gridcolor\":\"#E1E5ED\",\"showgrid\":false,\"tickfont\":{\"color\":\"#4D5663\"},\"title\":{\"font\":{\"color\":\"#4D5663\"},\"text\":\"\"},\"zerolinecolor\":\"#E1E5ED\"},\"xaxis11\":{\"anchor\":\"y11\",\"domain\":[0.525,0.7375],\"gridcolor\":\"#E1E5ED\",\"showgrid\":false,\"tickfont\":{\"color\":\"#4D5663\"},\"title\":{\"font\":{\"color\":\"#4D5663\"},\"text\":\"\"},\"zerolinecolor\":\"#E1E5ED\"},\"yaxis11\":{\"anchor\":\"x11\",\"domain\":[0.2675,0.465],\"gridcolor\":\"#E1E5ED\",\"showgrid\":false,\"tickfont\":{\"color\":\"#4D5663\"},\"title\":{\"font\":{\"color\":\"#4D5663\"},\"text\":\"\"},\"zerolinecolor\":\"#E1E5ED\"},\"xaxis12\":{\"anchor\":\"y12\",\"domain\":[0.7875,1.0],\"gridcolor\":\"#E1E5ED\",\"showgrid\":false,\"tickfont\":{\"color\":\"#4D5663\"},\"title\":{\"font\":{\"color\":\"#4D5663\"},\"text\":\"\"},\"zerolinecolor\":\"#E1E5ED\"},\"yaxis12\":{\"anchor\":\"x12\",\"domain\":[0.2675,0.465],\"gridcolor\":\"#E1E5ED\",\"showgrid\":false,\"tickfont\":{\"color\":\"#4D5663\"},\"title\":{\"font\":{\"color\":\"#4D5663\"},\"text\":\"\"},\"zerolinecolor\":\"#E1E5ED\"},\"xaxis13\":{\"anchor\":\"y13\",\"domain\":[0.0,0.2125],\"gridcolor\":\"#E1E5ED\",\"showgrid\":false,\"tickfont\":{\"color\":\"#4D5663\"},\"title\":{\"font\":{\"color\":\"#4D5663\"},\"text\":\"\"},\"zerolinecolor\":\"#E1E5ED\"},\"yaxis13\":{\"anchor\":\"x13\",\"domain\":[0.0,0.1975],\"gridcolor\":\"#E1E5ED\",\"showgrid\":false,\"tickfont\":{\"color\":\"#4D5663\"},\"title\":{\"font\":{\"color\":\"#4D5663\"},\"text\":\"\"},\"zerolinecolor\":\"#E1E5ED\"},\"xaxis14\":{\"anchor\":\"y14\",\"domain\":[0.2625,0.475],\"gridcolor\":\"#E1E5ED\",\"showgrid\":false,\"tickfont\":{\"color\":\"#4D5663\"},\"title\":{\"font\":{\"color\":\"#4D5663\"},\"text\":\"\"},\"zerolinecolor\":\"#E1E5ED\"},\"yaxis14\":{\"anchor\":\"x14\",\"domain\":[0.0,0.1975],\"gridcolor\":\"#E1E5ED\",\"showgrid\":false,\"tickfont\":{\"color\":\"#4D5663\"},\"title\":{\"font\":{\"color\":\"#4D5663\"},\"text\":\"\"},\"zerolinecolor\":\"#E1E5ED\"},\"xaxis15\":{\"anchor\":\"y15\",\"domain\":[0.525,0.7375],\"gridcolor\":\"#E1E5ED\",\"showgrid\":false,\"tickfont\":{\"color\":\"#4D5663\"},\"title\":{\"font\":{\"color\":\"#4D5663\"},\"text\":\"\"},\"zerolinecolor\":\"#E1E5ED\"},\"yaxis15\":{\"anchor\":\"x15\",\"domain\":[0.0,0.1975],\"gridcolor\":\"#E1E5ED\",\"showgrid\":false,\"tickfont\":{\"color\":\"#4D5663\"},\"title\":{\"font\":{\"color\":\"#4D5663\"},\"text\":\"\"},\"zerolinecolor\":\"#E1E5ED\"},\"xaxis16\":{\"anchor\":\"y16\",\"domain\":[0.7875,1.0],\"gridcolor\":\"#E1E5ED\",\"showgrid\":false,\"tickfont\":{\"color\":\"#4D5663\"},\"title\":{\"font\":{\"color\":\"#4D5663\"},\"text\":\"\"},\"zerolinecolor\":\"#E1E5ED\"},\"yaxis16\":{\"anchor\":\"x16\",\"domain\":[0.0,0.1975],\"gridcolor\":\"#E1E5ED\",\"showgrid\":false,\"tickfont\":{\"color\":\"#4D5663\"},\"title\":{\"font\":{\"color\":\"#4D5663\"},\"text\":\"\"},\"zerolinecolor\":\"#E1E5ED\"}},                        {\"showLink\": true, \"linkText\": \"Export to plot.ly\", \"plotlyServerURL\": \"https://plot.ly\", \"responsive\": true}                    ).then(function(){\n",
       "                            \n",
       "var gd = document.getElementById('e527cad4-e57c-48b1-9e72-bd65345f5fd3');\n",
       "var x = new MutationObserver(function (mutations, observer) {{\n",
       "        var display = window.getComputedStyle(gd).display;\n",
       "        if (!display || display === 'none') {{\n",
       "            console.log([gd, 'removed!']);\n",
       "            Plotly.purge(gd);\n",
       "            observer.disconnect();\n",
       "        }}\n",
       "}});\n",
       "\n",
       "// Listen for the removal of the full notebook cells\n",
       "var notebookContainer = gd.closest('#notebook-container');\n",
       "if (notebookContainer) {{\n",
       "    x.observe(notebookContainer, {childList: true});\n",
       "}}\n",
       "\n",
       "// Listen for the clearing of the current output cell\n",
       "var outputEl = gd.closest('.output');\n",
       "if (outputEl) {{\n",
       "    x.observe(outputEl, {childList: true});\n",
       "}}\n",
       "\n",
       "                        })                };                });            </script>        </div>"
      ]
     },
     "metadata": {},
     "output_type": "display_data"
    }
   ],
   "source": [
    "df.scatter_matrix()"
   ]
  },
  {
   "cell_type": "markdown",
   "metadata": {
    "collapsed": true
   },
   "source": [
    "# Great Job!"
   ]
  }
 ],
 "metadata": {
  "kernelspec": {
   "display_name": "Python 3 (ipykernel)",
   "language": "python",
   "name": "python3"
  },
  "language_info": {
   "codemirror_mode": {
    "name": "ipython",
    "version": 3
   },
   "file_extension": ".py",
   "mimetype": "text/x-python",
   "name": "python",
   "nbconvert_exporter": "python",
   "pygments_lexer": "ipython3",
   "version": "3.9.5"
  }
 },
 "nbformat": 4,
 "nbformat_minor": 1
}
